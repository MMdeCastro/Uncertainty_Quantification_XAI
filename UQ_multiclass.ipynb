{
 "cells": [
  {
   "cell_type": "markdown",
   "id": "6113ef90",
   "metadata": {},
   "source": [
    "![banner](./images/banner.png \"banner\")"
   ]
  },
  {
   "cell_type": "markdown",
   "id": "f8e88f89",
   "metadata": {},
   "source": [
    "[Fuente de la imagen](https://unsplash.com/photos/Hcfwew744z4)\n",
    "<a name='toc' />"
   ]
  },
  {
   "cell_type": "markdown",
   "id": "c4a5a1bb",
   "metadata": {},
   "source": [
    "# <font color=#ac6240>Cuantificación de la incertidumbre en la clasificación multiclase\n",
    "</font>"
   ]
  },
  {
   "cell_type": "markdown",
   "id": "30c022a3",
   "metadata": {},
   "source": [
    "### <font color=#ac6240>Tabla de Contenidos</font>"
   ]
  },
  {
   "cell_type": "markdown",
   "id": "b5121342",
   "metadata": {
    "lang": "es"
   },
   "source": [
    "<a href=#pre>Requisitos previos</a><br>\n",
    "1. <a href=#project-description>Descripción del proyecto</a><br>\n",
    "    1.1 <a href=#project-description-intro>Introducción</a><br>\n",
    "    1.2 <a href=#project-description-goal>Objetivo</a><br>\n",
    "    1.3 <a href=#project-description-data>Datos y modelo de aprendizaje automático</a><br>\n",
    "    1.4 <a href=#project-description-software>Software</a><br>\n",
    "2. <a href=#prep>Preparación de los datos</a><br>\n",
    "    2.1 <a href=#prep-clean> Limpieza de los datos</a><br>\n",
    "    2.2 <a href=#prep-split> Division de los datos en conjuntos de datos de entrenamiento, validación y prueba</a><br>\n",
    "    2.3 <a href=#prep-encoding> Codificación y normalización de las 'features'</a><br>\n",
    "3. <a href=#model-ml> Entrenamiento y testado del modelo de aprendizaje automático</a><br>\n",
    "4. <a href=#app-uq>Aplicación de métodos de cuantificación de incertidumbre</a><br>\n",
    "    4.1 <a href=#uq-cp> Conformal Predictors </a><br>\n",
    "    \n",
    "5. <a href=#uq-end>Conclusión sobre la cuantificación de incertidumbre</a><br>"
   ]
  },
  {
   "cell_type": "markdown",
   "id": "487389a0",
   "metadata": {},
   "source": [
    "<a name='pre'/>"
   ]
  },
  {
   "cell_type": "markdown",
   "id": "2b570187",
   "metadata": {},
   "source": [
    "## <font color=#ac6240>Requisitos previos</font>"
   ]
  },
  {
   "cell_type": "markdown",
   "id": "f2765775",
   "metadata": {
    "lang": "es"
   },
   "source": [
    "Este Jupyter Notebook es la continuación de los Jupyter Notebooks de [este repositorio](https://github.com/MMdeCastro/Uncertainty_Quantification_XAI):\n",
    "+ `Exploration_and_Classification.ipynb` donde explicamos cómo explorar exhaustivamente los datos de pacientes que sufrieron o no fallo cardíaco y cómo ajustar el umbral de decisión, y evaluar la calidad de un modelo de aprendizaje automático supervisado con métricas de rendimiento; elegimos el modelo que mejor se comportaba para este proyecto de predicción de fallo cardíaco y era un bosque aleatorio, \n",
    "+ `XAI.ipynb` donde aplicamos varios métodos de explicabilidad sobre las predicciones de ese bosque aleatorio para entender en qué se fijó el modelo para clasificar a les pacientes, y\n",
    "+ `UQ.ipynb` donde explicamos la cuantificación de incertidumbre para esa tarea de clasificación binaria.\n",
    "\n",
    "En este Jupyter Notebook aplicamos UQ para una clasificación multiclase. La introducción teórica es la misma que en el anterior Jupyter Notebook sobre UQ."
   ]
  },
  {
   "cell_type": "markdown",
   "id": "9be3f2b8",
   "metadata": {},
   "source": [
    "<font size=\"5\"> 👍🤓</font>"
   ]
  },
  {
   "cell_type": "markdown",
   "id": "a6814bca",
   "metadata": {},
   "source": [
    "<a name='project-description'/>"
   ]
  },
  {
   "cell_type": "markdown",
   "id": "feb5b1b4",
   "metadata": {
    "lang": "es"
   },
   "source": [
    "##  <font color=#ac6240>1. Descripción del proyecto</font>"
   ]
  },
  {
   "cell_type": "markdown",
   "id": "1cd0f062",
   "metadata": {},
   "source": [
    "<a name='project-description-intro'/>"
   ]
  },
  {
   "cell_type": "markdown",
   "id": "2feaa428",
   "metadata": {},
   "source": [
    "### <font color=#ac6240>1.1 Introducción</font>"
   ]
  },
  {
   "cell_type": "markdown",
   "id": "63cecda5",
   "metadata": {},
   "source": [
    "Estamos acostumbrades a modelos de aprendizaje automático que nos devuelven una predicción en forma de un único valor puntual ('single-value prediction'). Estos modelos no tienen ninguna manera de manifestar si están muy seguros o no de lo que predicen, por ejemplo, proporcionando una distribución o rango de resultados razonables, para que podamos representar la predicción con unas 'barras de error' en lugar de con un solo punto. \n",
    "\n",
    "La falta de información sobre la certeza que tiene un modelo sobre los resultados que arroja es especialmente problemático cuando:\n",
    "+ el modelo no es interpretable, es una 'black box' o caja opaca, (explicamos estos conceptos en el Jupyter Notebook anterior `XAI.ipynb`), o\n",
    "+ pedimos al modelo que prediga un resultado sobre una instancia anómala ('outlier') que no se parece a los datos históricos con los que ese modelo fue entrenado, algo relacionado con el fenómeno denominado ['drift'](https://en.wikipedia.org/wiki/Drift_(data_science)) (más info sobre la definición de 'deriva' o 'drift' y sus diferentes tipos, [aquí](https://analyticsindiamag.com/concept-drift-vs-data-drift-in-machine-learning/)), lo cual es indeseado y puede pasar fácilmente desapercibido. "
   ]
  },
  {
   "cell_type": "markdown",
   "id": "725b1254",
   "metadata": {},
   "source": [
    "Por ejemplo, supongamos que entrenamos una red neuronal artificial (que no es interpretable) con imágenes de perres y gates con la tarea de distinguir entre perres y gates. Digamos que el umbral de decisión es tal que las instancias, es decir, las fotos, cuya 'raw score' sea mayor de 0.5 serán clasificadas como gates y el resto como perres, como en una típica clasificación binaria. Supongamos además que conseguimos que la red neuronal artificial tenga un rendimiento excelente sobre los datos de entrenamiento y validación, puede que incluso tenga un 99.5% en 'accuracy' sobre ambos conjuntos. Ahora, aplicamos la red y le pedimos que clasifique las fotos que vemos un poco más abajo y :\n",
    "+ para la foto de la izquierda nos da una 'raw score' de 0.9, así que predice correctamente que es la imagen de une gate,\n",
    "+ para la foto del centro obtenemos una 'raw score' de 0.5, y a la vista de la imagen _interpretamos_ que a la red le costó darnos una clasificación correcta (nos la dió por los pelos) y que obviamente no está _tan segura_ porque le perre de la imagen parece un poco une gate, pero...\n",
    "\n",
    "¿y si le pedimos que clasifique la figura de la derecha? Cualquier cosa puede pasar, nos puede dar una 'raw score' por encima o por debajo de 0.5 o exactamente 0.5, pero en cualquier caso, sabemos que no es fiable. Y la cuestión es que **el modelo de aprendizaje automático no nos podría decir 'hey, no tengo ni idea' porque las 'raw scores' no muestran certidumbre**, a pesar de lo que todes hemos erróneamente interpretado alguna vez.  "
   ]
  },
  {
   "cell_type": "markdown",
   "id": "d51b77bf",
   "metadata": {},
   "source": [
    "![cat_dog_bird](./images/cat_dog_bird.png \"cat_dog_bird\")"
   ]
  },
  {
   "cell_type": "markdown",
   "id": "38c7649a",
   "metadata": {},
   "source": [
    "[Fuente de la imagen: _\"Are you sure about that?! Uncertainty Quantification in AI\"_](https://florianwilhelm.info/2019/10/uncertainty_quantification_in_ai/)"
   ]
  },
  {
   "cell_type": "markdown",
   "id": "4521343c",
   "metadata": {},
   "source": [
    "En una tarea de regresión ocurre lo mismo. Entrenamos el modelo con un gran conjunto de datos de precios de casas y al aplicarlo sobre una casa nos da cómo resultado, por ejemplo, 135.896,73 euros. La probabilidad de que el precio verdadero de la casa sea ese es nula. Si el modelo rinde bien, el precio verdadero estará cerca de ese valor, estará dentro de un intervalo de predicción alrededor de ese valor. Cuanto más ancho el intervalo, más grande la incertidumbre."
   ]
  },
  {
   "cell_type": "markdown",
   "id": "56811a2f",
   "metadata": {},
   "source": [
    "Recordemos que los modelos de aprendizaje automático supervisado están diseñados para interpolar, **no para extrapolar, ni para identificar relaciones de causa-efecto, ni para abstraer conocimiento,... por lo cual les cuesta generalizar**. Si no damos al modelo la oportunidad de avisarnos de la incertidumbre, no sabremos cuándo no está preparado para desempeñar la tarea, nos dará igualmente una predicción, y tomaremos que está igual de seguro de esa predicción como lo está de la predicción de una instancia estándar para la que sí está entrenado y para la que sí arraja resultados fiables. Sería mucho más adecuado que el modelo de aprendizaje automático nos informara de la certeza de sus resultados.  \n",
    "\n",
    "Es decir, saber qué no sabemos, es decir, cuantificar la incertidumbre, mejora la calidad de las decisiones para poder descartar las predicciones con alta incertidumbre y derivar las decisiones a expertes humanos, como ocurre a menudo en el denominado ['Active Learning'](https://en.wikipedia.org/wiki/Active_learning_(machine_learning))."
   ]
  },
  {
   "cell_type": "markdown",
   "id": "400d27fe",
   "metadata": {},
   "source": [
    "#### <font color=#ac6240>1.1.1 Definición de Incertidumbre</font>"
   ]
  },
  {
   "cell_type": "markdown",
   "id": "c6295a91",
   "metadata": {},
   "source": [
    "Según la Wikipedia en castellano (consultada el 26.09.2022):"
   ]
  },
  {
   "cell_type": "markdown",
   "id": "a63d000d",
   "metadata": {},
   "source": [
    "![uncertainty_wp](./images/uncertainty_wp.png \"uncertainty_wp\")"
   ]
  },
  {
   "cell_type": "markdown",
   "id": "632c94da",
   "metadata": {},
   "source": [
    "[Fuente de la imagen](https://es.wikipedia.org/wiki/Incertidumbre)"
   ]
  },
  {
   "cell_type": "markdown",
   "id": "d0b04b2b",
   "metadata": {},
   "source": [
    "Vamos, que el asunto va de lo que pasa cuando queremos medir u observar algo o predecir cuánto valdrá algo. \n",
    "\n",
    "Consultemos ahora a les expertes en [metrología](https://es.wikipedia.org/wiki/Metrolog%C3%ADa), es decir, la Oficina Internacional de Pesas y Medidas ([BIPM](https://www.bipm.org/en/committees/jc/jcgm/), por sus siglas en francés) cuyo Joint Committee for Guides in Metrology (JCGM) publica la Guía para la expresión de la Incertidumbre en la Medida (GUM, por sus siglas en inglés) que incluye el International Vocabulary of basic and general terms in Metrology ([VIM](https://www.bipm.org/en/committees/jc/jcgm/publications) JCGM_100_2008_E-1)\n",
    "\n",
    "<font size=\"5\">🤪🤯</font>\n",
    "\n",
    "\n",
    "donde se define:\n",
    "\n",
    "<blockquote>\n",
    "\n",
    "**2.2 The term 'uncertainty'**\n",
    "\n",
    "[...] Uncertainty (of measurement) [is a] parameter, associated with the result of a measurement, that characterizes the dispersion of the values that could reasonably be attributed to the measurand. [...] The parameter may be, for example, a standard deviation (or a given multiple of it), or the half-width of an interval having a stated level of confidence.\n",
    "</blockquote>\n",
    "\n",
    "y también:\n",
    "\n",
    "<blockquote>\n",
    "    \n",
    "**3.3. Uncertainty**\n",
    "\n",
    "The uncertainty of the result of a measurement reflects the lack of exact knowledge of the value of the measurand.\n",
    "</blockquote>\n",
    "\n",
    "Antes de ver qué significa esto en el contexto del aprendizaje automático, hagamos una aclaración importante para distinguir bien entre los conceptos de incentidumbre, error, residuo y sesgo o 'bias'."
   ]
  },
  {
   "cell_type": "markdown",
   "id": "0609d9df",
   "metadata": {},
   "source": [
    "#### <font color=#ac6240>1.1.2 Incertidumbre vs error vs residuo vs bias</font>"
   ]
  },
  {
   "cell_type": "markdown",
   "id": "9dab9a51",
   "metadata": {},
   "source": [
    "El **error** es la diferencia entre el valor verdadero, (asumiento que existe y se puede definir, ojo, que aquí esto es clave), y el valor resultado de la medición o predicción, por ejemplo, realizada empíricamente con un aparato de medida o en nuestro caso, el dato de si le paciente sufre o no fallo cardíaco. \n",
    "\n",
    "Si ese valor verdadero lo defimos por un modelo, esa diferencia entre la medición y el modelo también se llama **residuo**, por ejemplo, la distancia entre un punto `(x,y)` (el dato resultado de la medición) y la recta de regresión lineal que intenta representar a todos los datos, `y = mx + n`, y que idealizamos como representación de la realidad. Vimos la regresión lineal brevemente en la seccion 4.1 Modelo de referencia inicial para la selección de la métrica: Regresión Logística del Jupyter Notebook `Exploration_and_Classification.ipynb`.\n",
    "\n",
    "Entonces, en la representacion tradicional, la desviación entre el valor obtenido de la medición y el ansiado supuesto valor verdadero se compone de dos tipos de errores:\n",
    "+ el error aleatorio, la componente debida a la naturaleza [estocástica](https://en.wikipedia.org/wiki/Stochastic_process#Examples) del sistema, y\n",
    "+ el error sistemático, también llamado **sesgo o 'bias'**, que es la componente reducible porque su media no es cero y se puede compensar con un 'factor de correccion' (mencionamos los problemas éticos del sesgo en IA en la intro del Jupyter Notebook `XAI.ipynb`).\n",
    "\n",
    "En la Introducción del nuevo informe de 2012 [VIM 200:2012](https://www.bipm.org/en/committees/jc/jcgm/publications) se indica que estos dos tipos de errores no siempre son fáciles de diferenciar y que no disponemos de una regla general para ver cómo se combinan. Y también dice que normalmente estimamos el límite superior del valor absoluto del error total y que llamamos vagamente a eso 'incertidumbre'.\n",
    "\n",
    "Pero la VIM también nos indica que es mejor no seguir ese punto de vista tradicional del 'error' porque:\n",
    "\n",
    "+ necesita de la asumpción de la existencia un 'valor verdadero', y \n",
    "+ su objetivo es minimizar cualquier diferencia entre el resultado de la medida y ese supuesto 'valor verdadero', porque considera el error como una imperfección indeseable,\n",
    "\n",
    "siendo más adecuado tratar la dispersión de los resultados de las mediciones como una 'incertidumbre' que:\n",
    "\n",
    "+ aporta valiosa información y detalles significativos del comportamiento del sistema, y \n",
    "+ nos permite asumir que **la medición solo se puede expresar como un intervalo de valores razonables**.\n",
    "\n",
    "<font size=\"5\"> 👏 </font> "
   ]
  },
  {
   "cell_type": "markdown",
   "id": "fc74797e",
   "metadata": {},
   "source": [
    "Veamos ahora a qué nos referimos con \"intervalo de valores razonable\"."
   ]
  },
  {
   "cell_type": "markdown",
   "id": "5ad81592",
   "metadata": {},
   "source": [
    "#### <font color=#ac6240>1.1.3 Intervalo de valores razonables</font>"
   ]
  },
  {
   "cell_type": "markdown",
   "id": "5a7b7dae",
   "metadata": {},
   "source": [
    "Hay muchas maneras de definir qué entendemos por un 'intervalo de valores razonables' que nos permita cuantificar la variabilidad de los datos y por tanto, la incertidumbre de la medición.\n",
    "\n",
    "Los métodos de UQ que aquí explicamos nos proveen de un [intervalo de predicción](https://en.wikipedia.org/wiki/Prediction_interval) para cada predicción, es decir, es una estimación del rango de valores que con la probabiliad que determinamos con el llamado 'nivel de confianza (por ejemplo, con 0.90 tendremos el 90% de probabilidad) incluirá el valor correcto de una futura medición. \n",
    "\n",
    "Centramos ahora en la incertidumbre en aprendizaje automático."
   ]
  },
  {
   "cell_type": "markdown",
   "id": "53585389",
   "metadata": {},
   "source": [
    "#### <font color=#ac6240>1.1.4 Incertidumbre en aprendizaje automático</font>"
   ]
  },
  {
   "cell_type": "markdown",
   "id": "d30f4913",
   "metadata": {},
   "source": [
    "Cuando aplicamos un modelo de aprendizaje automático, queremos que nos diga cuándo no está seguro y cuánta incertidumbre está asociada a su predicción. \n",
    "\n",
    "Podriamos incluso intentar desglosar los tipos de incertidumbre según su origen. Por ejemplo, puede haber incertidumbre:\n",
    "+ en cómo se tomaron y procesaron esos datos, (por ejemplo, la precisión de los aparatos de observación y medida, el etiquetado, el almacenamiento, ...), \n",
    "+ asociada al modelo (por ejemplo, en la elección del modelo, la estimación de parámetros, la regularizacion, ...), \n",
    "+ por culpa de los [sesgos cognitivos](https://www.visualcapitalist.com/50-cognitive-biases-in-the-modern-world/), el desconocimiento, y el error humano, \n",
    "\n",
    "y un millón de factores más, que a menudo en aplicaciones prácticas no hace falta analizar. El origen de la incertidumbre o los tipos de incertidumbres que cuantizamos con métodos de UQ es un tema demasiado complicado que requiere 'domain expertise'."
   ]
  },
  {
   "cell_type": "markdown",
   "id": "a73ee85f",
   "metadata": {},
   "source": [
    "Simplemente mencionaremos que en aprendizaje automático se suelen considerar [dos tipos de incertidumbre](https://deepai.org/publication/aleatoric-and-epistemic-uncertainty-in-machine-learning-a-tutorial-introduction) que se pueden resumir en:\n",
    "\n",
    "+ Aleatoria: \"¿saldrá cara o cruz si lanzo una moneda al aire?\", incertidumbre relativa al dato individual, **que no es reducible**, ni aunque aumentamos el número de datos con el que entrenamos el modelo de aprendizaje automático, y\n",
    "\n",
    "+ Epistémica: \"¿me fío de que esta moneda no está trucada?\", incertidumbre relativa a la certeza del modelo de aprendizaje automático después de haber visto la instancia cuya 'target' ha de predecir, **sí se puede reducir** con más datos de entrenamiento.\n",
    "\n",
    "Siguiendo con el ejemplo de la moneda de la charla [_\"On estimating epistemic uncertainty\"_](http://yingzhenli.net/home/pdf/epistemic_uncertainty_neurips_bdl2019.pdf), en realidad hay un tercer tipo de incertidumbre a tener en cuenta en aprendizaje automático:\n",
    "\n",
    "+ 'Distribution' o 'Concept' o 'Data drift': \"¿sigo aún lanzando la misma moneda?\", incertidumbre relacionada con los cambios en la distribución de datos, cuando los nuevos datos no tienen la misma distribución que tenian los datos de entrenamiento (como dijimos anteriormente, para ampliar sobre la definición de 'deriva' o 'drift' y sus diferentes tipos, [aquí](https://analyticsindiamag.com/concept-drift-vs-data-drift-in-machine-learning/)). La librería [NannyML](https://github.com/NannyML/nannyml) sirve para detectar el 'data drift'.\n",
    "\n",
    "Ejemplos de 'drift' son cambios en la resolución de la camara que hace las fotos para la clasificación de imagenes, la persona que etiqueta los datos para una clasificación, los gustos de les clientes para un 'sentiment analysis', ... o incluso la aparición de nuevos fenómenos, pensemos en la dificultad en la predicción de los efectos de cambio climático ya que los modelos de aprendizaje automáticos se basan en datos históricos recogidos cuando las temperaturas globales no eran tan altas. En otras palabras, los modelos no pueden conocer más allá de los datos con los que han sido entrenados."
   ]
  },
  {
   "cell_type": "markdown",
   "id": "f39cb9d6",
   "metadata": {},
   "source": [
    "![comic_uq](./images/comic_uq.png \"comic_uq\")"
   ]
  },
  {
   "cell_type": "markdown",
   "id": "a7043034",
   "metadata": {},
   "source": [
    "[Fuente de la Imagen](https://www.smbc-comics.com/comic/rise-of-the-machines)"
   ]
  },
  {
   "cell_type": "markdown",
   "id": "b39e6b14",
   "metadata": {},
   "source": [
    "**Conclusión**:\n",
    "\n",
    "+ Las decisiones basadas en predicciones deben tener en cuenta la incertidumbre. Por ejemplo, dada una predicción, por ejemplo, 100, es bueno saber si el intervalo de predicción es [99, 101] o [50, 120] para poder planear mejor los posibles escenarios. En particular, cuando usamos el aprendizaje automático para automatizar procesos sensibles o de riesgo, la cuantificación de la incertidumbre puede ayudar a seleccionar esos los inciertos en los quizá sea necesaria la intervención humana.\n",
    "\n",
    "+ Sin cuantificación de la incertidumbre las buenas y las malas predicciones parecen iguales. La cuantificación de la incertidumbre le ofrece a los modelos de aprendizaje automático la oportunidad de expresarse mejor."
   ]
  },
  {
   "cell_type": "markdown",
   "id": "5ef93f00",
   "metadata": {},
   "source": [
    "![tweet_uq](./images/tweet_uq.png \"tweet_uq\")"
   ]
  },
  {
   "cell_type": "markdown",
   "id": "5e98c92e",
   "metadata": {},
   "source": [
    "Continuamos con la preparacion de los datos y el entrenamiento del modelo de aprendizaje automático. Si ya estás familiarizade con la limpieza, exploración, y preparación de datos y con el entrenamicento de modelos de aprendizaje supervisado, puedes pasar directamente a las seccion <a href=#app-uq>4. Aplicación de métodos de cuantificación de incertidumbre</a>."
   ]
  },
  {
   "cell_type": "markdown",
   "id": "f9f6852f",
   "metadata": {},
   "source": [
    "<font color=#6B8E23 size=\"4\"> Material adicional y referencias</font>\n",
    "\n",
    "<font color=#6B8E23 size=\"3\">Ejemplos de los peligros de la 'single-point prediction'</font>\n",
    "\n",
    "+ La espectacular charla del gran Vincent Warmerdamm ['How to constrain artificial stupidity'](https://youtu.be/Z8MEFI7ZJlA).\n",
    "+ El libro _'Weapons of math destruction'_ de Cathy O'Neil, hay [versión en castellano](https://www.indienauta.com/armas-destruccion-matematica-cathy-oneil-capitan-swing-2018/)\n",
    "\n",
    "<font color=#6B8E23 size=\"3\">Conceptos de UQ</font>\n",
    "\n",
    "+ En este blog, el articulo introductorio: [_\"A Comprehensive Introduction to Uncertainty in Machine Learning\"_](https://imerit.net/blog/a-comprehensive-introduction-to-uncertainty-in-machine-learning-all-una/#:~:text=One%20way%20to%20estimate%20aleatoric,create%20a%20subset%20of%20samples).\n",
    "\n",
    "+ La referencia por definición, el libro gratuito [_\"Probabilistic Machine Learning: Advanced Topics\"_](https://probml.github.io/pml-book/book2.html), desde 2022 por fín incluye los 'Conformal Predictors', aún no lo leí pero tengo que hacerlo.\n",
    "\n",
    "<font size=\"5\"> 😅 </font>"
   ]
  },
  {
   "cell_type": "markdown",
   "id": "c364261e",
   "metadata": {},
   "source": [
    "<a name='project-description-goal'/>"
   ]
  },
  {
   "cell_type": "markdown",
   "id": "5249c5d6",
   "metadata": {
    "lang": "es"
   },
   "source": [
    "### <font color=#ac6240>1.2 Objetivo</font>"
   ]
  },
  {
   "cell_type": "markdown",
   "id": "cc0a5f36",
   "metadata": {},
   "source": [
    "En este Jupyter Notebook vamos a aplicar algunas técnicas de UQ a los resultados de un modelo de aprendizaje automático. Vamos a seguir la explicaión de este genial [blog de Christoph Molnar](https://mindfulmodeler.substack.com/p/week-1-getting-started-with-conformal) donde se utiliza el modelo Gaussian Naive Bayes. No incluimos explicaciones exhaustivas y demostraciones matemáticas (hay muchas otras fuentes, ver la lista de materiales arriba), mejor mencionaremos algunas características intuitivas sobre la cuantificación de la incertidumbre y nos enfocaremos en su implementación en Scikit-learn.\n",
    "\n",
    "Comanzamos con la limpieza, la EDA y el entrenamiento del modelo. Si quieres puedes pasar directamente a la sección <a href=#app-uq> 4. Aplicación de métodos de cuantificación de incertidumbre</a>."
   ]
  },
  {
   "cell_type": "markdown",
   "id": "c15f2255",
   "metadata": {},
   "source": [
    "<a name='project-description-data'/>"
   ]
  },
  {
   "cell_type": "markdown",
   "id": "9a8f82c3",
   "metadata": {},
   "source": [
    "### <font color=#ac6240>1.3 Datos y modelo de aprendizaje automático</font>"
   ]
  },
  {
   "cell_type": "markdown",
   "id": "c2fb462c",
   "metadata": {
    "lang": "es"
   },
   "source": [
    "**Datos**\n",
    "\n",
    "Utilizaremos los datos del Dry Bean Dataset of Kaggle: https://www.kaggle.com/datasets/muratkokludataset/dry-bean-dataset/data  que son los que utiliza Christoph Molnar en [su estudio](https://mindfulmodeler.substack.com/p/week-1-getting-started-with-conformal). Son datos de las características ('features') físicas de 6 clases diferentes de alubias. \n",
    "\n",
    "\n",
    "Data Source: https://www.muratkoklu.com/datasets/\n",
    "\n",
    "Data Set Name: Dry Bean Dataset.\n",
    "\n",
    "Abstract:\n",
    "\n",
    "Images of 13,611 grains of 7 different registered dry beans were taken with a high-resolution camera.\n",
    "A total of 16 features; 12 dimensions and 4 shape forms, were obtained from the grains.\n",
    "Relevant Information:\n",
    "Seven different types of dry beans were used in this research, taking into account the features such as form, shape, type, and structure by the market situation. A computer vision system was developed to distinguish seven different registered varieties of dry beans with similar features in order to obtain uniform seed classification. For the classification model, images of 13,611 grains of 7 different registered dry beans were taken with a high-resolution camera. Bean images obtained by computer vision system were subjected to segmentation and feature extraction stages, and a total of 16 features; 12 dimensions and 4 shape forms, were obtained from the grains.\n",
    "Attribute Information:\n",
    "\n",
    "+ Area (A): The area of a bean zone and the number of pixels within its boundaries.\n",
    "+ Perimeter (P): Bean circumference is defined as the length of its border.\n",
    "+ Major axis length (L): The distance between the ends of the longest line that can be drawn from a bean.\n",
    "+ Minor axis length (l): The longest line that can be drawn from the bean while standing perpendicular to the main axis.\n",
    "+ Aspect ratio (K): Defines the relationship between L and l.\n",
    "+ Eccentricity (Ec): Eccentricity of the ellipse having the same moments as the region.\n",
    "+ Convex area (C): Number of pixels in the smallest convex polygon that can contain the area of a bean seed.\n",
    "+ Equivalent diameter (Ed): The diameter of a circle having the same area as a bean seed area.\n",
    "+ Extent (Ex): The ratio of the pixels in the bounding box to the bean area.\n",
    "+ Solidity (S): Also known as convexity. The ratio of the pixels in the convex shell to those found in beans.\n",
    "+ Roundness (R): Calculated with the following formula: (4piA)/(P^2)\n",
    "+ Compactness (CO): Measures the roundness of an object: Ed/L\n",
    "+ ShapeFactor1 (SF1)\n",
    "+ ShapeFactor2 (SF2)\n",
    "+ ShapeFactor3 (SF3)\n",
    "+ ShapeFactor4 (SF4)\n",
    "+ Class (Seker, Barbunya, Bombay, Cali, Dermosan, Horoz and Sira)\n",
    "\n",
    "\n",
    "**Modelo de aprendizaje automático para la clasificación**\n",
    "\n",
    "El modelo de clasificación que utilizaremos es un Gaussian Naive Bayes porque es el utilizado en el estudio de [Christop Molnar](https://mindfulmodeler.substack.com/p/week-1-getting-started-with-conformal).\n"
   ]
  },
  {
   "cell_type": "markdown",
   "id": "eaa3e965",
   "metadata": {},
   "source": [
    "Primero entrenaremos el modelo. Luego veremos que para cada nueva alubia, al aplicar `.predict_proba()` el modelo nos da una puntuación o 'raw score'. A menudo se toma esa 'raw score' como la probabilidad de la clase de la alubia y si una alubia obtiene un 'raw score' de 0.60 en la clase 2, un 0.30 en la clase 5, un 0.10 en la clase 6, y un 0 en el resto, decimos que esa alubia 'tiene una probabilidad' del 60%, el 30%, el 10%, y el 0% de pertenecer a las clases correspodientes. Veremos a continuación cómo hacer que esas 'probabilidades heurística' sean verdaderas probalidades con garantía de cobertura."
   ]
  },
  {
   "cell_type": "markdown",
   "id": "f3a2cf6f",
   "metadata": {},
   "source": [
    "Hemos elegido trabajar sobre un conjunto de datos tabulares porque los modelos de aprendizaje automático y los métodos de UQ suelen ser más fáciles de entender si podemos ver las 'features' en columnas. Sin embargo los conceptos de UQ que explicamos aquí sirven para cualquier aplicación y no solo para tareas supervisadas. "
   ]
  },
  {
   "cell_type": "markdown",
   "id": "6675f02f",
   "metadata": {},
   "source": [
    "<a name='project-description-software'/>"
   ]
  },
  {
   "cell_type": "markdown",
   "id": "8d8a856c",
   "metadata": {},
   "source": [
    "### <font color=#ac6240>1.4 Software</font>"
   ]
  },
  {
   "cell_type": "markdown",
   "id": "3f098039",
   "metadata": {},
   "source": [
    "Usaremos estas librerías:"
   ]
  },
  {
   "cell_type": "code",
   "execution_count": 93,
   "id": "8d736f50",
   "metadata": {},
   "outputs": [],
   "source": [
    "import pandas as pd     \n",
    "import numpy as np\n",
    "\n",
    "# data exploration and preparation  \n",
    "from sklearn.model_selection import train_test_split\n",
    "from sklearn.preprocessing import StandardScaler \n",
    "from sklearn.preprocessing import LabelEncoder\n",
    "\n",
    "# model\n",
    "from sklearn.naive_bayes import GaussianNB\n",
    "\n",
    "# model evaluation\n",
    "from sklearn.metrics import accuracy_score, confusion_matrix\n",
    "\n",
    "# UQ \n",
    "from mapie.classification import MapieClassifier\n",
    "from mapie.metrics import classification_coverage_score\n",
    "\n",
    "\n",
    "# plotting and displaying in the notebook\n",
    "import seaborn as sns\n",
    "from matplotlib import pyplot as plt\n",
    "#from IPython.display import display\n",
    "#import emoji\n",
    "\n",
    "# ignore warnings\n",
    "import warnings\n",
    "warnings.filterwarnings(\"ignore\")\n",
    "\n",
    "%matplotlib inline"
   ]
  },
  {
   "cell_type": "code",
   "execution_count": 5,
   "id": "9d048753",
   "metadata": {},
   "outputs": [],
   "source": [
    "#!pip install openpyxl\n",
    "#!pip install MAPIE"
   ]
  },
  {
   "cell_type": "markdown",
   "id": "cd36066b",
   "metadata": {},
   "source": [
    "<a href=#toc>Subir a la Tabla de Contenidos</a><br>"
   ]
  },
  {
   "cell_type": "markdown",
   "id": "1f3a5965",
   "metadata": {},
   "source": [
    "<a name='prep'/>"
   ]
  },
  {
   "cell_type": "markdown",
   "id": "dac6f1a9",
   "metadata": {},
   "source": [
    "## <font color=#ac6240>2. Preparación de los datos</font>"
   ]
  },
  {
   "cell_type": "markdown",
   "id": "97376b59",
   "metadata": {},
   "source": [
    "<a name='prep-clean'/>"
   ]
  },
  {
   "cell_type": "markdown",
   "id": "e1caef65",
   "metadata": {},
   "source": [
    "### <font color=#ac6240>2.1 Limpieza de los datos</font>"
   ]
  },
  {
   "cell_type": "markdown",
   "id": "cc0662a4",
   "metadata": {},
   "source": [
    "Cargamos los datos del fichero que esta en el mismo repositorio:"
   ]
  },
  {
   "cell_type": "code",
   "execution_count": 6,
   "id": "89fa33de",
   "metadata": {},
   "outputs": [
    {
     "data": {
      "text/html": [
       "<div>\n",
       "<style scoped>\n",
       "    .dataframe tbody tr th:only-of-type {\n",
       "        vertical-align: middle;\n",
       "    }\n",
       "\n",
       "    .dataframe tbody tr th {\n",
       "        vertical-align: top;\n",
       "    }\n",
       "\n",
       "    .dataframe thead th {\n",
       "        text-align: right;\n",
       "    }\n",
       "</style>\n",
       "<table border=\"1\" class=\"dataframe\">\n",
       "  <thead>\n",
       "    <tr style=\"text-align: right;\">\n",
       "      <th></th>\n",
       "      <th>Area</th>\n",
       "      <th>Perimeter</th>\n",
       "      <th>MajorAxisLength</th>\n",
       "      <th>MinorAxisLength</th>\n",
       "      <th>AspectRation</th>\n",
       "      <th>Eccentricity</th>\n",
       "      <th>ConvexArea</th>\n",
       "      <th>EquivDiameter</th>\n",
       "      <th>Extent</th>\n",
       "      <th>Solidity</th>\n",
       "      <th>roundness</th>\n",
       "      <th>Compactness</th>\n",
       "      <th>ShapeFactor1</th>\n",
       "      <th>ShapeFactor2</th>\n",
       "      <th>ShapeFactor3</th>\n",
       "      <th>ShapeFactor4</th>\n",
       "      <th>Class</th>\n",
       "    </tr>\n",
       "  </thead>\n",
       "  <tbody>\n",
       "    <tr>\n",
       "      <th>0</th>\n",
       "      <td>28395</td>\n",
       "      <td>610.291</td>\n",
       "      <td>208.178117</td>\n",
       "      <td>173.888747</td>\n",
       "      <td>1.197191</td>\n",
       "      <td>0.549812</td>\n",
       "      <td>28715</td>\n",
       "      <td>190.141097</td>\n",
       "      <td>0.763923</td>\n",
       "      <td>0.988856</td>\n",
       "      <td>0.958027</td>\n",
       "      <td>0.913358</td>\n",
       "      <td>0.007332</td>\n",
       "      <td>0.003147</td>\n",
       "      <td>0.834222</td>\n",
       "      <td>0.998724</td>\n",
       "      <td>SEKER</td>\n",
       "    </tr>\n",
       "    <tr>\n",
       "      <th>1</th>\n",
       "      <td>28734</td>\n",
       "      <td>638.018</td>\n",
       "      <td>200.524796</td>\n",
       "      <td>182.734419</td>\n",
       "      <td>1.097356</td>\n",
       "      <td>0.411785</td>\n",
       "      <td>29172</td>\n",
       "      <td>191.272750</td>\n",
       "      <td>0.783968</td>\n",
       "      <td>0.984986</td>\n",
       "      <td>0.887034</td>\n",
       "      <td>0.953861</td>\n",
       "      <td>0.006979</td>\n",
       "      <td>0.003564</td>\n",
       "      <td>0.909851</td>\n",
       "      <td>0.998430</td>\n",
       "      <td>SEKER</td>\n",
       "    </tr>\n",
       "    <tr>\n",
       "      <th>2</th>\n",
       "      <td>29380</td>\n",
       "      <td>624.110</td>\n",
       "      <td>212.826130</td>\n",
       "      <td>175.931143</td>\n",
       "      <td>1.209713</td>\n",
       "      <td>0.562727</td>\n",
       "      <td>29690</td>\n",
       "      <td>193.410904</td>\n",
       "      <td>0.778113</td>\n",
       "      <td>0.989559</td>\n",
       "      <td>0.947849</td>\n",
       "      <td>0.908774</td>\n",
       "      <td>0.007244</td>\n",
       "      <td>0.003048</td>\n",
       "      <td>0.825871</td>\n",
       "      <td>0.999066</td>\n",
       "      <td>SEKER</td>\n",
       "    </tr>\n",
       "    <tr>\n",
       "      <th>3</th>\n",
       "      <td>30008</td>\n",
       "      <td>645.884</td>\n",
       "      <td>210.557999</td>\n",
       "      <td>182.516516</td>\n",
       "      <td>1.153638</td>\n",
       "      <td>0.498616</td>\n",
       "      <td>30724</td>\n",
       "      <td>195.467062</td>\n",
       "      <td>0.782681</td>\n",
       "      <td>0.976696</td>\n",
       "      <td>0.903936</td>\n",
       "      <td>0.928329</td>\n",
       "      <td>0.007017</td>\n",
       "      <td>0.003215</td>\n",
       "      <td>0.861794</td>\n",
       "      <td>0.994199</td>\n",
       "      <td>SEKER</td>\n",
       "    </tr>\n",
       "    <tr>\n",
       "      <th>4</th>\n",
       "      <td>30140</td>\n",
       "      <td>620.134</td>\n",
       "      <td>201.847882</td>\n",
       "      <td>190.279279</td>\n",
       "      <td>1.060798</td>\n",
       "      <td>0.333680</td>\n",
       "      <td>30417</td>\n",
       "      <td>195.896503</td>\n",
       "      <td>0.773098</td>\n",
       "      <td>0.990893</td>\n",
       "      <td>0.984877</td>\n",
       "      <td>0.970516</td>\n",
       "      <td>0.006697</td>\n",
       "      <td>0.003665</td>\n",
       "      <td>0.941900</td>\n",
       "      <td>0.999166</td>\n",
       "      <td>SEKER</td>\n",
       "    </tr>\n",
       "  </tbody>\n",
       "</table>\n",
       "</div>"
      ],
      "text/plain": [
       "    Area  Perimeter  MajorAxisLength  MinorAxisLength  AspectRation  \\\n",
       "0  28395    610.291       208.178117       173.888747      1.197191   \n",
       "1  28734    638.018       200.524796       182.734419      1.097356   \n",
       "2  29380    624.110       212.826130       175.931143      1.209713   \n",
       "3  30008    645.884       210.557999       182.516516      1.153638   \n",
       "4  30140    620.134       201.847882       190.279279      1.060798   \n",
       "\n",
       "   Eccentricity  ConvexArea  EquivDiameter    Extent  Solidity  roundness  \\\n",
       "0      0.549812       28715     190.141097  0.763923  0.988856   0.958027   \n",
       "1      0.411785       29172     191.272750  0.783968  0.984986   0.887034   \n",
       "2      0.562727       29690     193.410904  0.778113  0.989559   0.947849   \n",
       "3      0.498616       30724     195.467062  0.782681  0.976696   0.903936   \n",
       "4      0.333680       30417     195.896503  0.773098  0.990893   0.984877   \n",
       "\n",
       "   Compactness  ShapeFactor1  ShapeFactor2  ShapeFactor3  ShapeFactor4  Class  \n",
       "0     0.913358      0.007332      0.003147      0.834222      0.998724  SEKER  \n",
       "1     0.953861      0.006979      0.003564      0.909851      0.998430  SEKER  \n",
       "2     0.908774      0.007244      0.003048      0.825871      0.999066  SEKER  \n",
       "3     0.928329      0.007017      0.003215      0.861794      0.994199  SEKER  \n",
       "4     0.970516      0.006697      0.003665      0.941900      0.999166  SEKER  "
      ]
     },
     "execution_count": 6,
     "metadata": {},
     "output_type": "execute_result"
    }
   ],
   "source": [
    "df = pd.read_excel('Dry_Bean_Dataset.xlsx')\n",
    "df.head()\n",
    "# 13611 rows × 17 columns\n",
    "# df.drop_duplicates() # there are none"
   ]
  },
  {
   "cell_type": "code",
   "execution_count": 7,
   "id": "fc6c7dbd",
   "metadata": {},
   "outputs": [
    {
     "name": "stdout",
     "output_type": "stream",
     "text": [
      "<class 'pandas.core.frame.DataFrame'>\n",
      "RangeIndex: 13611 entries, 0 to 13610\n",
      "Data columns (total 17 columns):\n",
      " #   Column           Non-Null Count  Dtype  \n",
      "---  ------           --------------  -----  \n",
      " 0   Area             13611 non-null  int64  \n",
      " 1   Perimeter        13611 non-null  float64\n",
      " 2   MajorAxisLength  13611 non-null  float64\n",
      " 3   MinorAxisLength  13611 non-null  float64\n",
      " 4   AspectRation     13611 non-null  float64\n",
      " 5   Eccentricity     13611 non-null  float64\n",
      " 6   ConvexArea       13611 non-null  int64  \n",
      " 7   EquivDiameter    13611 non-null  float64\n",
      " 8   Extent           13611 non-null  float64\n",
      " 9   Solidity         13611 non-null  float64\n",
      " 10  roundness        13611 non-null  float64\n",
      " 11  Compactness      13611 non-null  float64\n",
      " 12  ShapeFactor1     13611 non-null  float64\n",
      " 13  ShapeFactor2     13611 non-null  float64\n",
      " 14  ShapeFactor3     13611 non-null  float64\n",
      " 15  ShapeFactor4     13611 non-null  float64\n",
      " 16  Class            13611 non-null  object \n",
      "dtypes: float64(14), int64(2), object(1)\n",
      "memory usage: 1.8+ MB\n"
     ]
    }
   ],
   "source": [
    "# see numerical, categorical, nan, ...\n",
    "# for nan also df.isnull().sum()\n",
    "df.info()"
   ]
  },
  {
   "cell_type": "code",
   "execution_count": 8,
   "id": "fbf61788",
   "metadata": {},
   "outputs": [
    {
     "data": {
      "text/plain": [
       "array(['SEKER', 'BARBUNYA', 'BOMBAY', 'CALI', 'HOROZ', 'SIRA', 'DERMASON'],\n",
       "      dtype=object)"
      ]
     },
     "execution_count": 8,
     "metadata": {},
     "output_type": "execute_result"
    }
   ],
   "source": [
    "# how many classes we have\n",
    "df['Class'].unique()"
   ]
  },
  {
   "cell_type": "code",
   "execution_count": 9,
   "id": "2e587c4a",
   "metadata": {},
   "outputs": [
    {
     "data": {
      "text/plain": [
       "Class\n",
       "DERMASON    3546\n",
       "SIRA        2636\n",
       "SEKER       2027\n",
       "HOROZ       1928\n",
       "CALI        1630\n",
       "BARBUNYA    1322\n",
       "BOMBAY       522\n",
       "Name: count, dtype: int64"
      ]
     },
     "execution_count": 9,
     "metadata": {},
     "output_type": "execute_result"
    }
   ],
   "source": [
    "# classes balance\n",
    "df[\"Class\"].value_counts()"
   ]
  },
  {
   "cell_type": "code",
   "execution_count": 10,
   "id": "086c56cb",
   "metadata": {},
   "outputs": [
    {
     "data": {
      "text/plain": [
       "<Axes: xlabel='Class', ylabel='count'>"
      ]
     },
     "execution_count": 10,
     "metadata": {},
     "output_type": "execute_result"
    },
    {
     "data": {
      "image/png": "[encoded data removed]",
      "text/plain": [
       "<Figure size 640x480 with 1 Axes>"
      ]
     },
     "metadata": {},
     "output_type": "display_data"
    }
   ],
   "source": [
    "sns.countplot(x='Class', data = df)"
   ]
  },
  {
   "cell_type": "code",
   "execution_count": 11,
   "id": "309460d5",
   "metadata": {},
   "outputs": [
    {
     "data": {
      "text/html": [
       "<div>\n",
       "<style scoped>\n",
       "    .dataframe tbody tr th:only-of-type {\n",
       "        vertical-align: middle;\n",
       "    }\n",
       "\n",
       "    .dataframe tbody tr th {\n",
       "        vertical-align: top;\n",
       "    }\n",
       "\n",
       "    .dataframe thead th {\n",
       "        text-align: right;\n",
       "    }\n",
       "</style>\n",
       "<table border=\"1\" class=\"dataframe\">\n",
       "  <thead>\n",
       "    <tr style=\"text-align: right;\">\n",
       "      <th></th>\n",
       "      <th>count</th>\n",
       "      <th>mean</th>\n",
       "      <th>std</th>\n",
       "      <th>min</th>\n",
       "      <th>25%</th>\n",
       "      <th>50%</th>\n",
       "      <th>75%</th>\n",
       "      <th>max</th>\n",
       "    </tr>\n",
       "  </thead>\n",
       "  <tbody>\n",
       "    <tr>\n",
       "      <th>Area</th>\n",
       "      <td>13611.0</td>\n",
       "      <td>53048.284549</td>\n",
       "      <td>29324.095717</td>\n",
       "      <td>20420.000000</td>\n",
       "      <td>36328.000000</td>\n",
       "      <td>44652.000000</td>\n",
       "      <td>61332.000000</td>\n",
       "      <td>254616.000000</td>\n",
       "    </tr>\n",
       "    <tr>\n",
       "      <th>Perimeter</th>\n",
       "      <td>13611.0</td>\n",
       "      <td>855.283459</td>\n",
       "      <td>214.289696</td>\n",
       "      <td>524.736000</td>\n",
       "      <td>703.523500</td>\n",
       "      <td>794.941000</td>\n",
       "      <td>977.213000</td>\n",
       "      <td>1985.370000</td>\n",
       "    </tr>\n",
       "    <tr>\n",
       "      <th>MajorAxisLength</th>\n",
       "      <td>13611.0</td>\n",
       "      <td>320.141867</td>\n",
       "      <td>85.694186</td>\n",
       "      <td>183.601165</td>\n",
       "      <td>253.303633</td>\n",
       "      <td>296.883367</td>\n",
       "      <td>376.495012</td>\n",
       "      <td>738.860153</td>\n",
       "    </tr>\n",
       "    <tr>\n",
       "      <th>MinorAxisLength</th>\n",
       "      <td>13611.0</td>\n",
       "      <td>202.270714</td>\n",
       "      <td>44.970091</td>\n",
       "      <td>122.512653</td>\n",
       "      <td>175.848170</td>\n",
       "      <td>192.431733</td>\n",
       "      <td>217.031741</td>\n",
       "      <td>460.198497</td>\n",
       "    </tr>\n",
       "    <tr>\n",
       "      <th>AspectRation</th>\n",
       "      <td>13611.0</td>\n",
       "      <td>1.583242</td>\n",
       "      <td>0.246678</td>\n",
       "      <td>1.024868</td>\n",
       "      <td>1.432307</td>\n",
       "      <td>1.551124</td>\n",
       "      <td>1.707109</td>\n",
       "      <td>2.430306</td>\n",
       "    </tr>\n",
       "    <tr>\n",
       "      <th>Eccentricity</th>\n",
       "      <td>13611.0</td>\n",
       "      <td>0.750895</td>\n",
       "      <td>0.092002</td>\n",
       "      <td>0.218951</td>\n",
       "      <td>0.715928</td>\n",
       "      <td>0.764441</td>\n",
       "      <td>0.810466</td>\n",
       "      <td>0.911423</td>\n",
       "    </tr>\n",
       "    <tr>\n",
       "      <th>ConvexArea</th>\n",
       "      <td>13611.0</td>\n",
       "      <td>53768.200206</td>\n",
       "      <td>29774.915817</td>\n",
       "      <td>20684.000000</td>\n",
       "      <td>36714.500000</td>\n",
       "      <td>45178.000000</td>\n",
       "      <td>62294.000000</td>\n",
       "      <td>263261.000000</td>\n",
       "    </tr>\n",
       "    <tr>\n",
       "      <th>EquivDiameter</th>\n",
       "      <td>13611.0</td>\n",
       "      <td>253.064220</td>\n",
       "      <td>59.177120</td>\n",
       "      <td>161.243764</td>\n",
       "      <td>215.068003</td>\n",
       "      <td>238.438026</td>\n",
       "      <td>279.446467</td>\n",
       "      <td>569.374358</td>\n",
       "    </tr>\n",
       "    <tr>\n",
       "      <th>Extent</th>\n",
       "      <td>13611.0</td>\n",
       "      <td>0.749733</td>\n",
       "      <td>0.049086</td>\n",
       "      <td>0.555315</td>\n",
       "      <td>0.718634</td>\n",
       "      <td>0.759859</td>\n",
       "      <td>0.786851</td>\n",
       "      <td>0.866195</td>\n",
       "    </tr>\n",
       "    <tr>\n",
       "      <th>Solidity</th>\n",
       "      <td>13611.0</td>\n",
       "      <td>0.987143</td>\n",
       "      <td>0.004660</td>\n",
       "      <td>0.919246</td>\n",
       "      <td>0.985670</td>\n",
       "      <td>0.988283</td>\n",
       "      <td>0.990013</td>\n",
       "      <td>0.994677</td>\n",
       "    </tr>\n",
       "    <tr>\n",
       "      <th>roundness</th>\n",
       "      <td>13611.0</td>\n",
       "      <td>0.873282</td>\n",
       "      <td>0.059520</td>\n",
       "      <td>0.489618</td>\n",
       "      <td>0.832096</td>\n",
       "      <td>0.883157</td>\n",
       "      <td>0.916869</td>\n",
       "      <td>0.990685</td>\n",
       "    </tr>\n",
       "    <tr>\n",
       "      <th>Compactness</th>\n",
       "      <td>13611.0</td>\n",
       "      <td>0.799864</td>\n",
       "      <td>0.061713</td>\n",
       "      <td>0.640577</td>\n",
       "      <td>0.762469</td>\n",
       "      <td>0.801277</td>\n",
       "      <td>0.834270</td>\n",
       "      <td>0.987303</td>\n",
       "    </tr>\n",
       "    <tr>\n",
       "      <th>ShapeFactor1</th>\n",
       "      <td>13611.0</td>\n",
       "      <td>0.006564</td>\n",
       "      <td>0.001128</td>\n",
       "      <td>0.002778</td>\n",
       "      <td>0.005900</td>\n",
       "      <td>0.006645</td>\n",
       "      <td>0.007271</td>\n",
       "      <td>0.010451</td>\n",
       "    </tr>\n",
       "    <tr>\n",
       "      <th>ShapeFactor2</th>\n",
       "      <td>13611.0</td>\n",
       "      <td>0.001716</td>\n",
       "      <td>0.000596</td>\n",
       "      <td>0.000564</td>\n",
       "      <td>0.001154</td>\n",
       "      <td>0.001694</td>\n",
       "      <td>0.002170</td>\n",
       "      <td>0.003665</td>\n",
       "    </tr>\n",
       "    <tr>\n",
       "      <th>ShapeFactor3</th>\n",
       "      <td>13611.0</td>\n",
       "      <td>0.643590</td>\n",
       "      <td>0.098996</td>\n",
       "      <td>0.410339</td>\n",
       "      <td>0.581359</td>\n",
       "      <td>0.642044</td>\n",
       "      <td>0.696006</td>\n",
       "      <td>0.974767</td>\n",
       "    </tr>\n",
       "    <tr>\n",
       "      <th>ShapeFactor4</th>\n",
       "      <td>13611.0</td>\n",
       "      <td>0.995063</td>\n",
       "      <td>0.004366</td>\n",
       "      <td>0.947687</td>\n",
       "      <td>0.993703</td>\n",
       "      <td>0.996386</td>\n",
       "      <td>0.997883</td>\n",
       "      <td>0.999733</td>\n",
       "    </tr>\n",
       "  </tbody>\n",
       "</table>\n",
       "</div>"
      ],
      "text/plain": [
       "                   count          mean           std           min  \\\n",
       "Area             13611.0  53048.284549  29324.095717  20420.000000   \n",
       "Perimeter        13611.0    855.283459    214.289696    524.736000   \n",
       "MajorAxisLength  13611.0    320.141867     85.694186    183.601165   \n",
       "MinorAxisLength  13611.0    202.270714     44.970091    122.512653   \n",
       "AspectRation     13611.0      1.583242      0.246678      1.024868   \n",
       "Eccentricity     13611.0      0.750895      0.092002      0.218951   \n",
       "ConvexArea       13611.0  53768.200206  29774.915817  20684.000000   \n",
       "EquivDiameter    13611.0    253.064220     59.177120    161.243764   \n",
       "Extent           13611.0      0.749733      0.049086      0.555315   \n",
       "Solidity         13611.0      0.987143      0.004660      0.919246   \n",
       "roundness        13611.0      0.873282      0.059520      0.489618   \n",
       "Compactness      13611.0      0.799864      0.061713      0.640577   \n",
       "ShapeFactor1     13611.0      0.006564      0.001128      0.002778   \n",
       "ShapeFactor2     13611.0      0.001716      0.000596      0.000564   \n",
       "ShapeFactor3     13611.0      0.643590      0.098996      0.410339   \n",
       "ShapeFactor4     13611.0      0.995063      0.004366      0.947687   \n",
       "\n",
       "                          25%           50%           75%            max  \n",
       "Area             36328.000000  44652.000000  61332.000000  254616.000000  \n",
       "Perimeter          703.523500    794.941000    977.213000    1985.370000  \n",
       "MajorAxisLength    253.303633    296.883367    376.495012     738.860153  \n",
       "MinorAxisLength    175.848170    192.431733    217.031741     460.198497  \n",
       "AspectRation         1.432307      1.551124      1.707109       2.430306  \n",
       "Eccentricity         0.715928      0.764441      0.810466       0.911423  \n",
       "ConvexArea       36714.500000  45178.000000  62294.000000  263261.000000  \n",
       "EquivDiameter      215.068003    238.438026    279.446467     569.374358  \n",
       "Extent               0.718634      0.759859      0.786851       0.866195  \n",
       "Solidity             0.985670      0.988283      0.990013       0.994677  \n",
       "roundness            0.832096      0.883157      0.916869       0.990685  \n",
       "Compactness          0.762469      0.801277      0.834270       0.987303  \n",
       "ShapeFactor1         0.005900      0.006645      0.007271       0.010451  \n",
       "ShapeFactor2         0.001154      0.001694      0.002170       0.003665  \n",
       "ShapeFactor3         0.581359      0.642044      0.696006       0.974767  \n",
       "ShapeFactor4         0.993703      0.996386      0.997883       0.999733  "
      ]
     },
     "execution_count": 11,
     "metadata": {},
     "output_type": "execute_result"
    }
   ],
   "source": [
    "# basic stats\n",
    "df.describe().T"
   ]
  },
  {
   "cell_type": "code",
   "execution_count": 12,
   "id": "e8553d15",
   "metadata": {},
   "outputs": [],
   "source": [
    "# Store in different lists the names of the categorical and numerical columns since they will be treated different \n",
    "#categorical = df.select_dtypes(include=['object']).columns.tolist()  # for strings \n",
    "numerical = df.select_dtypes(include=['int64','float64']).columns.tolist() # for numbers"
   ]
  },
  {
   "cell_type": "markdown",
   "id": "554c1b95",
   "metadata": {},
   "source": [
    "<font size ='5'> ✌️ </font>No hay necesidad de más limpieza de datos. Vamos a codificar la clase que es categórica en datos numéricos con `LabelEncoder` y a escalarla con todas las 'features' con `StandardScaler`. "
   ]
  },
  {
   "cell_type": "markdown",
   "id": "df771135",
   "metadata": {},
   "source": [
    "<a name='prep-encoding'/> "
   ]
  },
  {
   "cell_type": "markdown",
   "id": "51e9da61",
   "metadata": {},
   "source": [
    "### <font color=#ac6240>2.2 Codificación y normalización de las 'features'</font>"
   ]
  },
  {
   "cell_type": "code",
   "execution_count": 13,
   "id": "fb081fcd",
   "metadata": {
    "scrolled": false
   },
   "outputs": [
    {
     "data": {
      "text/html": [
       "<div>\n",
       "<style scoped>\n",
       "    .dataframe tbody tr th:only-of-type {\n",
       "        vertical-align: middle;\n",
       "    }\n",
       "\n",
       "    .dataframe tbody tr th {\n",
       "        vertical-align: top;\n",
       "    }\n",
       "\n",
       "    .dataframe thead th {\n",
       "        text-align: right;\n",
       "    }\n",
       "</style>\n",
       "<table border=\"1\" class=\"dataframe\">\n",
       "  <thead>\n",
       "    <tr style=\"text-align: right;\">\n",
       "      <th></th>\n",
       "      <th>Area</th>\n",
       "      <th>Perimeter</th>\n",
       "      <th>MajorAxisLength</th>\n",
       "      <th>MinorAxisLength</th>\n",
       "      <th>AspectRation</th>\n",
       "      <th>Eccentricity</th>\n",
       "      <th>ConvexArea</th>\n",
       "      <th>EquivDiameter</th>\n",
       "      <th>Extent</th>\n",
       "      <th>Solidity</th>\n",
       "      <th>roundness</th>\n",
       "      <th>Compactness</th>\n",
       "      <th>ShapeFactor1</th>\n",
       "      <th>ShapeFactor2</th>\n",
       "      <th>ShapeFactor3</th>\n",
       "      <th>ShapeFactor4</th>\n",
       "      <th>Class</th>\n",
       "    </tr>\n",
       "  </thead>\n",
       "  <tbody>\n",
       "    <tr>\n",
       "      <th>0</th>\n",
       "      <td>28395</td>\n",
       "      <td>610.291</td>\n",
       "      <td>208.178117</td>\n",
       "      <td>173.888747</td>\n",
       "      <td>1.197191</td>\n",
       "      <td>0.549812</td>\n",
       "      <td>28715</td>\n",
       "      <td>190.141097</td>\n",
       "      <td>0.763923</td>\n",
       "      <td>0.988856</td>\n",
       "      <td>0.958027</td>\n",
       "      <td>0.913358</td>\n",
       "      <td>0.007332</td>\n",
       "      <td>0.003147</td>\n",
       "      <td>0.834222</td>\n",
       "      <td>0.998724</td>\n",
       "      <td>5</td>\n",
       "    </tr>\n",
       "    <tr>\n",
       "      <th>1</th>\n",
       "      <td>28734</td>\n",
       "      <td>638.018</td>\n",
       "      <td>200.524796</td>\n",
       "      <td>182.734419</td>\n",
       "      <td>1.097356</td>\n",
       "      <td>0.411785</td>\n",
       "      <td>29172</td>\n",
       "      <td>191.272750</td>\n",
       "      <td>0.783968</td>\n",
       "      <td>0.984986</td>\n",
       "      <td>0.887034</td>\n",
       "      <td>0.953861</td>\n",
       "      <td>0.006979</td>\n",
       "      <td>0.003564</td>\n",
       "      <td>0.909851</td>\n",
       "      <td>0.998430</td>\n",
       "      <td>5</td>\n",
       "    </tr>\n",
       "    <tr>\n",
       "      <th>2</th>\n",
       "      <td>29380</td>\n",
       "      <td>624.110</td>\n",
       "      <td>212.826130</td>\n",
       "      <td>175.931143</td>\n",
       "      <td>1.209713</td>\n",
       "      <td>0.562727</td>\n",
       "      <td>29690</td>\n",
       "      <td>193.410904</td>\n",
       "      <td>0.778113</td>\n",
       "      <td>0.989559</td>\n",
       "      <td>0.947849</td>\n",
       "      <td>0.908774</td>\n",
       "      <td>0.007244</td>\n",
       "      <td>0.003048</td>\n",
       "      <td>0.825871</td>\n",
       "      <td>0.999066</td>\n",
       "      <td>5</td>\n",
       "    </tr>\n",
       "    <tr>\n",
       "      <th>3</th>\n",
       "      <td>30008</td>\n",
       "      <td>645.884</td>\n",
       "      <td>210.557999</td>\n",
       "      <td>182.516516</td>\n",
       "      <td>1.153638</td>\n",
       "      <td>0.498616</td>\n",
       "      <td>30724</td>\n",
       "      <td>195.467062</td>\n",
       "      <td>0.782681</td>\n",
       "      <td>0.976696</td>\n",
       "      <td>0.903936</td>\n",
       "      <td>0.928329</td>\n",
       "      <td>0.007017</td>\n",
       "      <td>0.003215</td>\n",
       "      <td>0.861794</td>\n",
       "      <td>0.994199</td>\n",
       "      <td>5</td>\n",
       "    </tr>\n",
       "    <tr>\n",
       "      <th>4</th>\n",
       "      <td>30140</td>\n",
       "      <td>620.134</td>\n",
       "      <td>201.847882</td>\n",
       "      <td>190.279279</td>\n",
       "      <td>1.060798</td>\n",
       "      <td>0.333680</td>\n",
       "      <td>30417</td>\n",
       "      <td>195.896503</td>\n",
       "      <td>0.773098</td>\n",
       "      <td>0.990893</td>\n",
       "      <td>0.984877</td>\n",
       "      <td>0.970516</td>\n",
       "      <td>0.006697</td>\n",
       "      <td>0.003665</td>\n",
       "      <td>0.941900</td>\n",
       "      <td>0.999166</td>\n",
       "      <td>5</td>\n",
       "    </tr>\n",
       "  </tbody>\n",
       "</table>\n",
       "</div>"
      ],
      "text/plain": [
       "    Area  Perimeter  MajorAxisLength  MinorAxisLength  AspectRation  \\\n",
       "0  28395    610.291       208.178117       173.888747      1.197191   \n",
       "1  28734    638.018       200.524796       182.734419      1.097356   \n",
       "2  29380    624.110       212.826130       175.931143      1.209713   \n",
       "3  30008    645.884       210.557999       182.516516      1.153638   \n",
       "4  30140    620.134       201.847882       190.279279      1.060798   \n",
       "\n",
       "   Eccentricity  ConvexArea  EquivDiameter    Extent  Solidity  roundness  \\\n",
       "0      0.549812       28715     190.141097  0.763923  0.988856   0.958027   \n",
       "1      0.411785       29172     191.272750  0.783968  0.984986   0.887034   \n",
       "2      0.562727       29690     193.410904  0.778113  0.989559   0.947849   \n",
       "3      0.498616       30724     195.467062  0.782681  0.976696   0.903936   \n",
       "4      0.333680       30417     195.896503  0.773098  0.990893   0.984877   \n",
       "\n",
       "   Compactness  ShapeFactor1  ShapeFactor2  ShapeFactor3  ShapeFactor4  Class  \n",
       "0     0.913358      0.007332      0.003147      0.834222      0.998724      5  \n",
       "1     0.953861      0.006979      0.003564      0.909851      0.998430      5  \n",
       "2     0.908774      0.007244      0.003048      0.825871      0.999066      5  \n",
       "3     0.928329      0.007017      0.003215      0.861794      0.994199      5  \n",
       "4     0.970516      0.006697      0.003665      0.941900      0.999166      5  "
      ]
     },
     "execution_count": 13,
     "metadata": {},
     "output_type": "execute_result"
    }
   ],
   "source": [
    "labelencoder = LabelEncoder()\n",
    "df[\"Class\"] = labelencoder.fit_transform(df['Class'])\n",
    "df.head()"
   ]
  },
  {
   "cell_type": "code",
   "execution_count": 14,
   "id": "f56bfabc",
   "metadata": {},
   "outputs": [
    {
     "data": {
      "text/html": [
       "<div>\n",
       "<style scoped>\n",
       "    .dataframe tbody tr th:only-of-type {\n",
       "        vertical-align: middle;\n",
       "    }\n",
       "\n",
       "    .dataframe tbody tr th {\n",
       "        vertical-align: top;\n",
       "    }\n",
       "\n",
       "    .dataframe thead th {\n",
       "        text-align: right;\n",
       "    }\n",
       "</style>\n",
       "<table border=\"1\" class=\"dataframe\">\n",
       "  <thead>\n",
       "    <tr style=\"text-align: right;\">\n",
       "      <th></th>\n",
       "      <th>Area</th>\n",
       "      <th>Perimeter</th>\n",
       "      <th>MajorAxisLength</th>\n",
       "      <th>MinorAxisLength</th>\n",
       "      <th>AspectRation</th>\n",
       "      <th>Eccentricity</th>\n",
       "      <th>ConvexArea</th>\n",
       "      <th>EquivDiameter</th>\n",
       "      <th>Extent</th>\n",
       "      <th>Solidity</th>\n",
       "      <th>roundness</th>\n",
       "      <th>Compactness</th>\n",
       "      <th>ShapeFactor1</th>\n",
       "      <th>ShapeFactor2</th>\n",
       "      <th>ShapeFactor3</th>\n",
       "      <th>ShapeFactor4</th>\n",
       "      <th>Class</th>\n",
       "    </tr>\n",
       "  </thead>\n",
       "  <tbody>\n",
       "    <tr>\n",
       "      <th>0</th>\n",
       "      <td>-0.840749</td>\n",
       "      <td>-1.143319</td>\n",
       "      <td>-1.306598</td>\n",
       "      <td>-0.631153</td>\n",
       "      <td>-1.565053</td>\n",
       "      <td>-2.185720</td>\n",
       "      <td>-0.841451</td>\n",
       "      <td>-1.063341</td>\n",
       "      <td>0.289087</td>\n",
       "      <td>0.367613</td>\n",
       "      <td>1.423867</td>\n",
       "      <td>1.839116</td>\n",
       "      <td>0.680786</td>\n",
       "      <td>2.402173</td>\n",
       "      <td>1.925723</td>\n",
       "      <td>0.838371</td>\n",
       "      <td>5</td>\n",
       "    </tr>\n",
       "    <tr>\n",
       "      <th>1</th>\n",
       "      <td>-0.829188</td>\n",
       "      <td>-1.013924</td>\n",
       "      <td>-1.395911</td>\n",
       "      <td>-0.434445</td>\n",
       "      <td>-1.969784</td>\n",
       "      <td>-3.686040</td>\n",
       "      <td>-0.826102</td>\n",
       "      <td>-1.044217</td>\n",
       "      <td>0.697477</td>\n",
       "      <td>-0.462907</td>\n",
       "      <td>0.231054</td>\n",
       "      <td>2.495449</td>\n",
       "      <td>0.367967</td>\n",
       "      <td>3.100893</td>\n",
       "      <td>2.689702</td>\n",
       "      <td>0.771138</td>\n",
       "      <td>5</td>\n",
       "    </tr>\n",
       "    <tr>\n",
       "      <th>2</th>\n",
       "      <td>-0.807157</td>\n",
       "      <td>-1.078829</td>\n",
       "      <td>-1.252357</td>\n",
       "      <td>-0.585735</td>\n",
       "      <td>-1.514291</td>\n",
       "      <td>-2.045336</td>\n",
       "      <td>-0.808704</td>\n",
       "      <td>-1.008084</td>\n",
       "      <td>0.578195</td>\n",
       "      <td>0.518417</td>\n",
       "      <td>1.252865</td>\n",
       "      <td>1.764843</td>\n",
       "      <td>0.603129</td>\n",
       "      <td>2.235091</td>\n",
       "      <td>1.841356</td>\n",
       "      <td>0.916755</td>\n",
       "      <td>5</td>\n",
       "    </tr>\n",
       "    <tr>\n",
       "      <th>3</th>\n",
       "      <td>-0.785741</td>\n",
       "      <td>-0.977215</td>\n",
       "      <td>-1.278825</td>\n",
       "      <td>-0.439290</td>\n",
       "      <td>-1.741618</td>\n",
       "      <td>-2.742211</td>\n",
       "      <td>-0.773975</td>\n",
       "      <td>-0.973337</td>\n",
       "      <td>0.671260</td>\n",
       "      <td>-2.241767</td>\n",
       "      <td>0.515049</td>\n",
       "      <td>2.081715</td>\n",
       "      <td>0.401718</td>\n",
       "      <td>2.515075</td>\n",
       "      <td>2.204250</td>\n",
       "      <td>-0.197985</td>\n",
       "      <td>5</td>\n",
       "    </tr>\n",
       "    <tr>\n",
       "      <th>4</th>\n",
       "      <td>-0.781239</td>\n",
       "      <td>-1.097384</td>\n",
       "      <td>-1.380471</td>\n",
       "      <td>-0.266663</td>\n",
       "      <td>-2.117993</td>\n",
       "      <td>-4.535028</td>\n",
       "      <td>-0.784286</td>\n",
       "      <td>-0.966080</td>\n",
       "      <td>0.476020</td>\n",
       "      <td>0.804772</td>\n",
       "      <td>1.874992</td>\n",
       "      <td>2.765330</td>\n",
       "      <td>0.118268</td>\n",
       "      <td>3.270983</td>\n",
       "      <td>3.013462</td>\n",
       "      <td>0.939640</td>\n",
       "      <td>5</td>\n",
       "    </tr>\n",
       "    <tr>\n",
       "      <th>...</th>\n",
       "      <td>...</td>\n",
       "      <td>...</td>\n",
       "      <td>...</td>\n",
       "      <td>...</td>\n",
       "      <td>...</td>\n",
       "      <td>...</td>\n",
       "      <td>...</td>\n",
       "      <td>...</td>\n",
       "      <td>...</td>\n",
       "      <td>...</td>\n",
       "      <td>...</td>\n",
       "      <td>...</td>\n",
       "      <td>...</td>\n",
       "      <td>...</td>\n",
       "      <td>...</td>\n",
       "      <td>...</td>\n",
       "      <td>...</td>\n",
       "    </tr>\n",
       "    <tr>\n",
       "      <th>13606</th>\n",
       "      <td>-0.373471</td>\n",
       "      <td>-0.446083</td>\n",
       "      <td>-0.366669</td>\n",
       "      <td>-0.363055</td>\n",
       "      <td>-0.123703</td>\n",
       "      <td>0.153343</td>\n",
       "      <td>-0.378191</td>\n",
       "      <td>-0.364148</td>\n",
       "      <td>-0.716284</td>\n",
       "      <td>0.684173</td>\n",
       "      <td>0.727872</td>\n",
       "      <td>0.032433</td>\n",
       "      <td>0.261425</td>\n",
       "      <td>0.055630</td>\n",
       "      <td>-0.006086</td>\n",
       "      <td>0.760813</td>\n",
       "      <td>3</td>\n",
       "    </tr>\n",
       "    <tr>\n",
       "      <th>13607</th>\n",
       "      <td>-0.373334</td>\n",
       "      <td>-0.456336</td>\n",
       "      <td>-0.450053</td>\n",
       "      <td>-0.257015</td>\n",
       "      <td>-0.432979</td>\n",
       "      <td>-0.165141</td>\n",
       "      <td>-0.378662</td>\n",
       "      <td>-0.363962</td>\n",
       "      <td>1.022933</td>\n",
       "      <td>0.774384</td>\n",
       "      <td>0.818807</td>\n",
       "      <td>0.362794</td>\n",
       "      <td>0.110384</td>\n",
       "      <td>0.285117</td>\n",
       "      <td>0.328393</td>\n",
       "      <td>0.722659</td>\n",
       "      <td>3</td>\n",
       "    </tr>\n",
       "    <tr>\n",
       "      <th>13608</th>\n",
       "      <td>-0.372038</td>\n",
       "      <td>-0.447833</td>\n",
       "      <td>-0.450478</td>\n",
       "      <td>-0.246456</td>\n",
       "      <td>-0.448618</td>\n",
       "      <td>-0.182940</td>\n",
       "      <td>-0.376143</td>\n",
       "      <td>-0.362197</td>\n",
       "      <td>-0.403392</td>\n",
       "      <td>0.591370</td>\n",
       "      <td>0.758468</td>\n",
       "      <td>0.370533</td>\n",
       "      <td>0.104269</td>\n",
       "      <td>0.289204</td>\n",
       "      <td>0.336328</td>\n",
       "      <td>0.390251</td>\n",
       "      <td>3</td>\n",
       "    </tr>\n",
       "    <tr>\n",
       "      <th>13609</th>\n",
       "      <td>-0.371765</td>\n",
       "      <td>-0.427029</td>\n",
       "      <td>-0.428974</td>\n",
       "      <td>-0.266742</td>\n",
       "      <td>-0.380735</td>\n",
       "      <td>-0.106960</td>\n",
       "      <td>-0.372851</td>\n",
       "      <td>-0.361825</td>\n",
       "      <td>-0.903414</td>\n",
       "      <td>0.143717</td>\n",
       "      <td>0.581753</td>\n",
       "      <td>0.285098</td>\n",
       "      <td>0.141906</td>\n",
       "      <td>0.228375</td>\n",
       "      <td>0.248973</td>\n",
       "      <td>0.036440</td>\n",
       "      <td>3</td>\n",
       "    </tr>\n",
       "    <tr>\n",
       "      <th>13610</th>\n",
       "      <td>-0.371356</td>\n",
       "      <td>-0.387557</td>\n",
       "      <td>-0.291736</td>\n",
       "      <td>-0.446224</td>\n",
       "      <td>0.148374</td>\n",
       "      <td>0.389116</td>\n",
       "      <td>-0.375101</td>\n",
       "      <td>-0.361268</td>\n",
       "      <td>0.799227</td>\n",
       "      <td>0.537539</td>\n",
       "      <td>0.253681</td>\n",
       "      <td>-0.240904</td>\n",
       "      <td>0.387512</td>\n",
       "      <td>-0.127776</td>\n",
       "      <td>-0.276481</td>\n",
       "      <td>0.713719</td>\n",
       "      <td>3</td>\n",
       "    </tr>\n",
       "  </tbody>\n",
       "</table>\n",
       "<p>13611 rows × 17 columns</p>\n",
       "</div>"
      ],
      "text/plain": [
       "           Area  Perimeter  MajorAxisLength  MinorAxisLength  AspectRation  \\\n",
       "0     -0.840749  -1.143319        -1.306598        -0.631153     -1.565053   \n",
       "1     -0.829188  -1.013924        -1.395911        -0.434445     -1.969784   \n",
       "2     -0.807157  -1.078829        -1.252357        -0.585735     -1.514291   \n",
       "3     -0.785741  -0.977215        -1.278825        -0.439290     -1.741618   \n",
       "4     -0.781239  -1.097384        -1.380471        -0.266663     -2.117993   \n",
       "...         ...        ...              ...              ...           ...   \n",
       "13606 -0.373471  -0.446083        -0.366669        -0.363055     -0.123703   \n",
       "13607 -0.373334  -0.456336        -0.450053        -0.257015     -0.432979   \n",
       "13608 -0.372038  -0.447833        -0.450478        -0.246456     -0.448618   \n",
       "13609 -0.371765  -0.427029        -0.428974        -0.266742     -0.380735   \n",
       "13610 -0.371356  -0.387557        -0.291736        -0.446224      0.148374   \n",
       "\n",
       "       Eccentricity  ConvexArea  EquivDiameter    Extent  Solidity  roundness  \\\n",
       "0         -2.185720   -0.841451      -1.063341  0.289087  0.367613   1.423867   \n",
       "1         -3.686040   -0.826102      -1.044217  0.697477 -0.462907   0.231054   \n",
       "2         -2.045336   -0.808704      -1.008084  0.578195  0.518417   1.252865   \n",
       "3         -2.742211   -0.773975      -0.973337  0.671260 -2.241767   0.515049   \n",
       "4         -4.535028   -0.784286      -0.966080  0.476020  0.804772   1.874992   \n",
       "...             ...         ...            ...       ...       ...        ...   \n",
       "13606      0.153343   -0.378191      -0.364148 -0.716284  0.684173   0.727872   \n",
       "13607     -0.165141   -0.378662      -0.363962  1.022933  0.774384   0.818807   \n",
       "13608     -0.182940   -0.376143      -0.362197 -0.403392  0.591370   0.758468   \n",
       "13609     -0.106960   -0.372851      -0.361825 -0.903414  0.143717   0.581753   \n",
       "13610      0.389116   -0.375101      -0.361268  0.799227  0.537539   0.253681   \n",
       "\n",
       "       Compactness  ShapeFactor1  ShapeFactor2  ShapeFactor3  ShapeFactor4  \\\n",
       "0         1.839116      0.680786      2.402173      1.925723      0.838371   \n",
       "1         2.495449      0.367967      3.100893      2.689702      0.771138   \n",
       "2         1.764843      0.603129      2.235091      1.841356      0.916755   \n",
       "3         2.081715      0.401718      2.515075      2.204250     -0.197985   \n",
       "4         2.765330      0.118268      3.270983      3.013462      0.939640   \n",
       "...            ...           ...           ...           ...           ...   \n",
       "13606     0.032433      0.261425      0.055630     -0.006086      0.760813   \n",
       "13607     0.362794      0.110384      0.285117      0.328393      0.722659   \n",
       "13608     0.370533      0.104269      0.289204      0.336328      0.390251   \n",
       "13609     0.285098      0.141906      0.228375      0.248973      0.036440   \n",
       "13610    -0.240904      0.387512     -0.127776     -0.276481      0.713719   \n",
       "\n",
       "       Class  \n",
       "0          5  \n",
       "1          5  \n",
       "2          5  \n",
       "3          5  \n",
       "4          5  \n",
       "...      ...  \n",
       "13606      3  \n",
       "13607      3  \n",
       "13608      3  \n",
       "13609      3  \n",
       "13610      3  \n",
       "\n",
       "[13611 rows x 17 columns]"
      ]
     },
     "execution_count": 14,
     "metadata": {},
     "output_type": "execute_result"
    }
   ],
   "source": [
    "standardscaler = StandardScaler()\n",
    "df_scaled = pd.DataFrame(standardscaler.fit_transform(\n",
    "            df[['Area','Perimeter','MajorAxisLength','MinorAxisLength','AspectRation','Eccentricity',\n",
    "            'ConvexArea','EquivDiameter','Extent','Solidity','roundness','Compactness','ShapeFactor1',\n",
    "            'ShapeFactor2','ShapeFactor3','ShapeFactor4']]             \n",
    "            ),columns = numerical)\n",
    "df_scaled['Class']  = df['Class']\n",
    "df_scaled"
   ]
  },
  {
   "cell_type": "code",
   "execution_count": 15,
   "id": "fd307945",
   "metadata": {},
   "outputs": [
    {
     "data": {
      "image/png": "[encoded data removed]",
      "text/plain": [
       "<Figure size 1200x1200 with 2 Axes>"
      ]
     },
     "metadata": {},
     "output_type": "display_data"
    }
   ],
   "source": [
    "# See if there are relevant correlations\n",
    "plt.figure(figsize=(12,12))\n",
    "sns.heatmap(df_scaled.corr(), annot=True, cmap=plt.cm.Blues)\n",
    "plt.show()"
   ]
  },
  {
   "cell_type": "markdown",
   "id": "ef7819e1",
   "metadata": {},
   "source": [
    "No parece que ninguna 'feature' esté especialmente correlacionada con nuestra variable 'target'. Varias 'features' sí están muy correlacionadas. Por ejemplo, 'EquivDiameter' y 'Perimeter' están correlacionadas positivamente un 99% y 'ShapeFactor3' está correlacionada con positivamente con 'Compactness' un 100% y con 'AspectRation' y 'Eccentricity' negativamente un 98%."
   ]
  },
  {
   "cell_type": "code",
   "execution_count": 16,
   "id": "7b5024bc",
   "metadata": {},
   "outputs": [],
   "source": [
    "# remove redundant features\n",
    "df_scaled.drop(['EquivDiameter', 'Compactness', 'AspectRation','Eccentricity'], axis=1, inplace=True)"
   ]
  },
  {
   "cell_type": "markdown",
   "id": "7f6113d7",
   "metadata": {},
   "source": [
    "<a name='prep-split'/>"
   ]
  },
  {
   "cell_type": "markdown",
   "id": "e0f89f27",
   "metadata": {
    "lang": "es"
   },
   "source": [
    "### <font color=#ac6240>2.3 División de los datos en conjuntos de datos de entrenamiento, validación y prueba</font>"
   ]
  },
  {
   "cell_type": "markdown",
   "id": "0305c991",
   "metadata": {
    "lang": "es"
   },
   "source": [
    "En esta división aleatoria, y en todas las ocasiones siguientes en las que usemos un generador de números aleatorios, fijamos la semilla del generador de números aleatorios para asegurar la reproducibilidad de los resultados. Fijamos el `random_state = 1` pero podría ser 2 o cualquier otro valor, no afectará a los resultados, pero con esta corrección siempre obtendremos exactamente los mismos resultados."
   ]
  },
  {
   "cell_type": "code",
   "execution_count": 17,
   "id": "024bc614",
   "metadata": {},
   "outputs": [],
   "source": [
    "# copy the original dataframe so further manipulations will not affect it \n",
    "df_select = df_scaled.copy() "
   ]
  },
  {
   "cell_type": "markdown",
   "id": "b41a2d25",
   "metadata": {},
   "source": [
    "#### For UQ we need to separate into 3 sets: the training, the calibration, and the test"
   ]
  },
  {
   "cell_type": "code",
   "execution_count": 18,
   "id": "e7a1070e",
   "metadata": {},
   "outputs": [
    {
     "data": {
      "text/plain": [
       "(8166, 2722, 2723)"
      ]
     },
     "execution_count": 18,
     "metadata": {},
     "output_type": "execute_result"
    }
   ],
   "source": [
    "# separate train + calibration (= full) and test\n",
    "df_full_train, df_test = train_test_split(df_select, test_size=0.2, random_state=1)\n",
    "# now split the full into train and cal, it should be the 20% of the 80%, which is 20/80=1/4=0.25\n",
    "df_train, df_cal = train_test_split(df_full_train, test_size=0.25, random_state=1) \n",
    "len(df_train), len(df_cal), len(df_test)"
   ]
  },
  {
   "cell_type": "markdown",
   "id": "e0c27e50",
   "metadata": {},
   "source": [
    "Get the target and feature vectors for the train sets."
   ]
  },
  {
   "cell_type": "code",
   "execution_count": 19,
   "id": "89f65631",
   "metadata": {},
   "outputs": [],
   "source": [
    "# reset index\n",
    "df_train = df_train.reset_index(drop=True)\n",
    "df_test = df_test.reset_index(drop=True)\n",
    "df_cal = df_cal.reset_index(drop=True)\n",
    "\n",
    "# define the target\n",
    "y_train = df_train.Class.values\n",
    "y_test = df_test.Class.values\n",
    "y_cal = df_cal.Class.values\n",
    "\n",
    "# remove the target from the features\n",
    "del df_train['Class']\n",
    "del df_test['Class']\n",
    "del df_cal['Class']\n",
    "\n",
    "# define the vector of features\n",
    "X_train = df_train.values\n",
    "X_test = df_test.values\n",
    "X_cal = df_cal.values"
   ]
  },
  {
   "cell_type": "markdown",
   "id": "0570ccfa",
   "metadata": {},
   "source": [
    "<font size=\"5\"> 👏 </font>  Ya tenemos todo para entrenar nuestro modelo de aprendizaje automático."
   ]
  },
  {
   "cell_type": "markdown",
   "id": "ccd54a62",
   "metadata": {},
   "source": [
    "<a href=#toc>Subir a Tabla de Contenidos</a><br>"
   ]
  },
  {
   "cell_type": "markdown",
   "id": "26274c94",
   "metadata": {},
   "source": [
    "<a name='model-ml'/>"
   ]
  },
  {
   "cell_type": "markdown",
   "id": "e5a712e7",
   "metadata": {},
   "source": [
    "## <font color=#ac6240>3. Entrenamiento y testado del modelo de aprendizaje automático</font>"
   ]
  },
  {
   "cell_type": "code",
   "execution_count": 20,
   "id": "efd94a90",
   "metadata": {},
   "outputs": [
    {
     "data": {
      "text/plain": [
       "0.902"
      ]
     },
     "execution_count": 20,
     "metadata": {},
     "output_type": "execute_result"
    }
   ],
   "source": [
    "gnb = GaussianNB()\n",
    "gnb.fit(X_train,y_train)\n",
    "y_pred = gnb.predict(X_test)\n",
    "acc = accuracy_score(y_test, y_pred)\n",
    "acc.round(3)"
   ]
  },
  {
   "cell_type": "code",
   "execution_count": 21,
   "id": "6bf50e31",
   "metadata": {},
   "outputs": [
    {
     "data": {
      "image/png": "[encoded data removed]",
      "text/plain": [
       "<Figure size 640x480 with 2 Axes>"
      ]
     },
     "metadata": {},
     "output_type": "display_data"
    }
   ],
   "source": [
    "# confusion matrix\n",
    "\n",
    "cf_matrix = confusion_matrix(y_test, y_pred)\n",
    "\n",
    "ax = sns.heatmap(cf_matrix, fmt='0', annot=True, cmap='Blues')\n",
    "\n",
    "ax.set_title('Confusion Matrix\\n');\n",
    "ax.set_xlabel('\\nPredicted Values')\n",
    "ax.set_ylabel('Actual Values ');\n",
    "\n",
    "##plt.figure(figsize=(7,5))\n",
    "plt.rcParams['figure.figsize'] = [7, 5]  # re-run this cell to get the correct figure size\n",
    "\n",
    "plt.show();"
   ]
  },
  {
   "cell_type": "markdown",
   "id": "b83bb0bc",
   "metadata": {},
   "source": [
    "La métrica de 'accuracy' divide los aciertos entre el número total de casos. Vemos del conjunto de test con 2723 alubias, (225 + 103 +298 + 626 + 372 + 375 + 457) = 2456 alubias han sido clasificadas correctamente, dándonos una 'accuracy' (2456/2723)= 0.902, como vimos en una celda anterior. Este valor nos indica que hay un 90.2% de probabilidad de que el resultado del modelo contenga efectivamente a la clase verdadera, no está mal."
   ]
  },
  {
   "cell_type": "markdown",
   "id": "661bbd68",
   "metadata": {},
   "source": [
    "#### ¿Pero y si quiero que el modelo prediga la clase verdadera el 95% de las veces? \n",
    "\n",
    "Empezamos ya a implementar métodos de UQ que permiten que nuestro modelo exprese la certeza de su predicción. Como veremos estos métodos nos permitirán reducir el número de Falsos Negativos o Positivos y estiar la distribución esperada de la predicción en lugar de un único valor puntual. Pero además nos garantizan la cobertura estadística, es decir, que el modelo prediga la clase verdadera el 95% de las veces. \n",
    "\n",
    "Por supuesto que debemos ajustar los hiperparámetros del modelo Gaussian Naive Bayes para optimizar la métrica de 'accuracy' (ver el Jupyter Notebook `Exploration_and_Classification.ipynb` en este mismo repositorio, allí tuneamos varios modelos para optimizar la exactitud). Sin embargo, no nos queremos centrar en ese trabajo ahora porque queremos demostrar que las métricas, por ejemplo 'accuracy', no indican la certeza que tiene el modelo sobre sus predicciones, sea cual sea el valor de dicha métrica. \n",
    "\n",
    "#### Es decir, ahora nos ocupamos de conseguir exactitud con certidumbre. "
   ]
  },
  {
   "cell_type": "markdown",
   "id": "a1f0d77e",
   "metadata": {},
   "source": [
    "![Molnar_UQ](./images/Molnar_UQ.png \"Molnar_UQ\")"
   ]
  },
  {
   "cell_type": "markdown",
   "id": "6b0d51b1",
   "metadata": {},
   "source": [
    "[Fuente de la imagen](https://twitter.com/ChristophMolnar)"
   ]
  },
  {
   "cell_type": "markdown",
   "id": "d3f97a2b",
   "metadata": {},
   "source": [
    "<a href=#toc>Subir a Tabla de Contenidos</a><br>"
   ]
  },
  {
   "cell_type": "markdown",
   "id": "1c7daa67",
   "metadata": {},
   "source": [
    "<a name='app-uq'/>"
   ]
  },
  {
   "cell_type": "markdown",
   "id": "c5bf360a",
   "metadata": {},
   "source": [
    "## <font color=#ac6240>4. Aplicación de métodos de cuantificacion de incertidumbre</font>"
   ]
  },
  {
   "cell_type": "markdown",
   "id": "db22657b",
   "metadata": {},
   "source": [
    "Veamos cómo implementar que el modelo prediga la clase verdadera el 95% de las veces. \n",
    "\n",
    "Una idea podría ser aceptar solo aquellas predicciones para las que la 'raw score', sea de la clase que sea, sea mayor que 0.95 y decidir descartar el resto. Esas alubias cuya puntuación quede por debajo del umbral de la clasificación automática habrán de ser clasificadas de otra manera, por ejemplo, por un ser humano. \n",
    "\n",
    "Comúnmente definimos ese umbral con el parámetro 'alpha'. Indica cuánta tolerancia, cuántos errores, es decir, predicciones que caen fuera el conjunto de predicción, estamos dispuestes a aceptar. Para una certeza del 95% de que la predicción del modelo contenga el valor correcto, establecemos que 'alpha' ha de ser igual a 0.05. Es importante notar que 'alpha' no es igual al umbral de decisión 't' que explicamos en la clasificación binaria del Jupyter Notebook `UQ.ipynb` porque aquí vamos a rechazar clasificar aquellas instancias que no alcancen una 'raw score' mayor o igual a 'alpha'. \n",
    "\n",
    "Veamos si esta idea inicial es efectiva o no:"
   ]
  },
  {
   "cell_type": "code",
   "execution_count": 22,
   "id": "bc33120c",
   "metadata": {},
   "outputs": [
    {
     "data": {
      "text/html": [
       "<div>\n",
       "<style scoped>\n",
       "    .dataframe tbody tr th:only-of-type {\n",
       "        vertical-align: middle;\n",
       "    }\n",
       "\n",
       "    .dataframe tbody tr th {\n",
       "        vertical-align: top;\n",
       "    }\n",
       "\n",
       "    .dataframe thead th {\n",
       "        text-align: right;\n",
       "    }\n",
       "</style>\n",
       "<table border=\"1\" class=\"dataframe\">\n",
       "  <thead>\n",
       "    <tr style=\"text-align: right;\">\n",
       "      <th></th>\n",
       "      <th>Gtruth</th>\n",
       "      <th>Rscor_class0</th>\n",
       "      <th>Rscor_class1</th>\n",
       "      <th>Rscor_class2</th>\n",
       "      <th>Rscor_class3</th>\n",
       "      <th>Raw_scores_class_0</th>\n",
       "      <th>Rscor_class4</th>\n",
       "      <th>Rscor_class5</th>\n",
       "      <th>Rscor_class6</th>\n",
       "    </tr>\n",
       "  </thead>\n",
       "  <tbody>\n",
       "    <tr>\n",
       "      <th>0</th>\n",
       "      <td>6</td>\n",
       "      <td>0.0261</td>\n",
       "      <td>0.0</td>\n",
       "      <td>0.0020</td>\n",
       "      <td>0.0000</td>\n",
       "      <td>0.0261</td>\n",
       "      <td>0.972</td>\n",
       "      <td>0.0000</td>\n",
       "      <td>0.0000</td>\n",
       "    </tr>\n",
       "    <tr>\n",
       "      <th>1</th>\n",
       "      <td>3</td>\n",
       "      <td>0.0000</td>\n",
       "      <td>0.0</td>\n",
       "      <td>0.0000</td>\n",
       "      <td>0.0558</td>\n",
       "      <td>0.0000</td>\n",
       "      <td>0.000</td>\n",
       "      <td>0.0001</td>\n",
       "      <td>0.9441</td>\n",
       "    </tr>\n",
       "    <tr>\n",
       "      <th>2</th>\n",
       "      <td>3</td>\n",
       "      <td>0.0000</td>\n",
       "      <td>0.0</td>\n",
       "      <td>0.0000</td>\n",
       "      <td>0.9380</td>\n",
       "      <td>0.0000</td>\n",
       "      <td>0.000</td>\n",
       "      <td>0.0000</td>\n",
       "      <td>0.0619</td>\n",
       "    </tr>\n",
       "    <tr>\n",
       "      <th>3</th>\n",
       "      <td>6</td>\n",
       "      <td>0.0000</td>\n",
       "      <td>0.0</td>\n",
       "      <td>0.0000</td>\n",
       "      <td>0.0000</td>\n",
       "      <td>0.0000</td>\n",
       "      <td>0.000</td>\n",
       "      <td>0.0000</td>\n",
       "      <td>1.0000</td>\n",
       "    </tr>\n",
       "    <tr>\n",
       "      <th>4</th>\n",
       "      <td>3</td>\n",
       "      <td>0.0000</td>\n",
       "      <td>0.0</td>\n",
       "      <td>0.0000</td>\n",
       "      <td>0.9865</td>\n",
       "      <td>0.0000</td>\n",
       "      <td>0.000</td>\n",
       "      <td>0.0135</td>\n",
       "      <td>0.0000</td>\n",
       "    </tr>\n",
       "    <tr>\n",
       "      <th>...</th>\n",
       "      <td>...</td>\n",
       "      <td>...</td>\n",
       "      <td>...</td>\n",
       "      <td>...</td>\n",
       "      <td>...</td>\n",
       "      <td>...</td>\n",
       "      <td>...</td>\n",
       "      <td>...</td>\n",
       "      <td>...</td>\n",
       "    </tr>\n",
       "    <tr>\n",
       "      <th>2718</th>\n",
       "      <td>3</td>\n",
       "      <td>0.0000</td>\n",
       "      <td>0.0</td>\n",
       "      <td>0.0000</td>\n",
       "      <td>1.0000</td>\n",
       "      <td>0.0000</td>\n",
       "      <td>0.000</td>\n",
       "      <td>0.0000</td>\n",
       "      <td>0.0000</td>\n",
       "    </tr>\n",
       "    <tr>\n",
       "      <th>2719</th>\n",
       "      <td>2</td>\n",
       "      <td>0.3512</td>\n",
       "      <td>0.0</td>\n",
       "      <td>0.6488</td>\n",
       "      <td>0.0000</td>\n",
       "      <td>0.3512</td>\n",
       "      <td>0.000</td>\n",
       "      <td>0.0000</td>\n",
       "      <td>0.0000</td>\n",
       "    </tr>\n",
       "    <tr>\n",
       "      <th>2720</th>\n",
       "      <td>6</td>\n",
       "      <td>0.0000</td>\n",
       "      <td>0.0</td>\n",
       "      <td>0.0000</td>\n",
       "      <td>0.8951</td>\n",
       "      <td>0.0000</td>\n",
       "      <td>0.000</td>\n",
       "      <td>0.0000</td>\n",
       "      <td>0.1049</td>\n",
       "    </tr>\n",
       "    <tr>\n",
       "      <th>2721</th>\n",
       "      <td>0</td>\n",
       "      <td>1.0000</td>\n",
       "      <td>0.0</td>\n",
       "      <td>0.0000</td>\n",
       "      <td>0.0000</td>\n",
       "      <td>1.0000</td>\n",
       "      <td>0.000</td>\n",
       "      <td>0.0000</td>\n",
       "      <td>0.0000</td>\n",
       "    </tr>\n",
       "    <tr>\n",
       "      <th>2722</th>\n",
       "      <td>2</td>\n",
       "      <td>0.0000</td>\n",
       "      <td>0.0</td>\n",
       "      <td>1.0000</td>\n",
       "      <td>0.0000</td>\n",
       "      <td>0.0000</td>\n",
       "      <td>0.000</td>\n",
       "      <td>0.0000</td>\n",
       "      <td>0.0000</td>\n",
       "    </tr>\n",
       "  </tbody>\n",
       "</table>\n",
       "<p>2723 rows × 9 columns</p>\n",
       "</div>"
      ],
      "text/plain": [
       "      Gtruth  Rscor_class0  Rscor_class1  Rscor_class2  Rscor_class3  \\\n",
       "0          6        0.0261           0.0        0.0020        0.0000   \n",
       "1          3        0.0000           0.0        0.0000        0.0558   \n",
       "2          3        0.0000           0.0        0.0000        0.9380   \n",
       "3          6        0.0000           0.0        0.0000        0.0000   \n",
       "4          3        0.0000           0.0        0.0000        0.9865   \n",
       "...      ...           ...           ...           ...           ...   \n",
       "2718       3        0.0000           0.0        0.0000        1.0000   \n",
       "2719       2        0.3512           0.0        0.6488        0.0000   \n",
       "2720       6        0.0000           0.0        0.0000        0.8951   \n",
       "2721       0        1.0000           0.0        0.0000        0.0000   \n",
       "2722       2        0.0000           0.0        1.0000        0.0000   \n",
       "\n",
       "      Raw_scores_class_0  Rscor_class4  Rscor_class5  Rscor_class6  \n",
       "0                 0.0261         0.972        0.0000        0.0000  \n",
       "1                 0.0000         0.000        0.0001        0.9441  \n",
       "2                 0.0000         0.000        0.0000        0.0619  \n",
       "3                 0.0000         0.000        0.0000        1.0000  \n",
       "4                 0.0000         0.000        0.0135        0.0000  \n",
       "...                  ...           ...           ...           ...  \n",
       "2718              0.0000         0.000        0.0000        0.0000  \n",
       "2719              0.3512         0.000        0.0000        0.0000  \n",
       "2720              0.0000         0.000        0.0000        0.1049  \n",
       "2721              1.0000         0.000        0.0000        0.0000  \n",
       "2722              0.0000         0.000        0.0000        0.0000  \n",
       "\n",
       "[2723 rows x 9 columns]"
      ]
     },
     "execution_count": 22,
     "metadata": {},
     "output_type": "execute_result"
    }
   ],
   "source": [
    "# the output of .predict_proba() is a matrix: \n",
    "# left column is the results for neg ('0', no heart failure), right column is for pos ('1', heart failure)\n",
    "# visualize just the raw scores and their correspondent the ground truth\n",
    "df_raw_scores = pd.DataFrame({'Gtruth': y_test, \n",
    "                              'Rscor_class0': gnb.predict_proba(X_test)[:, 0].round(4), \n",
    "                              'Rscor_class1': gnb.predict_proba(X_test)[:, 1].round(4),\n",
    "                              'Rscor_class2': gnb.predict_proba(X_test)[:, 2].round(4), \n",
    "                              'Rscor_class3': gnb.predict_proba(X_test)[:, 3].round(4),                              'Raw_scores_class_0': gnb.predict_proba(X_test)[:, 0].round(4), \n",
    "                              'Rscor_class4': gnb.predict_proba(X_test)[:, 4].round(4),                              'Raw_scores_class_0': gnb.predict_proba(X_test)[:, 0].round(4), \n",
    "                              'Rscor_class5': gnb.predict_proba(X_test)[:, 5].round(4),                              'Raw_scores_class_0': gnb.predict_proba(X_test)[:, 0].round(4), \n",
    "                              'Rscor_class6': gnb.predict_proba(X_test)[:, 6].round(4)})\n",
    "df_raw_scores"
   ]
  },
  {
   "cell_type": "code",
   "execution_count": 23,
   "id": "83d67f48",
   "metadata": {},
   "outputs": [],
   "source": [
    "df_raw_scores.drop(['Raw_scores_class_0'], axis=1, inplace=True)"
   ]
  },
  {
   "cell_type": "code",
   "execution_count": 24,
   "id": "748f12b7",
   "metadata": {},
   "outputs": [
    {
     "name": "stdout",
     "output_type": "stream",
     "text": [
      "The number of beans with a raw score >= 0.95 is 2483\n",
      "The number of beans that will be discarded is 240\n"
     ]
    }
   ],
   "source": [
    "# choose alpha\n",
    "alpha = 0.05\n",
    "num_selected_beans = (gnb.predict_proba(X_test) >= 1.0 - alpha).sum()\n",
    "num_discarded_beans = len(df_raw_scores) - num_selected_beans\n",
    "# how many beans got a raw score in one of their potential classes higher or equal to alpha?\n",
    "print('The number of beans with a raw score >=', 1.0 - alpha, 'is', num_selected_beans)\n",
    "print('The number of beans that will be discarded is', num_discarded_beans)"
   ]
  },
  {
   "cell_type": "code",
   "execution_count": 25,
   "id": "0c88dbe7",
   "metadata": {},
   "outputs": [],
   "source": [
    "# select the beans with raw score higher or equal to 1 - alpha\n",
    "df_alpha_select = df_raw_scores[\n",
    "                    (df_raw_scores.Rscor_class0 >= 1. - alpha) | \n",
    "                    (df_raw_scores.Rscor_class1 >= 1. - alpha) | \n",
    "                    (df_raw_scores.Rscor_class2 >= 1. - alpha) | \n",
    "                    (df_raw_scores.Rscor_class3 >= 1. - alpha) | \n",
    "                    (df_raw_scores.Rscor_class4 >= 1. - alpha) | \n",
    "                    (df_raw_scores.Rscor_class5 >= 1. - alpha) | \n",
    "                    (df_raw_scores.Rscor_class6 >= 1. - alpha)\n",
    "                  ]\n",
    "#df_alpha_select.head()"
   ]
  },
  {
   "cell_type": "code",
   "execution_count": 26,
   "id": "2bc0f6d1",
   "metadata": {
    "scrolled": true
   },
   "outputs": [
    {
     "data": {
      "text/html": [
       "<div>\n",
       "<style scoped>\n",
       "    .dataframe tbody tr th:only-of-type {\n",
       "        vertical-align: middle;\n",
       "    }\n",
       "\n",
       "    .dataframe tbody tr th {\n",
       "        vertical-align: top;\n",
       "    }\n",
       "\n",
       "    .dataframe thead th {\n",
       "        text-align: right;\n",
       "    }\n",
       "</style>\n",
       "<table border=\"1\" class=\"dataframe\">\n",
       "  <thead>\n",
       "    <tr style=\"text-align: right;\">\n",
       "      <th></th>\n",
       "      <th>Gtruth</th>\n",
       "      <th>Rscor_class0</th>\n",
       "      <th>Rscor_class1</th>\n",
       "      <th>Rscor_class2</th>\n",
       "      <th>Rscor_class3</th>\n",
       "      <th>Rscor_class4</th>\n",
       "      <th>Rscor_class5</th>\n",
       "      <th>Rscor_class6</th>\n",
       "      <th>AlphaPred</th>\n",
       "    </tr>\n",
       "  </thead>\n",
       "  <tbody>\n",
       "    <tr>\n",
       "      <th>0</th>\n",
       "      <td>6</td>\n",
       "      <td>0.0261</td>\n",
       "      <td>0.0</td>\n",
       "      <td>0.002</td>\n",
       "      <td>0.0000</td>\n",
       "      <td>0.9720</td>\n",
       "      <td>0.0000</td>\n",
       "      <td>0.0000</td>\n",
       "      <td>4</td>\n",
       "    </tr>\n",
       "    <tr>\n",
       "      <th>1</th>\n",
       "      <td>6</td>\n",
       "      <td>0.0000</td>\n",
       "      <td>0.0</td>\n",
       "      <td>0.000</td>\n",
       "      <td>0.0000</td>\n",
       "      <td>0.0000</td>\n",
       "      <td>0.0000</td>\n",
       "      <td>1.0000</td>\n",
       "      <td>6</td>\n",
       "    </tr>\n",
       "    <tr>\n",
       "      <th>2</th>\n",
       "      <td>3</td>\n",
       "      <td>0.0000</td>\n",
       "      <td>0.0</td>\n",
       "      <td>0.000</td>\n",
       "      <td>0.9865</td>\n",
       "      <td>0.0000</td>\n",
       "      <td>0.0135</td>\n",
       "      <td>0.0000</td>\n",
       "      <td>3</td>\n",
       "    </tr>\n",
       "    <tr>\n",
       "      <th>3</th>\n",
       "      <td>3</td>\n",
       "      <td>0.0000</td>\n",
       "      <td>0.0</td>\n",
       "      <td>0.000</td>\n",
       "      <td>1.0000</td>\n",
       "      <td>0.0000</td>\n",
       "      <td>0.0000</td>\n",
       "      <td>0.0000</td>\n",
       "      <td>3</td>\n",
       "    </tr>\n",
       "    <tr>\n",
       "      <th>4</th>\n",
       "      <td>6</td>\n",
       "      <td>0.0000</td>\n",
       "      <td>0.0</td>\n",
       "      <td>0.000</td>\n",
       "      <td>0.0000</td>\n",
       "      <td>0.9989</td>\n",
       "      <td>0.0000</td>\n",
       "      <td>0.0011</td>\n",
       "      <td>4</td>\n",
       "    </tr>\n",
       "    <tr>\n",
       "      <th>...</th>\n",
       "      <td>...</td>\n",
       "      <td>...</td>\n",
       "      <td>...</td>\n",
       "      <td>...</td>\n",
       "      <td>...</td>\n",
       "      <td>...</td>\n",
       "      <td>...</td>\n",
       "      <td>...</td>\n",
       "      <td>...</td>\n",
       "    </tr>\n",
       "    <tr>\n",
       "      <th>2478</th>\n",
       "      <td>3</td>\n",
       "      <td>0.0000</td>\n",
       "      <td>0.0</td>\n",
       "      <td>0.000</td>\n",
       "      <td>1.0000</td>\n",
       "      <td>0.0000</td>\n",
       "      <td>0.0000</td>\n",
       "      <td>0.0000</td>\n",
       "      <td>3</td>\n",
       "    </tr>\n",
       "    <tr>\n",
       "      <th>2479</th>\n",
       "      <td>3</td>\n",
       "      <td>0.0000</td>\n",
       "      <td>0.0</td>\n",
       "      <td>0.000</td>\n",
       "      <td>0.9999</td>\n",
       "      <td>0.0000</td>\n",
       "      <td>0.0000</td>\n",
       "      <td>0.0001</td>\n",
       "      <td>3</td>\n",
       "    </tr>\n",
       "    <tr>\n",
       "      <th>2480</th>\n",
       "      <td>3</td>\n",
       "      <td>0.0000</td>\n",
       "      <td>0.0</td>\n",
       "      <td>0.000</td>\n",
       "      <td>1.0000</td>\n",
       "      <td>0.0000</td>\n",
       "      <td>0.0000</td>\n",
       "      <td>0.0000</td>\n",
       "      <td>3</td>\n",
       "    </tr>\n",
       "    <tr>\n",
       "      <th>2481</th>\n",
       "      <td>0</td>\n",
       "      <td>1.0000</td>\n",
       "      <td>0.0</td>\n",
       "      <td>0.000</td>\n",
       "      <td>0.0000</td>\n",
       "      <td>0.0000</td>\n",
       "      <td>0.0000</td>\n",
       "      <td>0.0000</td>\n",
       "      <td>0</td>\n",
       "    </tr>\n",
       "    <tr>\n",
       "      <th>2482</th>\n",
       "      <td>2</td>\n",
       "      <td>0.0000</td>\n",
       "      <td>0.0</td>\n",
       "      <td>1.000</td>\n",
       "      <td>0.0000</td>\n",
       "      <td>0.0000</td>\n",
       "      <td>0.0000</td>\n",
       "      <td>0.0000</td>\n",
       "      <td>2</td>\n",
       "    </tr>\n",
       "  </tbody>\n",
       "</table>\n",
       "<p>2483 rows × 9 columns</p>\n",
       "</div>"
      ],
      "text/plain": [
       "      Gtruth  Rscor_class0  Rscor_class1  Rscor_class2  Rscor_class3  \\\n",
       "0          6        0.0261           0.0         0.002        0.0000   \n",
       "1          6        0.0000           0.0         0.000        0.0000   \n",
       "2          3        0.0000           0.0         0.000        0.9865   \n",
       "3          3        0.0000           0.0         0.000        1.0000   \n",
       "4          6        0.0000           0.0         0.000        0.0000   \n",
       "...      ...           ...           ...           ...           ...   \n",
       "2478       3        0.0000           0.0         0.000        1.0000   \n",
       "2479       3        0.0000           0.0         0.000        0.9999   \n",
       "2480       3        0.0000           0.0         0.000        1.0000   \n",
       "2481       0        1.0000           0.0         0.000        0.0000   \n",
       "2482       2        0.0000           0.0         1.000        0.0000   \n",
       "\n",
       "      Rscor_class4  Rscor_class5  Rscor_class6  AlphaPred  \n",
       "0           0.9720        0.0000        0.0000          4  \n",
       "1           0.0000        0.0000        1.0000          6  \n",
       "2           0.0000        0.0135        0.0000          3  \n",
       "3           0.0000        0.0000        0.0000          3  \n",
       "4           0.9989        0.0000        0.0011          4  \n",
       "...            ...           ...           ...        ...  \n",
       "2478        0.0000        0.0000        0.0000          3  \n",
       "2479        0.0000        0.0000        0.0001          3  \n",
       "2480        0.0000        0.0000        0.0000          3  \n",
       "2481        0.0000        0.0000        0.0000          0  \n",
       "2482        0.0000        0.0000        0.0000          2  \n",
       "\n",
       "[2483 rows x 9 columns]"
      ]
     },
     "execution_count": 26,
     "metadata": {},
     "output_type": "execute_result"
    }
   ],
   "source": [
    "# convert raw scores in class prediction\n",
    "def select_class_alpha(Rscor_class0, Rscor_class1, Rscor_class2, Rscor_class3, \n",
    "                       Rscor_class4, Rscor_class5, Rscor_class6):\n",
    "    if Rscor_class0 >= 1. - alpha:\n",
    "        return 0\n",
    "    elif Rscor_class1 >= 1. - alpha:\n",
    "        return 1\n",
    "    elif Rscor_class2 >= 1. - alpha:\n",
    "        return 2\n",
    "    elif Rscor_class3 >= 1. - alpha:\n",
    "        return 3\n",
    "    elif Rscor_class4 >= 1. - alpha:\n",
    "        return 4\n",
    "    elif Rscor_class5 >= 1. - alpha:\n",
    "        return 5\n",
    "    elif Rscor_class6 >= 1. - alpha:\n",
    "        return 6\n",
    "    else:\n",
    "        return np.nan\n",
    "\n",
    "df_alpha_select['AlphaPred'] = df_alpha_select.apply(lambda x: select_class_alpha(\n",
    "                                    x.Rscor_class0, x.Rscor_class1, x.Rscor_class2, \n",
    "                                    x.Rscor_class3, x.Rscor_class4, \n",
    "                                    x.Rscor_class5, x.Rscor_class6), axis=1)\n",
    "df_alpha_select.reset_index(drop = True)#.head()"
   ]
  },
  {
   "cell_type": "code",
   "execution_count": 27,
   "id": "962ea02d",
   "metadata": {
    "scrolled": true
   },
   "outputs": [
    {
     "name": "stdout",
     "output_type": "stream",
     "text": [
      "With alpha = 0.95 we got an accuracy of 0.938 and we have discarded 240 beans\n"
     ]
    }
   ],
   "source": [
    "# percentage of well classifies ones\n",
    "acc_select = accuracy_score(np.array(df_alpha_select.Gtruth), np.array(df_alpha_select.AlphaPred))\n",
    "\n",
    "print('With alpha =', 1. - alpha,'we got an accuracy of', acc_select.round(3),'and we have discarded', \n",
    "      num_discarded_beans, 'beans')"
   ]
  },
  {
   "cell_type": "markdown",
   "id": "0665e546",
   "metadata": {},
   "source": [
    "Vemos entonces que nuestra primera idea era un poco ingenua. Al aplicarla hemos mejorado el anterior porcentaje de 90.2% pero solo hemos conseguido clasificar correctamente el 93.8% de las alubias y hemos tenido que descartar 240.\n",
    "\n",
    "Esto sucede porque hemos seleccionado las alubias con 'raw scores' por encima o iguales a 0.95 pero sin tener en cuenta su clase real, es decir, no hemos comprobado qué 'raw score' tenía la 'ground truth'. "
   ]
  },
  {
   "cell_type": "markdown",
   "id": "fd5cbf4d",
   "metadata": {},
   "source": [
    "Este es el dataframe con las 'features', la clase verdadera 'Gtruth', y la predicción para el conjunto de test que vamos a tomar como nuevas alubias:"
   ]
  },
  {
   "cell_type": "code",
   "execution_count": 28,
   "id": "d645b841",
   "metadata": {},
   "outputs": [
    {
     "data": {
      "text/html": [
       "<div>\n",
       "<style scoped>\n",
       "    .dataframe tbody tr th:only-of-type {\n",
       "        vertical-align: middle;\n",
       "    }\n",
       "\n",
       "    .dataframe tbody tr th {\n",
       "        vertical-align: top;\n",
       "    }\n",
       "\n",
       "    .dataframe thead th {\n",
       "        text-align: right;\n",
       "    }\n",
       "</style>\n",
       "<table border=\"1\" class=\"dataframe\">\n",
       "  <thead>\n",
       "    <tr style=\"text-align: right;\">\n",
       "      <th></th>\n",
       "      <th>GTruth</th>\n",
       "      <th>Pred</th>\n",
       "      <th>Area</th>\n",
       "      <th>Perimeter</th>\n",
       "      <th>MajorAxisLength</th>\n",
       "      <th>MinorAxisLength</th>\n",
       "      <th>ConvexArea</th>\n",
       "      <th>Extent</th>\n",
       "      <th>Solidity</th>\n",
       "      <th>roundness</th>\n",
       "      <th>ShapeFactor1</th>\n",
       "      <th>ShapeFactor2</th>\n",
       "      <th>ShapeFactor3</th>\n",
       "      <th>ShapeFactor4</th>\n",
       "      <th>GTruth</th>\n",
       "      <th>Pred</th>\n",
       "    </tr>\n",
       "  </thead>\n",
       "  <tbody>\n",
       "    <tr>\n",
       "      <th>0</th>\n",
       "      <td>6</td>\n",
       "      <td>4</td>\n",
       "      <td>0.156727</td>\n",
       "      <td>0.289187</td>\n",
       "      <td>0.469619</td>\n",
       "      <td>0.056864</td>\n",
       "      <td>0.158757</td>\n",
       "      <td>-1.472021</td>\n",
       "      <td>-0.362880</td>\n",
       "      <td>-0.206874</td>\n",
       "      <td>-0.276356</td>\n",
       "      <td>-0.812922</td>\n",
       "      <td>-0.792786</td>\n",
       "      <td>-0.178806</td>\n",
       "      <td>6</td>\n",
       "      <td>4</td>\n",
       "    </tr>\n",
       "    <tr>\n",
       "      <th>1</th>\n",
       "      <td>3</td>\n",
       "      <td>6</td>\n",
       "      <td>-0.467288</td>\n",
       "      <td>-0.545023</td>\n",
       "      <td>-0.467073</td>\n",
       "      <td>-0.514572</td>\n",
       "      <td>-0.470386</td>\n",
       "      <td>0.924790</td>\n",
       "      <td>0.508565</td>\n",
       "      <td>0.559789</td>\n",
       "      <td>0.492696</td>\n",
       "      <td>0.124453</td>\n",
       "      <td>-0.051893</td>\n",
       "      <td>0.761050</td>\n",
       "      <td>3</td>\n",
       "      <td>6</td>\n",
       "    </tr>\n",
       "    <tr>\n",
       "      <th>2</th>\n",
       "      <td>3</td>\n",
       "      <td>3</td>\n",
       "      <td>-0.516157</td>\n",
       "      <td>-0.627844</td>\n",
       "      <td>-0.599101</td>\n",
       "      <td>-0.486767</td>\n",
       "      <td>-0.518549</td>\n",
       "      <td>-0.025124</td>\n",
       "      <td>0.429971</td>\n",
       "      <td>0.736733</td>\n",
       "      <td>0.466703</td>\n",
       "      <td>0.396157</td>\n",
       "      <td>0.247350</td>\n",
       "      <td>0.115062</td>\n",
       "      <td>3</td>\n",
       "      <td>3</td>\n",
       "    </tr>\n",
       "    <tr>\n",
       "      <th>3</th>\n",
       "      <td>6</td>\n",
       "      <td>6</td>\n",
       "      <td>-0.305742</td>\n",
       "      <td>-0.221416</td>\n",
       "      <td>-0.090540</td>\n",
       "      <td>-0.491110</td>\n",
       "      <td>-0.299968</td>\n",
       "      <td>0.505140</td>\n",
       "      <td>-0.849600</td>\n",
       "      <td>-0.410448</td>\n",
       "      <td>0.463358</td>\n",
       "      <td>-0.452826</td>\n",
       "      <td>-0.691044</td>\n",
       "      <td>0.483760</td>\n",
       "      <td>6</td>\n",
       "      <td>6</td>\n",
       "    </tr>\n",
       "    <tr>\n",
       "      <th>4</th>\n",
       "      <td>3</td>\n",
       "      <td>3</td>\n",
       "      <td>-0.617988</td>\n",
       "      <td>-0.761051</td>\n",
       "      <td>-0.875928</td>\n",
       "      <td>-0.448765</td>\n",
       "      <td>-0.618201</td>\n",
       "      <td>0.955230</td>\n",
       "      <td>0.119268</td>\n",
       "      <td>0.718003</td>\n",
       "      <td>0.401957</td>\n",
       "      <td>1.102026</td>\n",
       "      <td>0.977599</td>\n",
       "      <td>0.325987</td>\n",
       "      <td>3</td>\n",
       "      <td>3</td>\n",
       "    </tr>\n",
       "    <tr>\n",
       "      <th>...</th>\n",
       "      <td>...</td>\n",
       "      <td>...</td>\n",
       "      <td>...</td>\n",
       "      <td>...</td>\n",
       "      <td>...</td>\n",
       "      <td>...</td>\n",
       "      <td>...</td>\n",
       "      <td>...</td>\n",
       "      <td>...</td>\n",
       "      <td>...</td>\n",
       "      <td>...</td>\n",
       "      <td>...</td>\n",
       "      <td>...</td>\n",
       "      <td>...</td>\n",
       "      <td>...</td>\n",
       "      <td>...</td>\n",
       "    </tr>\n",
       "    <tr>\n",
       "      <th>2718</th>\n",
       "      <td>3</td>\n",
       "      <td>3</td>\n",
       "      <td>-1.014162</td>\n",
       "      <td>-1.344750</td>\n",
       "      <td>-1.209686</td>\n",
       "      <td>-1.439046</td>\n",
       "      <td>-1.015362</td>\n",
       "      <td>1.163722</td>\n",
       "      <td>0.689404</td>\n",
       "      <td>0.629205</td>\n",
       "      <td>2.414548</td>\n",
       "      <td>0.976156</td>\n",
       "      <td>-0.103997</td>\n",
       "      <td>0.362046</td>\n",
       "      <td>3</td>\n",
       "      <td>3</td>\n",
       "    </tr>\n",
       "    <tr>\n",
       "      <th>2719</th>\n",
       "      <td>2</td>\n",
       "      <td>2</td>\n",
       "      <td>0.465324</td>\n",
       "      <td>0.607357</td>\n",
       "      <td>0.627435</td>\n",
       "      <td>0.567018</td>\n",
       "      <td>0.456535</td>\n",
       "      <td>1.193231</td>\n",
       "      <td>0.630967</td>\n",
       "      <td>-0.171796</td>\n",
       "      <td>-0.848624</td>\n",
       "      <td>-0.738658</td>\n",
       "      <td>-0.365763</td>\n",
       "      <td>0.463147</td>\n",
       "      <td>2</td>\n",
       "      <td>2</td>\n",
       "    </tr>\n",
       "    <tr>\n",
       "      <th>2720</th>\n",
       "      <td>6</td>\n",
       "      <td>3</td>\n",
       "      <td>-0.541461</td>\n",
       "      <td>-0.622915</td>\n",
       "      <td>-0.619251</td>\n",
       "      <td>-0.530782</td>\n",
       "      <td>-0.540616</td>\n",
       "      <td>1.026111</td>\n",
       "      <td>-0.094812</td>\n",
       "      <td>0.390981</td>\n",
       "      <td>0.550995</td>\n",
       "      <td>0.394742</td>\n",
       "      <td>0.201102</td>\n",
       "      <td>-0.405900</td>\n",
       "      <td>6</td>\n",
       "      <td>3</td>\n",
       "    </tr>\n",
       "    <tr>\n",
       "      <th>2721</th>\n",
       "      <td>0</td>\n",
       "      <td>0</td>\n",
       "      <td>0.526948</td>\n",
       "      <td>0.708677</td>\n",
       "      <td>0.224936</td>\n",
       "      <td>1.226325</td>\n",
       "      <td>0.528578</td>\n",
       "      <td>0.340245</td>\n",
       "      <td>-0.346855</td>\n",
       "      <td>-0.414116</td>\n",
       "      <td>-1.426134</td>\n",
       "      <td>0.060210</td>\n",
       "      <td>1.146309</td>\n",
       "      <td>0.725296</td>\n",
       "      <td>0</td>\n",
       "      <td>0</td>\n",
       "    </tr>\n",
       "    <tr>\n",
       "      <th>2722</th>\n",
       "      <td>2</td>\n",
       "      <td>2</td>\n",
       "      <td>1.093977</td>\n",
       "      <td>1.283130</td>\n",
       "      <td>1.445359</td>\n",
       "      <td>0.989239</td>\n",
       "      <td>1.099382</td>\n",
       "      <td>-0.238480</td>\n",
       "      <td>-0.649553</td>\n",
       "      <td>-0.602659</td>\n",
       "      <td>-1.195008</td>\n",
       "      <td>-1.247552</td>\n",
       "      <td>-0.947264</td>\n",
       "      <td>-1.317952</td>\n",
       "      <td>2</td>\n",
       "      <td>2</td>\n",
       "    </tr>\n",
       "  </tbody>\n",
       "</table>\n",
       "<p>2723 rows × 16 columns</p>\n",
       "</div>"
      ],
      "text/plain": [
       "      GTruth  Pred      Area  Perimeter  MajorAxisLength  MinorAxisLength  \\\n",
       "0          6     4  0.156727   0.289187         0.469619         0.056864   \n",
       "1          3     6 -0.467288  -0.545023        -0.467073        -0.514572   \n",
       "2          3     3 -0.516157  -0.627844        -0.599101        -0.486767   \n",
       "3          6     6 -0.305742  -0.221416        -0.090540        -0.491110   \n",
       "4          3     3 -0.617988  -0.761051        -0.875928        -0.448765   \n",
       "...      ...   ...       ...        ...              ...              ...   \n",
       "2718       3     3 -1.014162  -1.344750        -1.209686        -1.439046   \n",
       "2719       2     2  0.465324   0.607357         0.627435         0.567018   \n",
       "2720       6     3 -0.541461  -0.622915        -0.619251        -0.530782   \n",
       "2721       0     0  0.526948   0.708677         0.224936         1.226325   \n",
       "2722       2     2  1.093977   1.283130         1.445359         0.989239   \n",
       "\n",
       "      ConvexArea    Extent  Solidity  roundness  ShapeFactor1  ShapeFactor2  \\\n",
       "0       0.158757 -1.472021 -0.362880  -0.206874     -0.276356     -0.812922   \n",
       "1      -0.470386  0.924790  0.508565   0.559789      0.492696      0.124453   \n",
       "2      -0.518549 -0.025124  0.429971   0.736733      0.466703      0.396157   \n",
       "3      -0.299968  0.505140 -0.849600  -0.410448      0.463358     -0.452826   \n",
       "4      -0.618201  0.955230  0.119268   0.718003      0.401957      1.102026   \n",
       "...          ...       ...       ...        ...           ...           ...   \n",
       "2718   -1.015362  1.163722  0.689404   0.629205      2.414548      0.976156   \n",
       "2719    0.456535  1.193231  0.630967  -0.171796     -0.848624     -0.738658   \n",
       "2720   -0.540616  1.026111 -0.094812   0.390981      0.550995      0.394742   \n",
       "2721    0.528578  0.340245 -0.346855  -0.414116     -1.426134      0.060210   \n",
       "2722    1.099382 -0.238480 -0.649553  -0.602659     -1.195008     -1.247552   \n",
       "\n",
       "      ShapeFactor3  ShapeFactor4  GTruth  Pred  \n",
       "0        -0.792786     -0.178806       6     4  \n",
       "1        -0.051893      0.761050       3     6  \n",
       "2         0.247350      0.115062       3     3  \n",
       "3        -0.691044      0.483760       6     6  \n",
       "4         0.977599      0.325987       3     3  \n",
       "...            ...           ...     ...   ...  \n",
       "2718     -0.103997      0.362046       3     3  \n",
       "2719     -0.365763      0.463147       2     2  \n",
       "2720      0.201102     -0.405900       6     3  \n",
       "2721      1.146309      0.725296       0     0  \n",
       "2722     -0.947264     -1.317952       2     2  \n",
       "\n",
       "[2723 rows x 16 columns]"
      ]
     },
     "execution_count": 28,
     "metadata": {},
     "output_type": "execute_result"
    }
   ],
   "source": [
    "df_new = df_test\n",
    "df_new['GTruth'] = y_test\n",
    "df_new['Pred'] = y_pred\n",
    "# reorder columns just to see them better\n",
    "new_cols = ['GTruth', 'Pred'] \n",
    "new_cols = new_cols + df_test.columns.to_list()\n",
    "df_new = df_new[new_cols]\n",
    "df_new"
   ]
  },
  {
   "cell_type": "markdown",
   "id": "59efd365",
   "metadata": {},
   "source": [
    "Por ejemplo, tomemos una alubia del conjunto de test, vamos a ponerla como ejempo de una nueva alubia que queremos clasificar:"
   ]
  },
  {
   "cell_type": "code",
   "execution_count": 29,
   "id": "811e1a84",
   "metadata": {},
   "outputs": [
    {
     "name": "stdout",
     "output_type": "stream",
     "text": [
      "Predicted class 6\n",
      "True class 3\n",
      "with raw scores per class:\n"
     ]
    },
    {
     "data": {
      "text/plain": [
       "{'class 0': array([0.]),\n",
       " 'class 1': array([0.]),\n",
       " 'class 2': array([0.]),\n",
       " 'class 3': array([0.0558]),\n",
       " 'class 4': array([0.]),\n",
       " 'class 5': array([0.0001]),\n",
       " 'class 6': array([0.9441])}"
      ]
     },
     "execution_count": 29,
     "metadata": {},
     "output_type": "execute_result"
    }
   ],
   "source": [
    "n = 1\n",
    "\n",
    "print('Predicted class', y_pred[n])\n",
    "print('True class', y_test[n])\n",
    "print('with raw scores per class:')\n",
    "# raw scores of the predicted classes\n",
    "keys = ['class 0', 'class 1','class 2','class 3', 'class 4','class 5', 'class 6']\n",
    "dict(zip(keys, gnb.predict_proba(X_test[n].reshape(1, -1)).T.round(4)))"
   ]
  },
  {
   "cell_type": "markdown",
   "id": "7b4f8190",
   "metadata": {},
   "source": [
    "Vamos a probamos ahora otra idea, que va a terner en cuenta los valores verdaderos y se va a centrar en encontrar el umbral para que se cumpla la garantía de cobertura. Para ello nos va a proveer de un intervalo de predicción alredor del resultado y este intervalo sí va a contener a la clase verdadera con un 95% de probabilidad."
   ]
  },
  {
   "cell_type": "markdown",
   "id": "5a0fb828",
   "metadata": {},
   "source": [
    "<a name='uq-cp'/>"
   ]
  },
  {
   "cell_type": "markdown",
   "id": "93be5d38",
   "metadata": {},
   "source": [
    "### <font color=#ac6240>4.1 Conformal Predictors</font>"
   ]
  },
  {
   "cell_type": "markdown",
   "id": "6e9e5c1d",
   "metadata": {},
   "source": [
    "La ['Conformal Prediction'](https://en.wikipedia.org/wiki/Conformal_prediction) es un método para cuantizar la rareza de una predicción respecto al resto de valores de la variable de destino o 'target'. Recibe su nombre de la denominama medida de no conformidad, o 'nonconformity measure' que cuantiza cuán diferente es la  predicción dentro del conjunto de predicciones que obtuvimos al predecir el conjunto de entrenamiento. Una alta 'nonconformity' indica que el nuevo dato es raro, como le pájare en el ejemplo de la Introducción. Les cientifiques de datos que aplicamos la 'Conformal Prediction' nos llamamos 'nonconformists'.\n",
    "\n",
    "<font size=\"5\">😎<font/>"
   ]
  },
  {
   "cell_type": "markdown",
   "id": "cd21442f",
   "metadata": {},
   "source": [
    "La 'Conformal Prediction':\n",
    "\n",
    "+ funciona para cualquier modelo de aprendizaje automático,\n",
    "+ se aplica en el 'post-procesing' sobre las predicciones del modelo de aprendijaze automático ya entrenado,\n",
    "+ requiere pocas líneas de código y es rápida, \n",
    "+ funciona para datos recogidos en tiempo real, es decir, 'online assimilation',\n",
    "+ es 'model-agnostic' y ni siquiera necesita conocer al modelo de aprendizaje automático para el que está cuantizando la incertidumbre de sus predicciones,     \n",
    "+ ofrece una garantía de cobertura: los conjuntos de predicciones resultantes vienen con garantías de cubrir el resultado verdadero con una probabilidad determinada,\n",
    "+ a diferencia de los métodos paramétricos, no es necesario asumir que la variable de destino o 'target' está distribuida según una distribución normal, y \n",
    "\n",
    "de hecho, la unica condición es que las instancias sean [intercambiables](https://en.m.wikipedia.org/wiki/Exchangeable_random_variables), es decir, que el orden de los datos no importe, (como en nuestro caso, la alubias no tienen que estar ordenadas) lo cual es una restricción menos fuerte que la restricción que tienen todos los modelos de aprendizaje automático sobre que los datos han de ser independientes e estar idénticamente distributidos, o [iid](https://es.wikipedia.org/wiki/Variables_aleatorias_independientes_e_id%C3%A9nticamente_distribuidas). \n",
    "\n",
    "Así, la 'Conformal Prediction' nos cuantifica la incertidumbre en forma de intervalos de predicción, también llamados 'conformal intervals', que con la garantía de que el intevalo incluye la prediccion correcta con cierta probabilidad, lo cual se llama 'coverage guarantee'. Entonces, en lugar de obtener predicciones puntuales ('single-point predictions'), es decir, un número real en el caso de una regresión o la etiqueta de una clase en el caso de una clasificación, los resultados calibrados con 'Conformal prediction' nos dan un intervalo de números reales o un conjunto de etiquetas, respectivamente.\n",
    "    \n",
    "En ejemplo justo aquí debajo vemos que aplicando 'Conformal Prediction' a los resultados de un modelo de aprendizaje automático (una Deep Neural Network en PyTorch) para una clasificación de imágenes, vemos que éste:\n",
    "    \n",
    "+ no está muy seguro de si la primera foto era un osciloscopio, así que nos lo ofrece como primera opción en un intervalo con otras dos opciones, 'microondas' y 'portátil', \n",
    "+ tampoco está muy seguro de la foto central, de nuevo nos dió la respuesta correcta como primera opción pero el intervalo contiene también 'refrigerador' y ' lavadora', y\n",
    "+ está muy seguro de que en la foto de la derecha hay unx perre de raza 'Irish Setter' (seguro que ha visto muchos como ese, para el modelo no es para nada una imagen rara), y es la única opción del intervalo de resultados:"
   ]
  },
  {
   "cell_type": "markdown",
   "id": "1910d84b",
   "metadata": {},
   "source": [
    "![CP_example](./images/CP_4.png \"CP_example\")"
   ]
  },
  {
   "cell_type": "markdown",
   "id": "c36d8e43",
   "metadata": {},
   "source": [
    "[Fuente de la imagen: Google Colab de A. Angelopoulos desarrollador de MAPIE](https://colab.research.google.com/github/aangelopoulos/conformal_classification/blob/master/example.ipynb#scrollTo=oIiBD-pFVdkD)"
   ]
  },
  {
   "cell_type": "markdown",
   "id": "49acbc82",
   "metadata": {},
   "source": [
    "Recordamos que el intervalo de predicción que obtenemos con la 'Conformal Prediccion' no es un mero ranking de las 'raw scores' de cada clase si no una verdadera probabilidad con ganarantías estadísticas de que la verdadera clase está dentro de ese intervalo."
   ]
  },
  {
   "cell_type": "markdown",
   "id": "545f54a4",
   "metadata": {},
   "source": [
    "<font color=#6B8E23 size=\"4\"> Material adicional y referencias</font>\n",
    "\n",
    "<font color=#6B8E23 size=\"3\"> Cursos, charlas, y blogs\n",
    "\n",
    "+ El curso gratuito de Christoph Molnar (subscríbete [aquí](https://substack.com/sign-in?redirect=%2Faccount%3Futm_source%3Dsubstack%26utm_medium%3Demail&for_pub=mindfulmodeler&email=&with_password=&change_user=false&justTrying=)), el autor del maravilloso libro gratuito sobre XAI [_\"Interpretable Machine Learning\"_](https://christophm.github.io/interpretable-ml-book/), que recomendamos en el Jupyter Notebook `XAI.ipynb`, que ahora se ha pasado a la UQ y ha publicado un libro sobre Conformal Prediction [_\"Introduction To Conformal Prediction With Python. A Short Guide For Quantifying Uncertainty Of Machine Learning Models\"_](https://christophmolnar.com/books/conformal-prediction/) <font size=\"3\">♫♫🎈♫♫</font>.\n",
    "+ La maravillosa charla _\"Quantifying uncertainty in Machine Learning predictions\"_ de [Maria Navarro](https://youtu.be/r6bhm_A-YcQ).\n",
    "+ La charla sobre Conformal Predictors en el [curso sobre incertidumbre de la Universidad de Pennsylvania](https://uncertaintyclass.com/), este es el [vídeo](https://youtu.be/M3tkM4dcIPA).\n",
    "+ El blog de los creadores de los 'Conformal Predictors'  [Prof. Vladimir Vovk y Prof. Alex Gammerman](https://cml.rhul.ac.uk/cp.html).\n",
    "+ Este [kernel de Kaggle](https://www.kaggle.com/code/carlmcbrideellis/regression-prediction-intervals-with-mapie) que explica como usar los Conformal Predictors en una tarea de regresión.\n",
    "+ El repositorio ['Awesome Conformal Prediction'](https://github.com/valeman/awesome-conformal-prediction) y los artículos de Medium de Valeriy Manokhin del grupo de investigación que creó la 'Conformal Prediction'.\n",
    "    \n",
    "<font color=#6B8E23 size=\"3\"> Libros\n",
    "\n",
    "+ De nuevo el libro de Christoph Molnar [_\"Introduction To Conformal Prediction With Python. A Short Guide For Quantifying Uncertainty Of Machine Learning Models\"_](https://christophmolnar.com/books/conformal-prediction/).    \n",
    "+ El libro de Valeriy Manokhin [_\"Practical Guide to Applied Conformal Prediction in Python: Learn and apply the best uncertainty frameworks to your industry applications \"_](https://www.amazon.com/Practical-Guide-Applied-Conformal-Prediction/dp/1805122762) (enlace a Amazon, sorry, hasta ahora solo se encuentra ahí).\n",
    "\n",
    "<font color=#6B8E23 size=\"3\">Librerías</font>\n",
    "\n",
    "+ Los paquetes de Python, compatibles con Scikit-learn, que incluyen buenos tutoriales y que se pueden instalar fácilmente con `pip install`:\n",
    "    + [MAPIE](https://github.com/scikit-learn-contrib/MAPIE),\n",
    "    + [CREPES](https://github.com/henrikbostrom/crepes), \n",
    "    + [PUNCC](https://github.com/deel-ai/puncc),\n",
    "    + [TorchCP](https://github.com/ml-stat-Sustech/TorchCP) especialmente para Deep Learning, y\n",
    "    + [nonconformist](https://github.com/donlnz/nonconformist/blob/master/README.ipynb).\n",
    "+ Teoría y ejemplos en el repositorio [A. Angelopoulos](https://github.com/aangelopoulos/conformal-prediction), uno de los dos autores de [_\"A Gentle Introduction to Conformal Prediction and Distribution-Free Uncertainty Quantification_\"](https://arxiv.org/abs/2107.07511).\n",
    "+ El 'framework' de IBM [AIF360](https://github.com/Trusted-AI/AIF360/blob/master/examples/README.md) para mitigar sesgos y que también recomendamos en el Jupyter Notebook `XAI.ipynb`, incluye técnicas como la clasificación con opción de rechazo o 'Reject Option-based Classification' (ROC), también llamada 'Selective Prediction', un método que asume que el modelo de aprendizaje automático asignó 'raw scores' cercanas al valor del umbral de decisión a aquellas predicciones de las que estaba menos seguro, como por ejemplo, la de le perre que parecía un poco une gate en la foto central de las imágenes de la sección <a href=#project-description-intro>1.1 Introducción</a>) y las separa en una nueva clase, es decir, los resultados posibles son '0', '1', y 'no tengo ni idea'.\n",
    "+ El 'framework' de IBM [UQ360](https://uq360.mybluemix.net/) con muchos métodos de UQ e incluye [tutoriales](https://uq360.mybluemix.net/resources/tutorials) y una [guía de algoritmos y métricas](https://uq360.mybluemix.net/resources/guidance)."
   ]
  },
  {
   "cell_type": "markdown",
   "id": "601e051d",
   "metadata": {},
   "source": [
    "Seguimos los pasos del blog de [Christoph Molnar](https://mindfulmodeler.substack.com/p/week-1-getting-started-with-conformal) para darle garantía de cobertura a la clasificación de nuestras alubias. \n",
    "\n",
    "\n",
    "<font size=\"6\">🚀</font>"
   ]
  },
  {
   "cell_type": "code",
   "execution_count": 30,
   "id": "5b1e1008",
   "metadata": {},
   "outputs": [
    {
     "data": {
      "text/plain": [
       "0.9966"
      ]
     },
     "execution_count": 30,
     "metadata": {},
     "output_type": "execute_result"
    }
   ],
   "source": [
    "# predict the calibration set\n",
    "y_pred_cal = gnb.predict_proba(X_cal)\n",
    "\n",
    "# take the raw scores of the true class\n",
    "# try it:\n",
    "# a = np.arange(2)\n",
    "# b = y_cal[0:2] <-- clase verdadera\n",
    "# c = y_pred_cal[0:2,:] <-- clase predicha\n",
    "# c[a,b]  <-- va por c y si b es \"3\" pues coje de c el valor en la posicion 3\n",
    "rscor_true_class = y_pred_cal[np.arange(len(y_cal)),y_cal] \n",
    "\n",
    "# define a non conformity measure here we chose the HINGE LOSS probability of not predicting the true class\n",
    "S = 1. - rscor_true_class \n",
    "\n",
    "# find the (1 - alpha)-th quantile of S \n",
    "# given a vector V, the q-th quantile of V is the value q of the \n",
    "# way from the minimum to the maximum in a sorted copy of V\n",
    "small_sample = (len(y_cal)+1)/len(y_cal) # finite sample correction, i.e. (n+1)/n\n",
    "qhat = np.quantile(S, (1. - alpha)*small_sample) \n",
    "qhat.round(4)"
   ]
  },
  {
   "cell_type": "markdown",
   "id": "fa43d3ac",
   "metadata": {},
   "source": [
    "Tomemos una alubia de ejemplo"
   ]
  },
  {
   "cell_type": "code",
   "execution_count": 31,
   "id": "f13d39d8",
   "metadata": {},
   "outputs": [
    {
     "data": {
      "text/html": [
       "<div>\n",
       "<style scoped>\n",
       "    .dataframe tbody tr th:only-of-type {\n",
       "        vertical-align: middle;\n",
       "    }\n",
       "\n",
       "    .dataframe tbody tr th {\n",
       "        vertical-align: top;\n",
       "    }\n",
       "\n",
       "    .dataframe thead th {\n",
       "        text-align: right;\n",
       "    }\n",
       "</style>\n",
       "<table border=\"1\" class=\"dataframe\">\n",
       "  <thead>\n",
       "    <tr style=\"text-align: right;\">\n",
       "      <th></th>\n",
       "      <th>GTruth</th>\n",
       "      <th>Pred</th>\n",
       "      <th>Area</th>\n",
       "      <th>Perimeter</th>\n",
       "      <th>MajorAxisLength</th>\n",
       "      <th>MinorAxisLength</th>\n",
       "      <th>ConvexArea</th>\n",
       "      <th>Extent</th>\n",
       "      <th>Solidity</th>\n",
       "      <th>roundness</th>\n",
       "      <th>ShapeFactor1</th>\n",
       "      <th>ShapeFactor2</th>\n",
       "      <th>ShapeFactor3</th>\n",
       "      <th>ShapeFactor4</th>\n",
       "      <th>GTruth</th>\n",
       "      <th>Pred</th>\n",
       "    </tr>\n",
       "  </thead>\n",
       "  <tbody>\n",
       "    <tr>\n",
       "      <th>2718</th>\n",
       "      <td>3</td>\n",
       "      <td>3</td>\n",
       "      <td>-1.014162</td>\n",
       "      <td>-1.344750</td>\n",
       "      <td>-1.209686</td>\n",
       "      <td>-1.439046</td>\n",
       "      <td>-1.015362</td>\n",
       "      <td>1.163722</td>\n",
       "      <td>0.689404</td>\n",
       "      <td>0.629205</td>\n",
       "      <td>2.414548</td>\n",
       "      <td>0.976156</td>\n",
       "      <td>-0.103997</td>\n",
       "      <td>0.362046</td>\n",
       "      <td>3</td>\n",
       "      <td>3</td>\n",
       "    </tr>\n",
       "    <tr>\n",
       "      <th>2719</th>\n",
       "      <td>2</td>\n",
       "      <td>2</td>\n",
       "      <td>0.465324</td>\n",
       "      <td>0.607357</td>\n",
       "      <td>0.627435</td>\n",
       "      <td>0.567018</td>\n",
       "      <td>0.456535</td>\n",
       "      <td>1.193231</td>\n",
       "      <td>0.630967</td>\n",
       "      <td>-0.171796</td>\n",
       "      <td>-0.848624</td>\n",
       "      <td>-0.738658</td>\n",
       "      <td>-0.365763</td>\n",
       "      <td>0.463147</td>\n",
       "      <td>2</td>\n",
       "      <td>2</td>\n",
       "    </tr>\n",
       "    <tr>\n",
       "      <th>2720</th>\n",
       "      <td>6</td>\n",
       "      <td>3</td>\n",
       "      <td>-0.541461</td>\n",
       "      <td>-0.622915</td>\n",
       "      <td>-0.619251</td>\n",
       "      <td>-0.530782</td>\n",
       "      <td>-0.540616</td>\n",
       "      <td>1.026111</td>\n",
       "      <td>-0.094812</td>\n",
       "      <td>0.390981</td>\n",
       "      <td>0.550995</td>\n",
       "      <td>0.394742</td>\n",
       "      <td>0.201102</td>\n",
       "      <td>-0.405900</td>\n",
       "      <td>6</td>\n",
       "      <td>3</td>\n",
       "    </tr>\n",
       "    <tr>\n",
       "      <th>2721</th>\n",
       "      <td>0</td>\n",
       "      <td>0</td>\n",
       "      <td>0.526948</td>\n",
       "      <td>0.708677</td>\n",
       "      <td>0.224936</td>\n",
       "      <td>1.226325</td>\n",
       "      <td>0.528578</td>\n",
       "      <td>0.340245</td>\n",
       "      <td>-0.346855</td>\n",
       "      <td>-0.414116</td>\n",
       "      <td>-1.426134</td>\n",
       "      <td>0.060210</td>\n",
       "      <td>1.146309</td>\n",
       "      <td>0.725296</td>\n",
       "      <td>0</td>\n",
       "      <td>0</td>\n",
       "    </tr>\n",
       "    <tr>\n",
       "      <th>2722</th>\n",
       "      <td>2</td>\n",
       "      <td>2</td>\n",
       "      <td>1.093977</td>\n",
       "      <td>1.283130</td>\n",
       "      <td>1.445359</td>\n",
       "      <td>0.989239</td>\n",
       "      <td>1.099382</td>\n",
       "      <td>-0.238480</td>\n",
       "      <td>-0.649553</td>\n",
       "      <td>-0.602659</td>\n",
       "      <td>-1.195008</td>\n",
       "      <td>-1.247552</td>\n",
       "      <td>-0.947264</td>\n",
       "      <td>-1.317952</td>\n",
       "      <td>2</td>\n",
       "      <td>2</td>\n",
       "    </tr>\n",
       "  </tbody>\n",
       "</table>\n",
       "</div>"
      ],
      "text/plain": [
       "      GTruth  Pred      Area  Perimeter  MajorAxisLength  MinorAxisLength  \\\n",
       "2718       3     3 -1.014162  -1.344750        -1.209686        -1.439046   \n",
       "2719       2     2  0.465324   0.607357         0.627435         0.567018   \n",
       "2720       6     3 -0.541461  -0.622915        -0.619251        -0.530782   \n",
       "2721       0     0  0.526948   0.708677         0.224936         1.226325   \n",
       "2722       2     2  1.093977   1.283130         1.445359         0.989239   \n",
       "\n",
       "      ConvexArea    Extent  Solidity  roundness  ShapeFactor1  ShapeFactor2  \\\n",
       "2718   -1.015362  1.163722  0.689404   0.629205      2.414548      0.976156   \n",
       "2719    0.456535  1.193231  0.630967  -0.171796     -0.848624     -0.738658   \n",
       "2720   -0.540616  1.026111 -0.094812   0.390981      0.550995      0.394742   \n",
       "2721    0.528578  0.340245 -0.346855  -0.414116     -1.426134      0.060210   \n",
       "2722    1.099382 -0.238480 -0.649553  -0.602659     -1.195008     -1.247552   \n",
       "\n",
       "      ShapeFactor3  ShapeFactor4  GTruth  Pred  \n",
       "2718     -0.103997      0.362046       3     3  \n",
       "2719     -0.365763      0.463147       2     2  \n",
       "2720      0.201102     -0.405900       6     3  \n",
       "2721      1.146309      0.725296       0     0  \n",
       "2722     -0.947264     -1.317952       2     2  "
      ]
     },
     "execution_count": 31,
     "metadata": {},
     "output_type": "execute_result"
    }
   ],
   "source": [
    "df_new.tail()"
   ]
  },
  {
   "cell_type": "code",
   "execution_count": 32,
   "id": "ec63a3d1",
   "metadata": {},
   "outputs": [
    {
     "name": "stdout",
     "output_type": "stream",
     "text": [
      "Predicted class 6\n",
      "True class 3\n",
      "Prediction set:\n"
     ]
    },
    {
     "data": {
      "text/plain": [
       "array([[False, False, False,  True, False, False,  True]])"
      ]
     },
     "execution_count": 32,
     "metadata": {},
     "output_type": "execute_result"
    }
   ],
   "source": [
    "n = 1\n",
    "\n",
    "print('Predicted class', y_pred[n])\n",
    "print('True class', y_test[n])\n",
    "print('Prediction set:')\n",
    "prediction_sets = (1 - gnb.predict_proba(X_test[n].reshape(1, -1)) <= qhat) \n",
    "prediction_sets"
   ]
  },
  {
   "cell_type": "markdown",
   "id": "6eb3277a",
   "metadata": {},
   "source": [
    "El conjunto de predicción es entonces [3,6] que vemos que incluye la clase verdadera, la 3."
   ]
  },
  {
   "cell_type": "markdown",
   "id": "0ad099cf",
   "metadata": {},
   "source": [
    "Podemos usar el paquete 'MAPIE' sobre la misma alubia:"
   ]
  },
  {
   "cell_type": "code",
   "execution_count": 33,
   "id": "1f4faaeb",
   "metadata": {},
   "outputs": [
    {
     "data": {
      "text/html": [
       "<style>#sk-container-id-1 {color: black;}#sk-container-id-1 pre{padding: 0;}#sk-container-id-1 div.sk-toggleable {background-color: white;}#sk-container-id-1 label.sk-toggleable__label {cursor: pointer;display: block;width: 100%;margin-bottom: 0;padding: 0.3em;box-sizing: border-box;text-align: center;}#sk-container-id-1 label.sk-toggleable__label-arrow:before {content: \"▸\";float: left;margin-right: 0.25em;color: #696969;}#sk-container-id-1 label.sk-toggleable__label-arrow:hover:before {color: black;}#sk-container-id-1 div.sk-estimator:hover label.sk-toggleable__label-arrow:before {color: black;}#sk-container-id-1 div.sk-toggleable__content {max-height: 0;max-width: 0;overflow: hidden;text-align: left;background-color: #f0f8ff;}#sk-container-id-1 div.sk-toggleable__content pre {margin: 0.2em;color: black;border-radius: 0.25em;background-color: #f0f8ff;}#sk-container-id-1 input.sk-toggleable__control:checked~div.sk-toggleable__content {max-height: 200px;max-width: 100%;overflow: auto;}#sk-container-id-1 input.sk-toggleable__control:checked~label.sk-toggleable__label-arrow:before {content: \"▾\";}#sk-container-id-1 div.sk-estimator input.sk-toggleable__control:checked~label.sk-toggleable__label {background-color: #d4ebff;}#sk-container-id-1 div.sk-label input.sk-toggleable__control:checked~label.sk-toggleable__label {background-color: #d4ebff;}#sk-container-id-1 input.sk-hidden--visually {border: 0;clip: rect(1px 1px 1px 1px);clip: rect(1px, 1px, 1px, 1px);height: 1px;margin: -1px;overflow: hidden;padding: 0;position: absolute;width: 1px;}#sk-container-id-1 div.sk-estimator {font-family: monospace;background-color: #f0f8ff;border: 1px dotted black;border-radius: 0.25em;box-sizing: border-box;margin-bottom: 0.5em;}#sk-container-id-1 div.sk-estimator:hover {background-color: #d4ebff;}#sk-container-id-1 div.sk-parallel-item::after {content: \"\";width: 100%;border-bottom: 1px solid gray;flex-grow: 1;}#sk-container-id-1 div.sk-label:hover label.sk-toggleable__label {background-color: #d4ebff;}#sk-container-id-1 div.sk-serial::before {content: \"\";position: absolute;border-left: 1px solid gray;box-sizing: border-box;top: 0;bottom: 0;left: 50%;z-index: 0;}#sk-container-id-1 div.sk-serial {display: flex;flex-direction: column;align-items: center;background-color: white;padding-right: 0.2em;padding-left: 0.2em;position: relative;}#sk-container-id-1 div.sk-item {position: relative;z-index: 1;}#sk-container-id-1 div.sk-parallel {display: flex;align-items: stretch;justify-content: center;background-color: white;position: relative;}#sk-container-id-1 div.sk-item::before, #sk-container-id-1 div.sk-parallel-item::before {content: \"\";position: absolute;border-left: 1px solid gray;box-sizing: border-box;top: 0;bottom: 0;left: 50%;z-index: -1;}#sk-container-id-1 div.sk-parallel-item {display: flex;flex-direction: column;z-index: 1;position: relative;background-color: white;}#sk-container-id-1 div.sk-parallel-item:first-child::after {align-self: flex-end;width: 50%;}#sk-container-id-1 div.sk-parallel-item:last-child::after {align-self: flex-start;width: 50%;}#sk-container-id-1 div.sk-parallel-item:only-child::after {width: 0;}#sk-container-id-1 div.sk-dashed-wrapped {border: 1px dashed gray;margin: 0 0.4em 0.5em 0.4em;box-sizing: border-box;padding-bottom: 0.4em;background-color: white;}#sk-container-id-1 div.sk-label label {font-family: monospace;font-weight: bold;display: inline-block;line-height: 1.2em;}#sk-container-id-1 div.sk-label-container {text-align: center;}#sk-container-id-1 div.sk-container {/* jupyter's `normalize.less` sets `[hidden] { display: none; }` but bootstrap.min.css set `[hidden] { display: none !important; }` so we also need the `!important` here to be able to override the default hidden behavior on the sphinx rendered scikit-learn.org. See: https://github.com/scikit-learn/scikit-learn/issues/21755 */display: inline-block !important;position: relative;}#sk-container-id-1 div.sk-text-repr-fallback {display: none;}</style><div id=\"sk-container-id-1\" class=\"sk-top-container\"><div class=\"sk-text-repr-fallback\"><pre>MapieClassifier(cv=&#x27;prefit&#x27;, estimator=GaussianNB(), method=&#x27;score&#x27;)</pre><b>In a Jupyter environment, please rerun this cell to show the HTML representation or trust the notebook. <br />On GitHub, the HTML representation is unable to render, please try loading this page with nbviewer.org.</b></div><div class=\"sk-container\" hidden><div class=\"sk-item sk-dashed-wrapped\"><div class=\"sk-label-container\"><div class=\"sk-label sk-toggleable\"><input class=\"sk-toggleable__control sk-hidden--visually\" id=\"sk-estimator-id-1\" type=\"checkbox\" ><label for=\"sk-estimator-id-1\" class=\"sk-toggleable__label sk-toggleable__label-arrow\">MapieClassifier</label><div class=\"sk-toggleable__content\"><pre>MapieClassifier(cv=&#x27;prefit&#x27;, estimator=GaussianNB(), method=&#x27;score&#x27;)</pre></div></div></div><div class=\"sk-parallel\"><div class=\"sk-parallel-item\"><div class=\"sk-item\"><div class=\"sk-label-container\"><div class=\"sk-label sk-toggleable\"><input class=\"sk-toggleable__control sk-hidden--visually\" id=\"sk-estimator-id-2\" type=\"checkbox\" ><label for=\"sk-estimator-id-2\" class=\"sk-toggleable__label sk-toggleable__label-arrow\">estimator: GaussianNB</label><div class=\"sk-toggleable__content\"><pre>GaussianNB()</pre></div></div></div><div class=\"sk-serial\"><div class=\"sk-item\"><div class=\"sk-estimator sk-toggleable\"><input class=\"sk-toggleable__control sk-hidden--visually\" id=\"sk-estimator-id-3\" type=\"checkbox\" ><label for=\"sk-estimator-id-3\" class=\"sk-toggleable__label sk-toggleable__label-arrow\">GaussianNB</label><div class=\"sk-toggleable__content\"><pre>GaussianNB()</pre></div></div></div></div></div></div></div></div></div></div>"
      ],
      "text/plain": [
       "MapieClassifier(cv='prefit', estimator=GaussianNB(), method='score')"
      ]
     },
     "execution_count": 33,
     "metadata": {},
     "output_type": "execute_result"
    }
   ],
   "source": [
    "# fit the CP with the calibration set\n",
    "cp = MapieClassifier(estimator = gnb, cv=\"prefit\",  method=\"score\") # prefit bcs we use the previous gnb\n",
    "cp.fit(X_cal, y_cal)"
   ]
  },
  {
   "cell_type": "code",
   "execution_count": 34,
   "id": "fa84d5d5",
   "metadata": {},
   "outputs": [
    {
     "name": "stdout",
     "output_type": "stream",
     "text": [
      "Predicted class [6]\n",
      "True class 3\n",
      "Prediction set:\n",
      "[[[False]\n",
      "  [False]\n",
      "  [False]\n",
      "  [ True]\n",
      "  [False]\n",
      "  [False]\n",
      "  [ True]]]\n"
     ]
    }
   ],
   "source": [
    "# apply to the new bean\n",
    "n = 1\n",
    "\n",
    "y_pred, y_set = cp.predict(X_test[n].reshape(1, -1), alpha=alpha) # y_pred is equal to the previous y_pred from gnb\n",
    "\n",
    "print('Predicted class', y_pred)\n",
    "print('True class', y_test[n])\n",
    "print('Prediction set:')\n",
    "print(y_set)"
   ]
  },
  {
   "cell_type": "markdown",
   "id": "a85a5a6c",
   "metadata": {},
   "source": [
    "La predicción sigue siendo la clase 6, lo cual es incorrecto, sabemos que la nueva alubia es clase 3, pero ahora al conformalizar la predicción obtenemos un intervalo de predicción ('prediction interval') en forma de conjunto de predicciones ('prediction set') el cual contiene a la clase verdadera un 95% de las veces. El conjunto de predicción es entonces [3,6] que vemos que incluye la clase verdadera, la 3."
   ]
  },
  {
   "cell_type": "code",
   "execution_count": 35,
   "id": "cdccfa4c",
   "metadata": {},
   "outputs": [
    {
     "name": "stdout",
     "output_type": "stream",
     "text": [
      "Predicted class [4]\n",
      "True class 6\n",
      "Prediction set:\n",
      "[[[ True]\n",
      "  [False]\n",
      "  [False]\n",
      "  [False]\n",
      "  [ True]\n",
      "  [False]\n",
      "  [False]]]\n"
     ]
    }
   ],
   "source": [
    "# apply to another new bean\n",
    "n = 0\n",
    "\n",
    "y_pred, y_set = cp.predict(X_test[n].reshape(1, -1), alpha=alpha) # same y_pred as the one we got for gnb\n",
    "\n",
    "print('Predicted class', y_pred_cal)\n",
    "print('True class', y_test[n])\n",
    "print('Prediction set:')\n",
    "print(y_set)"
   ]
  },
  {
   "cell_type": "markdown",
   "id": "d54090a8",
   "metadata": {},
   "source": [
    "y el 'prediction set' es [0,4] que no incluye a la clase verdadera. Recordemos que la confianza nunca es del 100% porque para ello cada 'prediction set' sería el conjunto completo, es decir, todas las clases, y el resultado no sería para nada informativo."
   ]
  },
  {
   "cell_type": "code",
   "execution_count": 36,
   "id": "8604c003",
   "metadata": {},
   "outputs": [
    {
     "name": "stdout",
     "output_type": "stream",
     "text": [
      "Predicted class [3]\n",
      "True class 6\n",
      "Prediction set:\n",
      "[[[False]\n",
      "  [False]\n",
      "  [False]\n",
      "  [ True]\n",
      "  [False]\n",
      "  [False]\n",
      "  [ True]]]\n"
     ]
    }
   ],
   "source": [
    "# apply to another new bean\n",
    "n = 2720\n",
    "\n",
    "y_pred, y_set = cp.predict(X_test[n].reshape(1, -1), alpha=alpha) # same y_pred as the one we got with gnb\n",
    "\n",
    "print('Predicted class', y_pred)\n",
    "print('True class', y_test[n])\n",
    "print('Prediction set:')].\n",
    "print(y_set)"
   ]
  },
  {
   "cell_type": "code",
   "execution_count": 57,
   "id": "d792decf",
   "metadata": {},
   "outputs": [
    {
     "name": "stdout",
     "output_type": "stream",
     "text": [
      "Predicted class [3]\n",
      "True class 6\n",
      "Prediction set:\n",
      "[[[False]\n",
      "  [False]\n",
      "  [False]\n",
      "  [ True]\n",
      "  [False]\n",
      "  [ True]\n",
      "  [ True]]]\n"
     ]
    }
   ],
   "source": [
    "n = 2622\n",
    "\n",
    "y_pred, y_set = cp.predict(X_test[n].reshape(1, -1), alpha=alpha) # same y_pred as the one we got with gnb\n",
    "\n",
    "print('Predicted class', y_pred)\n",
    "print('True class', y_test[n])\n",
    "print('Prediction set:')\n",
    "print(y_set)"
   ]
  },
  {
   "cell_type": "markdown",
   "id": "71e7b8bd",
   "metadata": {},
   "source": [
    "El modelo no está muy seguro de la predicción de la clase de esta alubia, el conjunto de clasificación contiene 3 clases, es ancho: [3,5,6]. Si el intervalo de predicción es grande, esa predicciones tiene incerticumbre. En aplicaciones reales, puede ser preferible esa inversión en tiempo humano en lugar de asumir las clasificaciones incorrectas. Con los CP identificamos las clasificaciones inciertas, si implementamos un protocolo de 'fallback' para estos casos, el programa nos dirá 'no puedo predecir, no tengo ni idea' y una persona se encargará de clasificar estas instancias. Veamos cuáles fueron sus 'raw scores':"
   ]
  },
  {
   "cell_type": "code",
   "execution_count": 60,
   "id": "03fa14dc",
   "metadata": {},
   "outputs": [
    {
     "name": "stdout",
     "output_type": "stream",
     "text": [
      "Raw scores per class:\n"
     ]
    },
    {
     "data": {
      "text/plain": [
       "{'class 0': array([0.]),\n",
       " 'class 1': array([0.]),\n",
       " 'class 2': array([0.]),\n",
       " 'class 3': array([0.4253]),\n",
       " 'class 4': array([0.]),\n",
       " 'class 5': array([0.3723]),\n",
       " 'class 6': array([0.2025])}"
      ]
     },
     "execution_count": 60,
     "metadata": {},
     "output_type": "execute_result"
    }
   ],
   "source": [
    "print('Raw scores per class:')\n",
    "# raw scores of the predicted classes\n",
    "keys = ['class 0', 'class 1','class 2','class 3', 'class 4','class 5', 'class 6']\n",
    "dict(zip(keys, gnb.predict_proba(X_test[n].reshape(1, -1)).T.round(4)))"
   ]
  },
  {
   "cell_type": "markdown",
   "id": "8167f778",
   "metadata": {},
   "source": [
    "Si no utilizamos herramientas de cuantificación de incertidumbre, nos quedamos con que el resultado es la clase 3 con la misma confianza que nos da un resultado de una alubia bien clasificada porque sin conjuntos de predicción no habríamos podido distinguirlo."
   ]
  },
  {
   "cell_type": "markdown",
   "id": "ee32db5c",
   "metadata": {},
   "source": [
    "Como último ejemplo, veamos qué conjunto de predicción tiene una alubia bien clasificada:"
   ]
  },
  {
   "cell_type": "code",
   "execution_count": 37,
   "id": "efd63f0f",
   "metadata": {},
   "outputs": [
    {
     "name": "stdout",
     "output_type": "stream",
     "text": [
      "Predicted class [3]\n",
      "True class 3\n",
      "Prediction set:\n",
      "[[[False]\n",
      "  [False]\n",
      "  [False]\n",
      "  [ True]\n",
      "  [False]\n",
      "  [False]\n",
      "  [False]]]\n"
     ]
    }
   ],
   "source": [
    "# apply to another new bean, a well classified one\n",
    "n = 30\n",
    "\n",
    "y_pred, y_set = cp.predict(X_test[n].reshape(1, -1), alpha=alpha) # y_pred is equal to the previous y_pred\n",
    "\n",
    "print('Predicted class', y_pred)\n",
    "print('True class', y_test[n])\n",
    "print('Prediction set:')\n",
    "print(y_set)"
   ]
  },
  {
   "cell_type": "markdown",
   "id": "12925024",
   "metadata": {},
   "source": [
    "El conjunto de predicción solo incluye una clase, la verdadera. Un conjunto de predicción pequeño indica que hay confianza en el resultado. "
   ]
  },
  {
   "cell_type": "markdown",
   "id": "8eafeccc",
   "metadata": {},
   "source": [
    "Vamos a comprobar la cobertura de los conjuntos de predicción, es decir, vamos a ver cuántas veces recogieron de verdad la clase correcta. Usamos la métrica `classification_coverage_score` de [MAPIE](https://mapie.readthedocs.io/en/latest/examples_classification/4-tutorials/plot_main-tutorial-binary-classification.html?highlight=accuracy#conformal-prediction-method-using-the-softmax-score-of-the-true-label) que calcula la cobertura como la 'accuracy'. La comparamos con la 'accuracy' que obtuvimos en la primera idea naive."
   ]
  },
  {
   "cell_type": "code",
   "execution_count": 108,
   "id": "38396f30",
   "metadata": {},
   "outputs": [
    {
     "name": "stdout",
     "output_type": "stream",
     "text": [
      "CP approach: with alpha = 0.95 we got an accuracy of 0.962 and we have discarded 0 beans\n"
     ]
    }
   ],
   "source": [
    "# prediction sets for all the beans\n",
    "y_pred, y_set = cp.predict(X_test, alpha=alpha) # same y_pred as the one we got with gnb\n",
    "\n",
    "# metric to get the accuracy = coverage\n",
    "cp_acc = classification_coverage_score(y_test, y_set[:, :, 0])\n",
    "\n",
    "print('CP approach: with alpha =', 1. - alpha,'we got an accuracy of', round(cp_acc, 3),'and we have discarded 0 beans')"
   ]
  },
  {
   "cell_type": "code",
   "execution_count": 107,
   "id": "2f0e4953",
   "metadata": {},
   "outputs": [
    {
     "name": "stdout",
     "output_type": "stream",
     "text": [
      "Naive approach: with alpha = 0.95 we got an accuracy of 0.938 and we have discarded 240 beans\n"
     ]
    }
   ],
   "source": [
    "# percentage of well classifies ones from the naive approach we explained at the beginning of the section\n",
    "acc_select = accuracy_score(np.array(df_alpha_select.Gtruth), np.array(df_alpha_select.AlphaPred))\n",
    "print('Naive approach: with alpha =', 1. - alpha,'we got an accuracy of', acc_select.round(3),'and we have discarded', \n",
    "      num_discarded_beans, 'beans')"
   ]
  },
  {
   "cell_type": "markdown",
   "id": "5a698989",
   "metadata": {},
   "source": [
    "Vemos que ahora ya obtenemos de sobra la cobertura desdeada sin deaprovechar ninguna alubia."
   ]
  },
  {
   "cell_type": "markdown",
   "id": "db9aed0a",
   "metadata": {},
   "source": [
    "<font size=\"5\"> 🥳 </font>"
   ]
  },
  {
   "cell_type": "markdown",
   "id": "75570e5d",
   "metadata": {},
   "source": [
    "<a href=#toc>Subir a Tabla de Contenidos</a><br>"
   ]
  },
  {
   "cell_type": "markdown",
   "id": "049ba322",
   "metadata": {},
   "source": [
    "<a name='uq-end'/>"
   ]
  },
  {
   "cell_type": "markdown",
   "id": "cf631676",
   "metadata": {},
   "source": [
    "### <font color=#ac6240>5. Conclusión sobre la cuantificación de incertidumbre</font>"
   ]
  },
  {
   "cell_type": "markdown",
   "id": "0b1bddb1",
   "metadata": {},
   "source": [
    "Con los métodos de UQ hemos visto que podemos identificar aquellas clasificaciones inciertas y dar un conjunto de predicción que nos asegura contener la clase correcta un (1-alpha)% de las veces. \n",
    "\n",
    "Vemos que son métodos fáciles de implementar y rápidos, y nos proporcionan certudumbre en las predicciones. Aquí lo hemos aplicado a una tarea de clasificación pero los CP pueden aplicarse a cualquier tipo de tarea."
   ]
  },
  {
   "cell_type": "markdown",
   "id": "ebc656b4",
   "metadata": {},
   "source": [
    "\n",
    "<font size=\"5\">🎈♫♫🎈🎈♫🎈♫♫♫♫🎈🎈 ♫♫♫ 🎈🎈</font>"
   ]
  },
  {
   "cell_type": "markdown",
   "id": "50717bab",
   "metadata": {},
   "source": [
    "<a href=#toc>Subir a Tabla de Contenidos</a><br>"
   ]
  },
  {
   "cell_type": "markdown",
   "id": "c8010c75",
   "metadata": {},
   "source": [
    "Ya no queda tiempo para más, nos vemos en el próximo taller. "
   ]
  },
  {
   "cell_type": "markdown",
   "id": "46f35dd0",
   "metadata": {},
   "source": [
    "<font size=\"5\">☀️⛱️ </font> Buen trabajo y hasta pronto!\n",
    "\n"
   ]
  },
  {
   "cell_type": "code",
   "execution_count": null,
   "id": "69b5a58f",
   "metadata": {},
   "outputs": [],
   "source": []
  }
 ],
 "metadata": {
  "kernelspec": {
   "display_name": "Python 3 (ipykernel)",
   "language": "python",
   "name": "python3"
  },
  "language_info": {
   "codemirror_mode": {
    "name": "ipython",
    "version": 3
   },
   "file_extension": ".py",
   "mimetype": "text/x-python",
   "name": "python",
   "nbconvert_exporter": "python",
   "pygments_lexer": "ipython3",
   "version": "3.11.5"
  },
  "nbTranslate": {
   "displayLangs": [
    "es"
   ],
   "hotkey": "alt-t",
   "langInMainMenu": true,
   "sourceLang": "en",
   "targetLang": "es",
   "useGoogleTranslate": true
  }
 },
 "nbformat": 4,
 "nbformat_minor": 5
}
