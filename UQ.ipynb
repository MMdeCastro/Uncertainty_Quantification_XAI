{
 "cells": [
  {
   "cell_type": "markdown",
   "id": "6113ef90",
   "metadata": {},
   "source": [
    "![banner](./images/banner.png \"banner\")"
   ]
  },
  {
   "cell_type": "markdown",
   "id": "f8e88f89",
   "metadata": {},
   "source": [
    "[Fuente de la imagen](https://unsplash.com/photos/Hcfwew744z4)\n",
    "<a name='toc' />"
   ]
  },
  {
   "cell_type": "markdown",
   "id": "c4a5a1bb",
   "metadata": {},
   "source": [
    "# <font color=#ac6240>Cuantificación de la incertidumbre en la predicción de fallo cardíaco con aprendizaje automático supervisado</font>"
   ]
  },
  {
   "cell_type": "markdown",
   "id": "30c022a3",
   "metadata": {},
   "source": [
    "### <font color=#ac6240>Tabla de Contenidos</font>"
   ]
  },
  {
   "cell_type": "markdown",
   "id": "b5121342",
   "metadata": {
    "lang": "es"
   },
   "source": [
    "<a href=#pre>Requisitos previos</a><br>\n",
    "1. <a href=#project-description>Descripción del proyecto</a><br>\n",
    "    1.1 <a href=#project-description-intro>Introducción</a><br>\n",
    "    1.2 <a href=#project-description-goal>Objetivo</a><br>\n",
    "    1.3 <a href=#project-description-data>Datos y modelo de aprendizaje automático</a><br>\n",
    "    1.4 <a href=#project-description-software>Software</a><br>\n",
    "2. <a href=#prep>Preparación de los datos</a><br>\n",
    "    2.1 <a href=#prep-clean> Limpieza de los datos</a><br>\n",
    "    2.2 <a href=#prep-split> Division de los datos en conjuntos de datos de entrenamiento, validación y prueba</a><br>\n",
    "    2.3 <a href=#prep-encoding> Codificación y normalización de las 'features'</a><br>\n",
    "3. <a href=#model-ml>Aplicación del modelo de aprendizaje automático: Bosque Aleatorio</a><br>\n",
    "    3.1 <a href=#model-metric> Selección de la métrica y del umbral de decisión </a><br>\n",
    "    3.2 <a href=#model-RF> Entrenamiento, prueba, y aplicación del bosque aleatorio </a><br>\n",
    "4. <a href=#app-uq>Cuantificación de incertidumbre</a><br>\n",
    "    4.1 <a href=#uq-cp> Conformal Predictors </a><br>\n",
    "    4.2 <a href=#uq-others> Otros métodos de UQ para aprendizaje supervisado </a><br>\n",
    "    4.3 <a href=#miscelanea> Miscelánea </a><br>\n",
    "    \n",
    "5. <a href=#uq-end>Conclusión sobre la cuantificación de incertidumbre</a><br>"
   ]
  },
  {
   "cell_type": "markdown",
   "id": "aaa782be",
   "metadata": {},
   "source": [
    "Antes de nada, me gustaría agradecer a les expertes [Maria Navarro](https://www.linkedin.com/in/maria-navarro-jimenez/) y a [Valeriy Manokhin](https://www.linkedin.com/in/valeriy-manokhin-phd-mba-cqf-704731236/) su inestimable ayuda en la elaboracion de este Jupyer Notebook. Podéis encontrar las referencias a sus trabajos acreditadas a lo largo de este taller.\n",
    "\n",
    "<font size=\"5\">😊 </font>"
   ]
  },
  {
   "cell_type": "markdown",
   "id": "487389a0",
   "metadata": {},
   "source": [
    "<a name='pre'/>"
   ]
  },
  {
   "cell_type": "markdown",
   "id": "2b570187",
   "metadata": {},
   "source": [
    "## <font color=#ac6240>Requisitos previos</font>"
   ]
  },
  {
   "cell_type": "markdown",
   "id": "f2765775",
   "metadata": {
    "lang": "es"
   },
   "source": [
    "Este Jupyter Notebook puede recorrerse de manera independiente aunque es la continuación de los Jupyter Notebooks de [este repositorio](https://github.com/MMdeCastro/Uncertainty_Quantification_XAI):\n",
    "+ `Exploration_and_Classification.ipynb` donde explicamos cómo explorar exhaustivamente los datos de pacientes que sufrieron o no fallo cardíaco y cómo evaluar la calidad de un modelo de aprendizaje automático supervisado con métricas de rendimiento; elegimos el modelo que mejor se comportaba para este proyecto de predicción de fallo cardíaco y era un bosque aleatorio, y\n",
    "+ `XAI.ipynb` donde aplicamos varios métodos de explicabilidad sobre las predicciones de ese bosque aleatorio para entender en qué se fijó el modelo para clasificar a les pacientes."
   ]
  },
  {
   "cell_type": "markdown",
   "id": "9be3f2b8",
   "metadata": {},
   "source": [
    "<font size=\"5\"> 👍🤓</font>"
   ]
  },
  {
   "cell_type": "markdown",
   "id": "a6814bca",
   "metadata": {},
   "source": [
    "<a name='project-description'/>"
   ]
  },
  {
   "cell_type": "markdown",
   "id": "feb5b1b4",
   "metadata": {
    "lang": "es"
   },
   "source": [
    "##  <font color=#ac6240>1. Descripción del proyecto</font>"
   ]
  },
  {
   "cell_type": "markdown",
   "id": "1cd0f062",
   "metadata": {},
   "source": [
    "<a name='project-description-intro'/>"
   ]
  },
  {
   "cell_type": "markdown",
   "id": "2feaa428",
   "metadata": {},
   "source": [
    "### <font color=#ac6240>1.1 Introducción</font>"
   ]
  },
  {
   "cell_type": "markdown",
   "id": "63cecda5",
   "metadata": {},
   "source": [
    "Estamos acostumbrades a modelos de aprendizaje automático que nos devuelven una predicción en forma de un único valor puntual ('single-value prediction'). Estos modelos no tienen ninguna manera de manifestar si están muy seguros o no de lo que predicen, por ejemplo, proporcionando una distribución o rango de resultados razonables, para que podamos representar la predicción con unas 'barras de error' en lugar de con un solo punto. \n",
    "\n",
    "La falta de información sobre la certeza que tiene un modelo sobre los resultados que arroja es especialmente problemático cuando:\n",
    "+ el modelo no es interpretable, es una 'black box' o caja opaca, (explicamos estos conceptos en el Jupyter Notebook anterior `XAI.ipynb`), o\n",
    "+ pedimos al modelo que prediga un resultado sobre una instancia anómala ('outlier') que no se parece a los datos históricos con los que ese modelo fue entrenado, algo relacionado con el fenómeno denominado ['drift'](https://en.wikipedia.org/wiki/Drift_(data_science)) (más info sobre la definición de 'deriva' o desplazamiento 'shift' y sus diferentes tipos, [aquí](https://analyticsindiamag.com/concept-drift-vs-data-drift-in-machine-learning/)), lo cual es indeseado y puede pasar fácilmente desapercibido. \n",
    "\n",
    "Por último remarcar que medir la certeza de las predicciones es especialmente útil en aplicaciones sensibles o de riesgo donde desarrollar algoritmos robustos y confiables es esencial. Según el acta reguladora de la inteligencia artificial de la Unión Europea, [The AI Act](https://artificialintelligenceact.eu/the-act/):\n",
    "\n",
    "    \"The purpose of this Regulation is to improve the functioning of the internal market and promoting the uptake of human centric and trustworthy artificial intelligence\"."
   ]
  },
  {
   "cell_type": "markdown",
   "id": "725b1254",
   "metadata": {},
   "source": [
    "Como ejemplo sencillo, supongamos que entrenamos una red neuronal artificial (que no es interpretable) con imágenes de perres y gates con la tarea de distinguir entre perres y gates. Digamos que el umbral de decisión es tal que las instancias, es decir, las fotos, cuya 'raw score' sea mayor de 0.5 serán clasificadas como gates y el resto como perres, como en una típica clasificación binaria. Supongamos además que conseguimos que la red neuronal artificial tenga un rendimiento excelente sobre los datos de validación y testado, puede que incluso tenga un 99.5% en 'accuracy' sobre ambos conjuntos. Ahora, aplicamos la red y le pedimos que clasifique estas fotos:"
   ]
  },
  {
   "cell_type": "markdown",
   "id": "d51b77bf",
   "metadata": {},
   "source": [
    "![cat_dog_bird](./images/cat_dog_bird.png \"cat_dog_bird\")"
   ]
  },
  {
   "cell_type": "markdown",
   "id": "38c7649a",
   "metadata": {},
   "source": [
    "[Fuente de la imagen: _\"Are you sure about that?! Uncertainty Quantification in AI\"_](https://florianwilhelm.info/2019/10/uncertainty_quantification_in_ai/)"
   ]
  },
  {
   "cell_type": "markdown",
   "id": "e1c7b4de",
   "metadata": {},
   "source": [
    "Y vemos que ocurre lo siguiente:\n",
    "+ para la foto de la izquierda nos da una 'raw score' de 0.9, así que predice correctamente que es la imagen de une gate,\n",
    "+ para la foto del centro obtenemos una 'raw score' de 0.5, y a la vista de la imagen _interpretamos_ que a la red le costó darnos una clasificación correcta (nos la dió por los pelos) y que _obviamente_ no está _tan segura_ porque le perre de la imagen parece un poco une gate, pero...\n",
    "\n",
    "¿y si le pedimos que clasifique la figura de la derecha? Cualquier cosa puede pasar, nos puede dar una 'raw score' por encima o por debajo de 0.5 o exactamente 0.5, pero en cualquier caso, sabemos que no es fiable. Y la cuestión es que **el modelo de aprendizaje automático no nos podría decir 'hey, no tengo ni idea' porque las 'raw scores' no muestran certidumbre**, a pesar de lo que todes hemos erróneamente interpretado alguna vez.  "
   ]
  },
  {
   "cell_type": "markdown",
   "id": "9fa08397",
   "metadata": {},
   "source": [
    "![tweet_uq](./images/tweet_uq.png \"tweet_uq\")"
   ]
  },
  {
   "cell_type": "markdown",
   "id": "b90d20db",
   "metadata": {},
   "source": [
    "En una tarea de regresión ocurre lo mismo. Entrenamos el modelo con un gran conjunto de datos de precios de casas y al aplicarlo sobre una casa nos da cómo resultado, por ejemplo, 135.896,73 euros. La probabilidad de que el precio verdadero de la casa sea ese es nula. Si el modelo rinde bien, el precio verdadero estará cerca de ese valor, estará dentro de un intervalo de predicción alrededor de ese valor. Cuanto más ancho el intervalo, más grande la incertidumbre."
   ]
  },
  {
   "cell_type": "markdown",
   "id": "56811a2f",
   "metadata": {},
   "source": [
    "Y es importante recordar que los modelos de aprendizaje automático supervisado están diseñados para interpolar, **no para extrapolar, ni para identificar relaciones de causa-efecto, ni para abstraer conocimiento,... por lo cual les cuesta generalizar y pueden caer en el atajo de basar sus predicciones en correlaciones espúreas y sin sentido**. Si no damos al modelo la oportunidad de avisarnos de que no está preparado para desempeñar la tarea, nos dará igualmente una predicción, y tomaremos que está igual de seguro de esa predicción como lo está de la predicción de una instancia estándar para la que sí está entrenado. Sería mucho más adecuado que el modelo de aprendizaje automático nos informara de la certeza de sus resultados.  \n",
    "\n",
    "Saber qué no sabemos, i.e, cuantificar la incertidumbre, mejora la calidad de las decisiones para poder descartar las predicciones con alta incertidumbre y derivar las decisiones a expertes humanos, como ocurre en el denominado ['Active Learning'](https://en.wikipedia.org/wiki/Active_learning_(machine_learning)). Como ejemplo, el vídeo del artículo [Robots That Ask For Help](https://robot-help.github.io/) de les desarrolladores del Large Language Model de Google, donde cuantifican incertidumbre con Predicción Conforme, el método que explicamos en la sección <a href=#app-uq>4. Aplicación de métodos de cuantificacion de incertidumbre</a><br>."
   ]
  },
  {
   "cell_type": "markdown",
   "id": "be1e08e5",
   "metadata": {},
   "source": [
    "<font color=#6B8E23 size=\"3\">Ejemplos mostrando que las métricas de rendimiento como \"accurary\" no son suficientes y no indican certeza</font>\n",
    "\n",
    "+ [Métrica incorrecta](https://koaning.io/posts/goodheart-bad-metric/), sobre la [ley de Goodhart](https://es.wikipedia.org/wiki/Ley_de_Goodhart): \"cuando la métrica se convierte el objetivo a optimizar, pierde su valor\"\n",
    "+ [La optimización métrica no es suficiente](https://koaning.io/posts/high-on-probability-low-on-certainty/),\n",
    "+ [Mean Squared Terror](https://koaning.io/posts/mean-squared-terror/),\n",
    "+ [Accuracy as a Failure](https://www.infoq.com/presentations/project-failure-data-accuracy/),\n",
    "+ [How to calibrate your classifier in an intelligent way using Machine Learning Conformal Prediction](https://valeman.medium.com/how-to-calibrate-your-classifier-in-an-intelligent-way-a996a2faf718),\n",
    "+ [Correlaciones espúreas divertidas](http://www.tylervigen.com/spurious-correlations)."
   ]
  },
  {
   "cell_type": "markdown",
   "id": "400d27fe",
   "metadata": {},
   "source": [
    "#### <font color=#ac6240>1.1.1 Definición de Incertidumbre</font>"
   ]
  },
  {
   "cell_type": "markdown",
   "id": "c6295a91",
   "metadata": {},
   "source": [
    "Según la Wikipedia en castellano (consultada el 26.09.2022):"
   ]
  },
  {
   "cell_type": "markdown",
   "id": "a63d000d",
   "metadata": {},
   "source": [
    "![uncertainty_wp](./images/uncertainty_wp.png \"uncertainty_wp\")"
   ]
  },
  {
   "cell_type": "markdown",
   "id": "632c94da",
   "metadata": {},
   "source": [
    "[Fuente de la imagen](https://es.wikipedia.org/wiki/Incertidumbre)"
   ]
  },
  {
   "cell_type": "markdown",
   "id": "d0b04b2b",
   "metadata": {},
   "source": [
    "Vamos, que el asunto va de lo que pasa cuando queremos medir u observar algo o predecir cuánto valdrá algo. \n",
    "\n",
    "Consultemos ahora a les expertes en [metrología](https://es.wikipedia.org/wiki/Metrolog%C3%ADa), es decir, la Oficina Internacional de Pesas y Medidas ([BIPM](https://www.bipm.org/en/committees/jc/jcgm/), por sus siglas en francés) cuyo Joint Committee for Guides in Metrology (JCGM) publica la Guía para la expresión de la Incertidumbre en la Medida (GUM, por sus siglas en inglés) que incluye el International Vocabulary of basic and general terms in Metrology ([VIM](https://www.bipm.org/en/committees/jc/jcgm/publications) JCGM_100_2008_E-1)\n",
    "\n",
    "<font size=\"5\">🤪🤯</font>\n",
    "\n",
    "\n",
    "donde se define:\n",
    "\n",
    "<blockquote>\n",
    "\n",
    "**2.2 The term 'uncertainty'**\n",
    "\n",
    "[...] Uncertainty (of measurement) [is a] parameter, associated with the result of a measurement, that characterizes the dispersion of the values that could reasonably be attributed to the measurand. [...] The parameter may be, for example, a standard deviation (or a given multiple of it), or the half-width of an interval having a stated level of confidence.\n",
    "</blockquote>\n",
    "\n",
    "y también:\n",
    "\n",
    "<blockquote>\n",
    "    \n",
    "**3.3. Uncertainty**\n",
    "\n",
    "The uncertainty of the result of a measurement reflects the lack of exact knowledge of the value of the measurand.\n",
    "</blockquote>\n",
    "\n",
    "Antes de ver qué significa esto en el contexto del aprendizaje automático, hagamos una aclaración importante para distinguir bien entre los conceptos de incentidumbre, error, residuo y sesgo o 'bias'."
   ]
  },
  {
   "cell_type": "markdown",
   "id": "0609d9df",
   "metadata": {},
   "source": [
    "#### <font color=#ac6240>1.1.2 Incertidumbre vs error vs residuo vs bias</font>"
   ]
  },
  {
   "cell_type": "markdown",
   "id": "9dab9a51",
   "metadata": {},
   "source": [
    "El **error** es la diferencia entre el valor verdadero, (asumiento que existe y se puede definir, ojo, que aquí esto es clave), y el valor resultado de la medición o predicción, por ejemplo, realizada empíricamente con un aparato de medida o en nuestro caso, el dato de si le paciente sufre o no fallo cardíaco. \n",
    "\n",
    "Si ese valor verdadero lo defimos por un modelo, esa diferencia entre la medición y el modelo también se llama **residuo**, por ejemplo, la distancia entre un punto `(x,y)` (el dato resultado de la medición) y la recta de regresión lineal que intenta representar a todos los datos, `y = mx + n`, y que idealizamos como representación de la realidad. Vimos la regresión lineal brevemente en la seccion 4.1 Modelo de referencia inicial para la selección de la métrica: Regresión Logística del Jupyter Notebook `Exploration_and_Classification.ipynb`.\n",
    "\n",
    "Entonces, en la representacion tradicional, la desviación entre el valor obtenido de la medición y el ansiado supuesto valor verdadero se compone de dos tipos de errores:\n",
    "+ el error aleatorio, la componente debida a la naturaleza [estocástica](https://en.wikipedia.org/wiki/Stochastic_process#Examples) del sistema, y\n",
    "+ el error sistemático, también llamado **sesgo o 'bias'**, que es la componente reducible porque su media no es cero y se puede compensar con un 'factor de correccion' (mencionamos los problemas éticos del sesgo en IA en la intro del Jupyter Notebook `XAI.ipynb`).\n",
    "\n",
    "En la Introducción del nuevo informe de 2012 [VIM 200:2012](https://www.bipm.org/en/committees/jc/jcgm/publications) se indica que estos dos tipos de errores no siempre son fáciles de diferenciar y que no disponemos de una regla general para ver cómo se combinan. Y también dice que normalmente estimamos el límite superior del valor absoluto del error total y que llamamos vagamente a eso 'incertidumbre'.\n",
    "\n",
    "Pero la VIM también nos indica que es mejor no seguir ese punto de vista tradicional del 'error' porque:\n",
    "\n",
    "+ necesita de la asumpción de la existencia un 'valor verdadero', y \n",
    "+ su objetivo es minimizar cualquier diferencia entre el resultado de la medida y ese supuesto 'valor verdadero', porque considera el error como una imperfección indeseable,\n",
    "\n",
    "siendo más adecuado tratar la dispersión de los resultados de las mediciones como una 'incertidumbre' que:\n",
    "\n",
    "+ aporta valiosa información y detalles significativos del comportamiento del sistema, y \n",
    "+ nos permite asumir que **la medición solo se puede expresar como un intervalo de valores razonables**.\n",
    "\n",
    "<font size=\"5\"> 👏 </font> "
   ]
  },
  {
   "cell_type": "markdown",
   "id": "fc74797e",
   "metadata": {},
   "source": [
    "Veamos ahora a qué nos referimos con \"intervalo de valores razonable\"."
   ]
  },
  {
   "cell_type": "markdown",
   "id": "5ad81592",
   "metadata": {},
   "source": [
    "#### <font color=#ac6240>1.1.3 Intervalo de valores razonables</font>"
   ]
  },
  {
   "cell_type": "markdown",
   "id": "5a7b7dae",
   "metadata": {},
   "source": [
    "Hay muchas maneras de definir qué entendemos por un 'intervalo de valores razonables' que nos permita cuantificar la posible variabilidad de los resultados y por tanto, la incertidumbre de la medición.\n",
    "\n",
    "Los métodos de UQ que aquí explicamos nos proveen de un [intervalo de predicción](https://en.wikipedia.org/wiki/Prediction_interval) para cada predicción, es decir, es una estimación del rango de valores que con la probabilidad que determinamos con el llamado 'nivel de confianza' (por ejemplo, con 0.90 tendremos el 90% de probabilidad) incluirá el valor correcto. \n",
    "\n",
    "Cuanto más estrecho es el intervalo de predicción, más podemos confiar en la predicción. Por ejemplo, data una predicción, `y_pred = 100`, calculamos su intervalo de predicción para que contenga al valor verdadero con un 90% de probabilidad. Si obtenemos el intervalo [99, 101] confiamos en el resultado más que si obtenemos el intervalo [50, 120].\n",
    "\n",
    "###### Diferencias entre intervalos\n",
    "[Intervalos de predicción](https://en.wikipedia.org/wiki/Prediction_interval): los que calculamos con Predicción Conforme, el método que explicamos en la sección <a href=#app-uq>4. Aplicación de métodos de cuantificacion de incertidumbre</a>, con garantía estadística contienen a la \"ground truth\", i.e., cumplen \"validity\", también llamada \"garantía de cobertura\". Si la tarea es de clasificación, se llaman conjuntos de predicción e incluyen la true label.\n",
    "\n",
    "[Intervalos de confianza](https://es.wikipedia.org/wiki/Intervalo_de_confianza) de la estadística frecuentista: asociados a la incertidumbre al estimar un parámetro de la población (por ejemplo, el valor esperado) a partir de un muestreo (por ejemplo, la media). Indican también un rango pero en ese caso indica una dispersión alrededor del parámetro estimador, no la incertidumbre de una predicción individual. El ejemplo clásico es el intervalo de confianza calculado con la desviación estándar alrededor de la media de varias predicciones: `[y_mean - y_std, y_mean + y_std]`. No cumplen \"validity\".\n",
    "\n",
    "[Intervalos de credibilidad](https://es.wikipedia.org/wiki/Intervalo_cre%C3%ADble) de los posteriores en la estadística bayesiana: incluyen la predicción con una probabilidad determinada, es decir, tratan sus límites como fijos y la predicción como una variable aleatoria (los intervalos de confianza frecuentista tratan sus límites como variables aleatorias y la predicción como un valor fijo).  Requieren el conocimiento de la distribución a priori que es específica de los inputs de cada situación (algo para nada sencillo). No cumplen \"validity\".\n",
    "\n",
    "Aquí nos centramos en cómo calcular intervalos de predicción para las predicciones arrojadas por modelos de aprendizaje automático."
   ]
  },
  {
   "cell_type": "markdown",
   "id": "53585389",
   "metadata": {},
   "source": [
    "#### <font color=#ac6240>1.1.4 Incertidumbre en aprendizaje automático</font>"
   ]
  },
  {
   "cell_type": "markdown",
   "id": "d30f4913",
   "metadata": {},
   "source": [
    "Como decíamos, cuando aplicamos un modelo de aprendizaje automático es muy desable que no solo nos ofrezca una \"raw score\" (por ejemplo, la puntuación cruda que sale de la última capa de activación de una red neuronal) sino que nos diga además cuándo no está seguro y cuánta incertidumbre está asociada a su predicción. \n",
    "\n",
    "Podriamos incluso intentar desglosar los tipos de incertidumbre según su origen. Por ejemplo, puede haber incertidumbre:\n",
    "+ en cómo se tomaron y procesaron los datos que usamos, la precisión de los aparatos de observación y medida, el etiquetado, el almacenamiento, el ruido externo que hubo durante el proceso de recolección de esos datos, ... \n",
    "+ en el elección del modelo: diseño, estimación de parámetros, tipo de regularizacion, tipo de optimización, selección de métricas, ..., \n",
    "+ en el error humano, el desconocimiento, los [sesgos cognitivos](https://www.visualcapitalist.com/50-cognitive-biases-in-the-modern-world/),...\n",
    "\n",
    "y un millón de factores más."
   ]
  },
  {
   "cell_type": "markdown",
   "id": "17d3e607",
   "metadata": {},
   "source": [
    "Las fuentes de incertidumbre es un tema muy importantes pero demasiado complicado para un taller general como este porque requiere 'domain expertise' para cada caso. Aquí nos centramos en la incertidumbre en la predicción y simplemente mencionaremos que en aprendizaje automático se suelen considerar [dos tipos de incertidumbre](https://deepai.org/publication/aleatoric-and-epistemic-uncertainty-in-machine-learning-a-tutorial-introduction) en la predicción que se pueden resumir en:\n",
    "\n",
    "+ Aleatoria: \"¿saldrá cara o cruz si lanzo una moneda al aire?\", incertidumbre relativa al dato individual, **que no es reducible**, ni aunque aumentamos el número de datos con el que entrenamos el modelo de aprendizaje automático, y\n",
    "\n",
    "+ Epistémica: \"¿me fío de que esta moneda no está trucada?\", incertidumbre relativa a la certeza del modelo de aprendizaje automático después de haber visto la instancia cuya 'target' ha de predecir, **sí se puede reducir** con más datos de entrenamiento.\n",
    "\n",
    "En general, la incertidumbre aleatoria está relacionada con lo que llamamos \"varianza natural del fenómeno\", que es la imposibilidad de conocer y controlar todos los factores e interacciones físicas y naturales de ese fenómeno en el mundo real. Porque si conociéramos todos los factores físicos de ese lanzamiento (peso, forma, y posición exacta de la moneda, ángulo y fuerza de lanzamiento, ecuaciones dinámicas, velocidad del viento, densidad del aire, ...), es decir, si fuésemos el [Demonio de Laplace](https://es.wikipedia.org/wiki/Demonio_de_Laplace), podríamos predecir con absoluta certeza si resultado es cara o cruz. Sería una falta de [conocimiento o episteme](https://dle.rae.es/episteme), así que tendríamos que atribuir parte de la incertidumbre aleatoria a la incertidumbre epistémica y las barreras entre ambas se diluyen.\n",
    "\n",
    "<font size=\"5\"> 😬😅 </font>"
   ]
  },
  {
   "cell_type": "markdown",
   "id": "a73ee85f",
   "metadata": {},
   "source": [
    "Pero la cosa se complica aún más porque en realidad hay un tercer tipo de incertidumbre a tener en cuenta en aprendizaje automático y que está relacionado con el [sesgo inductivo](https://es.wikipedia.org/wiki/Sesgo), es decir, cómo trata el algoritmo aquellas preguntas para las que no ha sido entrenado.:\n",
    "\n",
    "+ 'Drift' también conocido como 'Shift': \"¿sigo aún lanzando la misma moneda?\", incertidumbre relacionada con los cambios en la distribución de datos, cuando los nuevos datos no tienen la misma distribución que tenian los datos de entrenamiento (como dijimos anteriormente, para amplicar sobre la definición y sus diferentes tipos, [aquí](https://analyticsindiamag.com/concept-drift-vs-data-drift-in-machine-learning/)). La librería [NannyML](https://github.com/NannyML/nannyml) sirve para detectarlo.\n",
    "\n",
    "Ejemplos de 'drift' son cambios en la resolución de la camara que hace las fotos para la clasificación de imagenes, la persona que etiqueta los datos para una clasificación, los gustos de les clientes para un 'sentiment analysis', ... o incluso la aparición de nuevos fenómenos, pensemos en la dificultad en la predicción de los efectos de cambio climático ya que los modelos de aprendizaje automático se basan en datos históricos recogidos cuando las temperaturas globales no eran tan altas. En otras palabras, los modelos no pueden conocer más allá de los datos con los que han sido entrenados."
   ]
  },
  {
   "cell_type": "markdown",
   "id": "f39cb9d6",
   "metadata": {},
   "source": [
    "![comic_uq](./images/comic_uq.png \"comic_uq\")"
   ]
  },
  {
   "cell_type": "markdown",
   "id": "a7043034",
   "metadata": {},
   "source": [
    "[Fuente de la Imagen](https://www.smbc-comics.com/comic/rise-of-the-machines)"
   ]
  },
  {
   "cell_type": "markdown",
   "id": "6b076ea3",
   "metadata": {},
   "source": [
    "<font color=#6B8E23 size=\"4\"> Conclusión</font>\n",
    "\n",
    "+ Las decisiones basadas en predicciones deben tener en cuenta la incertidumbre. Por ejemplo, dada una predicción `y = 100`, es bueno saber si el intervalo de predicción es [99, 101] o [50, 120] para poder planear mejor los posibles escenarios, sobre todo al automatizar procesos sensibles o de riesgo.\n",
    "\n",
    "+ Sin cuantificación de la incertidumbre las buenas y las malas predicciones parecen iguales. La cuantificación de la incertidumbre ofrece a los modelos de aprendizaje automático la posibilidad de expresarse mejor."
   ]
  },
  {
   "cell_type": "markdown",
   "id": "f9f6852f",
   "metadata": {},
   "source": [
    "<font color=#6B8E23 size=\"4\"> Material adicional y referencias</font>\n",
    "\n",
    "<font color=#6B8E23 size=\"3\">Ejemplos de los peligros de la 'single-point prediction'</font>\n",
    "\n",
    "+ La espectacular charla del gran Vincent Warmerdamm ['How to constrain artificial stupidity'](https://youtu.be/Z8MEFI7ZJlA).\n",
    "\n",
    "+ El libro _'Weapons of math destruction'_ de Cathy O'Neil, hay [versión en castellano](https://www.indienauta.com/armas-destruccion-matematica-cathy-oneil-capitan-swing-2018/)\n",
    "\n",
    "+ El libro ['Algorithms of Oppression'](https://en.wikipedia.org/wiki/Algorithms_of_Oppression) de Safiya Noble.\n",
    "\n",
    "<font color=#6B8E23 size=\"3\">Conceptos de UQ</font>\n",
    "\n",
    "+ En este blog, el articulo: [_\"A Comprehensive Introduction to Uncertainty in Machine Learning\"_](https://imerit.net/blog/a-comprehensive-introduction-to-uncertainty-in-machine-learning-all-una/#:~:text=One%20way%20to%20estimate%20aleatoric,create%20a%20subset%20of%20samples), muy bueno, pero por desgracia no incluye los 'Conformal Predictors', nuestra herramienta favorita porque es la única que garantiza la cobertura, como explicamos más abajo, sección <a href=#uq-cp>4.1 Conformal Predictors</a>,\n",
    " \n",
    "+ La referencia por definición, el libro gratuito [_\"Probabilistic Machine Learning: Advanced Topics\"_](https://probml.github.io/pml-book/book2.html), desde 2022 por fín incluye los 'Conformal Predictors', aún no leí el libro completo pero tengo que hacerlo.\n",
    "\n",
    "<font size=\"5\"> 😅 </font>"
   ]
  },
  {
   "cell_type": "markdown",
   "id": "2847fd79",
   "metadata": {},
   "source": [
    "Continuamos con la preparación de los datos y el entrenamiento del modelo de aprendizaje automático. Si ya trabajaste con los dos Jupyter Notebooks anteriores de este taller y estás familiarizade con los datos y el modelo del bosque aleatorio, puedes pasar directamente a las seccion <a href=#app-uq>4. Aplicación de métodos de cuantificación de incertidumbre</a>."
   ]
  },
  {
   "cell_type": "markdown",
   "id": "c364261e",
   "metadata": {},
   "source": [
    "<a name='project-description-goal'/>"
   ]
  },
  {
   "cell_type": "markdown",
   "id": "5249c5d6",
   "metadata": {
    "lang": "es"
   },
   "source": [
    "### <font color=#ac6240>1.2 Objetivo</font>"
   ]
  },
  {
   "cell_type": "markdown",
   "id": "cc0a5f36",
   "metadata": {},
   "source": [
    "En este Jupyter Notebook vamos a aprlicar UQ a los resultados del modelo de bosque aleatorio (que no es interpretable) que entrenamos en el Jupyter Notebook `Exploration_and_Classification.ipynb`. No incluimos explicaciones exhaustivas y demostraciones matemáticas (hay muchas otras fuentes, ver la lista de materiales arriba), mejor mencionaremos algunas características intuitivas sobre la cuantificación de la incertidumbre y nos enfocaremos en su implementación en Scikit-learn y software compatible.\n",
    "\n",
    "Como dijimos, si ya conoces alguno de los dos Jupyter Notebook anteriores ya estarás familiarize con los datos y con el bosque aleatorio, puedes pasar directamente a la sección <a href=#app-uq> 4. Aplicación de métodos de cuantificación de incertidumbre</a>."
   ]
  },
  {
   "cell_type": "markdown",
   "id": "c15f2255",
   "metadata": {},
   "source": [
    "<a name='project-description-data'/>"
   ]
  },
  {
   "cell_type": "markdown",
   "id": "9a8f82c3",
   "metadata": {},
   "source": [
    "### <font color=#ac6240>1.3 Datos y modelo de aprendizaje automático</font>"
   ]
  },
  {
   "cell_type": "markdown",
   "id": "c2fb462c",
   "metadata": {
    "lang": "es"
   },
   "source": [
    "Utilizaremos los datos y el modelo de aprendizaje automático del Jupyter Notebook `Exploration_and_Classification.ipynb` que se encuentra en [este repositorio](https://github.com/MMdeCastro/Uncertainty_Quantification_XAI).\n",
    "\n",
    "**Datos**\n",
    "\n",
    "Utilizaremos los datos del [Conjunto de datos de predicción de insuficiencia cardíaca de Kaggle](https://www.kaggle.com/fedesoriano/heart-failure-prediction) (cita: fedesoriano. (Septiembre de 2021) Heart Failure Prediction Dataset), y\n",
    "\n",
    "Recordamos que las 'features' o características son los datos de lxs paciente ('Age', 'Cholesterol',...) y la variable objetivo o 'target', es decir, lo que queremos predecir, se llama \"HeartDisease\", y es una variable binaria que toma los valores:\n",
    "+ 1: sí, pacientes que sí presentan riesgo de padecer una cardiopatía\n",
    "+ 0: no, pacientes que no presentan riesgo de padecer una cardiopatía\n",
    "\n",
    "En relacion a la 'feature' 'Sex', vamos a interpretar que se refiere al sexo con el que nacieron esas personas. Por otro lado vemos que solo toma los valores 'M' (male) or 'F' (female), es decir, entendemos que no hay datos de personas intersexuales o no binarias.\n",
    "\n",
    "**Modelo de aprendizaje automático para la clasificación**\n",
    "\n",
    "El modelo de clasificación que utilizaremos es un bosque aleatorio que ya ajustamos, entrenamos, y validamos en el Jupyter Notebook anterior `Exploration_and_Classification.ipynb`. En este Jupyter Notebook directamente dividiremos el conjunto de datos en datos de entrenamiento y datos de prueba ('test'). Sobre esos datos de prueba aplicaremos el modelo de aprendizaje automático en la sección <a href=#model-ml>3. Aplicación del modelo de aprendizaje automático: Bosque Aleatorio</a>."
   ]
  },
  {
   "cell_type": "markdown",
   "id": "eaa3e965",
   "metadata": {},
   "source": [
    "Para cada nueve paciente, el modelo supervisado del bosque aleatorio anteriormente entrenado al aplicar `.predict_proba()` nos da una puntuación o 'raw score' que si esta cerca de '0' clasifica a ese paciente en el grupo de pacientes sin riesgo a sufrir fallo cardíaco y si esta cerca de '1' clasifica a ese paciente en el grupo de pacientes sin riesgo a sufrir fallo cardíaco (donde 'cerca' se define por el 'umbral de decisión' como explicamos en el anterior Jupyter Notebook `Exploration_and_Classification.ipynb`, sección 4. Entrenamiento de los modelos). \n",
    "\n",
    "Como mencionamos en la 'Observación importante' de esa misma sección 4. Entrenamiento de los modelos, las librerías más populares de Python (Scikit-learn, XGBoost, ... ) púntuan las prediciones con el método `.predict_proba()` que, a pesar de su nombre, en realidad no produce probabilidades (ver por ejemplo, el artículo [_\"Are you sure that's a probability?\"_](https://kiwidamien.github.io/are-you-sure-thats-a-probability.html)). En Keras `.predict_proba()` quedó obsoleto desde TensorFlow 2.6, hay que usar `.predict()`, en Torch sería por ejemplo, `torch.sigmoid()` para nuestro caso binario. A menudo se toma esa 'raw score' como la probabilidad de que ese nueve paciente esté o no en riesgo de sufrir una insuficiencia cardíaca. Como veremos en la sección <a href=#app-uq>4. Cuantificación de Incertidumbre</a>, estas puntuaciones son solo heurísticas, no están calibradas, y no son por tanto verdaderas probabilidades. \n",
    "\n",
    "Entonces, en siguiendo el flujo de operaciones estándard (i.e., sin cuantizar la incertidumbre aún), una vez obtenidas esas \"raw scores\", si el resultado de aplicar el modelo de aprendizaje automático sobre los datos de une paciente nos arroja una puntuación o 'raw score' de 0.7, si el umbral de decisión es igual a 0.4, le paciente quedará clasificade como 'perteniente al grupo en riesgo de sufrir fallo cardíaco'.\n",
    "\n",
    "Y volvemos a remarcar que nuestro modelo solo es bueno encontrando correlaciones, (ni generaliza, ni entiende de relaciones de causa-efecto, ni conoce las restricciones del problema,...) por eso es fundamental que las decisiones finales sean tomadas por personas expertas en medicina. "
   ]
  },
  {
   "cell_type": "markdown",
   "id": "7bcefe57",
   "metadata": {},
   "source": [
    "![ivory](./images/ivory_small.png \"ivory\")"
   ]
  },
  {
   "cell_type": "markdown",
   "id": "db36cc56",
   "metadata": {},
   "source": [
    "[Fuente de la imagen: \"Mean-squared-terror\"](https://koaning.io/posts/mean-squared-terror/)"
   ]
  },
  {
   "cell_type": "markdown",
   "id": "681ca935",
   "metadata": {},
   "source": [
    "Y como es claramente una decisión de vida o muerte y como el bosque aleatorio no es un modelo interpretable, además de aplicar métodos de XAI que explicamos en el Jupyter Notebook anterior, aplicaremos aquí métodos de UQ para dar una distribución de probabilidad rigurosa a los resultados que nos indique como de seguro está el modelo de aprendizaje automático de su predicción. Lo haremos en la siguiente sección <a href=#app-uq>4. Aplicación de métodos de cuantificación de incertidumbre.</a>"
   ]
  },
  {
   "cell_type": "markdown",
   "id": "f3a2cf6f",
   "metadata": {},
   "source": [
    "Hemos elegido trabajar sobre un conjunto de datos tabulares porque los modelos de aprendizaje automático y los métodos de UQ suelen ser más fáciles de entender si podemos ver los datos en columnas. Sin embargo los conceptos de UQ que explicamos aquí sirven para cualquier aplicación mientras sea de aprendizaje automático. "
   ]
  },
  {
   "cell_type": "markdown",
   "id": "6675f02f",
   "metadata": {},
   "source": [
    "<a name='project-description-software'/>"
   ]
  },
  {
   "cell_type": "markdown",
   "id": "8d8a856c",
   "metadata": {},
   "source": [
    "### <font color=#ac6240>1.4 Software</font>"
   ]
  },
  {
   "cell_type": "markdown",
   "id": "3f098039",
   "metadata": {},
   "source": [
    "Usaremos estas librerías:"
   ]
  },
  {
   "cell_type": "code",
   "execution_count": 1,
   "id": "8d736f50",
   "metadata": {},
   "outputs": [],
   "source": [
    "import pandas as pd     \n",
    "import numpy as np\n",
    "\n",
    "# data exploration and preparation  \n",
    "from sklearn.metrics import mutual_info_score, roc_auc_score\n",
    "from sklearn.model_selection import train_test_split\n",
    "from sklearn.feature_extraction import DictVectorizer \n",
    "from sklearn.preprocessing import StandardScaler \n",
    "\n",
    "# model\n",
    "from sklearn.ensemble import RandomForestClassifier\n",
    "\n",
    "# model evaluation\n",
    "from sklearn.metrics import f1_score\n",
    "from sklearn.metrics import make_scorer\n",
    "\n",
    "# UQ \n",
    "#from sklearn.linear_model import QuantileRegressor\n",
    "#import nonconformist extension scikit-learn\n",
    "\n",
    "\n",
    "\n",
    "# model evaluation\n",
    "from sklearn.metrics import accuracy_score, f1_score, auc, recall_score, precision_score, confusion_matrix\n",
    "from sklearn.metrics import make_scorer\n",
    "from sklearn.model_selection import GridSearchCV, KFold, cross_val_score\n",
    "\n",
    "\n",
    "# plotting and displaying in the notebook\n",
    "import seaborn as sns\n",
    "from matplotlib import pyplot as plt\n",
    "#from IPython.display import display\n",
    "#import emoji\n",
    "\n",
    "# ignore warnings\n",
    "import warnings\n",
    "warnings.filterwarnings(\"ignore\")\n",
    "\n",
    "%matplotlib inline"
   ]
  },
  {
   "cell_type": "markdown",
   "id": "cd36066b",
   "metadata": {},
   "source": [
    "<a href=#toc>Subir a la Tabla de Contenidos</a><br>"
   ]
  },
  {
   "cell_type": "markdown",
   "id": "1f3a5965",
   "metadata": {},
   "source": [
    "<a name='prep'/>"
   ]
  },
  {
   "cell_type": "markdown",
   "id": "dac6f1a9",
   "metadata": {},
   "source": [
    "## <font color=#ac6240>2. Preparación de los datos</font>"
   ]
  },
  {
   "cell_type": "markdown",
   "id": "9b98480e",
   "metadata": {},
   "source": [
    "La exploración y preparación de los datos se hizo en el Jupyter Notebook `Exploration_and_Classification.ipynb` que se encuentra en [este repositorio](https://github.com/MMdeCastro/Uncertainty_Quantification_XAI), aquí solo mostarmos los pasos esenciales."
   ]
  },
  {
   "cell_type": "markdown",
   "id": "97376b59",
   "metadata": {},
   "source": [
    "<a name='prep-clean'/>"
   ]
  },
  {
   "cell_type": "markdown",
   "id": "e1caef65",
   "metadata": {},
   "source": [
    "### <font color=#ac6240>2.1 Limpieza de los datos</font>"
   ]
  },
  {
   "cell_type": "markdown",
   "id": "cc0662a4",
   "metadata": {},
   "source": [
    "Cargamos los datos del fichero que esta en el mismo repositorio:"
   ]
  },
  {
   "cell_type": "code",
   "execution_count": 2,
   "id": "89fa33de",
   "metadata": {},
   "outputs": [
    {
     "data": {
      "text/html": [
       "<div>\n",
       "<style scoped>\n",
       "    .dataframe tbody tr th:only-of-type {\n",
       "        vertical-align: middle;\n",
       "    }\n",
       "\n",
       "    .dataframe tbody tr th {\n",
       "        vertical-align: top;\n",
       "    }\n",
       "\n",
       "    .dataframe thead th {\n",
       "        text-align: right;\n",
       "    }\n",
       "</style>\n",
       "<table border=\"1\" class=\"dataframe\">\n",
       "  <thead>\n",
       "    <tr style=\"text-align: right;\">\n",
       "      <th></th>\n",
       "      <th>Age</th>\n",
       "      <th>Sex</th>\n",
       "      <th>ChestPainType</th>\n",
       "      <th>RestingBP</th>\n",
       "      <th>Cholesterol</th>\n",
       "      <th>FastingBS</th>\n",
       "      <th>RestingECG</th>\n",
       "      <th>MaxHR</th>\n",
       "      <th>ExerciseAngina</th>\n",
       "      <th>Oldpeak</th>\n",
       "      <th>ST_Slope</th>\n",
       "      <th>HeartDisease</th>\n",
       "    </tr>\n",
       "  </thead>\n",
       "  <tbody>\n",
       "    <tr>\n",
       "      <th>0</th>\n",
       "      <td>40</td>\n",
       "      <td>M</td>\n",
       "      <td>ATA</td>\n",
       "      <td>140</td>\n",
       "      <td>289</td>\n",
       "      <td>0</td>\n",
       "      <td>Normal</td>\n",
       "      <td>172</td>\n",
       "      <td>N</td>\n",
       "      <td>0.0</td>\n",
       "      <td>Up</td>\n",
       "      <td>0</td>\n",
       "    </tr>\n",
       "    <tr>\n",
       "      <th>1</th>\n",
       "      <td>49</td>\n",
       "      <td>F</td>\n",
       "      <td>NAP</td>\n",
       "      <td>160</td>\n",
       "      <td>180</td>\n",
       "      <td>0</td>\n",
       "      <td>Normal</td>\n",
       "      <td>156</td>\n",
       "      <td>N</td>\n",
       "      <td>1.0</td>\n",
       "      <td>Flat</td>\n",
       "      <td>1</td>\n",
       "    </tr>\n",
       "    <tr>\n",
       "      <th>2</th>\n",
       "      <td>37</td>\n",
       "      <td>M</td>\n",
       "      <td>ATA</td>\n",
       "      <td>130</td>\n",
       "      <td>283</td>\n",
       "      <td>0</td>\n",
       "      <td>ST</td>\n",
       "      <td>98</td>\n",
       "      <td>N</td>\n",
       "      <td>0.0</td>\n",
       "      <td>Up</td>\n",
       "      <td>0</td>\n",
       "    </tr>\n",
       "    <tr>\n",
       "      <th>3</th>\n",
       "      <td>48</td>\n",
       "      <td>F</td>\n",
       "      <td>ASY</td>\n",
       "      <td>138</td>\n",
       "      <td>214</td>\n",
       "      <td>0</td>\n",
       "      <td>Normal</td>\n",
       "      <td>108</td>\n",
       "      <td>Y</td>\n",
       "      <td>1.5</td>\n",
       "      <td>Flat</td>\n",
       "      <td>1</td>\n",
       "    </tr>\n",
       "    <tr>\n",
       "      <th>4</th>\n",
       "      <td>54</td>\n",
       "      <td>M</td>\n",
       "      <td>NAP</td>\n",
       "      <td>150</td>\n",
       "      <td>195</td>\n",
       "      <td>0</td>\n",
       "      <td>Normal</td>\n",
       "      <td>122</td>\n",
       "      <td>N</td>\n",
       "      <td>0.0</td>\n",
       "      <td>Up</td>\n",
       "      <td>0</td>\n",
       "    </tr>\n",
       "  </tbody>\n",
       "</table>\n",
       "</div>"
      ],
      "text/plain": [
       "   Age Sex ChestPainType  RestingBP  Cholesterol  FastingBS RestingECG  MaxHR  \\\n",
       "0   40   M           ATA        140          289          0     Normal    172   \n",
       "1   49   F           NAP        160          180          0     Normal    156   \n",
       "2   37   M           ATA        130          283          0         ST     98   \n",
       "3   48   F           ASY        138          214          0     Normal    108   \n",
       "4   54   M           NAP        150          195          0     Normal    122   \n",
       "\n",
       "  ExerciseAngina  Oldpeak ST_Slope  HeartDisease  \n",
       "0              N      0.0       Up             0  \n",
       "1              N      1.0     Flat             1  \n",
       "2              N      0.0       Up             0  \n",
       "3              Y      1.5     Flat             1  \n",
       "4              N      0.0       Up             0  "
      ]
     },
     "execution_count": 2,
     "metadata": {},
     "output_type": "execute_result"
    }
   ],
   "source": [
    "path = 'data/'  \n",
    "df = pd.read_csv(path + \"heart_failure.csv\")\n",
    "df.head()"
   ]
  },
  {
   "cell_type": "markdown",
   "id": "f214c1d3",
   "metadata": {},
   "source": [
    "'FastingBS' (la presión sanguínea en ayunas) debería ser una variable categórica ya que los valores actuales de '0' y '1' son solamente representaciones de valores cualitativos que no queremos que el modelo interprete como valores cuantitativos."
   ]
  },
  {
   "cell_type": "code",
   "execution_count": 3,
   "id": "49f1e440",
   "metadata": {},
   "outputs": [],
   "source": [
    "# Transform the categorical values wrongly classified as numericals\n",
    "new_values = {\n",
    "    0: 'L', # low\n",
    "    1: 'H', # high\n",
    "}\n",
    "\n",
    "df.FastingBS = df.FastingBS.map(new_values)\n",
    "# type(df.FastingBS[0]) # uncomment to check that it is a string type"
   ]
  },
  {
   "cell_type": "code",
   "execution_count": 4,
   "id": "e8553d15",
   "metadata": {},
   "outputs": [],
   "source": [
    "# Store in different lists the names of the categorical and numerical columns since they will be treated different \n",
    "categorical = df.select_dtypes(include=['object']).columns.tolist()  # for strings \n",
    "numerical = df.select_dtypes(include=['int64','float64']).columns.tolist() # for numbers"
   ]
  },
  {
   "cell_type": "markdown",
   "id": "3db8e25b",
   "metadata": {},
   "source": [
    "Los valores mínimos de 'RestingBP' y 'Cholesterol' son cero, lo cual es sospechoso. Con experiencia en el campo de la medicina, podríamos decidir si reemplazar estos valores nulos por la media u otro valor. Carecemos de esta información, por lo tanto, simplemente eliminamos esas filas."
   ]
  },
  {
   "cell_type": "code",
   "execution_count": 5,
   "id": "04fb9793",
   "metadata": {},
   "outputs": [],
   "source": [
    "index_to_drop = list(df.loc[(df.RestingBP == 0) | (df.Cholesterol == 0)].index)\n",
    "df.drop(index_to_drop, inplace=True)"
   ]
  },
  {
   "cell_type": "markdown",
   "id": "554c1b95",
   "metadata": {},
   "source": [
    "<font size ='5'> ✌️ </font>No hay necesidad de más limpieza de datos."
   ]
  },
  {
   "cell_type": "markdown",
   "id": "7f6113d7",
   "metadata": {},
   "source": [
    "<a name='prep-split'/>"
   ]
  },
  {
   "cell_type": "markdown",
   "id": "e0f89f27",
   "metadata": {
    "lang": "es"
   },
   "source": [
    "### <font color=#ac6240>2.2 División de los datos en conjuntos de datos de entrenamiento, calibración y prueba</font>"
   ]
  },
  {
   "cell_type": "markdown",
   "id": "0305c991",
   "metadata": {
    "lang": "es"
   },
   "source": [
    "En esta división aleatoria, y en todas las ocasiones siguientes en las que usemos un generador de números aleatorios, fijamos la semilla del generador de números aleatorios para asegurar la reproducibilidad de los resultados. Fijamos el `random_state = 1` pero podría ser 2 o cualquier otro valor, no afectará a los resultados, pero con esta corrección siempre obtendremos exactamente los mismos resultados.\n",
    "\n",
    "Recordamos que dividimos el conjunto de datos en entrenamiento, calibración, y prueba porque la exploración de los datos y el ajuste y la validación del modelo de clasificación ya lo hicimos en el Jupyter Notebook `Exploration_and_Classification.ipynb` que se encuentra en [este repositorio](https://github.com/MMdeCastro/Uncertainty_Quantification_XAI).\n",
    "\n",
    "Para poder cuantizar la incertidumbre, necesitamos guardar unos datos que nos ayuden a calibrar el modelo, por eso hacemos una segunda partición del conjunto de entrenamiento y lo separamos en 'proper train' y 'cal'."
   ]
  },
  {
   "cell_type": "code",
   "execution_count": 6,
   "id": "024bc614",
   "metadata": {},
   "outputs": [],
   "source": [
    "# copy the original dataframe so further manipulations will not affect it \n",
    "df_select = df.copy() \n",
    "categorical = df_select.select_dtypes(include=['object']).columns.tolist()\n",
    "numerical = df_select.select_dtypes(include=['int64','float64']).columns.tolist()\n",
    "numerical.remove('HeartDisease')"
   ]
  },
  {
   "cell_type": "code",
   "execution_count": 7,
   "id": "66fd7a40",
   "metadata": {},
   "outputs": [
    {
     "data": {
      "text/plain": [
       "['Age', 'RestingBP', 'Cholesterol', 'MaxHR', 'Oldpeak']"
      ]
     },
     "execution_count": 7,
     "metadata": {},
     "output_type": "execute_result"
    }
   ],
   "source": [
    "numerical"
   ]
  },
  {
   "cell_type": "code",
   "execution_count": 8,
   "id": "0b473b46",
   "metadata": {},
   "outputs": [
    {
     "data": {
      "text/plain": [
       "(716, 358, 30)"
      ]
     },
     "execution_count": 8,
     "metadata": {},
     "output_type": "execute_result"
    }
   ],
   "source": [
    "# first separate the train from the test set\n",
    "df_train, df_test = train_test_split(df_select, test_size=0.04, random_state=1)\n",
    "df_proper_train, df_cal = train_test_split(df_train, test_size=0.5, random_state=1)\n",
    "\n",
    "len(df_train), len(df_cal), len(df_test)"
   ]
  },
  {
   "cell_type": "code",
   "execution_count": 9,
   "id": "89f65631",
   "metadata": {},
   "outputs": [],
   "source": [
    "# reset index\n",
    "df_proper_train = df_proper_train.reset_index(drop=True)\n",
    "# define the target\n",
    "y_proper_train = df_proper_train.HeartDisease.values\n",
    "# remove the target from the features\n",
    "del df_proper_train['HeartDisease']"
   ]
  },
  {
   "cell_type": "markdown",
   "id": "06bcd55a",
   "metadata": {},
   "source": [
    "<a name='prep-encoding'/>       "
   ]
  },
  {
   "cell_type": "markdown",
   "id": "b5a67de6",
   "metadata": {
    "lang": "es"
   },
   "source": [
    "### <font color=#ac6240>2.3 Codificación y normalización de las 'features'</font>"
   ]
  },
  {
   "cell_type": "markdown",
   "id": "aaa2f6b4",
   "metadata": {
    "lang": "es"
   },
   "source": [
    "Para codificar las características categóricas usamos Scikit-Learn `DictVectorizer`, que toma un diccionario y lo convierte en un vector, es decir, en un `numpy.array`. Es un método de los llamados One-Hot Encoding (OHE) para convertir las características categóricas (no afectaría las numéricas si se lo aplicasemos) en columnas con valores binarios, con tantas columnas como valores tome la variable categórica. Por ejemplo, la columna de la caracteristíca 'ExcerciseAngina' que podía tener valores 'N' o 'Y' ahora dará lugar a dos columnas, una llamada 'ExcerciseAngina=N' y otra 'ExcerciseAngina=Y' que claramente son dependientes (dan la misma información) y están totalmente correlacionadas (cuando el valor de una es '0', el valor de la otra es seguro '1', ver las correlaciones en el Jupyter Notebook anterior). Cualquier método de codificación añade por tanto información redundante. Hemos de eliminar la información redundante desechando una de las columnas de cada par correlacionado (da igual qué columna de cada par eliminemos, ambas dan la misma información), quitaremos 'ExerciseAngina=N', 'FastingBS=H', 'Sex=F', 'ST_Slope=Up':"
   ]
  },
  {
   "cell_type": "code",
   "execution_count": 10,
   "id": "c576a8ea",
   "metadata": {},
   "outputs": [],
   "source": [
    "dv = DictVectorizer(sparse=False) # False bcs is not a sparse matrix (we do not have many zeros)\n",
    "\n",
    "# TRAIN\n",
    "proper_train_dict = df_proper_train[categorical].to_dict(orient='records') # records = to do it row-wise, not col-wise\n",
    "X_proper_train_cat = dv.fit_transform(proper_train_dict) # make it a vector\n",
    "\n",
    "df_X_proper_train_cat = pd.DataFrame(X_proper_train_cat,columns= dv.get_feature_names_out())\n",
    "# remove redundant columns\n",
    "df_X_proper_train_cat.drop(['ExerciseAngina=N', 'FastingBS=H', 'Sex=F', 'ST_Slope=Up'], \n",
    "                    axis=1, inplace=True)\n",
    "# convert the dataframe to a np.array again\n",
    "X_proper_train_cat = df_X_proper_train_cat.to_numpy()\n",
    "\n",
    "categorical_update = df_X_proper_train_cat.columns.to_list()"
   ]
  },
  {
   "cell_type": "markdown",
   "id": "d550b807",
   "metadata": {
    "lang": "es"
   },
   "source": [
    "En el Jupyter Notebook de la exploración y clasificación de los datos usamos Scikit-Learn `StandardScaler` para normalizar las características numéricas entre 0 y 1. Así, aquellas columnas con valores en un rango más alto no tendrían más representación y modelos como la regresión logística convergían mejor. Como aquí usamos un bosque aleatorio, no necesitamos escalar las 'features' numéricas. "
   ]
  },
  {
   "cell_type": "code",
   "execution_count": 11,
   "id": "21a24322",
   "metadata": {},
   "outputs": [],
   "source": [
    "#scaler = StandardScaler()\n",
    "\n",
    "# TRAIN\n",
    "X_proper_train_num = df_proper_train[numerical].values\n",
    "#X__propertrain_num = scaler.fit_transform(X_proper_train_num)"
   ]
  },
  {
   "cell_type": "markdown",
   "id": "ef815080",
   "metadata": {
    "lang": "es"
   },
   "source": [
    "Unimos las matrices numéricas y categóricas:"
   ]
  },
  {
   "cell_type": "code",
   "execution_count": 12,
   "id": "ede9d280",
   "metadata": {},
   "outputs": [],
   "source": [
    "# TRAIN\n",
    "X_proper_train = np.column_stack([X_proper_train_num, X_proper_train_cat])"
   ]
  },
  {
   "cell_type": "markdown",
   "id": "6f31c939",
   "metadata": {},
   "source": [
    "Las nuevas características son:"
   ]
  },
  {
   "cell_type": "code",
   "execution_count": 13,
   "id": "5c5c6fbe",
   "metadata": {},
   "outputs": [
    {
     "data": {
      "text/plain": [
       "['Age',\n",
       " 'RestingBP',\n",
       " 'Cholesterol',\n",
       " 'MaxHR',\n",
       " 'Oldpeak',\n",
       " 'ChestPainType=ASY',\n",
       " 'ChestPainType=ATA',\n",
       " 'ChestPainType=NAP',\n",
       " 'ChestPainType=TA',\n",
       " 'ExerciseAngina=Y',\n",
       " 'FastingBS=L',\n",
       " 'RestingECG=LVH',\n",
       " 'RestingECG=Normal',\n",
       " 'RestingECG=ST',\n",
       " 'ST_Slope=Down',\n",
       " 'ST_Slope=Flat',\n",
       " 'Sex=M']"
      ]
     },
     "execution_count": 13,
     "metadata": {},
     "output_type": "execute_result"
    }
   ],
   "source": [
    "feature_names = numerical + categorical_update\n",
    "feature_names"
   ]
  },
  {
   "cell_type": "markdown",
   "id": "0570ccfa",
   "metadata": {},
   "source": [
    "<font size=\"5\"> 👏 </font>  Ya tenemos todo para entrenar nuestro bosque aleatorio."
   ]
  },
  {
   "cell_type": "markdown",
   "id": "ccd54a62",
   "metadata": {},
   "source": [
    "<a href=#toc>Subir a Tabla de Contenidos</a><br>"
   ]
  },
  {
   "cell_type": "markdown",
   "id": "a9b019fd",
   "metadata": {},
   "source": [
    "<a name='model-ml'/>"
   ]
  },
  {
   "cell_type": "markdown",
   "id": "c887bb84",
   "metadata": {},
   "source": [
    "## <font color=#ac6240>3. Aplicación del modelo de aprendizaje automático: Bosque Aleatorio</font>"
   ]
  },
  {
   "cell_type": "markdown",
   "id": "639fbeeb",
   "metadata": {
    "lang": "es"
   },
   "source": [
    "Entrenaremos el modelo de aprendizaje supervisado llamado bosque aleatorio ('Random Forest') que es uno de los clasificadores de aprendizaje automático más populares (ver, por ejemplo, [Kaggle 2021](https://storage.googleapis.com/kaggle-media/surveys/Kaggle's%20State%20of%20Machine%20Learning%20and%20Data%20Science%202021.pdf) página 32). En el Jupyter Notebook `Exploration_and_Classification.ipynb` que se encuentra en [este repositorio](https://github.com/MMdeCastro/Uncertainty_Quantification_XAI) probamos varios modelos de clasificación y el bosque aleatorio resultó ser el ganador.\n",
    "\n",
    "El bosque aleatorio es un tipo de [Ensemble Learning](https://en.wikipedia.org/wiki/Ensemble_learning): corremos en paralelo muchos árboles de decisión y tomamos la predicción del que obtuvo más aciertos. Primero, se crean múltiples conjuntos de datos de entrenamiento mediante el muestreo de datos del conjunto de datos de entrenamiento (un método conocido como 'bootstrapping' o 'bagging') y luego se entrena un árbol de decisión en cada uno de estos conjuntos de datos.  Pueden usarse para resolver problemas de regresión o de clasificación. Por lo general, los bosques aleatorios tienen un alto rendimiento, pero no son interpretables (son 'black-boxes') y no son recomendables para grandes conjuntos de datos (~ TB) porque requieren mucha más potencia de computadora que la regresión logística, por ejemplo."
   ]
  },
  {
   "cell_type": "markdown",
   "id": "7f92daf3",
   "metadata": {},
   "source": [
    "<a name='model-metric'/>"
   ]
  },
  {
   "cell_type": "markdown",
   "id": "efd33785",
   "metadata": {},
   "source": [
    "### <font color=#ac6240>3.1 Selección de la Métrica y del umbral de decisión</font>"
   ]
  },
  {
   "cell_type": "markdown",
   "id": "53f7f180",
   "metadata": {},
   "source": [
    "En el Jupyter Notebook `Exploration_and_Classification.ipynb` que se encuentra en [este repositorio](https://github.com/MMdeCastro/Uncertainty_Quantification_XAI), decidimos medir la calidad del modelo con la metrica denominada 'F1-score' porque **queremos evitar los Falsos Negativos (no queremos diagnostiar como sane a une paciente en riesgo)**. Además, contaremos la tasa de Verdaderos Positivos (o 'recall') y no perderemos de vista la precisión ('precision') y exactitud ('accuracy').\n",
    "\n",
    "\n",
    "Por último, concluimos que definíamos el umbral de decisión en `t = 0.4`."
   ]
  },
  {
   "cell_type": "markdown",
   "id": "0ea26f4b",
   "metadata": {},
   "source": [
    "<a name='model-RF'/>"
   ]
  },
  {
   "cell_type": "markdown",
   "id": "f2cdf592",
   "metadata": {},
   "source": [
    "### <font color=#ac6240>3.2 Entrenamiento, prueba, y aplicación del bosque aleatorio</font>"
   ]
  },
  {
   "cell_type": "markdown",
   "id": "baa5dfa7",
   "metadata": {
    "lang": "es"
   },
   "source": [
    "No vamos a repetir todo el proceso de ajuste y validación sino que directamente entrenamos y probamos ('test') el modelo de clasificación para poder comenzar la cuantificación de la incertidumbre en el siguiente apartado. "
   ]
  },
  {
   "cell_type": "markdown",
   "id": "d61a97f9",
   "metadata": {
    "lang": "es"
   },
   "source": [
    "#### <font color=#ac6240>3.2.1 Entrenamiento y prueba del bosque aleatorio</font>"
   ]
  },
  {
   "cell_type": "markdown",
   "id": "3f039304",
   "metadata": {
    "lang": "es"
   },
   "source": [
    "Entrenamos el modelo ganador con los datos de entrenamiento: "
   ]
  },
  {
   "cell_type": "code",
   "execution_count": 14,
   "id": "44d36ae9",
   "metadata": {},
   "outputs": [],
   "source": [
    "# train the machine learning model: random forest\n",
    "\n",
    "RF = RandomForestClassifier(max_depth = 10, min_samples_leaf = 5, \n",
    "                            n_estimators =  50, random_state = 1)\n",
    "\n",
    "model = RF.fit(X_proper_train, y_proper_train)"
   ]
  },
  {
   "cell_type": "markdown",
   "id": "e50fbcce",
   "metadata": {},
   "source": [
    "Vamos aplicarlo sobre los datos de prueba, primero los preparamos:"
   ]
  },
  {
   "cell_type": "code",
   "execution_count": 15,
   "id": "1fd3435f",
   "metadata": {},
   "outputs": [],
   "source": [
    "# preparation TEST data\n",
    "\n",
    "# reset index after the splitting shuffling\n",
    "df_test = df_test.reset_index(drop=True)\n",
    "# define target of the test set\n",
    "y_test = df_test.HeartDisease.values\n",
    "   \n",
    "# 1. encode the categorical features and remove redundant columns-------------    \n",
    "\n",
    "test_dict = df_test[categorical].to_dict(orient='records')\n",
    "X_test_cat = dv.transform(test_dict) \n",
    "\n",
    "# convert the data array to a dataframe\n",
    "df_X_test_cat = pd.DataFrame(X_test_cat,columns= dv.get_feature_names_out())\n",
    "\n",
    "# remove redundant columns\n",
    "df_X_test_cat.drop(['ExerciseAngina=N', 'FastingBS=H', 'Sex=F', 'ST_Slope=Up'], \n",
    "                    axis=1, inplace=True)\n",
    "\n",
    "# convert the dataframe to a np.array again\n",
    "X_test_cat = df_X_test_cat.to_numpy()\n",
    "\n",
    "# 2. scale the numerical features --------------------------------------------\n",
    "\n",
    "X_test_num = df_test[numerical].values\n",
    "#X_test_num = scaler.transform(X_test_num) \n",
    "\n",
    "# 3. join the matrices -------------------------------------------------------\n",
    "\n",
    "X_test = np.column_stack([X_test_num, X_test_cat]) "
   ]
  },
  {
   "cell_type": "markdown",
   "id": "b052abc6",
   "metadata": {},
   "source": [
    "#### Evaluación del modelo clasificador"
   ]
  },
  {
   "cell_type": "code",
   "execution_count": 16,
   "id": "7baf31d2",
   "metadata": {},
   "outputs": [
    {
     "name": "stdout",
     "output_type": "stream",
     "text": [
      "For the test dataset: ACC: 0.833 Recall: 0.846 F1: 0.815 ROC AUC: 0.887\n"
     ]
    }
   ],
   "source": [
    "# model application on TEST data\n",
    "y_pred = RF.predict_proba(X_test)[:, 1]\n",
    "\n",
    "# metrics analysis\n",
    "t = 0.4\n",
    "\n",
    "acc = accuracy_score(y_test, y_pred >= t) \n",
    "rec = recall_score(y_test, y_pred >= t)\n",
    "f1  = f1_score(y_test, y_pred >= t) \n",
    "auc = roc_auc_score(y_test, y_pred)\n",
    "print('For the test dataset:',\n",
    "      'ACC:', acc.round(3), 'Recall:', rec.round(3),'F1:', f1.round(3),\n",
    "      'ROC AUC:', auc.round(3))"
   ]
  },
  {
   "cell_type": "code",
   "execution_count": 17,
   "id": "852fa69f",
   "metadata": {},
   "outputs": [
    {
     "data": {
      "image/png": "[encoded data removed]",
      "text/plain": [
       "<Figure size 640x480 with 2 Axes>"
      ]
     },
     "metadata": {},
     "output_type": "display_data"
    }
   ],
   "source": [
    "# confusion matrix\n",
    "\n",
    "cf_matrix = confusion_matrix(y_test, y_pred >= t)\n",
    "\n",
    "ax = sns.heatmap(cf_matrix, annot=True, cmap='Blues')\n",
    "\n",
    "ax.set_title('Confusion Matrix\\n');\n",
    "ax.set_xlabel('\\nPredicted Values')\n",
    "ax.set_ylabel('Actual Values ');\n",
    "\n",
    "ax.xaxis.set_ticklabels(['0','1'])\n",
    "ax.yaxis.set_ticklabels(['0','1'])\n",
    "\n",
    "##plt.figure(figsize=(7,5))\n",
    "plt.rcParams['figure.figsize'] = [7, 5]  # re-run this cell to get the correct figure size\n",
    "\n",
    "plt.show();"
   ]
  },
  {
   "cell_type": "markdown",
   "id": "f80f4cdb",
   "metadata": {
    "lang": "es"
   },
   "source": [
    "<font size=\"5\"> 👏 </font> Como es un contexto médico, queremos evitar los Falsos Negativos y hemos obtenido solo 3, con un porcentaje de aciertos de aproximadamente el 90% (ver los valores de las métricas obtenidos), no está mal. Además, vimos en el Jupyter Notebook anterior que estos hiperparametros nos dan valores de las métricas similares a los de los conjuntos de datos de entrenamiento y validación, por lo que no estamos sobreajustadando ('overfitting') y esperamos que el modelo generalice bien dentro de lo posible."
   ]
  },
  {
   "cell_type": "markdown",
   "id": "dc4d2107",
   "metadata": {},
   "source": [
    "<a href=#toc>Subir a Tabla de Contenidos</a><br>"
   ]
  },
  {
   "cell_type": "markdown",
   "id": "0b123247",
   "metadata": {},
   "source": [
    "#### <font color=#ac6240>3.2.2 Aplicación del bosque aleatorio</font>"
   ]
  },
  {
   "cell_type": "markdown",
   "id": "a68c39ca",
   "metadata": {
    "lang": "es"
   },
   "source": [
    "Simulemos una nueva paciente con los siguientes datos:"
   ]
  },
  {
   "cell_type": "code",
   "execution_count": 18,
   "id": "ac29c840",
   "metadata": {},
   "outputs": [],
   "source": [
    "new_patient = {\n",
    "    'Age': 56,\n",
    "    'Sex': 'F',\n",
    "    'ChestPainType': 'ATA', \n",
    "    'RestingBP': 130,  \n",
    "    'Cholesterol': 150, \n",
    "    'FastingBS': 'L',\n",
    "    'RestingECG': 'ST',\n",
    "    'MaxHR': 115,\n",
    "    'ExerciseAngina': 'N',\n",
    "    'Oldpeak': 1.,\n",
    "    'ST_Slope': 'Flat',\n",
    " }"
   ]
  },
  {
   "cell_type": "markdown",
   "id": "4bca834d",
   "metadata": {
    "lang": "es"
   },
   "source": [
    "Preparamos los datos de entrada como en la sección <a href=#prep>2. Preparación de los datos</a>:"
   ]
  },
  {
   "cell_type": "code",
   "execution_count": 19,
   "id": "51da80dd",
   "metadata": {},
   "outputs": [],
   "source": [
    "num_dict = dict()\n",
    "cat_dict = dict()\n",
    "    \n",
    "for (key, value) in new_patient.items():\n",
    "    if key in numerical:\n",
    "        num_dict[key] = value\n",
    "    else:\n",
    "        cat_dict[key] = value\n",
    "\n",
    "# DictVect input must be a dict\n",
    "X_cat = dv.transform(cat_dict) # encode the categorical features\n",
    "df_X_cat = pd.DataFrame(X_cat,columns= dv.get_feature_names_out()) # convert array to df\n",
    "df_X_cat.drop(['ExerciseAngina=N', 'FastingBS=H', 'Sex=F', 'ST_Slope=Up'], \n",
    "              axis=1, inplace=True) # remove redundant columns\n",
    "X_cat = df_X_cat.to_numpy() # convert the dataframe to a np.array again\n",
    "\n",
    "# Scaler input must be a np.array\n",
    "X_num = np.array(list(num_dict.values())).reshape(1, -1)\n",
    "#X_num = scaler.transform(X_num) # scale the numerical features\n",
    "\n",
    "# Join both arrays\n",
    "X = np.column_stack([X_num, X_cat]) "
   ]
  },
  {
   "cell_type": "markdown",
   "id": "b123ce27",
   "metadata": {
    "lang": "es"
   },
   "source": [
    "y aplicamos el modelo de clasificación:"
   ]
  },
  {
   "cell_type": "code",
   "execution_count": 20,
   "id": "13c11fc9",
   "metadata": {},
   "outputs": [
    {
     "name": "stdout",
     "output_type": "stream",
     "text": [
      "\n",
      "Application of the Random Forest classifier to a new patient:\n",
      "\n",
      "The patient raw score of suffering a hear failure is: 0.33\n",
      "\n",
      "With t = 0.4 as the decision threshold, is there a risk of suffering a heart failure?\n",
      "False\n"
     ]
    }
   ],
   "source": [
    "print()\n",
    "y_pred = RF.predict_proba(X)[:, 1]\n",
    "print('Application of the Random Forest classifier to a new patient:')\n",
    "print()\n",
    "print(\"The patient raw score of suffering a hear failure is:\", y_pred[0].round(2))\n",
    "t = 0.4\n",
    "print()\n",
    "print(\"With t =\", t, \"as the decision threshold, is there a risk of suffering a heart failure?\")\n",
    "print(y_pred[0] >= t)"
   ]
  },
  {
   "cell_type": "markdown",
   "id": "527f17f5",
   "metadata": {},
   "source": [
    "Empezamos ya a implementar UQ para incluir la certeza de la predicción en lugar de un único valor puntual. Identificaremos así cuando nuestro modelo no está seguro de su predicción y podremos reducir el número de Falsos Negativos."
   ]
  },
  {
   "cell_type": "markdown",
   "id": "6960dd69",
   "metadata": {},
   "source": [
    "![Molnar_UQ](./images/Molnar_UQ.png \"Molnar_UQ\")"
   ]
  },
  {
   "cell_type": "markdown",
   "id": "77bee37a",
   "metadata": {},
   "source": [
    "[Fuente de la imagen](https://twitter.com/ChristophMolnar)"
   ]
  },
  {
   "cell_type": "markdown",
   "id": "4945ea01",
   "metadata": {},
   "source": [
    "<a href=#toc>Subir a Tabla de Contenidos</a><br>"
   ]
  },
  {
   "cell_type": "markdown",
   "id": "dedaf394",
   "metadata": {},
   "source": [
    "<a name='app-uq'/>"
   ]
  },
  {
   "cell_type": "markdown",
   "id": "2931515d",
   "metadata": {},
   "source": [
    "## <font color=#ac6240>4. Cuantificacion de incertidumbre</font>"
   ]
  },
  {
   "cell_type": "markdown",
   "id": "d564ba69",
   "metadata": {},
   "source": [
    "Como mencionamos más arriba, las librerías más populares de Python (Scikit-learn, XGBoost, ... ) púntuan las prediciones con el método `.predict_proba()` que, a pesar de su nombre, en realidad no produce probabilidades (ver por ejemplo, el artículo [_\"Are you sure that's a probability?\"_](https://kiwidamien.github.io/are-you-sure-thats-a-probability.html)). En Keras `.predict_proba()` quedó obsoleto desde TensorFlow 2.6, hay que usar `.predict()`, en Torch sería por ejemplo, `torch.sigmoid()` para nuestro caso binario. \n",
    "\n",
    "Estas puntuaciones crudas o 'raw scores' que salen de la última función de activación (normalmente una sigmoid o softmax, aunque en las capas internars usaras `activation='relu'` ver por ejemplo los [docs de Scikit-learn](https://github.com/scikit-learn/scikit-learn/blob/7b136e9/sklearn/neural_network/multilayer_perceptron.py#L267\n",
    ")) van entre 0 y 1 y todas juntas suman 1 (por ejemplo, en una tarea de clasificación binaria como la del ejemplo de la sección 1.1 <a href=#project-description-intro>Introducción</a>, si una instancia obtiene 0.9 para la clase \"gate\", entonces obtiene 0.1 para la clase \"perre\") pero no por eso son probabilidades porque **no están calibradas, es decir, no es necesariamente cierto que las instancias que obtuvieron 0.9 sean un 90% \"gates\"**. Como mucho podemos considerarlas solo como 'probabilidades heurísticas' es decir, sin garantía estadística. Asumir que las 'raw scores' son verdaderamente probabilidades causa consecuencias desastrosas a la hora de inferir información o al intentar sumar estas puntuaciones a verdaderas probabilidades, como se explica en [_\"How to calibrate your classifier in an intelligent way using Machine Learning Conformal Prediction\"_](https://valeman.medium.com/how-to-calibrate-your-classifier-in-an-intelligent-way-a996a2faf718).\n",
    "\n",
    "Como decíamos, las puntuaciones están calibradas para ser verdaderas probabilidades si, por ejemplo, entre todas las clasificaciones con una puntuación del 90% encontramos la clase verdadera 9 de cada 10 veces. Por ejemplo, cuando en la sección 1.1 <a href=#project-description-intro>Introducción</a> hablábamos de la clasificación binaria de imágenes de \"perres\" (0) y \"gates\" (1) y la primera foto (que era une gate) obtenía una 'raw score' de 0.9, para que esa 'raw score' fuera una verdadera probabilidad deberíamos encontrar una foto de une gate el 90% de las veces que una foto obtuviera un 0.9 en la fase de inferencia. Para ver que así sea, hemos de calibrar esa 'raw score' con el numero de imágenes de gates que realmente había en el conjunto de datos de calibración (algo que ni el método `.predict_proba()` ni `.predict()` hacen). Lo que ocurre a menudo es que al calibrar esa 'raw score' obtenemos un nuevo valor. Por ejemplo, la verdadera puntuación (que ya es una verdadera probabilidad) de la foto de ese gate puede que pase de 0.9 a 0.7.\n",
    "\n",
    "Aquí vamos a explicar la familia de métodos denominados ['Conformal Predictors'](https://en.wikipedia.org/wiki/Conformal_prediction) los cuales funcionan para cualquier modelo de aprendizaje automático y nos permiten calibrar nuestras 'raw scores' para que sean verdaderas probabilidades y en el proceso obtendremos los intervalos de predicción tal que: \n",
    "\n",
    "+ de la 'raw score' de 0.9 para el ejemplo de la foto de le gate, obtendríamos algo como [0.75, 0.80], lo que nos da la idea de que el modelo de clasificación está bastante seguro de que es une gate, \n",
    "+ de la 'raw score' de 0.5 para el ejemplo de la foto de le perre con espuma en la cabeza, obtendríamos algo como [0.35, 0.65], lo que nos dice que no nos fiemos de ese resultado, y\n",
    "+ para la imagen de la pájaro la 'raw score' calibrada sería algo como [0.1, 0.8], es decir, algo muy poco fiable que nos avisa que no debemos confiar en esa predicción. \n",
    "\n",
    "A continuación aplicamos un ejemplo para nuestra predicción de fallo cardíaco en la sección <a href=#uq-cp>4.1 Conformal Predictors</a>."
   ]
  },
  {
   "cell_type": "markdown",
   "id": "5a0fb828",
   "metadata": {},
   "source": [
    "<a name='uq-cp'/>"
   ]
  },
  {
   "cell_type": "markdown",
   "id": "93be5d38",
   "metadata": {},
   "source": [
    "### <font color=#ac6240>4.1 Conformal Predictors</font>"
   ]
  },
  {
   "cell_type": "markdown",
   "id": "6e9e5c1d",
   "metadata": {},
   "source": [
    "La ['Conformal Prediction'](https://en.wikipedia.org/wiki/Conformal_prediction) es una familia de métodos para cuantizar la incertidumbre de los resultados de un modelo y saber así cuánto podemos confiar en ellos. Recibe su nombre de la denominada medida de no conformidad, o 'nonconformity measure' que cuantiza cuán diferente es la  predicción dentro del conjunto de predicciones que obtuvimos al predecir el conjunto de entrenamiento. Una alta 'nonconformity' indica que el nuevo dato es raro, como la foto de le pájare en el ejemplo de clasificación de perres y gates de la Introducción de este Jupyter Notebook. Algunos autores y autoras la llaman medida de conformidad, es lo mismo, son maneras de hablar.\n",
    "\n",
    "Las personas que aplicamos Conformal Predictions nos llamamos 'nonconformists'.\n",
    "\n",
    "\n",
    "<font size=\"5\">😎<font/>\n",
    "    \n",
    "Los miembros de la familia de la Prediccón Conforme son esencialmente calibradores de las predicciones que en el proceso de calibración generan regiones de predicción alrededor de dichas predicciones. Cuánto más estrecha es la región, más confiamos en la predicción. Si la predicción puede tomar valores contínuos, como en tareas de regresión, las regiones son intervalos, por ejemplo [49,55] y si pueden tomar valores discretos, como ocurre en clasificación, las regiones son conjuntos (\"sets\"), por ejemplo [\"gate\", \"perre\"]."
   ]
  },
  {
   "cell_type": "markdown",
   "id": "cd21442f",
   "metadata": {},
   "source": [
    "La 'Predicción Conforme':\n",
    "\n",
    "+ es 'model-agnostic', funciona para cualquier modelo de aprendizaje automático y para cualquier tarea, ni siquiera necesita conocer al modelo de aprendizaje automático para el que está cuantizando la incertidumbre de sus predicciones,     \n",
    "+ ofrece garantía de cobertura demostrada matemáticamente: los intervalos de predicción vienen con garantías de contener el resultado verdadero dado un nivel de confianza determinada, por ejemplo, garantizan contener a la 'ground truth' el 90%, 95%, o 99% de las veces,\n",
    "+ se aplica en el 'post-processing' sobre las predicciones del modelo de aprendizaje automático ya entrenado (no hay que reentrenar el random forest, en este caso), es decir, una vez obtenidas las predicciones, las conformalizamos,\n",
    "+ requiere pocas líneas de código y es rápida, \n",
    "+ funciona para datos recogidos en tiempo real, es decir, 'online assimilation',\n",
    "+ a diferencia de los métodos paramétricos, no es necesario asumir que la variable de destino o 'target' está distribuida según una cierta distribución (casi nada en el universo puede aproximarse a una distribución normal y recordemos que el Teorema del Límite Central no indica eso, lo que indica es que las _medias_ de las distribuciones se aproximan a una distribución normal).\n",
    "\n",
    "De hecho, la única condición para garantizar la cobertura de los intervalos de predicción calculados con 'Conformal Prediction' es que las instancias sean [intercambiables](https://en.m.wikipedia.org/wiki/Exchangeable_random_variables), es decir, que el orden de los datos no importe, (como en nuestro caso, el clasificador Random Forest no requiere que les pacientes estén ordenades, cualquier ordenación de les pacientes arrojará estadísticamente el mismo resultado) lo cual es una restricción menos fuerte que la típica restricción sobre que los datos han de ser independientes e estar idénticamente distributidos o [iid](https://es.wikipedia.org/wiki/Variables_aleatorias_independientes_e_id%C3%A9nticamente_distribuidas). Aunque desde 2021 ya hay algoritmos de CP para confomalizar series temporales (ver siguiente subsección) que demuestran empíricamente poder generar intervalos de predicción que continene a la predicción verdadera (es decir, la demostración es empírica, no matemática). Y un artículo muy reciente ha demostrado que ni siquiera se necesita asumir intercambiabilidad, aunque el coste computacional de este método es algo: [\"_Conformal Validity Guarantees Exist for Any Data Distribution (and How to Find Them)\"_](https://arxiv.org/abs/2405.06627). A continuación aplicamos la \"Inductive Conformal Prediction\" o \"Split Conformal Prediction\" que no requiere reentrenar el modelo de aprendizaje automático para cada inferencia, en contraposición de la \"Transductive Conformal Prediction\", la CP original, que implica reentrenar en cada predicción.\n",
    "\n",
    "Así, la 'Conformal Prediction' nos cuantifica la incertidumbre en forma de intervalos de predicción, también llamados 'conformal intervals' (para tareas de clasificación, 'conformal sets'), que con garantía estadística incluyen la prediccion correcta con cierta probabilidad, lo cual se llama 'coverage guarantee'. Entonces, en lugar de obtener predicciones puntuales ('single-point predictions'), es decir, un número real en el caso de una regresión o la etiqueta de una clase (recordemos el último ejemplo en `Exploration_and_classification.ipynb` donde la nueva paciente obtenia una 'raw score' de 0.32, con el umbral de decisión en 't = 0.4', nos clasificaba a esa paciente con una única clase 'HeartDisease = 0') en el caso de una clasificación, los resultados calibrados con 'Conformal prediction' nos dan un intervalo de números reales o un conjunto de etiquetas, respectivamente.\n",
    "    \n",
    "Por ejemplo, aplicando 'Conformal Prediction' a los resultados de un modelo de aprendizaje automático (una Deep Neural Network en PyTorch) para una clasificación de imágenes, vemos que éste:\n",
    "    \n",
    "+ no está muy seguro de si la primera foto era un osciloscopio, así que nos lo ofrece como primera opción en un interval set con otras dos opciones, 'microondas' y 'portátil', \n",
    "+ tampoco está muy seguro de la foto central, de nuevo nos dió la respuesta correcta como primera opción pero el interval set contiene también 'refrigerador' y ' lavadora', y\n",
    "+ está muy seguro de que en la foto de la derecha hay une perre de raza 'Irish Setter' (seguro que ha visto muchos como ese, para el modelo no es para nada una imagen rara), y es la única opción del interval set:"
   ]
  },
  {
   "cell_type": "markdown",
   "id": "1910d84b",
   "metadata": {},
   "source": [
    "![CP_example](./images/CP_4.png \"CP_example\")"
   ]
  },
  {
   "cell_type": "markdown",
   "id": "c36d8e43",
   "metadata": {},
   "source": [
    "[Fuente de la imagen: Google Colab de A. Angelopoulos desarrollador de MAPIE](https://colab.research.google.com/github/aangelopoulos/conformal_classification/blob/master/example.ipynb#scrollTo=oIiBD-pFVdkD)"
   ]
  },
  {
   "cell_type": "markdown",
   "id": "49acbc82",
   "metadata": {},
   "source": [
    "Recordamos que el intervalo de predicción que obtenemos con la 'Conformal Prediccion' no es un mero ranking de las 'raw scores' de cada clase si no una verdadera probabilidad con garantías estadísticas de que la verdadera clase está dentro de ese intervalo."
   ]
  },
  {
   "cell_type": "markdown",
   "id": "545f54a4",
   "metadata": {},
   "source": [
    "<font color=#6B8E23 size=\"4\"> Material adicional y referencias</font>\n",
    "\n",
    "<font color=#6B8E23 size=\"3\"> Cursos, charlas, y blogs\n",
    "\n",
    "+ Las slides de mi charla [\"Conformal Prediction: Key Concepts\"](https://docs.google.com/presentation/d/1bQYIFyQysQPx79wJq1mltylsH_aeO2AnLYRlHiLq6vo/edit#slide=id.g2dd387acb29_0_4)\n",
    "    \n",
    "+ El curso gratuito de Christoph Molnar (subscríbete [aquí](https://substack.com/sign-in?redirect=%2Faccount%3Futm_source%3Dsubstack%26utm_medium%3Demail&for_pub=mindfulmodeler&email=&with_password=&change_user=false&justTrying=)), el autor del maravilloso libro gratuito sobre XAI [_\"Interpretable Machine Learning\"_](https://christophm.github.io/interpretable-ml-book/), que recomendamos en el Jupyter Notebook `XAI.ipynb`, que ahora se ha pasado a la UQ y ha publicado un libro sobre Conformal Prediction [_\"Introduction To Conformal Prediction With Python. A Short Guide For Quantifying Uncertainty Of Machine Learning Models\"_](https://christophmolnar.com/books/conformal-prediction/) <font size=\"3\">♫♫🎈♫♫</font>.\n",
    "+ El genial post sobre cómo usan Conformal Prediction para conformalizar la clasificación de sus clientes en el [banco BBVA](https://www.bbvaaifactory.com/es/conformal-prediction-an-introduction-to-measuring-uncertainty/)\n",
    "+ La maravillosa charla _\"Quantifying uncertainty in Machine Learning predictions\"_ de [Maria Navarro](https://youtu.be/r6bhm_A-YcQ).\n",
    "+ La charla sobre Conformal Predictors en el [curso sobre incertidumbre de la Universidad de Pennsylvania](https://uncertaintyclass.com/), este es el [vídeo](https://youtu.be/M3tkM4dcIPA).\n",
    "+ El blog de los creadores de los 'Conformal Predictors'  [Prof. Vladimir Vovk y Prof. Alex Gammerman](https://cml.rhul.ac.uk/cp.html).\n",
    "+ Este [kernel de Kaggle](https://www.kaggle.com/code/carlmcbrideellis/regression-prediction-intervals-with-mapie) que explica como usar los Conformal Predictors en una tarea de regresión.\n",
    "+ El repositorio ['Awesome Conformal Prediction'](https://github.com/valeman/awesome-conformal-prediction) y los artículos de Medium de Valeriy Manokhin del grupo de investigación que creó la 'Conformal Prediction'.\n",
    "    \n",
    "<font color=#6B8E23 size=\"3\"> Libros\n",
    "\n",
    "+ De nuevo el libro de Christoph Molnar [_\"Introduction To Conformal Prediction With Python. A Short Guide For Quantifying Uncertainty Of Machine Learning Models\"_](https://christophmolnar.com/books/conformal-prediction/).    \n",
    "+ El nuevo libro de Valeriy Manokhin [_\"Practical Guide to Applied Conformal Prediction in Python: Learn and apply the best uncertainty frameworks to your industry applications \"_](https://www.packtpub.com/product/practical-guide-to-applied-conformal-prediction-in-python/9781805122760).\n",
    "\n",
    "<font color=#6B8E23 size=\"3\">Librerías especializadas en Conformal Prediction</font>\n",
    "\n",
    "+ Los paquetes de Python, compatibles con Scikit-learn, que incluyen buenos tutoriales y que se pueden instalar fácilmente con `pip install`:\n",
    "    + [MAPIE](https://github.com/scikit-learn-contrib/MAPIE),\n",
    "    + [CREPES](https://github.com/henrikbostrom/crepes), incluye una implementación de CP llamada \"Conformal Predictive Systems\" que produce la cumulative distribution function de cada predición.\n",
    "    + [R2CCP](https://github.com/EtashGuha/R2CCP), especializada en regresión, calcula la incertidumbre incluso si los datos no están siempre igual de esparcidos (heterocedasticidad) o su distribución es bimodal,\n",
    "    + [PUNCC](https://github.com/deel-ai/puncc),\n",
    "    + [TorchCP](https://github.com/ml-stat-Sustech/TorchCP) especialmente para Deep Learning, \n",
    "    + [Conformal Tights](https://pypi.org/project/conformal-tights/) especializada en problemas de regresión, y\n",
    "    + [nonconformist](https://github.com/donlnz/nonconformist/blob/master/README.ipynb), el primero que hubo, incluye una implementación de la \"Transductive Conformal Prediction\".\n",
    "    \n",
    "+ Teoría y ejemplos en el repositorio [A. Angelopoulos](https://github.com/aangelopoulos/conformal-prediction), uno de los dos autores de [_\"A Gentle Introduction to Conformal Prediction and Distribution-Free Uncertainty Quantification_\"](https://arxiv.org/abs/2107.07511).\n"
   ]
  },
  {
   "cell_type": "markdown",
   "id": "601e051d",
   "metadata": {},
   "source": [
    "### Intervalos de predicción de fallo cardíaco\n",
    "\n",
    "Apliquemos la 'Conformal Prediction' a las predicciones de nuestro bosque aleatorio. \n",
    "\n",
    "Como estamos ante una tarea de clasificación binaria, usamos el método denominado 'Inductive Venn-ABERS Prediction (IVAP)' descrita en el artículo [_\"Large-scale probabilistic prediction with and without validity guarantees\"_](http://alrw.net/articles/13.pdf).\n",
    "\n",
    "Este método, al ser \"Inductive\" requiere de un conjunto de datos de calibración que ya separamos al comienzo del este Jupyter Notebook:"
   ]
  },
  {
   "cell_type": "code",
   "execution_count": 21,
   "id": "f17fac8e",
   "metadata": {},
   "outputs": [],
   "source": [
    "# preparation CALIBRATION data\n",
    "\n",
    "# reset index after the splitting shuffling\n",
    "df_cal = df_cal.reset_index(drop=True)\n",
    "# define target of the test set\n",
    "y_cal = df_cal.HeartDisease.values\n",
    "   \n",
    "# 1. encode the categorical features and remove redundant columns-------------    \n",
    "\n",
    "cal_dict = df_cal[categorical].to_dict(orient='records')\n",
    "X_cal_cat = dv.transform(cal_dict) \n",
    "\n",
    "# convert the data array to a dataframe\n",
    "df_X_cal_cat = pd.DataFrame(X_cal_cat,columns= dv.get_feature_names_out())\n",
    "\n",
    "# remove redundant columns\n",
    "df_X_cal_cat.drop(['ExerciseAngina=N', 'FastingBS=H', 'Sex=F', 'ST_Slope=Up'], \n",
    "                    axis=1, inplace=True)\n",
    "\n",
    "# convert the dataframe to a np.array again\n",
    "X_cal_cat = df_X_cal_cat.to_numpy()\n",
    "\n",
    "# 2. scale the numerical features --------------------------------------------\n",
    "\n",
    "X_cal_num = df_cal[numerical].values\n",
    "#X_cal_num = scaler.transform(X_cal_num) \n",
    "\n",
    "# 3. join the matrices -------------------------------------------------------\n",
    "\n",
    "X_cal = np.column_stack([X_cal_num, X_cal_cat]) "
   ]
  },
  {
   "cell_type": "markdown",
   "id": "23fb13eb",
   "metadata": {},
   "source": [
    "Usamos la implementación del repositorio de [Paolo Toccaceli](https://github.com/ptocca/VennABERS/), que para cada paciente nos calculará los límites superior e inferior de los intervalos de predicción y la probabilidad conformalizada. Simplemente copiamos y pegamos aquí el código:"
   ]
  },
  {
   "cell_type": "code",
   "execution_count": 22,
   "id": "bc61accc",
   "metadata": {},
   "outputs": [],
   "source": [
    "# Some elementary functions to speak the same language as the paper\n",
    "# (at some point we'll just replace the occurrence of the calls with the function body itself)\n",
    "def push(x,stack):\n",
    "    stack.append(x)\n",
    "    \n",
    "def pop(stack):\n",
    "    return stack.pop()\n",
    "\n",
    "def top(stack):\n",
    "    return stack[-1]\n",
    "\n",
    "def nextToTop(stack):\n",
    "    return stack[-2]\n",
    "\n",
    "# perhaps inefficient but clear implementation\n",
    "def nonleftTurn(a,b,c):   \n",
    "    d1 = b-a\n",
    "    d2 = c-b\n",
    "    return np.cross(d1,d2)<=0\n",
    "\n",
    "def nonrightTurn(a,b,c):   \n",
    "    d1 = b-a\n",
    "    d2 = c-b\n",
    "    return np.cross(d1,d2)>=0\n",
    "\n",
    "def slope(a,b):\n",
    "    ax,ay = a\n",
    "    bx,by = b\n",
    "    return (by-ay)/(bx-ax)\n",
    "\n",
    "def notBelow(t,p1,p2):\n",
    "    p1x,p1y = p1\n",
    "    p2x,p2y = p2\n",
    "    tx,ty = t\n",
    "    m = (p2y-p1y)/(p2x-p1x)\n",
    "    b = (p2x*p1y - p1x*p2y)/(p2x-p1x)\n",
    "    return (ty >= tx*m+b)\n",
    "\n",
    "kPrime = None\n",
    "\n",
    "# Because we cannot have negative indices in Python (they have another meaning), I use a dictionary\n",
    "\n",
    "def algorithm1(P):\n",
    "    global kPrime\n",
    "    \n",
    "    S = []\n",
    "    P[-1] = np.array((-1,-1))\n",
    "    push(P[-1],S)\n",
    "    push(P[0],S)\n",
    "    for i in range(1,kPrime+1):\n",
    "        while len(S)>1 and nonleftTurn(nextToTop(S),top(S),P[i]):\n",
    "            pop(S)\n",
    "        push(P[i],S)\n",
    "    return S\n",
    "\n",
    "def algorithm2(P,S):\n",
    "    global kPrime\n",
    "    \n",
    "    Sprime = S[::-1]     # reverse the stack\n",
    "\n",
    "    F1 = np.zeros((kPrime+1,))\n",
    "    for i in range(1,kPrime+1):\n",
    "        F1[i] = slope(top(Sprime),nextToTop(Sprime))\n",
    "        P[i-1] = P[i-2]+P[i]-P[i-1]\n",
    "        if notBelow(P[i-1],top(Sprime),nextToTop(Sprime)):\n",
    "            continue\n",
    "        pop(Sprime)\n",
    "        while len(Sprime)>1 and nonleftTurn(P[i-1],top(Sprime),nextToTop(Sprime)):\n",
    "            pop(Sprime)\n",
    "        push(P[i-1],Sprime)\n",
    "    return F1\n",
    "\n",
    "def algorithm3(P):\n",
    "    global kPrime\n",
    "\n",
    "    S = []\n",
    "    push(P[kPrime+1],S)\n",
    "    push(P[kPrime],S)\n",
    "    for i in range(kPrime-1,0-1,-1):  # k'-1,k'-2,...,0\n",
    "        while len(S)>1 and nonrightTurn(nextToTop(S),top(S),P[i]):\n",
    "            pop(S)\n",
    "        push(P[i],S)\n",
    "    return S\n",
    "\n",
    "def algorithm4(P,S):\n",
    "    global kPrime\n",
    "    \n",
    "    Sprime = S[::-1]     # reverse the stack\n",
    "    \n",
    "    F0 = np.zeros((kPrime+1,))\n",
    "    for i in range(kPrime,1-1,-1):   # k',k'-1,...,1\n",
    "        F0[i] = slope(top(Sprime),nextToTop(Sprime))\n",
    "        P[i] = P[i-1]+P[i+1]-P[i]\n",
    "        if notBelow(P[i],top(Sprime),nextToTop(Sprime)):\n",
    "            continue\n",
    "        pop(Sprime)\n",
    "        while len(Sprime)>1 and nonrightTurn(P[i],top(Sprime),nextToTop(Sprime)):\n",
    "            pop(Sprime)\n",
    "        push(P[i],Sprime)\n",
    "    return F0\n",
    "\n",
    "def prepareData(calibrPoints):\n",
    "    global kPrime\n",
    "    \n",
    "    ptsSorted = sorted(calibrPoints)\n",
    "    \n",
    "    xs = np.fromiter((p[0] for p in ptsSorted),float)\n",
    "    ys = np.fromiter((p[1] for p in ptsSorted),float)\n",
    "    ptsUnique,ptsIndex,ptsInverse,ptsCounts = np.unique(xs, \n",
    "                                                        return_index=True,\n",
    "                                                        return_counts=True,\n",
    "                                                        return_inverse=True)\n",
    "    a = np.zeros(ptsUnique.shape)\n",
    "    np.add.at(a,ptsInverse,ys)\n",
    "    # now a contains the sums of ys for each unique value of the objects\n",
    "    \n",
    "    w = ptsCounts\n",
    "    yPrime = a/w\n",
    "    yCsd = np.cumsum(w*yPrime)   # Might as well do just np.cumsum(a)\n",
    "    xPrime = np.cumsum(w)\n",
    "    kPrime = len(xPrime)\n",
    "    \n",
    "    return yPrime,yCsd,xPrime,ptsUnique\n",
    "\n",
    "def computeF(xPrime,yCsd):\n",
    "    global kPrime\n",
    "    P = {0:np.array((0,0))}\n",
    "    P.update({i+1:np.array((k,v)) for i,(k,v) in enumerate(zip(xPrime,yCsd))})\n",
    "    \n",
    "    S = algorithm1(P)\n",
    "    F1 = algorithm2(P,S)\n",
    "    \n",
    "    P = {0:np.array((0,0))}\n",
    "    P.update({i+1:np.array((k,v)) for i,(k,v) in enumerate(zip(xPrime,yCsd))})    \n",
    "    P[kPrime+1] = P[kPrime] + np.array((1.0,0.0))    # The paper says (1,1)\n",
    "    \n",
    "    S = algorithm3(P)\n",
    "    F0 = algorithm4(P,S)\n",
    "    \n",
    "    return F0,F1\n",
    "\n",
    "def getFVal(F0,F1,ptsUnique,testObjects):\n",
    "    pos0 = np.searchsorted(ptsUnique,testObjects,side='left')\n",
    "    pos1 = np.searchsorted(ptsUnique[:-1],testObjects,side='right')+1\n",
    "    return F0[pos0],F1[pos1]\n",
    "\n",
    "def ScoresToMultiProbs(calibrPoints,testObjects):\n",
    "    # sort the points, transform into unique objects, with weights and updated values\n",
    "    yPrime,yCsd,xPrime,ptsUnique = prepareData(calibrPoints)\n",
    "    \n",
    "    # compute the F0 and F1 functions from the CSD\n",
    "    F0,F1 = computeF(xPrime,yCsd)\n",
    "    \n",
    "    # compute the values for the given test objects\n",
    "    p0,p1 = getFVal(F0,F1,ptsUnique,testObjects)\n",
    "                    \n",
    "    return p0,p1"
   ]
  },
  {
   "cell_type": "markdown",
   "id": "f9d2aef3",
   "metadata": {},
   "source": [
    "Aplicando la función `ScoresToMultiProbs()` a  la lista de pares '(raw_score, target value)' de las predicciones del bosque aleatorio que obtuvimos sobre el conjunto de entrenamiento, y la 'raw score' de la instancia dada, en nuestro caso, une paciente, obtenemos el límite inferior 'p0' y superior 'p1' (i.e., los límites de nuestro intervalos de predicción) de la probabilidad bien calibrada para la clase '1', en nuestro caso la probabilidad de pertenecer al grupo en riesgo de sufrir fallo cardíaco. La probabilidad calibrada de 'HeartDisease=1' para esa paciente se calcula con la fórmula `p_calibrada = p1/(1 - p0 + p1)` que se obtiene a partir de los límites de nuestro intervalo."
   ]
  },
  {
   "cell_type": "code",
   "execution_count": 23,
   "id": "7e218c00",
   "metadata": {},
   "outputs": [],
   "source": [
    "# model application on TRAINIG data to get the 'raw scores'\n",
    "y_pred_train = RF.predict_proba(X_proper_train)[:, 1]\n",
    "# model application on CALIBRATION data for calibration\n",
    "y_pred_cal = RF.predict_proba(X_cal)[:, 1]"
   ]
  },
  {
   "cell_type": "markdown",
   "id": "5ce49b21",
   "metadata": {},
   "source": [
    "Apliquemos el análisis sobre algunes pacientes:"
   ]
  },
  {
   "cell_type": "code",
   "execution_count": 82,
   "id": "aa99e1aa",
   "metadata": {},
   "outputs": [
    {
     "name": "stdout",
     "output_type": "stream",
     "text": [
      "'Raw score' for the prediction risk of heart disease 0.86\n",
      "Actual risk of heart disease:     1\n",
      "Calibrated score is: 0.96\n",
      "Probability of suffering heart failure is 96.0 %\n",
      "Prediction interval: [ 0.96 , 0.97 ]\n",
      "Lenght 0.01\n"
     ]
    }
   ],
   "source": [
    "patient_number = 0 \n",
    "individual_prediction_array = X_test[patient_number : (patient_number + 1)]\n",
    "#df_X_test.iloc[patient_number].values.reshape(1, -1)\n",
    "y_pred_test = RF.predict_proba(individual_prediction_array)[0][1].round(2)\n",
    "print(\"'Raw score' for the prediction risk of heart disease\", y_pred_test)\n",
    "print(\"Actual risk of heart disease:    \", y_test[patient_number])\n",
    "\n",
    "# apply Conformal Prediction\n",
    "p0,p1 = ScoresToMultiProbs(list(zip(y_pred_train,y_proper_train)),y_pred_test)\n",
    "# p0 and p1 are both probabilities of class 1 (lower and upper bound)\n",
    "# the difference tells us how hard it is to classify this instance\n",
    "\n",
    "print('Calibrated score is:', (p1/(1 - p0 + p1)).round(2))\n",
    "print('Probability of suffering heart failure is', (((p1/(1 - p0 + p1)).round(2))*100).round(0),'%')\n",
    "print('Prediction interval: [', p0.round(2),',', p1.round(2),']')\n",
    "print('Lenght', (p1 - p0).round(2))"
   ]
  },
  {
   "cell_type": "markdown",
   "id": "f24109d3",
   "metadata": {},
   "source": [
    "Vemos que es une paciente bien clasificade como fuera de riesgo cuyo intervalo de predicción es menor de 0.05, con una confianza del 95% aceptaríamos esta predicción como confiable. Al calibrar, la probabilidad de fallo cardíaco es aún menor que la puntuación predicha por el modelo sin calibrar. \n",
    "\n",
    "Probemos otre paciente:"
   ]
  },
  {
   "cell_type": "code",
   "execution_count": 83,
   "id": "88ffb024",
   "metadata": {},
   "outputs": [
    {
     "name": "stdout",
     "output_type": "stream",
     "text": [
      "'Raw score' for the prediction risk of heart disease 0.97\n",
      "Actual risk of heart disease:     1\n",
      "Calibrated score is: 0.98\n",
      "Probability of suffering heart failure is 98.0 %\n",
      "Prediction interval: [ 0.98 , 1.0 ]\n",
      "Lenght 0.02\n"
     ]
    }
   ],
   "source": [
    "patient_number = 1 \n",
    "individual_prediction_array = X_test[patient_number : (patient_number + 1)]\n",
    "#df_X_test.iloc[patient_number].values.reshape(1, -1)\n",
    "y_pred_test = RF.predict_proba(individual_prediction_array)[0][1].round(2)\n",
    "print(\"'Raw score' for the prediction risk of heart disease\", y_pred_test)\n",
    "print(\"Actual risk of heart disease:    \", y_test[patient_number])\n",
    "\n",
    "# apply Conformal Prediction\n",
    "p0,p1 = ScoresToMultiProbs(list(zip(y_pred_train,y_proper_train)),y_pred_test)\n",
    "# p0 and p1 are both probabilities of class 1 (lower and upper bound)\n",
    "# the difference tells us how hard it is to classify this instance\n",
    "\n",
    "print('Calibrated score is:', (p1/(1 - p0 + p1)).round(2))\n",
    "print('Probability of suffering heart failure is', (((p1/(1 - p0 + p1)).round(2))*100).round(0),'%')\n",
    "print('Prediction interval: [', p0.round(2),',', p1.round(2),']')\n",
    "print('Lenght', (p1 - p0).round(2))"
   ]
  },
  {
   "cell_type": "markdown",
   "id": "862b358d",
   "metadata": {},
   "source": [
    "Este es une paciente también clasificade correctamente, esta vez como en riesgo de fallo. Su intervalo es menor que 0.05, podemos confiar en el resultado, y vemos que la puntuación cruda no estaba muy lejos de la correspondiente probabilidad.  \n",
    "\n",
    "Veamos otre paciente:"
   ]
  },
  {
   "cell_type": "code",
   "execution_count": 86,
   "id": "9213761f",
   "metadata": {},
   "outputs": [
    {
     "name": "stdout",
     "output_type": "stream",
     "text": [
      "'Raw score' for the prediction risk of heart disease: 0.68\n",
      "Actual risk of heart disease: 1\n",
      "Calibrated score is: 0.87\n",
      "Probability of suffering heart failure is 87.0 %\n",
      "Prediction interval: [ 0.86 , 0.97 ]\n",
      "Lenght 0.12\n"
     ]
    }
   ],
   "source": [
    "patient_number = 2  #16  \n",
    "\n",
    "# predict\n",
    "individual_prediction_array = X_test[patient_number : (patient_number + 1)]\n",
    "#df_X_test.iloc[patient_number].values.reshape(1, -1)\n",
    "y_pred_test = RF.predict_proba(individual_prediction_array)[0][1].round(2)\n",
    "print(\"'Raw score' for the prediction risk of heart disease:\", y_pred_test)\n",
    "print(\"Actual risk of heart disease:\", y_test[patient_number])\n",
    "\n",
    "# apply Conformal Prediction\n",
    "p0,p1 = ScoresToMultiProbs(list(zip(y_pred_train,y_proper_train)),y_pred_test)\n",
    "# p0 and p1 are both probabilities of class 1 (lower and upper bound)\n",
    "# the difference tells us how hard it is to classify this instance\n",
    "print('Calibrated score is:', (p1/(1 - p0 + p1)).round(2))\n",
    "print('Probability of suffering heart failure is', (((p1/(1 - p0 + p1)).round(2))*100).round(0),'%')\n",
    "print('Prediction interval: [', p0.round(2),',', p1.round(2),']')\n",
    "print('Lenght', (p1 - p0).round(2))"
   ]
  },
  {
   "cell_type": "markdown",
   "id": "83b1f831",
   "metadata": {},
   "source": [
    "Este es une paciente con fallo cardíaco que el bosque aleatorio clasificó correctamente pero vemos que su puntuación calibrada es mayor que lo que predecía la puntuación cruda y que su intervalo de predicción mide más de 0.05, esta predicción no sería confiable. Algo parecido ocurre con le `patient_number = 16`, cuya predicción es aún menos confiable, por si quieres editar la celda anterior para probarlo. \n",
    "\n",
    "Veamos qué ocurre con les paciente que son Falsos Negativos, aquellos resultados que intentamos evitar por ser el error más costoso en medicina, son el `patient_number = 4` y el `patient_number = 24`:"
   ]
  },
  {
   "cell_type": "code",
   "execution_count": 89,
   "id": "fe1cb6cd",
   "metadata": {},
   "outputs": [
    {
     "name": "stdout",
     "output_type": "stream",
     "text": [
      "'Raw score' for the prediction risk of heart disease 0.33\n",
      "Actual risk of heart disease:     1\n",
      "Calibrated score is: 0.14\n",
      "Probability of suffering heart failure is 14.0 %\n",
      "Prediction interval: [ 0.09 , 0.15 ]\n",
      "Lenght 0.07\n"
     ]
    }
   ],
   "source": [
    "patient_number = 4 #24\n",
    "individual_prediction_array = X_test[patient_number : (patient_number + 1)]\n",
    "#df_X_test.iloc[patient_number].values.reshape(1, -1)\n",
    "y_pred_test = RF.predict_proba(individual_prediction_array)[0][1].round(2)\n",
    "print(\"'Raw score' for the prediction risk of heart disease\", y_pred_test)\n",
    "print(\"Actual risk of heart disease:    \", y_test[patient_number])\n",
    "\n",
    "# apply Conformal Prediction\n",
    "p0,p1 = ScoresToMultiProbs(list(zip(y_pred_train,y_proper_train)),y_pred_test)\n",
    "# p0 and p1 are both probabilities of class 1 (lower and upper bound)\n",
    "# the difference tells us how hard it is to classify this instance\n",
    "\n",
    "print('Calibrated score is:', (p1/(1 - p0 + p1)).round(2))\n",
    "print('Probability of suffering heart failure is', (((p1/(1 - p0 + p1)).round(2))*100).round(0),'%')\n",
    "print('Prediction interval: [', p0.round(2),',', p1.round(2),']')\n",
    "print('Lenght', (p1 - p0).round(2))"
   ]
  },
  {
   "cell_type": "markdown",
   "id": "b133175f",
   "metadata": {},
   "source": [
    "Vemos que la Prediccion Conforme en este caso no consigue reclasificar correctamente los 2 Falsos Negativos pero nos ofrece intervalos de predicción mayores que el riesgo acceptado. Con la anchura de 0.07, al ser mayor de 0.05, nos indica que no debemos confiar en estas predicciones."
   ]
  },
  {
   "cell_type": "markdown",
   "id": "bed4adfd",
   "metadata": {},
   "source": [
    "Pero veamos qué ocurre con los Falsos Positivos, les 2 pacientes sin fallo cardíaco que el bosque aleatorio clasificó incorrectamente. Son `patient_number = 6` y `patient_number = 12`. "
   ]
  },
  {
   "cell_type": "code",
   "execution_count": 46,
   "id": "f3ba8289",
   "metadata": {},
   "outputs": [
    {
     "name": "stdout",
     "output_type": "stream",
     "text": [
      "'Raw score' for the prediction risk of heart disease 0.9\n",
      "Actual risk of heart disease:     0\n",
      "Calibrated score is: 0.97\n",
      "Probability of suffering heart failure is 97.0 %\n",
      "Prediction interval: [ 0.97 , 1.0 ]\n",
      "Lenght 0.03\n"
     ]
    }
   ],
   "source": [
    "patient_number = 6 #12\n",
    "individual_prediction_array = X_test[patient_number : (patient_number + 1)]\n",
    "#df_X_test.iloc[patient_number].values.reshape(1, -1)\n",
    "y_pred_test = RF.predict_proba(individual_prediction_array)[0][1].round(2)\n",
    "print(\"'Raw score' for the prediction risk of heart disease\", y_pred_test)\n",
    "print(\"Actual risk of heart disease:    \", y_test[patient_number])\n",
    "\n",
    "# apply Conformal Prediction\n",
    "p0,p1 = ScoresToMultiProbs(list(zip(y_pred_train,y_proper_train)),y_pred_test)\n",
    "# p0 and p1 are both probabilities of class 1 (lower and upper bound)\n",
    "# the difference tells us how hard it is to classify this instance\n",
    "\n",
    "print('Calibrated score is:', (p1/(1 - p0 + p1)).round(2))\n",
    "print('Probability of suffering heart failure is', (((p1/(1 - p0 + p1)).round(2))*100).round(0),'%')\n",
    "print('Prediction interval: [', p0.round(2),',', p1.round(2),']')\n",
    "print('Lenght', (p1 - p0).round(2))"
   ]
  },
  {
   "cell_type": "markdown",
   "id": "9af94cc5",
   "metadata": {},
   "source": [
    "Por desgracia ambos Falsos Positivos tienen un intervalo de predicción es muy estrechito, la confomalización indica erróneamente que es un resultado confiable. La Predicción Conforme sobre el Bosque Aleatorio no ha sido lo suficientemente potente para identificar lo inusual de estos resultado y los clasifica como confiables a pesar de ser erróneos. Solo un nivel de confianza del 99% habría detectado estos casos. Cómo siempre, aumentar el tamaño de los conjuntos de entrenamiento y calibración también puede que mejorara los resultados, no tanto por la parte de la conformalización sino porque aumentaría el rendimiento del Bosque Aleatorio."
   ]
  },
  {
   "cell_type": "markdown",
   "id": "280a250f",
   "metadata": {},
   "source": [
    "Veamos los resultados conformes para todo el conjunto de prueba."
   ]
  },
  {
   "cell_type": "code",
   "execution_count": 91,
   "id": "4cc46d37",
   "metadata": {},
   "outputs": [],
   "source": [
    "# model application on TEST data\n",
    "y_pred_test = RF.predict_proba(X_test)[:, 1]\n",
    "p_pars = []\n",
    "intervals_len = [] \n",
    "conform_proba = []\n",
    "\n",
    "\n",
    "for i in y_pred_test:\n",
    "    p0,p1 = ScoresToMultiProbs(list(zip(y_pred_train,y_proper_train)),i)\n",
    "    p_pars.append([p0,p1])\n",
    "    intervals_len.append((p1 - p0).round(3))\n",
    "    conform_proba.append((p1/(1 - p0 + p1)).round(2))"
   ]
  },
  {
   "cell_type": "markdown",
   "id": "ab59a7ba",
   "metadata": {},
   "source": [
    "Las probabilidades calibradas, ya legítimas y no solo heurísticas, son las `conform_proba` y la longitud de sus intervalos de predicción correspondientes son los `intervals_len`, con sus límites inferior e inferior almacenados en `p_pars`. \n",
    "\n",
    "Vemos que varios intervalos de predicción son muy grandes, esas son las predicciones con más incerticumbre, vamos a separarlas. En un ejemplo real, implementaremos una señal y el programa nos dirá 'no puedo predecir, no tengo ni idea' y une humane se encargará de clasificar estas instancias. Separamos aquellas cuyo intervalo sea muy grande, más grandes que cierto 'nivel de confianza' $\\epsilon$, veamos cual:"
   ]
  },
  {
   "cell_type": "code",
   "execution_count": 41,
   "id": "c6fdf3f1",
   "metadata": {},
   "outputs": [
    {
     "data": {
      "text/plain": [
       "[<matplotlib.lines.Line2D at 0x74ffbb23be50>]"
      ]
     },
     "execution_count": 41,
     "metadata": {},
     "output_type": "execute_result"
    },
    {
     "data": {
      "image/png": "[encoded data removed]",
      "text/plain": [
       "<Figure size 700x500 with 1 Axes>"
      ]
     },
     "metadata": {},
     "output_type": "display_data"
    }
   ],
   "source": [
    "plt.plot(np.array(intervals_len),'-*')"
   ]
  },
  {
   "cell_type": "markdown",
   "id": "d5291bac",
   "metadata": {},
   "source": [
    "Viendo la longitud de los intervalos, parece razonable descartar aquellos más largos que $\\epsilon$ = 0.05. Cuánto mayor este valor, más pacientes serán clasificadxs en la clase 'no tengo ni idea' y menos pacientes serán clasificadxs automáticamente."
   ]
  },
  {
   "cell_type": "code",
   "execution_count": 93,
   "id": "0b9202de",
   "metadata": {},
   "outputs": [],
   "source": [
    "epsilon_bool = np.array(intervals_len) < 0.05 #gives bollean True/False in the condition"
   ]
  },
  {
   "cell_type": "code",
   "execution_count": 94,
   "id": "c4ec065b",
   "metadata": {},
   "outputs": [],
   "source": [
    "certain_predictions = np.array(conform_proba)[epsilon_bool] #takes True "
   ]
  },
  {
   "cell_type": "code",
   "execution_count": 95,
   "id": "16ed87e8",
   "metadata": {},
   "outputs": [
    {
     "name": "stdout",
     "output_type": "stream",
     "text": [
      "Number of patients in test set = 30\n",
      "Number of automatic classifications = 19\n",
      "Number of human-assisted classifications = 11\n"
     ]
    }
   ],
   "source": [
    "print('Number of patients in test set =', len(X_test))\n",
    "print('Number of automatic classifications =',len(certain_predictions))\n",
    "print('Number of human-assisted classifications =',len(X_test) - len(certain_predictions))"
   ]
  },
  {
   "cell_type": "markdown",
   "id": "c4e312f3",
   "metadata": {},
   "source": [
    "En aplicaciones reales, puede ser preferible esa inversión en tiempo humano que asumir las clasificaciones incorrectas. Por ejemplo, en nuestro caso, une experte en medicina evaluaría a eses pacientes seleccionados gracias a la cuantifición de incertidumbre y les dirigiría a hacerse nuevas pruebas médicas, por ejemplo."
   ]
  },
  {
   "cell_type": "code",
   "execution_count": 96,
   "id": "aa7c5c0e",
   "metadata": {},
   "outputs": [
    {
     "data": {
      "image/png": "[encoded data removed]",
      "text/plain": [
       "<Figure size 700x500 with 2 Axes>"
      ]
     },
     "metadata": {},
     "output_type": "display_data"
    }
   ],
   "source": [
    "# confusion matrix\n",
    "t = 0.4\n",
    "\n",
    "cf_matrix = confusion_matrix(y_test[epsilon_bool], certain_predictions >= t)\n",
    "\n",
    "ax = sns.heatmap(cf_matrix, annot=True, cmap='Blues')\n",
    "\n",
    "ax.set_title('Confusion Matrix\\n');\n",
    "ax.set_xlabel('\\nPredicted Values')\n",
    "ax.set_ylabel('Actual Values ');\n",
    "\n",
    "ax.xaxis.set_ticklabels(['0','1'])\n",
    "ax.yaxis.set_ticklabels(['0','1'])\n",
    "\n",
    "##plt.figure(figsize=(7,5))\n",
    "plt.rcParams['figure.figsize'] = [7, 5]  # re-run this cell to get the correct figure size\n",
    "\n",
    "plt.show();"
   ]
  },
  {
   "cell_type": "markdown",
   "id": "db9aed0a",
   "metadata": {},
   "source": [
    "Con la 'Conformal Prediction' hemos detectado las instancias con el intervalo de predicción más largo y las hemos sacado de la clasificación automática para que las evalue una persona experta. Así hemos conseguido reducido el 100% de los Falsos Negativos (ver la matriz de confusión que obtuvimos para el conjunto de prueba sin conformar en la sección <a href=#model-RF>3.2 Entrenamiento, prueba, y aplicación del bosque aleatorio</a>).\n",
    "\n",
    "<font size=\"5\"> 🥳 </font>"
   ]
  },
  {
   "cell_type": "markdown",
   "id": "994c6579",
   "metadata": {},
   "source": [
    "<a name='uq-others'/>"
   ]
  },
  {
   "cell_type": "markdown",
   "id": "a927449c",
   "metadata": {},
   "source": [
    "### <font color=#ac6240>4.2 Otros métodos de UQ para aprendizaje supervisado</font>"
   ]
  },
  {
   "cell_type": "markdown",
   "id": "ca935df3",
   "metadata": {},
   "source": [
    "La 'Conformal prediction' puede aplicarse para todo tipo de modelos de aprendizaje automático. Sin embargo, al contrario que la mayoría de los métodos de explicabilidad que mostramos en el Jupyter Notebook anterior `XAI.ipynb`, muchos métodos de UQ son específicos, por ejemplo, se aplican solo a tareas de regresión. Mencionaremos algunos muy populares y cabe mencionar que:\n",
    "\n",
    "+ todos los métodos de UQ que no usen CP se deben calibrar con 'Conformal Predictions' o estarímos en las mismas que con los 'raw scores' de `.predict_proba()`.\n",
    "\n",
    "+ solo la Conformal Prediction nos da garantía de cobertura de que el resultado contiene el valor verdadero. Por ejemplo, la primera columna de siguiente tabla del artículo [Valid prediction intervals for regression problems](https://link.springer.com/article/10.1007/s10462-022-10178-5) (en Arxiv está la [última versión](https://arxiv.org/abs/2107.00363)) dónde se revisan varios métodos de UQ para regresión."
   ]
  },
  {
   "cell_type": "markdown",
   "id": "7d833a3e",
   "metadata": {},
   "source": [
    "![Waegeman_benchmark](./images/Waegeman_UQ_benchmark.png \"Waegeman_benchmark\")"
   ]
  },
  {
   "cell_type": "markdown",
   "id": "71b5f74d",
   "metadata": {},
   "source": [
    "[Fuente de la imagen: Valid prediction intervals for regression problems](https://link.springer.com/article/10.1007/s10462-022-10178-5), en Arxiv está la [última versión](https://arxiv.org/abs/2107.00363). "
   ]
  },
  {
   "cell_type": "markdown",
   "id": "5cad2b03",
   "metadata": {},
   "source": [
    "<font color=#ac6240>Paquetes que implementan CP y otros métodos de UQ para cualquier tarea </font>\n",
    "+ [PiML](https://selfexplainml.github.io/PiML-Toolbox/_build/html/guides/testing/reliability.html)\n",
    "+ [AWS Fortuna](https://github.com/awslabs/fortuna?tab=readme-ov-file) (para CP con time series soluciona el asunto de la intercambiabilidad implementando [EnbPI](https://proceedings.mlr.press/v139/xu21h/xu21h.pdf), como hace MAPIE)\n",
    "+ [Lightning UQ Box](https://github.com/lightning-uq-box/lightning-uq-box) "
   ]
  },
  {
   "cell_type": "markdown",
   "id": "722624af",
   "metadata": {},
   "source": [
    "<font color=#ac6240>Tareas de Regresión</font>\n",
    "\n",
    "El artículo y el Jupyter Notebook del [tutorial de Martim Sousa](https://github.com/Quilograma/ConformalPredictionTutorial/tree/main) (también incluye la explicación para la Quantile Regression, ver siguiente punto aquí abajo).\n"
   ]
  },
  {
   "cell_type": "markdown",
   "id": "807ce16c",
   "metadata": {},
   "source": [
    "<font color=#ac6240>Quantile Regression</font>\n",
    "\n",
    "Pertenece al grupo \"Direct Interval Estimation\" de la tabla anterior.\n",
    "\n",
    "+ Una breve y genial explicación de la [Quantile Regression escrita por Christoph Molnar](https://mindfulmodeler.substack.com/p/how-i-made-peace-with-quantile-regression) y sobre como [conformalizarla aquí](https://mindfulmodeler.substack.com/p/week-3-conformal-prediction-for-regression).\n",
    "+ Más sobre conformalizar la Quantile Regression en [_\"A Gentle Introduction to Conformal Prediction and Distribution-Free Uncertainty Quantification\"_](https://arxiv.org/pdf/2107.07511.pdf) sección \"2. Examples of Conformal Procedures\" y [_\"Another (Conformal) Way to Predict Probability Distributions: Conformal multi-quantile regression with Catboost\"_](https://towardsdatascience.com/another-conformal-way-to-predict-probability-distributions-fcc63e78680d)."
   ]
  },
  {
   "cell_type": "markdown",
   "id": "e32ab961",
   "metadata": {},
   "source": [
    "<font color=#ac6240>Ensembles</font>\n",
    "\n",
    "Suelen ser computacionalmente costosos porque implican entrenar muchas versiones de los modelos de aprendizaje automático y no ofrecen garantía de cobertura. Un ejemplo de aplicación:  [_\"Simple and Scalable Predictive Uncertainty Estimation using Deep Ensembles\"_](https://papers.nips.cc/paper/2017/hash/9ef2ed4b7fd2c810847ffa5fa85bce38-Abstract.html)."
   ]
  },
  {
   "cell_type": "markdown",
   "id": "d41554b3",
   "metadata": {},
   "source": [
    "<font color=#ac6240>Bayesianos</font>\n",
    "\n",
    "Suelen ser computacionalmente costosos porque implican predecir la distribución completa, siempre dependen de un prior que puede ser difícil de estimar y por lo tanto no ser fiable, y no garantizan la cobertura. Para que los los resultados de los métodos bayesianos cumplan \"validity\" pueden conformalizarse, ver por ejemplo:\n",
    "\n",
    "+ [Valid prediction intervals for regression problems](https://link.springer.com/article/10.1007/s10462-022-10178-5) (en Arxiv está la [última versión](https://arxiv.org/abs/2107.00363)), \n",
    "+ [Bayesian Optimization with Formal Safety Guarantees via Online Conformal Prediction](https://arxiv.org/abs/2306.17815), and \n",
    "+ [Online Calibrated and Conformal Prediction Improves Bayesian Optimization](https://proceedings.mlr.press/v238/deshpande24a/deshpande24a.pdf).\n",
    "\n",
    "Sobre métodos bayesianos en general:\n",
    "\n",
    "+ Este artículo en este blog: [El Paradigma Bayes para escenarios de incertidumbre](https://keepler.io/es/2020/03/el-paradigma-bayes-para-escenarios-de-incertidumbre/).\n",
    "\n",
    "+ La librería de Python [PyMC3](https://pypi.org/project/pymc3/) (que ahora se llama [PyMC](https://www.pymc.io/blog/v4_announcement.html)) y el repo [Probabilistic Python: An Introduction to Bayesian Modeling with PyMC](https://github.com/fonnesbeck/probabilistic_python).\n",
    "\n",
    "+ Métodos Bayesianos para clasificación y regresión como BART [Bayesian Additive Regression Trees](https://jmloyola.github.io/posts/2019/06/introduction-to-bart)\n",
    "\n",
    "+ Para 'Gaussian Processes', ver por ejemplo: [_\"Easy introduction to gaussian process regression (uncertainty models)\"_](https://youtu.be/iDzaoEwd0N0) y [_\"Coding gaussian process regressors FROM SCRATCH in python\"_](https://youtu.be/JXdrq7--XV0) con este [repo](https://gitlab.com/youtube-optimization-geeks/uncertainty-quantification/-/blob/main/coing_gpr_from_scratch_notebook.ipynb).\n",
    "\n",
    "+ Para Deep Learning, la charla _\"Are you sure about that?! Uncertainty Quantification in AI\"_ de [Florian Wilhelm](https://youtu.be/LCDIqL-8bHs) con aplicaciones en Deep Learning para tareas de regresión."
   ]
  },
  {
   "cell_type": "markdown",
   "id": "1996223d",
   "metadata": {},
   "source": [
    "<font color=#ac6240>Para Time Series, donde los datos no son intercambiables</font>\n",
    "\n",
    "+ La explicación de cómo usar la libreria `MAPIE` con los Conformal Predictors para UQ en time series: [_\"Time Series Forecasting with Conformal Prediction Intervals: Scikit-Learn is All you Need\"_](https://towardsdatascience.com/time-series-forecasting-with-conformal-prediction-intervals-scikit-learn-is-all-you-need-4b68143a027a). Soluciona el asunto de la intercambiabilidad implementando [EnbPI](https://proceedings.mlr.press/v139/xu21h/xu21h.pdf), como hace AWS Fortuna.\n",
    "\n",
    "+ [NeuralProphet](https://pypi.org/project/neuralprophet/) tiene implementada la función `.conformal_predict()` para conformalizar la Quantile Regression en time series, [este Jupyter Notebook](https://github.com/ourownstory/neural_prophet/blob/main/tutorials/feature-use/uncertainty_conformal_prediction.ipynb) contiene un ejemplo prediciendo la demanda de energia de un hospital. \n",
    "\n",
    "+ [MLforecast](https://nixtlaverse.nixtla.io/mlforecast/docs/how-to-guides/prediction_intervals.html) y el modelo fundacional [TimeGPT](https://nixtlaverse.nixtla.io/nixtla/docs/tutorials/prediction_intervals.html) de Nixtla incluyen CP. Solucionan el asunto de la incercambiabilidad implementando [CFTS](https://proceedings.neurips.cc/paper_files/paper/2021/file/312f1ba2a72318edaaa995a67835fad5-Paper.pdf).\n",
    "\n",
    "+ [Sktime](https://www.sktime.net/en/stable/examples/01b_forecasting_proba.html) También solucionan el asunto de la incercambiabilidad implementando [CFTS](https://proceedings.neurips.cc/paper_files/paper/2021/file/312f1ba2a72318edaaa995a67835fad5-Paper.pdf)."
   ]
  },
  {
   "cell_type": "markdown",
   "id": "82343712",
   "metadata": {},
   "source": [
    "<a name='miscelanea'/>"
   ]
  },
  {
   "cell_type": "markdown",
   "id": "002c6be6",
   "metadata": {},
   "source": [
    "### <font color=#ac6240>4.3 Miscelánea</font>"
   ]
  },
  {
   "cell_type": "markdown",
   "id": "cf5b03f4",
   "metadata": {},
   "source": [
    "<font color=#ac6240>GAMLSS</font>\n",
    "\n",
    "Los Generalized Additive Models for Location, Scale and Shape son modelos de regresión que no predicen los valores de la variable de destino o 'target' sino que predicen los parametros que definen su distribución, es decir, la localización (por ejemplo, la media), la escala (por ejemplo, la varianza), y la forma (por ejemplo, la kurtosis y la 'skewness'), más info en [este artículo](https://www.cienciadedatos.net/documentos/63_gamlss.html).    \n",
    "\n",
    "La libreíra [Lightning UQ Box](https://github.com/lightning-uq-box/lightning-uq-box) implementa la \"Mean-Variance Estimation\" donde el resultado de la red neuronal es la media y la varianza de la distribución de la predicción."
   ]
  },
  {
   "cell_type": "markdown",
   "id": "aa6c369c",
   "metadata": {},
   "source": [
    "<font color=#ac6240>UQ + XAI</font>\n",
    "\n",
    "Podemos aplicar UQ no solo a los resultados de la predicción sino a los resultados de la XAI que obtuvimos en el anterior Jupyter Notebook sobre explicabilidad en este taller y dotar de intervalos de predicción a los Shapley Values, como en este artículo: [But Are You Sure? An Uncertainty-Aware Perspective on Explainable AI](https://proceedings.mlr.press/v206/marx23a/marx23a.pdf).\n",
    "\n",
    "El 'framework' de IBM [AIF360](https://github.com/Trusted-AI/AIF360/blob/master/examples/README.md) aplica XAI para mitigar sesgos y que también recomendamos en el Jupyter Notebook `XAI.ipynb`, incluye técnicas como la clasificación con opción de rechazo o 'Reject Option-based Classification' (ROC), también llamada 'Selective Prediction', un método que asume que el modelo de aprendizaje automático asignó 'raw scores' cercanas al valor del umbral de decisión a aquellas predicciones de las que estaba menos seguro, como por ejemplo, la de le perre que parecía un poco une gate en la foto central de las imágenes de la sección <a href=#project-description-intro>1.1 Introducción</a>) y las separa en una nueva clase, es decir, los resultados posibles son '0', '1', y 'no tengo ni idea'. IBM también tiene el framework  [UQ360](https://uq360.mybluemix.net/) con muchos métodos de UQ (por desgracia no incluye CP) e incluye [tutoriales](https://uq360.mybluemix.net/resources/tutorials) y una [guía de algoritmos y métricas](https://uq360.mybluemix.net/resources/guidance)."
   ]
  },
  {
   "cell_type": "markdown",
   "id": "944b7790",
   "metadata": {},
   "source": [
    "<font color=#ac6240>Causal Inference</font>\n",
    "\n",
    "+ Blogs como [Causal Inference for The Brave and True](https://matheusfacure.github.io/python-causality-handbook/landing-page.html) \n",
    "+ Frameworks como [Azure EconML](https://econml.azurewebsites.net/spec/causal_intro.html), [Microsoft DoWhy](https://github.com/py-why/dowhy), o [Uber CausalML](https://github.com/uber/causalml) \n",
    "+ La charla _\"Introducción a la causalidad en Python \"_ de [Albert Pujol Torras y Miguel F. Alarcón](https://charlas.2022.es.pycon.org/pycones2022/talk/FTGTLS/) en la PyConES 2022."
   ]
  },
  {
   "cell_type": "markdown",
   "id": "f221f646",
   "metadata": {},
   "source": [
    "<font color=#ac6240>Modelos híbridos</font>\n",
    "\n",
    "Son aquellos que incluyen 'domain expertise' para comprobar que se cumplen las restricciones que tenga el sistema, (por ejemplo las leyes de conservación de la energía y la masa, limitaciones de presupuesto,...) o para 'feature engineering'; un ejemplo son las Physic Guided o [Physic Informed Neural Networks](https://en.wikipedia.org/wiki/Physics-informed_neural_networks) como en el artículo [_\"Physics-guided Neural Networks (PGNN): An Application in Lake Temperature Modeling\"_](https://arxiv.org/pdf/1710.11431.pdf) un ejemplo de una red neuronal artificial aplicada en hidrología que arrojaba soluciones que permitían que agua líquida más densa flotara sobre agua líquida menos densa. \n",
    "\n",
    "**Si es que si no se lo dices, todo esto al algoritmo le da igual**.\n",
    "\n",
    "\n",
    "<font size=\"6\">🤦🏻‍♀️</font>\n",
    "\n",
    "La librería [SciANN](https://www.sciann.com/#new-to-sciann) permite modificar la loss function de las redes neuronales para penalizar aquellas soluciones que violen las limitaciones deseadas."
   ]
  },
  {
   "cell_type": "markdown",
   "id": "75570e5d",
   "metadata": {},
   "source": [
    "<a href=#toc>Subir a Tabla de Contenidos</a><br>"
   ]
  },
  {
   "cell_type": "markdown",
   "id": "049ba322",
   "metadata": {},
   "source": [
    "<a name='uq-end'/>"
   ]
  },
  {
   "cell_type": "markdown",
   "id": "cf631676",
   "metadata": {},
   "source": [
    "### <font color=#ac6240>5. Conclusión sobre la cuantificación de incertidumbre</font>"
   ]
  },
  {
   "cell_type": "markdown",
   "id": "0b1bddb1",
   "metadata": {},
   "source": [
    "Con los métodos de UQ hemos conseguido:\n",
    "+ identificar la aquellos pacientes sobre cuya clasificacion el bosque aleatorio no estaba muy seguro, y \n",
    "+ reducir nuestra cantidad de Falsos Negativos y Positivos. \n",
    "\n",
    "Vemos que son métodos fáciles de implementar y rápidos, y nos proporcionan probabilidades rigurosas."
   ]
  },
  {
   "cell_type": "markdown",
   "id": "ebc656b4",
   "metadata": {},
   "source": [
    "\n",
    "<font size=\"5\">🎈♫♫🎈🎈♫🎈♫♫♫♫🎈🎈 ♫♫♫ 🎈🎈</font>"
   ]
  },
  {
   "cell_type": "markdown",
   "id": "50717bab",
   "metadata": {},
   "source": [
    "<a href=#toc>Subir a Tabla de Contenidos</a><br>"
   ]
  },
  {
   "cell_type": "markdown",
   "id": "c8010c75",
   "metadata": {},
   "source": [
    "Ya no queda tiempo para más, nos vemos en el próximo taller. "
   ]
  },
  {
   "cell_type": "markdown",
   "id": "46f35dd0",
   "metadata": {},
   "source": [
    "<font size=\"5\">☀️⛱️ </font> Buen trabajo y hasta pronto!\n",
    "\n"
   ]
  },
  {
   "cell_type": "code",
   "execution_count": null,
   "id": "69b5a58f",
   "metadata": {},
   "outputs": [],
   "source": []
  }
 ],
 "metadata": {
  "kernelspec": {
   "display_name": "Python 3 (ipykernel)",
   "language": "python",
   "name": "python3"
  },
  "language_info": {
   "codemirror_mode": {
    "name": "ipython",
    "version": 3
   },
   "file_extension": ".py",
   "mimetype": "text/x-python",
   "name": "python",
   "nbconvert_exporter": "python",
   "pygments_lexer": "ipython3",
   "version": "3.11.5"
  },
  "nbTranslate": {
   "displayLangs": [
    "es"
   ],
   "hotkey": "alt-t",
   "langInMainMenu": true,
   "sourceLang": "en",
   "targetLang": "es",
   "useGoogleTranslate": true
  }
 },
 "nbformat": 4,
 "nbformat_minor": 5
}
