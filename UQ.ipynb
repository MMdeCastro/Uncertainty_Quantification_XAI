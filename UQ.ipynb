{
 "cells": [
  {
   "cell_type": "markdown",
   "id": "6113ef90",
   "metadata": {},
   "source": [
    "![banner](./images/banner.png \"banner\")"
   ]
  },
  {
   "cell_type": "markdown",
   "id": "f8e88f89",
   "metadata": {},
   "source": [
    "[Fuente de la imagen](https://unsplash.com/photos/Hcfwew744z4)\n",
    "<a name='toc' />"
   ]
  },
  {
   "cell_type": "markdown",
   "id": "c4a5a1bb",
   "metadata": {},
   "source": [
    "# <font color=#ac6240>Cuantificación de la incertidumbre en la predicción de fallo cardíaco con aprendizaje automático supervisado</font>"
   ]
  },
  {
   "cell_type": "markdown",
   "id": "30c022a3",
   "metadata": {},
   "source": [
    "### <font color=#ac6240>Tabla de Contenidos</font>"
   ]
  },
  {
   "cell_type": "markdown",
   "id": "b5121342",
   "metadata": {
    "lang": "es"
   },
   "source": [
    "<a href=#pre>Requisitos previos</a><br>\n",
    "1. <a href=#project-description>Descripción del proyecto</a><br>\n",
    "    1.1 <a href=#project-description-intro>Introducción</a><br>\n",
    "    1.2 <a href=#project-description-goal>Objetivo</a><br>\n",
    "    1.3 <a href=#project-description-data>Datos y modelo de aprendizaje automático</a><br>\n",
    "    1.4 <a href=#project-description-software>Software</a><br>\n",
    "2. <a href=#prep>Preparación de los datos</a><br>\n",
    "    2.1 <a href=#prep-clean> Limpieza de los datos</a><br>\n",
    "    2.2 <a href=#prep-split> Division de los datos en conjuntos de datos de entrenamiento, validación y prueba</a><br>\n",
    "    2.3 <a href=#prep-encoding> Codificación y normalización de las 'features'</a><br>\n",
    "3. <a href=#model-ml>Aplicación del modelo de aprendizaje automático: Bosque Aleatorio</a><br>\n",
    "    3.1 <a href=#model-metric> Selección de la métrica y del umbral de decisión </a><br>\n",
    "    3.2 <a href=#model-RF> Entrenamiento, prueba, y aplicación del bosque aleatorio </a><br>\n",
    "4. <a href=#app-uq>Aplicación de métodos de cuantificación de incertidumbre</a><br>\n",
    "    4.1 <a href=#uq-cp> Conformal Predictors </a><br>\n",
    "    4.2 <a href=#uq-regression> Otros métodos de UQ para aprendizaje supervisado </a><br>\n",
    "    4.3 <a href=#miscelanea> Miscelánea </a><br>\n",
    "    \n",
    "5. <a href=#uq-end>Conclusión sobre la cuantificación de incertidumbre</a><br>"
   ]
  },
  {
   "cell_type": "markdown",
   "id": "aaa782be",
   "metadata": {},
   "source": [
    "Antes de nada, me gustaría agradecer a lxs expertxs [Maria Navarro](https://www.linkedin.com/in/maria-navarro-jimenez/) y a [Valeriy Manokhin](https://www.linkedin.com/in/valeriy-manokhin-phd-mba-cqf-704731236/) su inestimable ayuda en la elaboracion de este Jupyer Notebook. Podéis encontrar las referencias a sus trabajos acreditadas a lo largo de este taller.\n",
    "\n",
    "<font size=\"5\">😊 </font>"
   ]
  },
  {
   "cell_type": "markdown",
   "id": "487389a0",
   "metadata": {},
   "source": [
    "<a name='pre'/>"
   ]
  },
  {
   "cell_type": "markdown",
   "id": "2b570187",
   "metadata": {},
   "source": [
    "## <font color=#ac6240>Requisitos previos</font>"
   ]
  },
  {
   "cell_type": "markdown",
   "id": "f2765775",
   "metadata": {
    "lang": "es"
   },
   "source": [
    "Este Jupyter Notebook es la continuación de los Jupyter Notebooks de [este repositorio](https://github.com/MMdeCastro/Uncertainty_Quantification_XAI):\n",
    "+ `Exploration_and_Classification.ipynb` donde explicamos cómo explorar exhaustivamente los datos de pacientes que sufrieron o no fallo cardíaco y cómo evaluar la calidad de un modelo de aprendizaje automático supervisado con métricas de rendimiento; elegimos el modelo que mejor se comportaba para este proyecto de predicción de fallo cardíaco y era un bosque aleatorio, y\n",
    "+ `XAI.ipynb` donde aplicamos varios métodos de explicabilidad sobre las predicciones de ese bosque aleatorio para entender en qué se fijó el modelo para clasificar a les pacientes."
   ]
  },
  {
   "cell_type": "markdown",
   "id": "9be3f2b8",
   "metadata": {},
   "source": [
    "<font size=\"5\"> 👍🤓</font>"
   ]
  },
  {
   "cell_type": "markdown",
   "id": "a6814bca",
   "metadata": {},
   "source": [
    "<a name='project-description'/>"
   ]
  },
  {
   "cell_type": "markdown",
   "id": "feb5b1b4",
   "metadata": {
    "lang": "es"
   },
   "source": [
    "##  <font color=#ac6240>1. Descripción del proyecto</font>"
   ]
  },
  {
   "cell_type": "markdown",
   "id": "1cd0f062",
   "metadata": {},
   "source": [
    "<a name='project-description-intro'/>"
   ]
  },
  {
   "cell_type": "markdown",
   "id": "2feaa428",
   "metadata": {},
   "source": [
    "### <font color=#ac6240>1.1 Introducción</font>"
   ]
  },
  {
   "cell_type": "markdown",
   "id": "63cecda5",
   "metadata": {},
   "source": [
    "Estamos acostumbrades a modelos de aprendizaje automático que nos devuelven una predicción en forma de un único valor puntual ('single-value prediction'). Estos modelos no tienen ninguna manera de manifestar si están muy seguros o no de lo que predicen, por ejemplo, proporcionando una distribución o rango de resultados razonables, para que podamos representar la predicción con unas 'barras de error' en lugar de con un solo punto. \n",
    "\n",
    "La falta de información sobre la certeza que tiene un modelo sobre los resultados que arroja es especialmente problemático cuando:\n",
    "+ el modelo no es interpretable, es una 'black box' o caja opaca, (explicamos estos conceptos en el Jupyter Notebook anterior `XAI.ipynb`), o\n",
    "+ pedimos al modelo que prediga un resultado sobre una instancia anómala ('outlier') que no se parece a los datos históricos con los que ese modelo fue entrenado, algo relacionado con el fenómeno denominado ['drift'](https://en.wikipedia.org/wiki/Drift_(data_science)) (más info sobre la definición de 'deriva' o 'drift' y sus diferentes tipos, [aquí](https://analyticsindiamag.com/concept-drift-vs-data-drift-in-machine-learning/)), lo cual es indeseado y puede pasar fácilmente desapercibido. "
   ]
  },
  {
   "cell_type": "markdown",
   "id": "725b1254",
   "metadata": {},
   "source": [
    "Por ejemplo, supongamos que entrenamos una red neuronal artificial (que no es interpretable) con fotos de perrxs y gatxs cuya tarea es distinguir entre perres y gates. Digamos que el umbral de decisión es tal que las instancias, es decir, las fotos, cuya 'raw score' sea mayor de 0.5 serán clasificadas como gates y el resto como perres, como en una típica clasificación binaria. Supongamos además que conseguimos que la red neuronal artificial tenga un rendimiento excelente sobre los datos de entrenamiento y validación, puede que incluso tenga un 99.5% en 'accuracy' sobre ambos conjuntos. Ahora, probamos la red y le pedimos que clasifique las fotos que vemos un poco más abajo y :\n",
    "+ para la foto de la izquierda nos da una 'raw score' de 0.9, así que predice correctamente que es la imagen de unx gatx,\n",
    "+ para la foto del centro obtenemos una 'raw score' de 0.5, y a la vista de la imagen _interpretamos_ que a la red le costó darnos una clasificación correcta (nos la dió por los pelos) y que obviamente no está _tan segura_ porque le perre de la imagen parece un poco une gate, pero...\n",
    "\n",
    "¿y si le pedimos que clasifique la figura de la derecha? Cualquier cosa puede pasar, nos puede dar una 'raw score' por encima o por debajo de 0.5 o exactamente 0.5, pero en cualquier caso, sabemos que no es fiable. Y la cuestión es que **el modelo de aprendizaje automático no nos podría decir 'hey, no tengo ni idea' porque las 'raw scores' no muestran certidumbre**, a pesar de lo que todes hemos erróneamente interpretado alguna vez.  "
   ]
  },
  {
   "cell_type": "markdown",
   "id": "d51b77bf",
   "metadata": {},
   "source": [
    "![cat_dog_bird](./images/cat_dog_bird.png \"cat_dog_bird\")"
   ]
  },
  {
   "cell_type": "markdown",
   "id": "38c7649a",
   "metadata": {},
   "source": [
    "[Fuente de la imagen: _\"Are you sure about that?! Uncertainty Quantification in AI\"_](https://florianwilhelm.info/2019/10/uncertainty_quantification_in_ai/)"
   ]
  },
  {
   "cell_type": "markdown",
   "id": "56811a2f",
   "metadata": {},
   "source": [
    "Recordemos que **los modelos de aprendizaje automático supervisado están diseñados para interpolar, no para extrapolar (ni para identificar relaciones de causa-efecto, ni para abstraer conocimiento,... por lo cual les cuesta generalizar)**. Si no damos al modelo la oportunidad de avisarnos de que no está preparado para desempeñar la tarea, nos dará igualmente una predicción, y tomaremos que está igual de seguro de esa predicción como lo está de la predicción de una instancia estándar para la que sí está entrenado. Sería mucho más adecuado que el modelo de aprendizaje automático nos informara de la certeza de sus resultados.  \n",
    "\n",
    "En otras palabras, saber qué no sabemos, es decir, cuantificar la incertidumbre, mejora la calidad de las decisiones para poder descartar las predicciones con alta incertidumbre y derivar las decisiones a expertes humanos, como ocurre a menudo en el denominado ['Active Learning'](https://en.wikipedia.org/wiki/Active_learning_(machine_learning))."
   ]
  },
  {
   "cell_type": "markdown",
   "id": "400d27fe",
   "metadata": {},
   "source": [
    "#### <font color=#ac6240>1.1.1 Definición de Incertidumbre</font>"
   ]
  },
  {
   "cell_type": "markdown",
   "id": "c6295a91",
   "metadata": {},
   "source": [
    "Según la Wikipedia en castellano (consultada el 26.09.2022):"
   ]
  },
  {
   "cell_type": "markdown",
   "id": "a63d000d",
   "metadata": {},
   "source": [
    "![uncertainty_wp](./images/uncertainty_wp.png \"uncertainty_wp\")"
   ]
  },
  {
   "cell_type": "markdown",
   "id": "632c94da",
   "metadata": {},
   "source": [
    "[Fuente de la imagen](https://es.wikipedia.org/wiki/Incertidumbre)"
   ]
  },
  {
   "cell_type": "markdown",
   "id": "d0b04b2b",
   "metadata": {},
   "source": [
    "Vamos, que el asunto va de lo que pasa cuando queremos medir u observar algo o predecir cuánto valdrá algo. \n",
    "\n",
    "Consultemos ahora a les expertes en [metrología](https://es.wikipedia.org/wiki/Metrolog%C3%ADa), es decir, la Oficina Internacional de Pesas y Medidas ([BIPM](https://www.bipm.org/en/committees/jc/jcgm/), por sus siglas en francés) cuyo Joint Committee for Guides in Metrology (JCGM) publica la Guía para la expresión de la Incertidumbre en la Medida (GUM, por sus siglas en inglés) que incluye el International Vocabulary of basic and general terms in Metrology ([VIM](https://www.bipm.org/en/committees/jc/jcgm/publications) JCGM_100_2008_E-1)\n",
    "\n",
    "<font size=\"5\">🤪🤯</font>\n",
    "\n",
    "\n",
    "donde se define:\n",
    "\n",
    "<blockquote>\n",
    "\n",
    "**2.2 The term 'uncertainty'**\n",
    "\n",
    "[...] Uncertainty (of measurement) [is a] parameter, associated with the result of a measurement, that characterizes the dispersion of the values that could reasonably be attributed to the measurand. [...] The parameter may be, for example, a standard deviation (or a given multiple of it), or the half-width of an interval having a stated level of confidence.\n",
    "</blockquote>\n",
    "\n",
    "y también:\n",
    "\n",
    "<blockquote>\n",
    "    \n",
    "**3.3. Uncertainty**\n",
    "\n",
    "The uncertainty of the result of a measurement reflects the lack of exact knowledge of the value of the measurand.\n",
    "</blockquote>\n",
    "\n",
    "Antes de ver qué significa esto en el contexto del aprendizaje automático, hagamos una aclaración importante para distinguir bien entre los conceptos de incentidumbre, error, residuo y sesgo o 'bias'."
   ]
  },
  {
   "cell_type": "markdown",
   "id": "0609d9df",
   "metadata": {},
   "source": [
    "#### <font color=#ac6240>1.1.2 Incertidumbre vs error vs residuo vs bias</font>"
   ]
  },
  {
   "cell_type": "markdown",
   "id": "9dab9a51",
   "metadata": {},
   "source": [
    "El **error** es la diferencia entre el valor verdadero, (asumiento que existe y se puede definir, ojo, que aquí esto es clave), y el valor resultado de la medición o predicción, por ejemplo, realizada empíricamente con un aparato de medida o en nuestro caso, el dato de si le paciente sufre o no fallo cardíaco. \n",
    "\n",
    "Si ese valor verdadero lo defimos por un modelo, esa diferencia entre la medición y el modelo también se llama **residuo**, por ejemplo, la distancia entre un punto `(x,y)` (el dato resultado de la medición) y la recta de regresión lineal que intenta representar a todos los datos, `y = mx + n`, y que idealizamos como representación de la realidad. Vimos la regresión lineal brevemente en la seccion 4.1 Modelo de referencia inicial para la selección de la métrica: Regresión Logística del Jupyter Notebook `Exploration_and_Classification.ipynb`.\n",
    "\n",
    "Entonces, en la representacion tradicional, la desviación entre el valor obtenido de la medición y el ansiado supuesto valor verdadero se compone de dos tipos de errores:\n",
    "+ el error aleatorio, la componente debida a la naturaleza [estocástica](https://en.wikipedia.org/wiki/Stochastic_process#Examples) del sistema, y\n",
    "+ el error sistemático, también llamado **sesgo o 'bias'**, que es la componente reducible porque su media no es cero y se puede compensar con un 'factor de correccion' (mencionamos los problemas éticos del sesgo en IA en la intro del Jupyter Notebook `XAI.ipynb`).\n",
    "\n",
    "En la Introducción del nuevo informe de 2012 [VIM 200:2012](https://www.bipm.org/en/committees/jc/jcgm/publications) se indica que estos dos tipos de errores no siempre son fáciles de diferenciar y que no disponemos de una regla general para ver cómo se combinan. Y también dice que normalmente estimamos el límite superior del valor absoluto del error total y que llamamos vagamente a eso 'incertidumbre'.\n",
    "\n",
    "Pero la VIM también nos indica que es mejor no seguir ese punto de vista tradicional del 'error' porque:\n",
    "\n",
    "+ necesita de la asumpción de la existencia un 'valor verdadero', y \n",
    "+ su objetivo es minimizar cualquier diferencia entre el resultado de la medida y ese supuesto 'valor verdadero', porque considera el error como una imperfección indeseable,\n",
    "\n",
    "siendo más adecuado tratar la dispersión de los resultados de las mediciones como una 'incertidumbre' que:\n",
    "\n",
    "+ aporta valiosa información y detalles significativos del comportamiento del sistema, y \n",
    "+ nos permite asumir que **la medición solo se puede expresar como un intervalo de valores razonables**.\n",
    "\n",
    "<font size=\"5\"> 👏 </font> "
   ]
  },
  {
   "cell_type": "markdown",
   "id": "fc74797e",
   "metadata": {},
   "source": [
    "Veamos ahora a qué nos referimos con \"intervalo de valores razonable\"."
   ]
  },
  {
   "cell_type": "markdown",
   "id": "5ad81592",
   "metadata": {},
   "source": [
    "#### <font color=#ac6240>1.1.3 Intervalo de valores razonables</font>"
   ]
  },
  {
   "cell_type": "markdown",
   "id": "5a7b7dae",
   "metadata": {},
   "source": [
    "Hay muchas maneras de definir qué entendemos por un 'intervalo de valores razonables' que nos permita cuantificar la variabilidad de los datos y por tanto, la incertidumbre de la medición.\n",
    "\n",
    "Los métodos de UQ que aquí explicamos nos proveen de un [intervalo de predicción](https://en.wikipedia.org/wiki/Prediction_interval) para cada predicción, es decir, es una estimación del rango de valores que con la probabiliad que determinamos con el llamado 'nivel de confianza (por ejemplo, con 0.90 tendremos el 90% de probabilidad) incluirá el valor correcto de una futura medición. \n",
    "\n",
    "Centramos ahora en la incertidumbre en aprendizaje automático."
   ]
  },
  {
   "cell_type": "markdown",
   "id": "53585389",
   "metadata": {},
   "source": [
    "#### <font color=#ac6240>1.1.4 Incertidumbre en aprendizaje automático</font>"
   ]
  },
  {
   "cell_type": "markdown",
   "id": "d30f4913",
   "metadata": {},
   "source": [
    "Cuando aplicamos un modelo de aprendizaje automático, queremos que nos diga cuándo no está seguro y cuánta incertidumbre está asociada a su predicción. \n",
    "\n",
    "Podriamos incluso intentar desglosar los tipos de incertidumbre según su origen. Por ejemplo, puede haber incertidumbre:\n",
    "+ en cómo se tomaron y procesaron esos datos, (por ejemplo, la precisión de los aparatos de observación y medida, el etiquetado, el almacenamiento, ...), \n",
    "+ asociada al modelo (por ejemplo, en la elección del modelo, la estimación de parámetros, la regularizacion, ...), \n",
    "+ por culpa de los [sesgos](https://www.visualcapitalist.com/50-cognitive-biases-in-the-modern-world/), el desconocimiento, y el error humano, \n",
    "\n",
    "y un millón de factores más, que a menudo en aplicaciones prácticas no hace falta analizar. El origen de la incertidumbre o los tipos de incertidumbres que cuantizamos con métodos de UQ es un tema demasiado complicado que requiere 'domain expertise'."
   ]
  },
  {
   "cell_type": "markdown",
   "id": "a73ee85f",
   "metadata": {},
   "source": [
    "Simplemente mencionaremos que en aprendizaje automático se suelen considerar [dos tipos de incertidumbre](https://deepai.org/publication/aleatoric-and-epistemic-uncertainty-in-machine-learning-a-tutorial-introduction) que se pueden resumir en:\n",
    "\n",
    "+ Aleatoria: \"¿saldrá cara o cruz si lanzo una moneda al aire?\", incertidumbre relativa al dato individual, **que no es reducible**, ni aunque aumentamos el número de datos con el que entrenamos el modelo de aprendizaje automático, y\n",
    "\n",
    "+ Epistémica: \"¿me fío de que esta moneda no está trucada?\", incertidumbre relativa a la certeza del modelo de aprendizaje automático después de a ver visto la instancia cuya 'target' ha de predecir, **sí se puede reducir** con más datos de entrenamiento.\n",
    "\n",
    "Siguiendo con el ejemplo de la moneda de la charla [_\"On estimating epistemic uncertainty\"_](http://yingzhenli.net/home/pdf/epistemic_uncertainty_neurips_bdl2019.pdf), en realidad hay un tercer tipo de incertidumbre a tener en cuenta en aprendizaje automático:\n",
    "\n",
    "+ 'Distribution' o 'Concept' o 'Data drift': \"¿sigo aún lanzando la misma moneda?\", incertidumbre relacionada con los cambios en la distribución de datos, cuando los nuevos datos no tienen la misma distribución que tenian los datos de entrenamiento (como dijimos anteriormente, para amplicar sobre la definición de 'deriva' o 'drift' y sus diferentes tipos, [aquí](https://analyticsindiamag.com/concept-drift-vs-data-drift-in-machine-learning/)). La librería [NannyML](https://github.com/NannyML/nannyml) sirve para detectar el 'data drift'.\n",
    "\n",
    "Ejemplos de 'drift' son cambios en la resolución de la camara que hace las fotos para la clasificación de imagenes, la persona que etiqueta los datos para una clasificación, los gustos de les clientes para un 'sentiment analysis', ... o incluso la aparición de nuevos fenómenos, pensemos en la dificultad en la predicción de los efectos de cambio climático ya que los modelos de aprendizaje automáticos se basan en datos históricos recogidos cuando las temperaturas globales no eran tan altas. En otras palabras, los modelos no pueden conocer más allá de los datos con los que han sido entrenados."
   ]
  },
  {
   "cell_type": "markdown",
   "id": "f39cb9d6",
   "metadata": {},
   "source": [
    "![comic_uq](./images/comic_uq.png \"comic_uq\")"
   ]
  },
  {
   "cell_type": "markdown",
   "id": "a7043034",
   "metadata": {},
   "source": [
    "[Fuente de la Imagen](https://www.smbc-comics.com/comic/rise-of-the-machines)"
   ]
  },
  {
   "cell_type": "markdown",
   "id": "5e98c92e",
   "metadata": {},
   "source": [
    "Continuamos con la preparacion de los datos y el entrenamiento del modelo de aprendizaje automático. Si ya trabajaste con los dos Jupyter Notebooks anteriores y estás familiarizadx con los datos y el modelo del bosque aleatorio, puedes pasar directamente a las seccion <a href=#app-uq>4. Aplicación de métodos de cuantificación de incertidumbre</a>."
   ]
  },
  {
   "cell_type": "markdown",
   "id": "f9f6852f",
   "metadata": {},
   "source": [
    "<font color=#6B8E23 size=\"4\"> Material adicional y referencias</font>\n",
    "\n",
    "<font color=#6B8E23 size=\"3\">Ejemplos de los peligros de la 'single-point prediction'</font>\n",
    "\n",
    "+ La espectacular charla del gran Vincent Warmerdamm ['How to constrain artificial stupidity'](https://youtu.be/Z8MEFI7ZJlA).\n",
    "+ El libro _'Weapons of math destruction'_ de Cathy O'Neil, hay [versión en castellano](https://www.indienauta.com/armas-destruccion-matematica-cathy-oneil-capitan-swing-2018/)\n",
    "\n",
    "<font color=#6B8E23 size=\"3\">Conceptos de UQ</font>\n",
    "\n",
    "+ En este blog, el articulo introductorio: [_\"A Comprehensive Introduction to Uncertainty in Machine Learning\"_](https://imerit.net/blog/a-comprehensive-introduction-to-uncertainty-in-machine-learning-all-una/#:~:text=One%20way%20to%20estimate%20aleatoric,create%20a%20subset%20of%20samples).\n",
    "+ La referencia por definición, el libro gratuito [_\"Probabilistic Machine Learning: Advanced Topics\"_](https://probml.github.io/pml-book/book2.html), desde 2022 por fín incluye los 'Conformal Predictors', aún no lo leí pero tengo que hacerlo.\n",
    "\n",
    "<font size=\"5\"> 😅 </font>"
   ]
  },
  {
   "cell_type": "markdown",
   "id": "c364261e",
   "metadata": {},
   "source": [
    "<a name='project-description-goal'/>"
   ]
  },
  {
   "cell_type": "markdown",
   "id": "5249c5d6",
   "metadata": {
    "lang": "es"
   },
   "source": [
    "### <font color=#ac6240>1.2 Objetivo</font>"
   ]
  },
  {
   "cell_type": "markdown",
   "id": "cc0a5f36",
   "metadata": {},
   "source": [
    "En este Jupyter Notebook vamos a aplicar algunas técnicas de UQ a los resultados del modelo de bosque aleatorio (que no es interpretable) que entrenamos en el Jupyter Notebook `Exploration_and_Classification.ipynb`. No incluimos explicaciones exhaustivas y demostraciones matemáticas (hay muchas otras fuentes, ver la lista de materiales arriba), mejor mencionaremos algunas características intuitivas sobre la cuantificación de la incertidumbre y nos enfocaremos en su implementación en Scikit-learn.\n",
    "\n",
    "Como dijimos, si ya conoces alguno de los dos Jupyter Notebook anteriores ya estarás familiarize con los datos y con el bosque aleatorio, puedes pasar directamente a la sección <a href=#app-uq> 4. Aplicación de métodos de cuantificación de incertidumbre</a>."
   ]
  },
  {
   "cell_type": "markdown",
   "id": "c15f2255",
   "metadata": {},
   "source": [
    "<a name='project-description-data'/>"
   ]
  },
  {
   "cell_type": "markdown",
   "id": "9a8f82c3",
   "metadata": {},
   "source": [
    "### <font color=#ac6240>1.3 Datos y modelo de aprendizaje automático</font>"
   ]
  },
  {
   "cell_type": "markdown",
   "id": "c2fb462c",
   "metadata": {
    "lang": "es"
   },
   "source": [
    "Utilizaremos los datos y el modelo de aprendizaje automático del Jupyter Notebook `Exploration_and_Classification.ipynb` que se encuentra en [este repositorio](https://github.com/MMdeCastro/Uncertainty_Quantification_XAI).\n",
    "\n",
    "**Datos**\n",
    "\n",
    "Utilizaremos los datos del [Conjunto de datos de predicción de insuficiencia cardíaca de Kaggle](https://www.kaggle.com/fedesoriano/heart-failure-prediction) (cita: fedesoriano. (Septiembre de 2021) Heart Failure Prediction Dataset), y\n",
    "\n",
    "Recordamos que las 'features' o características son los datos de lxs paciente ('Age', 'Cholesterol',...) y la variable objetivo o 'target', es decir, lo que queremos predecir, se llama \"HeartDisease\", y es una variable binaria que toma los valores:\n",
    "+ 1: sí, pacientes que sí presentan riesgo de padecer una cardiopatía\n",
    "+ 0: no, pacientes que no presentan riesgo de padecer una cardiopatía\n",
    "\n",
    "En relacion a la 'feature' 'Sex', vamos a interpretar que se refiere al sexo con el que nacieron esas personas. Por otro lado vemos que solo toma los valores 'M' (male) or 'F' (female), es decir, entendemos que no hay datos de personas intersexuales o no binarias.\n",
    "\n",
    "**Modelo de aprendizaje automático para la clasificación**\n",
    "\n",
    "El modelo de clasificación que utilizaremos es un bosque aleatorio que ya ajustamos, entrenamos, y validamos en el Jupyter Notebook anterior `Exploration_and_Classification.ipynb`. En este Jupyter Notebook directamente dividiremos el conjunto de datos en datos de entrenamiento y datos de prueba ('test'). Sobre esos datos de prueba aplicaremos el modelo de aprendizaje automático en la sección <a href=#model-ml>3. Aplicación del modelo de aprendizaje automático: Bosque Aleatorio</a>."
   ]
  },
  {
   "cell_type": "markdown",
   "id": "eaa3e965",
   "metadata": {},
   "source": [
    "Para cada nueve paciente, el modelo supervisado del bosque aleatorio anteriormente entrenado al aplicar `.predict_proba()` nos da una puntuación o 'raw score' que si esta cerca de '0' clasifica a ese paciente en el grupo de pacientes sin riesgo a sufrir fallo cardíaco y si esta cerca de '1' clasifica a ese paciente en el grupo de pacientes sin riesgo a sufrir fallo cardíaco (donde 'cerca' se define por el 'umbral de decisión' como explicamos en el anterior Jupyter Notebook `Exploration_and_Classification.ipynb`, sección 4. Entrenamiento de los modelos). A menudo se toma esa 'raw score' como probabilidad heurística (ver la Observación importante en ese mismo Jupyter Notebook) de que ese nueve paciente esté o no en riesgo de sufrir una insuficiencia cardíaca. Entonces, si el resultado de aplicar el modelo de aprendizaje automático sobre los datos de une paciente nos arroja una puntuación o 'raw score' de 0.7, si el umbral de decisión es igual a 0.4, le paciente quedará clasificade como 'perteniente al grupo en riesgo de sufrir fallo cardíaco'.\n",
    "\n",
    "Y volvemos a remarcar que nuestro modelo solo es bueno encontrando correlaciones, (ni generaliza, ni entiende de relaciones de causa-efecto, ni conoce las restricciones del problema,...) por eso es fundamental que las decisiones finales sean tomadas por personas expertas en medicina. "
   ]
  },
  {
   "cell_type": "markdown",
   "id": "7bcefe57",
   "metadata": {},
   "source": [
    "![ivory](./images/ivory_small.png \"ivory\")"
   ]
  },
  {
   "cell_type": "markdown",
   "id": "db36cc56",
   "metadata": {},
   "source": [
    "[Fuente de la imagen: \"Mean-squared-terror\"](https://koaning.io/posts/mean-squared-terror/)"
   ]
  },
  {
   "cell_type": "markdown",
   "id": "681ca935",
   "metadata": {},
   "source": [
    "Como es claramente una decisión de vida o muerte y como el bosque aleatorio no es un modelo interpretable, además de aplicar métodos de XAI que explicamos en el Jupyter Notebook anterior, aplicaremos aquí métodos de UQ para dar una distribución de probabilidad rigurosa a los resultados que nos indique como de seguro está el modelo de aprendizaje automático de su predicción. Lo haremos en la siguiente sección <a href=#app-uq>4. Aplicación de métodos de cuantificación de incertidumbre </a>."
   ]
  },
  {
   "cell_type": "markdown",
   "id": "f3a2cf6f",
   "metadata": {},
   "source": [
    "Hemos elegido trabajar sobre un conjunto de datos tabulares porque los modelos de aprendizaje automático y los métodos de UQ suelen ser más fáciles de entender si podemos ver las 'features' en columnas. Sin embargo los conceptos de UQ que explicamos aquí sirven para cualquier aplicación mientras sea de aprendizaje automático. "
   ]
  },
  {
   "cell_type": "markdown",
   "id": "6675f02f",
   "metadata": {},
   "source": [
    "<a name='project-description-software'/>"
   ]
  },
  {
   "cell_type": "markdown",
   "id": "8d8a856c",
   "metadata": {},
   "source": [
    "### <font color=#ac6240>1.4 Software</font>"
   ]
  },
  {
   "cell_type": "markdown",
   "id": "3f098039",
   "metadata": {},
   "source": [
    "Usaremos estas librerías:"
   ]
  },
  {
   "cell_type": "code",
   "execution_count": 1,
   "id": "8d736f50",
   "metadata": {},
   "outputs": [],
   "source": [
    "import pandas as pd     \n",
    "import numpy as np\n",
    "\n",
    "# data exploration and preparation  \n",
    "from sklearn.metrics import mutual_info_score, roc_auc_score\n",
    "from sklearn.model_selection import train_test_split\n",
    "from sklearn.feature_extraction import DictVectorizer \n",
    "from sklearn.preprocessing import StandardScaler \n",
    "\n",
    "# model\n",
    "from sklearn.ensemble import RandomForestClassifier\n",
    "\n",
    "# model evaluation\n",
    "from sklearn.metrics import f1_score\n",
    "from sklearn.metrics import make_scorer\n",
    "\n",
    "# UQ \n",
    "#from sklearn.linear_model import QuantileRegressor\n",
    "#import nonconformist extension scikit-learn\n",
    "\n",
    "\n",
    "\n",
    "# model evaluation\n",
    "from sklearn.metrics import accuracy_score, f1_score, auc, recall_score, precision_score, confusion_matrix\n",
    "from sklearn.metrics import make_scorer\n",
    "from sklearn.model_selection import GridSearchCV, KFold, cross_val_score\n",
    "\n",
    "\n",
    "# plotting and displaying in the notebook\n",
    "import seaborn as sns\n",
    "from matplotlib import pyplot as plt\n",
    "#from IPython.display import display\n",
    "#import emoji\n",
    "\n",
    "# ignore warnings\n",
    "import warnings\n",
    "warnings.filterwarnings(\"ignore\")\n",
    "\n",
    "%matplotlib inline"
   ]
  },
  {
   "cell_type": "markdown",
   "id": "cd36066b",
   "metadata": {},
   "source": [
    "<a href=#toc>Subir a la Tabla de Contenidos</a><br>"
   ]
  },
  {
   "cell_type": "markdown",
   "id": "1f3a5965",
   "metadata": {},
   "source": [
    "<a name='prep'/>"
   ]
  },
  {
   "cell_type": "markdown",
   "id": "dac6f1a9",
   "metadata": {},
   "source": [
    "## <font color=#ac6240>2. Preparación de los datos</font>"
   ]
  },
  {
   "cell_type": "markdown",
   "id": "9b98480e",
   "metadata": {},
   "source": [
    "La exploración y preparación de los datos se hizo en el Jupyter Notebook `Exploration_and_Classification.ipynb` que se encuentra en [este repositorio](https://github.com/MMdeCastro/Uncertainty_Quantification_XAI), aquí solo mostarmos los pasos esenciales."
   ]
  },
  {
   "cell_type": "markdown",
   "id": "97376b59",
   "metadata": {},
   "source": [
    "<a name='prep-clean'/>"
   ]
  },
  {
   "cell_type": "markdown",
   "id": "e1caef65",
   "metadata": {},
   "source": [
    "### <font color=#ac6240>2.1 Limpieza de los datos</font>"
   ]
  },
  {
   "cell_type": "markdown",
   "id": "cc0662a4",
   "metadata": {},
   "source": [
    "Cargamos los datos del fichero que esta en el mismo repositorio:"
   ]
  },
  {
   "cell_type": "code",
   "execution_count": 2,
   "id": "89fa33de",
   "metadata": {},
   "outputs": [
    {
     "data": {
      "text/html": [
       "<div>\n",
       "<style scoped>\n",
       "    .dataframe tbody tr th:only-of-type {\n",
       "        vertical-align: middle;\n",
       "    }\n",
       "\n",
       "    .dataframe tbody tr th {\n",
       "        vertical-align: top;\n",
       "    }\n",
       "\n",
       "    .dataframe thead th {\n",
       "        text-align: right;\n",
       "    }\n",
       "</style>\n",
       "<table border=\"1\" class=\"dataframe\">\n",
       "  <thead>\n",
       "    <tr style=\"text-align: right;\">\n",
       "      <th></th>\n",
       "      <th>Age</th>\n",
       "      <th>Sex</th>\n",
       "      <th>ChestPainType</th>\n",
       "      <th>RestingBP</th>\n",
       "      <th>Cholesterol</th>\n",
       "      <th>FastingBS</th>\n",
       "      <th>RestingECG</th>\n",
       "      <th>MaxHR</th>\n",
       "      <th>ExerciseAngina</th>\n",
       "      <th>Oldpeak</th>\n",
       "      <th>ST_Slope</th>\n",
       "      <th>HeartDisease</th>\n",
       "    </tr>\n",
       "  </thead>\n",
       "  <tbody>\n",
       "    <tr>\n",
       "      <th>0</th>\n",
       "      <td>40</td>\n",
       "      <td>M</td>\n",
       "      <td>ATA</td>\n",
       "      <td>140</td>\n",
       "      <td>289</td>\n",
       "      <td>0</td>\n",
       "      <td>Normal</td>\n",
       "      <td>172</td>\n",
       "      <td>N</td>\n",
       "      <td>0.0</td>\n",
       "      <td>Up</td>\n",
       "      <td>0</td>\n",
       "    </tr>\n",
       "    <tr>\n",
       "      <th>1</th>\n",
       "      <td>49</td>\n",
       "      <td>F</td>\n",
       "      <td>NAP</td>\n",
       "      <td>160</td>\n",
       "      <td>180</td>\n",
       "      <td>0</td>\n",
       "      <td>Normal</td>\n",
       "      <td>156</td>\n",
       "      <td>N</td>\n",
       "      <td>1.0</td>\n",
       "      <td>Flat</td>\n",
       "      <td>1</td>\n",
       "    </tr>\n",
       "    <tr>\n",
       "      <th>2</th>\n",
       "      <td>37</td>\n",
       "      <td>M</td>\n",
       "      <td>ATA</td>\n",
       "      <td>130</td>\n",
       "      <td>283</td>\n",
       "      <td>0</td>\n",
       "      <td>ST</td>\n",
       "      <td>98</td>\n",
       "      <td>N</td>\n",
       "      <td>0.0</td>\n",
       "      <td>Up</td>\n",
       "      <td>0</td>\n",
       "    </tr>\n",
       "    <tr>\n",
       "      <th>3</th>\n",
       "      <td>48</td>\n",
       "      <td>F</td>\n",
       "      <td>ASY</td>\n",
       "      <td>138</td>\n",
       "      <td>214</td>\n",
       "      <td>0</td>\n",
       "      <td>Normal</td>\n",
       "      <td>108</td>\n",
       "      <td>Y</td>\n",
       "      <td>1.5</td>\n",
       "      <td>Flat</td>\n",
       "      <td>1</td>\n",
       "    </tr>\n",
       "    <tr>\n",
       "      <th>4</th>\n",
       "      <td>54</td>\n",
       "      <td>M</td>\n",
       "      <td>NAP</td>\n",
       "      <td>150</td>\n",
       "      <td>195</td>\n",
       "      <td>0</td>\n",
       "      <td>Normal</td>\n",
       "      <td>122</td>\n",
       "      <td>N</td>\n",
       "      <td>0.0</td>\n",
       "      <td>Up</td>\n",
       "      <td>0</td>\n",
       "    </tr>\n",
       "  </tbody>\n",
       "</table>\n",
       "</div>"
      ],
      "text/plain": [
       "   Age Sex ChestPainType  RestingBP  Cholesterol  FastingBS RestingECG  MaxHR  \\\n",
       "0   40   M           ATA        140          289          0     Normal    172   \n",
       "1   49   F           NAP        160          180          0     Normal    156   \n",
       "2   37   M           ATA        130          283          0         ST     98   \n",
       "3   48   F           ASY        138          214          0     Normal    108   \n",
       "4   54   M           NAP        150          195          0     Normal    122   \n",
       "\n",
       "  ExerciseAngina  Oldpeak ST_Slope  HeartDisease  \n",
       "0              N      0.0       Up             0  \n",
       "1              N      1.0     Flat             1  \n",
       "2              N      0.0       Up             0  \n",
       "3              Y      1.5     Flat             1  \n",
       "4              N      0.0       Up             0  "
      ]
     },
     "execution_count": 2,
     "metadata": {},
     "output_type": "execute_result"
    }
   ],
   "source": [
    "df = pd.read_csv(\"heart_failure.csv\")\n",
    "df.head()"
   ]
  },
  {
   "cell_type": "markdown",
   "id": "f214c1d3",
   "metadata": {},
   "source": [
    "'FastingBS' (la presión sanguínea en ayunas) debería ser una variable categórica ya que los valores actuales de '0' y '1' son solamente representaciones de valores cualitativos que no queremos que el modelo interprete como valores cuantitativos."
   ]
  },
  {
   "cell_type": "code",
   "execution_count": 3,
   "id": "49f1e440",
   "metadata": {},
   "outputs": [],
   "source": [
    "# Transform the categorical values wrongly classified as numericals\n",
    "new_values = {\n",
    "    0: 'L', # low\n",
    "    1: 'H', # high\n",
    "}\n",
    "\n",
    "df.FastingBS = df.FastingBS.map(new_values)\n",
    "# type(df.FastingBS[0]) # uncomment to check that it is a string type"
   ]
  },
  {
   "cell_type": "code",
   "execution_count": 4,
   "id": "e8553d15",
   "metadata": {},
   "outputs": [],
   "source": [
    "# Store in different lists the names of the categorical and numerical columns since they will be treated different \n",
    "categorical = df.select_dtypes(include=['object']).columns.tolist()  # for strings \n",
    "numerical = df.select_dtypes(include=['int64','float64']).columns.tolist() # for numbers"
   ]
  },
  {
   "cell_type": "markdown",
   "id": "3db8e25b",
   "metadata": {},
   "source": [
    "Los valores mínimos de 'RestingBP' y 'Cholesterol' son cero, lo cual es sospechoso. Con experiencia en el campo de la medicina, podríamos decidir si reemplazar estos valores nulos por la media u otro valor. Carecemos de esta información, por lo tanto, simplemente eliminamos esas filas."
   ]
  },
  {
   "cell_type": "code",
   "execution_count": 5,
   "id": "04fb9793",
   "metadata": {},
   "outputs": [],
   "source": [
    "index_to_drop = list(df.loc[(df.RestingBP == 0) | (df.Cholesterol == 0)].index)\n",
    "df.drop(index_to_drop, inplace=True)"
   ]
  },
  {
   "cell_type": "markdown",
   "id": "554c1b95",
   "metadata": {},
   "source": [
    "<font size ='5'> ✌️ </font>No hay necesidad de más limpieza de datos."
   ]
  },
  {
   "cell_type": "markdown",
   "id": "7f6113d7",
   "metadata": {},
   "source": [
    "<a name='prep-split'/>"
   ]
  },
  {
   "cell_type": "markdown",
   "id": "e0f89f27",
   "metadata": {
    "lang": "es"
   },
   "source": [
    "### <font color=#ac6240>2.2 División de los datos en conjuntos de datos de entrenamiento, validación y prueba</font>"
   ]
  },
  {
   "cell_type": "markdown",
   "id": "0305c991",
   "metadata": {
    "lang": "es"
   },
   "source": [
    "En esta división aleatoria, y en todas las ocasiones siguientes en las que usemos un generador de números aleatorios, fijamos la semilla del generador de números aleatorios para asegurar la reproducibilidad de los resultados. Fijamos el `random_state = 1` pero podría ser 2 o cualquier otro valor, no afectará a los resultados, pero con esta corrección siempre obtendremos exactamente los mismos resultados.\n",
    "\n",
    "Recordamos que dividimos el conjunto de datos en entrenamiento y prueba porque la exploración de los datos y el ajuste y la validación del modelo de clasificación ya lo hicimos en el Jupyter Notebook `Exploration_and_Classification.ipynb` que se encuentra en [este repositorio](https://github.com/MMdeCastro/Uncertainty_Quantification_XAI)."
   ]
  },
  {
   "cell_type": "code",
   "execution_count": 6,
   "id": "024bc614",
   "metadata": {},
   "outputs": [],
   "source": [
    "# copy the original dataframe so further manipulations will not affect it \n",
    "df_select = df.copy() \n",
    "categorical = df_select.select_dtypes(include=['object']).columns.tolist()\n",
    "numerical = df_select.select_dtypes(include=['int64','float64']).columns.tolist()\n",
    "numerical.remove('HeartDisease')"
   ]
  },
  {
   "cell_type": "code",
   "execution_count": 7,
   "id": "66fd7a40",
   "metadata": {},
   "outputs": [
    {
     "data": {
      "text/plain": [
       "['Age', 'RestingBP', 'Cholesterol', 'MaxHR', 'Oldpeak']"
      ]
     },
     "execution_count": 7,
     "metadata": {},
     "output_type": "execute_result"
    }
   ],
   "source": [
    "numerical"
   ]
  },
  {
   "cell_type": "code",
   "execution_count": 8,
   "id": "0b473b46",
   "metadata": {},
   "outputs": [
    {
     "data": {
      "text/plain": [
       "(596, 150)"
      ]
     },
     "execution_count": 8,
     "metadata": {},
     "output_type": "execute_result"
    }
   ],
   "source": [
    "# first separate the train from the test set\n",
    "df_train, df_test = train_test_split(df_select, test_size=0.2, random_state=1)\n",
    "len(df_train), len(df_test)"
   ]
  },
  {
   "cell_type": "code",
   "execution_count": 9,
   "id": "89f65631",
   "metadata": {},
   "outputs": [],
   "source": [
    "# reset index\n",
    "df_train = df_train.reset_index(drop=True)\n",
    "# define the target\n",
    "y_train = df_train.HeartDisease.values\n",
    "# remove the target from the features\n",
    "del df_train['HeartDisease']"
   ]
  },
  {
   "cell_type": "markdown",
   "id": "06bcd55a",
   "metadata": {},
   "source": [
    "<a name='prep-encoding'/>       "
   ]
  },
  {
   "cell_type": "markdown",
   "id": "b5a67de6",
   "metadata": {
    "lang": "es"
   },
   "source": [
    "### <font color=#ac6240>2.3 Codificación y normalización de las 'features'</font>"
   ]
  },
  {
   "cell_type": "markdown",
   "id": "aaa2f6b4",
   "metadata": {
    "lang": "es"
   },
   "source": [
    "Para codificar las características categóricas usamos Scikit-Learn `DictVectorizer`, que toma un diccionario y lo convierte en un vector, es decir, en un` numpy.array`. Es un método de los llamados One-Hot Encoding (OHE) para convertir las características categóricas (no afectaría las numéricas si se lo aplicasemos) en columnas con valores binarios, con tantas columnas como valores tome la variable categórica. Por ejemplo, la columna de la caracteristíca 'ExcerciseAngina' que podía tener valores 'N' o 'Y' ahora dará lugar a dos columnas, una llamada 'ExcerciseAngina=N' y otra 'ExcerciseAngina=Y' que claramente son dependientes (dan la misma información) y están totalmente correlacionadas (cuando el valor de una es '0', el valor de la otra es seguro '1', ver las correlaciones en el Jupyter Notebook anterior). Cualquier método de codificación añade por tanto información redundante. Hemos de eliminar la información redundante desechando una de las columnas de cada par correlacionado (da igual qué columna de cada par eliminemos, ambas dan la misma información), quitaremos 'ExerciseAngina=N', 'FastingBS=H', 'Sex=F', 'ST_Slope=Up':"
   ]
  },
  {
   "cell_type": "code",
   "execution_count": 10,
   "id": "c576a8ea",
   "metadata": {},
   "outputs": [],
   "source": [
    "dv = DictVectorizer(sparse=False) # False bcs is not a sparse matrix (we do not have many zeros)\n",
    "\n",
    "# TRAIN\n",
    "train_dict = df_train[categorical].to_dict(orient='records') # records = to do it row-wise, not col-wise\n",
    "X_train_cat = dv.fit_transform(train_dict) # make it a vector\n",
    "\n",
    "df_X_train_cat = pd.DataFrame(X_train_cat,columns= dv.get_feature_names())\n",
    "# remove redundant columns\n",
    "df_X_train_cat.drop(['ExerciseAngina=N', 'FastingBS=H', 'Sex=F', 'ST_Slope=Up'], \n",
    "                    axis=1, inplace=True)\n",
    "# convert the dataframe to a np.array again\n",
    "X_train_cat = df_X_train_cat.to_numpy()\n",
    "\n",
    "categorical_update = df_X_train_cat.columns.to_list()"
   ]
  },
  {
   "cell_type": "markdown",
   "id": "d550b807",
   "metadata": {
    "lang": "es"
   },
   "source": [
    "En el Jupyter Notebook de la exploración y clasificación de los datos usamos Scikit-Learn `StandardScaler` para normalizar las características numéricas entre 0 y 1. Así, aquellas columnas con valores en un rango más alto no tendrían más representación y modelos como la regresión logística convergían mejor. Como aquí usamos un bosque aleatorio, no necesitamos escalar las 'features' numéricas. "
   ]
  },
  {
   "cell_type": "code",
   "execution_count": 11,
   "id": "21a24322",
   "metadata": {},
   "outputs": [],
   "source": [
    "#scaler = StandardScaler()\n",
    "\n",
    "# TRAIN\n",
    "X_train_num = df_train[numerical].values\n",
    "#X_train_num = scaler.fit_transform(X_train_num)"
   ]
  },
  {
   "cell_type": "markdown",
   "id": "ef815080",
   "metadata": {
    "lang": "es"
   },
   "source": [
    "Unimos las matrices numéricas y categóricas:"
   ]
  },
  {
   "cell_type": "code",
   "execution_count": 12,
   "id": "ede9d280",
   "metadata": {},
   "outputs": [],
   "source": [
    "# TRAIN\n",
    "X_train = np.column_stack([X_train_num, X_train_cat])"
   ]
  },
  {
   "cell_type": "markdown",
   "id": "6f31c939",
   "metadata": {},
   "source": [
    "Las nuevas características son:"
   ]
  },
  {
   "cell_type": "code",
   "execution_count": 13,
   "id": "5c5c6fbe",
   "metadata": {},
   "outputs": [
    {
     "data": {
      "text/plain": [
       "['Age',\n",
       " 'RestingBP',\n",
       " 'Cholesterol',\n",
       " 'MaxHR',\n",
       " 'Oldpeak',\n",
       " 'ChestPainType=ASY',\n",
       " 'ChestPainType=ATA',\n",
       " 'ChestPainType=NAP',\n",
       " 'ChestPainType=TA',\n",
       " 'ExerciseAngina=Y',\n",
       " 'FastingBS=L',\n",
       " 'RestingECG=LVH',\n",
       " 'RestingECG=Normal',\n",
       " 'RestingECG=ST',\n",
       " 'ST_Slope=Down',\n",
       " 'ST_Slope=Flat',\n",
       " 'Sex=M']"
      ]
     },
     "execution_count": 13,
     "metadata": {},
     "output_type": "execute_result"
    }
   ],
   "source": [
    "feature_names = numerical + categorical_update\n",
    "feature_names"
   ]
  },
  {
   "cell_type": "markdown",
   "id": "0570ccfa",
   "metadata": {},
   "source": [
    "<font size=\"5\"> 👏 </font>  Ya tenemos todo para entrenar nuestro bosque aleatorio."
   ]
  },
  {
   "cell_type": "markdown",
   "id": "ccd54a62",
   "metadata": {},
   "source": [
    "<a href=#toc>Subir a Tabla de Contenidos</a><br>"
   ]
  },
  {
   "cell_type": "markdown",
   "id": "a9b019fd",
   "metadata": {},
   "source": [
    "<a name='model-ml'/>"
   ]
  },
  {
   "cell_type": "markdown",
   "id": "c887bb84",
   "metadata": {},
   "source": [
    "## <font color=#ac6240>3. Aplicación del modelo de aprendizaje automático: Bosque Aleatorio</font>"
   ]
  },
  {
   "cell_type": "markdown",
   "id": "639fbeeb",
   "metadata": {
    "lang": "es"
   },
   "source": [
    "Entrenaremos el modelo de aprendizaje supervisado llamado bosque aleatorio ('Random Forest') que es uno de los clasificadores de aprendizaje automático más populares (ver, por ejemplo, [Kaggle 2021](https://storage.googleapis.com/kaggle-media/surveys/Kaggle's%20State%20of%20Machine%20Learning%20and%20Data%20Science%202021.pdf) página 32). En el Jupyter Notebook `Exploration_and_Classification.ipynb` que se encuentra en [este repositorio](https://github.com/MMdeCastro/Uncertainty_Quantification_XAI) probamos varios modelos de clasificación y el bosque aleatorio resultó ser el ganador.\n",
    "\n",
    "El bosque aleatorio es un tipo de [Ensemble Learning](https://en.wikipedia.org/wiki/Ensemble_learning): corremos en paralelo muchos árboles de decisión y tomamos la predicción del que obtuvo más aciertos. Primero, se crean múltiples conjuntos de datos de entrenamiento mediante el muestreo de datos del conjunto de datos de entrenamiento (un método conocido como 'bootstrapping' o 'bagging') y luego se entrena un árbol de decisión en cada uno de estos conjuntos de datos.  Pueden usarse para resolver problemas de regresión o de clasificación. Por lo general, los bosques aleatorios tienen un alto rendimiento, pero no son interpretables (son 'black-boxes') y no son recomendables para grandes conjuntos de datos (~ TB) porque requieren mucha más potencia de computadora que la regresión logística, por ejemplo."
   ]
  },
  {
   "cell_type": "markdown",
   "id": "7f92daf3",
   "metadata": {},
   "source": [
    "<a name='model-metric'/>"
   ]
  },
  {
   "cell_type": "markdown",
   "id": "efd33785",
   "metadata": {},
   "source": [
    "### <font color=#ac6240>3.1 Selección de la Métrica y del umbral de decisión</font>"
   ]
  },
  {
   "cell_type": "markdown",
   "id": "53f7f180",
   "metadata": {},
   "source": [
    "En el Jupyter Notebook `Exploration_and_Classification.ipynb` que se encuentra en [este repositorio](https://github.com/MMdeCastro/Uncertainty_Quantification_XAI), decidimos medir la calidad del modelo con la metrica denominada 'F1-score' porque **queremos evitar los Falsos Negativos (no queremos diagnostiar como sanx a unx paciente en riesgo)**. Además, contaremos la tasa de Verdaderos Positivos (o 'recall') y no perderemos de vista la precisión ('precision') y exactitud ('accuracy').\n",
    "\n",
    "\n",
    "Por último, concluimos que definíamos el umbral de decisión en `t = 0.4`."
   ]
  },
  {
   "cell_type": "markdown",
   "id": "0ea26f4b",
   "metadata": {},
   "source": [
    "<a name='model-RF'/>"
   ]
  },
  {
   "cell_type": "markdown",
   "id": "f2cdf592",
   "metadata": {},
   "source": [
    "### <font color=#ac6240>3.2 Entrenamiento, prueba, y aplicación del bosque aleatorio</font>"
   ]
  },
  {
   "cell_type": "markdown",
   "id": "baa5dfa7",
   "metadata": {
    "lang": "es"
   },
   "source": [
    "No vamos a repetir todo el proceso de ajuste y validación sino que directamente entrenamos y probamos ('test') el modelo de clasificación para poder comenzar la cuantificación de la incertidumbre en el siguiente apartado. "
   ]
  },
  {
   "cell_type": "markdown",
   "id": "d61a97f9",
   "metadata": {
    "lang": "es"
   },
   "source": [
    "#### <font color=#ac6240>3.2.1 Entrenamiento y prueba del bosque aleatorio</font>"
   ]
  },
  {
   "cell_type": "markdown",
   "id": "3f039304",
   "metadata": {
    "lang": "es"
   },
   "source": [
    "Entrenamos el modelo ganador con los datos de entrenamiento: "
   ]
  },
  {
   "cell_type": "code",
   "execution_count": 14,
   "id": "44d36ae9",
   "metadata": {},
   "outputs": [],
   "source": [
    "# train the machine learning model: random forest\n",
    "\n",
    "RF = RandomForestClassifier(max_depth = 10, min_samples_leaf = 5, \n",
    "                            n_estimators =  50, random_state = 1)\n",
    "\n",
    "model = RF.fit(X_train, y_train)"
   ]
  },
  {
   "cell_type": "markdown",
   "id": "e50fbcce",
   "metadata": {},
   "source": [
    "Vamos aplicarlo sobre los datos de prueba, primero los preparamos:"
   ]
  },
  {
   "cell_type": "code",
   "execution_count": 15,
   "id": "1fd3435f",
   "metadata": {},
   "outputs": [],
   "source": [
    "# preparation TEST data\n",
    "\n",
    "# reset index after the splitting shuffling\n",
    "df_test = df_test.reset_index(drop=True)\n",
    "# define target of the test set\n",
    "y_test = df_test.HeartDisease.values\n",
    "   \n",
    "# 1. encode the categorical features and remove redundant columns-------------    \n",
    "\n",
    "test_dict = df_test[categorical].to_dict(orient='records')\n",
    "X_test_cat = dv.transform(test_dict) \n",
    "\n",
    "# convert the data array to a dataframe\n",
    "df_X_test_cat = pd.DataFrame(X_test_cat,columns= dv.get_feature_names())\n",
    "\n",
    "# remove redundant columns\n",
    "df_X_test_cat.drop(['ExerciseAngina=N', 'FastingBS=H', 'Sex=F', 'ST_Slope=Up'], \n",
    "                    axis=1, inplace=True)\n",
    "\n",
    "# convert the dataframe to a np.array again\n",
    "X_test_cat = df_X_test_cat.to_numpy()\n",
    "\n",
    "# 2. scale the numerical features --------------------------------------------\n",
    "\n",
    "X_test_num = df_test[numerical].values\n",
    "#X_test_num = scaler.transform(X_test_num) \n",
    "\n",
    "# 3. join the matrices -------------------------------------------------------\n",
    "\n",
    "X_test = np.column_stack([X_test_num, X_test_cat]) "
   ]
  },
  {
   "cell_type": "code",
   "execution_count": 16,
   "id": "7baf31d2",
   "metadata": {},
   "outputs": [
    {
     "name": "stdout",
     "output_type": "stream",
     "text": [
      "For the test dataset: ACC: 0.893 Recall: 0.924 F1: 0.901 ROC AUC: 0.942\n"
     ]
    }
   ],
   "source": [
    "# model application on TEST data\n",
    "y_pred = RF.predict_proba(X_test)[:, 1]\n",
    "\n",
    "# metrics analysis\n",
    "t = 0.4\n",
    "\n",
    "acc = accuracy_score(y_test, y_pred >= t) \n",
    "rec = recall_score(y_test, y_pred >= t)\n",
    "f1  = f1_score(y_test, y_pred >= t) \n",
    "auc = roc_auc_score(y_test, y_pred)\n",
    "print('For the test dataset:',\n",
    "      'ACC:', acc.round(3), 'Recall:', rec.round(3),'F1:', f1.round(3),\n",
    "      'ROC AUC:', auc.round(3))\n",
    "# output:\n",
    "# For the test dataset: ACC: 0.893 Recall: 0.924 F1: 0.901 ROC AUC: 0.942"
   ]
  },
  {
   "cell_type": "code",
   "execution_count": 17,
   "id": "852fa69f",
   "metadata": {},
   "outputs": [
    {
     "data": {
      "image/png": "[encoded data removed]",
      "text/plain": [
       "<Figure size 640x480 with 2 Axes>"
      ]
     },
     "metadata": {},
     "output_type": "display_data"
    }
   ],
   "source": [
    "# confusion matrix\n",
    "\n",
    "cf_matrix = confusion_matrix(y_test, y_pred >= t)\n",
    "\n",
    "ax = sns.heatmap(cf_matrix, annot=True, cmap='Blues')\n",
    "\n",
    "ax.set_title('Confusion Matrix\\n');\n",
    "ax.set_xlabel('\\nPredicted Values')\n",
    "ax.set_ylabel('Actual Values ');\n",
    "\n",
    "ax.xaxis.set_ticklabels(['0','1'])\n",
    "ax.yaxis.set_ticklabels(['0','1'])\n",
    "\n",
    "##plt.figure(figsize=(7,5))\n",
    "plt.rcParams['figure.figsize'] = [7, 5]  # re-run this cell to get the correct figure size\n",
    "\n",
    "plt.show();"
   ]
  },
  {
   "cell_type": "markdown",
   "id": "f80f4cdb",
   "metadata": {
    "lang": "es"
   },
   "source": [
    "<font size=\"5\"> 👏 </font> Como es un contexto médico, queremos evitar los Falsos Negativos y hemos obtenido solo 6, con un porcentaje de aciertos de aproximadamente el 90% (ver los valores de las métricas obtenidos), no está mal. Además, vimos en el Jupyter Notebook anterior que estos hiperparametros nos dan valores de las métricas similares a los de los conjuntos de datos de entrenamiento y validación, por lo que no estamos sobreajustadando ('overfitting') y esperamos que el modelo generalice bien."
   ]
  },
  {
   "cell_type": "markdown",
   "id": "dc4d2107",
   "metadata": {},
   "source": [
    "<a href=#toc>Subir a Tabla de Contenidos</a><br>"
   ]
  },
  {
   "cell_type": "markdown",
   "id": "0b123247",
   "metadata": {},
   "source": [
    "#### <font color=#ac6240>3.2.2 Aplicación del bosque aleatorio</font>"
   ]
  },
  {
   "cell_type": "markdown",
   "id": "a68c39ca",
   "metadata": {
    "lang": "es"
   },
   "source": [
    "Simulemos una nueva paciente con los siguientes datos:"
   ]
  },
  {
   "cell_type": "code",
   "execution_count": 18,
   "id": "ac29c840",
   "metadata": {},
   "outputs": [],
   "source": [
    "new_patient = {\n",
    "    'Age': 56,\n",
    "    'Sex': 'F',\n",
    "    'ChestPainType': 'ATA', \n",
    "    'RestingBP': 130,  \n",
    "    'Cholesterol': 150, \n",
    "    'FastingBS': 'L',\n",
    "    'RestingECG': 'ST',\n",
    "    'MaxHR': 115,\n",
    "    'ExerciseAngina': 'N',\n",
    "    'Oldpeak': 1.,\n",
    "    'ST_Slope': 'Flat',\n",
    " }"
   ]
  },
  {
   "cell_type": "markdown",
   "id": "4bca834d",
   "metadata": {
    "lang": "es"
   },
   "source": [
    "Preparamos los datos de entrada como en la sección <a href=#prep>2. Preparación de los datos</a>:"
   ]
  },
  {
   "cell_type": "code",
   "execution_count": 19,
   "id": "51da80dd",
   "metadata": {},
   "outputs": [],
   "source": [
    "num_dict = dict()\n",
    "cat_dict = dict()\n",
    "    \n",
    "for (key, value) in new_patient.items():\n",
    "    if key in numerical:\n",
    "        num_dict[key] = value\n",
    "    else:\n",
    "        cat_dict[key] = value\n",
    "\n",
    "# DictVect input must be a dict\n",
    "X_cat = dv.transform(cat_dict) # encode the categorical features\n",
    "df_X_cat = pd.DataFrame(X_cat,columns= dv.get_feature_names()) # convert array to df\n",
    "df_X_cat.drop(['ExerciseAngina=N', 'FastingBS=H', 'Sex=F', 'ST_Slope=Up'], \n",
    "              axis=1, inplace=True) # remove redundant columns\n",
    "X_cat = df_X_cat.to_numpy() # convert the dataframe to a np.array again\n",
    "\n",
    "# Scaler input must be a np.array\n",
    "X_num = np.array(list(num_dict.values())).reshape(1, -1)\n",
    "#X_num = scaler.transform(X_num) # scale the numerical features\n",
    "\n",
    "# Join both arrays\n",
    "X = np.column_stack([X_num, X_cat]) "
   ]
  },
  {
   "cell_type": "markdown",
   "id": "b123ce27",
   "metadata": {
    "lang": "es"
   },
   "source": [
    "y aplicamos el modelo de clasificación:"
   ]
  },
  {
   "cell_type": "code",
   "execution_count": 20,
   "id": "13c11fc9",
   "metadata": {},
   "outputs": [
    {
     "name": "stdout",
     "output_type": "stream",
     "text": [
      "\n",
      "Application of the Random Forest classifier to a new patient:\n",
      "\n",
      "The patient raw score of suffering a hear failure is: 0.32\n",
      "\n",
      "With t = 0.4 as the decision threshold, is there a risk of suffering a heart failure?\n",
      "False\n"
     ]
    }
   ],
   "source": [
    "print()\n",
    "y_pred = RF.predict_proba(X)[:, 1]\n",
    "print('Application of the Random Forest classifier to a new patient:')\n",
    "print()\n",
    "print(\"The patient raw score of suffering a hear failure is:\", y_pred[0].round(2))\n",
    "t = 0.4\n",
    "print()\n",
    "print(\"With t =\", t, \"as the decision threshold, is there a risk of suffering a heart failure?\")\n",
    "print(y_pred[0] >= t)"
   ]
  },
  {
   "cell_type": "markdown",
   "id": "527f17f5",
   "metadata": {},
   "source": [
    "Empezamos ya a implementar métodos de UQ que permiten predecir la distribución esperada de la predicción en lugar de un único valor puntual. Identificaremos así cuando nuestro modelo no está seguro de su predicción y podremos reducir el número de Falsos Negativos."
   ]
  },
  {
   "cell_type": "markdown",
   "id": "6960dd69",
   "metadata": {},
   "source": [
    "![Molnar_UQ](./images/Molnar_UQ.png \"Molnar_UQ\")"
   ]
  },
  {
   "cell_type": "markdown",
   "id": "77bee37a",
   "metadata": {},
   "source": [
    "[Fuente de la imagen](https://twitter.com/ChristophMolnar)"
   ]
  },
  {
   "cell_type": "markdown",
   "id": "4945ea01",
   "metadata": {},
   "source": [
    "<a href=#toc>Subir a Tabla de Contenidos</a><br>"
   ]
  },
  {
   "cell_type": "markdown",
   "id": "dedaf394",
   "metadata": {},
   "source": [
    "<a name='app-uq'/>"
   ]
  },
  {
   "cell_type": "markdown",
   "id": "2931515d",
   "metadata": {},
   "source": [
    "## <font color=#ac6240>4. Aplicación de métodos de cuantificacion de incertidumbre</font>"
   ]
  },
  {
   "cell_type": "markdown",
   "id": "d564ba69",
   "metadata": {},
   "source": [
    "Como mencionamos en la 'Observación importante' de la seccion 4. Entrenamiento de los modelos en el primer Jupyter Notebook de la serie `Exploration_and_Classification.ipynb`, las librerías más populares de Python (Scikit-learn, XGBoost, Keras…) púntuan las prediciones con el método `predict_proba()` que, a pesar de su nombre, en realidad no produce probabilidades (ver por ejemplo, el artículo [_\"Are you sure that's a probability?\"_](https://kiwidamien.github.io/are-you-sure-thats-a-probability.html)) porque las puntuaciones crudas o 'raw scores' que nos dan estos modelos no están calibradas. Esto causa consecuencias desastrosas a la hora de inferir verdadera información, como se explica en [_\"How to calibrate your classifier in an intelligent way using Machine Learning Conformal Prediction\"_](https://valeman.medium.com/how-to-calibrate-your-classifier-in-an-intelligent-way-a996a2faf718).\n",
    "\n",
    "Aquí vamos a explicar la familia de métodos denominados ['Conformal Predictors'](https://en.wikipedia.org/wiki/Conformal_prediction) los cuales funcionan tanto para clasificación como para regresión y nos permiten calibrar nuestras 'raw scores' para que sean verdaderas probabilidades. Aplicamos uno muy sencillo que funciona muy bien para clasificaciones binarias en la sección <a href=#uq-cp>4.1 Conformal Predictors</a>."
   ]
  },
  {
   "cell_type": "markdown",
   "id": "5a0fb828",
   "metadata": {},
   "source": [
    "<a name='uq-cp'/>"
   ]
  },
  {
   "cell_type": "markdown",
   "id": "93be5d38",
   "metadata": {},
   "source": [
    "### <font color=#ac6240>4.1 Conformal Predictors</font>"
   ]
  },
  {
   "cell_type": "markdown",
   "id": "6e9e5c1d",
   "metadata": {},
   "source": [
    "La ['Conformal Prediction'](https://en.wikipedia.org/wiki/Conformal_prediction) es un método para cuantizar la rareza de una predicción respecto al resto de valores de la variable de destino o 'target'. Para ello, hemos de establecer una medida de no conformidad, o 'nonconformity measure' que cuantice cuán diferente es la  predicción dentro del conjunto de predicciones que obtuvimos al predecir el conjunto de entrenamiento. Una alta 'nonconformity' indica que el nuevo dato es raro, como lx pájarx en el ejemplo de la Introducción. Lxs cientificxs de datos que aplicamos la 'Conformal Prediction' nos llamamos 'nonconformists'.\n",
    "\n",
    "<font size=\"5\">😎<font/>"
   ]
  },
  {
   "cell_type": "markdown",
   "id": "cd21442f",
   "metadata": {},
   "source": [
    "La 'Conformal Prediction':\n",
    "\n",
    "+ funciona para cualquier modelo de aprendizaje automático,\n",
    "+ se aplica en el 'post-procesing' sobre las predicciones del modelo de aprendijaze automático ya entrenado,\n",
    "+ requiere pocas líneas de código y es rápida, \n",
    "+ funciona para datos recogidos en tiempo real, es decir, 'online assimilation',\n",
    "+ es 'model-agnostic' y ni siquiera necesita conocer al modelo de aprendizaje automático para el que está cuantizando la incertidumbre de sus predicciones,     \n",
    "+ ofrece una garantía de cobertura: los conjuntos de predicciones resultantes vienen con garantías de cubrir el resultado verdadero con una probabilidad determinada,\n",
    "+ a diferencia de los métodos paramétricos, no es necesario asumir que la variable de destino o 'target' está distribuida según una distribución normal, y \n",
    "\n",
    "de hecho, la unica condición es que las instancias sean [intercambiables](https://en.m.wikipedia.org/wiki/Exchangeable_random_variables), es decir, que el orden de los datos no importe, (como en nuestro caso, lxs pacientes no tienen que estar ordenadxs) lo cual es una restricción menos fuerte que la restricción que tienen todos los modelos de aprendizaje automatico sobre que los datos han de ser independientes e estar idénticamente distributidos o [iid](https://es.wikipedia.org/wiki/Variables_aleatorias_independientes_e_id%C3%A9nticamente_distribuidas). \n",
    "\n",
    "Así, la 'Conformal Prediction' nos cuantifica la incertidumbre en forma de intervalos de predicción, también llamados 'conformal intervals', que con garantía incluye la prediccion correcta con cierta probabilidad, lo cual se llama 'coverage guarantee'. Entonces, en lugar de obtener predicciones puntuales ('single-point predictions'), es decir, un número real en el caso de una regresión o la etiqueta de una clase en el caso de una clasificación, los resultados calibrados con 'Conformal prediction' nos dan un intervalo de números reales o un conjunto de etiquetas, respectivamente.\n",
    "    \n",
    "Por ejemplo, aplicando 'Conformal Prediction' a los resultados de un modelo de aprendizaje automático (una CUDA de Deep Neural Network en PyTorch) para una clasificación de imágenes, vemos que éste:\n",
    "    \n",
    "+ no está muy seguro de si la primera foto era un osciloscopio, así que nos lo ofrece como primera opción en un intervalo con otras dos opciones, 'microondas' y 'portítil', \n",
    "+ tampoco está muy seguro de la foto central, de nuevo nos dió la respuesta correcta como primera opción pero el intervalo contiene también 'refrigerador' y ' lavadora', y\n",
    "+ está muy seguro de que en la foto de la derecha hay unx perrx de raza 'Irish Setter' (seguro que ha visto muchos como esx, para el modelo no es una imagen rara), y es la única opción del intervalo de resultados:"
   ]
  },
  {
   "cell_type": "markdown",
   "id": "1910d84b",
   "metadata": {},
   "source": [
    "![CP_example](./images/CP_4.png \"CP_example\")"
   ]
  },
  {
   "cell_type": "markdown",
   "id": "c36d8e43",
   "metadata": {},
   "source": [
    "[Fuente de la imagen: Google Colab de A. Angelopoulos desarrollador de MAPIE](https://colab.research.google.com/github/aangelopoulos/conformal_classification/blob/master/example.ipynb#scrollTo=oIiBD-pFVdkD)"
   ]
  },
  {
   "cell_type": "markdown",
   "id": "49acbc82",
   "metadata": {},
   "source": [
    "Recordamos que el intervalo de predicción que obtenemos con la 'Conformal Prediccion' no es un mero ranking de las 'raw scores' de cada clase si no una verdadera probabilidad de que el modelo ha visto una imagen parecida antes o no."
   ]
  },
  {
   "cell_type": "markdown",
   "id": "601e051d",
   "metadata": {},
   "source": [
    "Apliquemos la 'Conformal Prediction' a las predicciones de nuestro bosque aleatorio. Usamos la implementación del repositorio de [Paolo Toccaceli](https://github.com/ptocca/VennABERS/) denominada 'Inductive Venn-ABERS Prediction (IVAP)' descrita en el artículo [_\"Large-scale probabilistic prediction with and without validity guarantees\"_](http://alrw.net/articles/13.pdf)."
   ]
  },
  {
   "cell_type": "code",
   "execution_count": 21,
   "id": "bc61accc",
   "metadata": {},
   "outputs": [],
   "source": [
    "# Some elementary functions to speak the same language as the paper\n",
    "# (at some point we'll just replace the occurrence of the calls with the function body itself)\n",
    "def push(x,stack):\n",
    "    stack.append(x)\n",
    "    \n",
    "def pop(stack):\n",
    "    return stack.pop()\n",
    "\n",
    "def top(stack):\n",
    "    return stack[-1]\n",
    "\n",
    "def nextToTop(stack):\n",
    "    return stack[-2]\n",
    "\n",
    "# perhaps inefficient but clear implementation\n",
    "def nonleftTurn(a,b,c):   \n",
    "    d1 = b-a\n",
    "    d2 = c-b\n",
    "    return np.cross(d1,d2)<=0\n",
    "\n",
    "def nonrightTurn(a,b,c):   \n",
    "    d1 = b-a\n",
    "    d2 = c-b\n",
    "    return np.cross(d1,d2)>=0\n",
    "\n",
    "def slope(a,b):\n",
    "    ax,ay = a\n",
    "    bx,by = b\n",
    "    return (by-ay)/(bx-ax)\n",
    "\n",
    "def notBelow(t,p1,p2):\n",
    "    p1x,p1y = p1\n",
    "    p2x,p2y = p2\n",
    "    tx,ty = t\n",
    "    m = (p2y-p1y)/(p2x-p1x)\n",
    "    b = (p2x*p1y - p1x*p2y)/(p2x-p1x)\n",
    "    return (ty >= tx*m+b)\n",
    "\n",
    "kPrime = None\n",
    "\n",
    "# Because we cannot have negative indices in Python (they have another meaning), I use a dictionary\n",
    "\n",
    "def algorithm1(P):\n",
    "    global kPrime\n",
    "    \n",
    "    S = []\n",
    "    P[-1] = np.array((-1,-1))\n",
    "    push(P[-1],S)\n",
    "    push(P[0],S)\n",
    "    for i in range(1,kPrime+1):\n",
    "        while len(S)>1 and nonleftTurn(nextToTop(S),top(S),P[i]):\n",
    "            pop(S)\n",
    "        push(P[i],S)\n",
    "    return S\n",
    "\n",
    "def algorithm2(P,S):\n",
    "    global kPrime\n",
    "    \n",
    "    Sprime = S[::-1]     # reverse the stack\n",
    "\n",
    "    F1 = np.zeros((kPrime+1,))\n",
    "    for i in range(1,kPrime+1):\n",
    "        F1[i] = slope(top(Sprime),nextToTop(Sprime))\n",
    "        P[i-1] = P[i-2]+P[i]-P[i-1]\n",
    "        if notBelow(P[i-1],top(Sprime),nextToTop(Sprime)):\n",
    "            continue\n",
    "        pop(Sprime)\n",
    "        while len(Sprime)>1 and nonleftTurn(P[i-1],top(Sprime),nextToTop(Sprime)):\n",
    "            pop(Sprime)\n",
    "        push(P[i-1],Sprime)\n",
    "    return F1\n",
    "\n",
    "def algorithm3(P):\n",
    "    global kPrime\n",
    "\n",
    "    S = []\n",
    "    push(P[kPrime+1],S)\n",
    "    push(P[kPrime],S)\n",
    "    for i in range(kPrime-1,0-1,-1):  # k'-1,k'-2,...,0\n",
    "        while len(S)>1 and nonrightTurn(nextToTop(S),top(S),P[i]):\n",
    "            pop(S)\n",
    "        push(P[i],S)\n",
    "    return S\n",
    "\n",
    "def algorithm4(P,S):\n",
    "    global kPrime\n",
    "    \n",
    "    Sprime = S[::-1]     # reverse the stack\n",
    "    \n",
    "    F0 = np.zeros((kPrime+1,))\n",
    "    for i in range(kPrime,1-1,-1):   # k',k'-1,...,1\n",
    "        F0[i] = slope(top(Sprime),nextToTop(Sprime))\n",
    "        P[i] = P[i-1]+P[i+1]-P[i]\n",
    "        if notBelow(P[i],top(Sprime),nextToTop(Sprime)):\n",
    "            continue\n",
    "        pop(Sprime)\n",
    "        while len(Sprime)>1 and nonrightTurn(P[i],top(Sprime),nextToTop(Sprime)):\n",
    "            pop(Sprime)\n",
    "        push(P[i],Sprime)\n",
    "    return F0\n",
    "\n",
    "def prepareData(calibrPoints):\n",
    "    global kPrime\n",
    "    \n",
    "    ptsSorted = sorted(calibrPoints)\n",
    "    \n",
    "    xs = np.fromiter((p[0] for p in ptsSorted),float)\n",
    "    ys = np.fromiter((p[1] for p in ptsSorted),float)\n",
    "    ptsUnique,ptsIndex,ptsInverse,ptsCounts = np.unique(xs, \n",
    "                                                        return_index=True,\n",
    "                                                        return_counts=True,\n",
    "                                                        return_inverse=True)\n",
    "    a = np.zeros(ptsUnique.shape)\n",
    "    np.add.at(a,ptsInverse,ys)\n",
    "    # now a contains the sums of ys for each unique value of the objects\n",
    "    \n",
    "    w = ptsCounts\n",
    "    yPrime = a/w\n",
    "    yCsd = np.cumsum(w*yPrime)   # Might as well do just np.cumsum(a)\n",
    "    xPrime = np.cumsum(w)\n",
    "    kPrime = len(xPrime)\n",
    "    \n",
    "    return yPrime,yCsd,xPrime,ptsUnique\n",
    "\n",
    "def computeF(xPrime,yCsd):\n",
    "    global kPrime\n",
    "    P = {0:np.array((0,0))}\n",
    "    P.update({i+1:np.array((k,v)) for i,(k,v) in enumerate(zip(xPrime,yCsd))})\n",
    "    \n",
    "    S = algorithm1(P)\n",
    "    F1 = algorithm2(P,S)\n",
    "    \n",
    "    P = {0:np.array((0,0))}\n",
    "    P.update({i+1:np.array((k,v)) for i,(k,v) in enumerate(zip(xPrime,yCsd))})    \n",
    "    P[kPrime+1] = P[kPrime] + np.array((1.0,0.0))    # The paper says (1,1)\n",
    "    \n",
    "    S = algorithm3(P)\n",
    "    F0 = algorithm4(P,S)\n",
    "    \n",
    "    return F0,F1\n",
    "\n",
    "def getFVal(F0,F1,ptsUnique,testObjects):\n",
    "    pos0 = np.searchsorted(ptsUnique,testObjects,side='left')\n",
    "    pos1 = np.searchsorted(ptsUnique[:-1],testObjects,side='right')+1\n",
    "    return F0[pos0],F1[pos1]\n",
    "\n",
    "def ScoresToMultiProbs(calibrPoints,testObjects):\n",
    "    # sort the points, transform into unique objects, with weights and updated values\n",
    "    yPrime,yCsd,xPrime,ptsUnique = prepareData(calibrPoints)\n",
    "    \n",
    "    # compute the F0 and F1 functions from the CSD\n",
    "    F0,F1 = computeF(xPrime,yCsd)\n",
    "    \n",
    "    # compute the values for the given test objects\n",
    "    p0,p1 = getFVal(F0,F1,ptsUnique,testObjects)\n",
    "                    \n",
    "    return p0,p1"
   ]
  },
  {
   "cell_type": "markdown",
   "id": "f9d2aef3",
   "metadata": {},
   "source": [
    "Aplicando la función `ScoresToMultiProbs()` a  la lista de pares '(raw_score, target value)' de las predicciones del bosque aleatorio que obtuvimos sobre el conjunto de entrenamiento, y la 'raw score' de la instancia dada, en nuestro caso, unx paciente, obtenemos el límite inferior 'p0' y superior 'p1' de la probabilidad bien calibrada para la clase '1', en nuestro caso la probabilidad de pertenecer al grupo en riesgo de sufrir fallo cardíaco. La probabilidad de 'HeartDisease=1' para esx paciente se calcula con la formula `p1/(1 - p0 + p1)`."
   ]
  },
  {
   "cell_type": "code",
   "execution_count": 22,
   "id": "7e218c00",
   "metadata": {},
   "outputs": [],
   "source": [
    "# model application on TRAINIG data to get the 'raw scores'\n",
    "y_pred_train = RF.predict_proba(X_train)[:, 1]"
   ]
  },
  {
   "cell_type": "markdown",
   "id": "5ce49b21",
   "metadata": {},
   "source": [
    "Tomemos unx paciente al azar y apliquemos la 'Conformal Prediction':"
   ]
  },
  {
   "cell_type": "code",
   "execution_count": 23,
   "id": "9213761f",
   "metadata": {},
   "outputs": [
    {
     "name": "stdout",
     "output_type": "stream",
     "text": [
      "Prediction risk of heart disease: 0.69\n",
      "Actual risk of heart disease: 1\n",
      "The prediction interval is [ 0.88 , 0.9 ] with lenght 0.02\n",
      "The actual probability of the patient to suffer heart failure is: 0.89\n"
     ]
    }
   ],
   "source": [
    "patient_number = 2\n",
    "individual_prediction_array = X_test[patient_number : (patient_number + 1)]\n",
    "#df_X_test.iloc[patient_number].values.reshape(1, -1)\n",
    "y_pred_test = RF.predict_proba(individual_prediction_array)[0][1].round(2)\n",
    "print(\"Prediction risk of heart disease:\", y_pred_test)\n",
    "print(\"Actual risk of heart disease:\", y_test[patient_number])\n",
    "\n",
    "# apply Conformal Prediction\n",
    "p0,p1 = ScoresToMultiProbs(list(zip(y_pred_train,y_train)),y_pred_test)\n",
    "# p0 and p1 are both probabilities of class 1 (lower and upper bound)\n",
    "# the difference tells us how hard it is to classify this instance\n",
    "print('The prediction interval is [', p0.round(2),',', p1.round(2),']', 'with lenght', (p1 - p0).round(2))\n",
    "print('The actual probability of the patient to suffer heart failure is:', (p1/(1 - p0 + p1)).round(2) )"
   ]
  },
  {
   "cell_type": "markdown",
   "id": "83b1f831",
   "metadata": {},
   "source": [
    "Estx es unx paciente con fallo cardíaco que el bosque aleatorio clasificó correctamente pero vemos que su probabilidad rigurosa es mayor que lo que predecía la puntuación cruda."
   ]
  },
  {
   "cell_type": "code",
   "execution_count": 24,
   "id": "b12a5c9e",
   "metadata": {},
   "outputs": [
    {
     "name": "stdout",
     "output_type": "stream",
     "text": [
      "Prediction risk of heart disease: 0.82\n",
      "Actual risk of heart disease: 0\n",
      "The prediction interval is [ 0.94 , 0.98 ] with lenght 0.04\n",
      "The actual probability of the patient to suffer heart failure is: 0.94\n"
     ]
    }
   ],
   "source": [
    "patient_number = 12  \n",
    "individual_prediction_array = X_test[patient_number : (patient_number + 1)]\n",
    "#df_X_test.iloc[patient_number].values.reshape(1, -1)\n",
    "y_pred_test = RF.predict_proba(individual_prediction_array)[0][1].round(2)\n",
    "print(\"Prediction risk of heart disease:\", y_pred_test)\n",
    "print(\"Actual risk of heart disease:\", y_test[patient_number])\n",
    "\n",
    "# apply Conformal Prediction\n",
    "p0,p1 = ScoresToMultiProbs(list(zip(y_pred_train,y_train)),y_pred_test)\n",
    "# p0 and p1 are both probabilities of class 1 (lower and upper bound)\n",
    "# the difference tells us how hard it is to classify this instance\n",
    "print('The prediction interval is [', p0.round(2),',', p1.round(2),']', 'with lenght', (p1 - p0).round(2))\n",
    "print('The actual probability of the patient to suffer heart failure is:', (p1/(1 - p0 + p1)).round(2) )"
   ]
  },
  {
   "cell_type": "markdown",
   "id": "bed4adfd",
   "metadata": {},
   "source": [
    "Estx es unx paciente sin fallo cardíaco que el bosque aleatorio clasificó incorrectamente. Vemos que conformal las probabilidades no nos corrige los resultados mal clasificados, si no que nos avisa si hay incertidumbre en la clasificación, nos dice que es uan predicción rara. De hecho, el intervalo de predicción mide el doble que en el caso de lx paciente anterior que si estaba bien clasificada."
   ]
  },
  {
   "cell_type": "code",
   "execution_count": 25,
   "id": "3d86439a",
   "metadata": {},
   "outputs": [
    {
     "name": "stdout",
     "output_type": "stream",
     "text": [
      "Prediction risk of heart disease: 0.29\n",
      "Actual risk of heart disease:     0\n",
      "The prediction interval is [ 0.11 , 0.14 ] with lenght 0.02\n",
      "The actual probability of the patient to suffer heart failure is: 0.13\n"
     ]
    }
   ],
   "source": [
    "patient_number = 30\n",
    "individual_prediction_array = X_test[patient_number : (patient_number + 1)]\n",
    "#df_X_test.iloc[patient_number].values.reshape(1, -1)\n",
    "y_pred_test = RF.predict_proba(individual_prediction_array)[0][1].round(2)\n",
    "print(\"Prediction risk of heart disease:\", y_pred_test)\n",
    "print(\"Actual risk of heart disease:    \", y_test[patient_number])\n",
    "\n",
    "# apply Conformal Prediction\n",
    "p0,p1 = ScoresToMultiProbs(list(zip(y_pred_train,y_train)),y_pred_test)\n",
    "# p0 and p1 are both probabilities of class 1 (lower and upper bound)\n",
    "# the difference tells us how hard it is to classify this instance\n",
    "print('The prediction interval is [', p0.round(2),',', p1.round(2),']', 'with lenght', (p1 - p0).round(2))\n",
    "print('The actual probability of the patient to suffer heart failure is:', (p1/(1 - p0 + p1)).round(2) )"
   ]
  },
  {
   "cell_type": "markdown",
   "id": "4f7dac4f",
   "metadata": {},
   "source": [
    "En estx último ejemplo tenemos unx paciente sin fallo cardíaco que el bosque aleatorio clasificó correctamente y el intervalo de predicción es pequeño, hay certidumbre en el resultado."
   ]
  },
  {
   "cell_type": "markdown",
   "id": "280a250f",
   "metadata": {},
   "source": [
    "Veamos los resultados conformes para todo el conjunto de prueba."
   ]
  },
  {
   "cell_type": "code",
   "execution_count": 26,
   "id": "4cc46d37",
   "metadata": {},
   "outputs": [],
   "source": [
    "# model application on TEST data\n",
    "y_pred_test = RF.predict_proba(X_test)[:, 1]\n",
    "p_pars = []\n",
    "intervals_len = [] \n",
    "conform_proba = []\n",
    "\n",
    "\n",
    "for i in y_pred_test:\n",
    "    p0,p1 = ScoresToMultiProbs(list(zip(y_pred_train,y_train)),i)\n",
    "    p_pars.append([p0,p1])\n",
    "    intervals_len.append((p1 - p0).round(3))\n",
    "    conform_proba.append((p1/(1 - p0 + p1)).round(2))"
   ]
  },
  {
   "cell_type": "markdown",
   "id": "ab59a7ba",
   "metadata": {},
   "source": [
    "Las probabilidades calibradas, legítimas y que ya no son solo heurísticas, son las `conform_proba` y la longitud de sus intervalos de predicción correspondientes son los `intervals_len`, con sus límites inferior e inferior almacenados en `p_pars`. \n",
    "\n",
    "Vemos que varios intervalos de predicción son muy grandes, esas son las predicciones con más incerticumbre, vamos a separarlas. En un ejemplo real, implementaremos una señal y el programa nos dirá 'no puedo predecir, no tengo ni idea' y unx humanx se encargará de clasificar estas instancias. Separamos aquellas cuyo intervalo sea muy grande, más grandes que cierto 'nivel de confianza' $\\epsilon$, veamos cual:"
   ]
  },
  {
   "cell_type": "code",
   "execution_count": 27,
   "id": "c6fdf3f1",
   "metadata": {},
   "outputs": [
    {
     "data": {
      "text/plain": [
       "[<matplotlib.lines.Line2D at 0x7f61207749d0>]"
      ]
     },
     "execution_count": 27,
     "metadata": {},
     "output_type": "execute_result"
    },
    {
     "data": {
      "image/png": "[encoded data removed]",
      "text/plain": [
       "<Figure size 700x500 with 1 Axes>"
      ]
     },
     "metadata": {},
     "output_type": "display_data"
    }
   ],
   "source": [
    "plt.plot(np.array(intervals_len))"
   ]
  },
  {
   "cell_type": "markdown",
   "id": "d5291bac",
   "metadata": {},
   "source": [
    "Viendo la longitud de los intervalos, parece razonable descartar aquellos más largos que $\\epsilon$ = 0.035 (así también nos aseguramos que sacamos a lx paciente mal clasificada, `patient_number = 12`). Cuánto mayor este valor, más pacientes serán clasificadxs en la clase 'no tengo ni idea' y menos pacientes serán clasificadxs automáticamente."
   ]
  },
  {
   "cell_type": "code",
   "execution_count": 28,
   "id": "0b9202de",
   "metadata": {},
   "outputs": [],
   "source": [
    "epsilon_bool = np.array(intervals_len) < 0.035 #gives bollean True/False in the condition"
   ]
  },
  {
   "cell_type": "code",
   "execution_count": 29,
   "id": "c4ec065b",
   "metadata": {},
   "outputs": [],
   "source": [
    "certain_predictions = np.array(conform_proba)[epsilon_bool] #takes True "
   ]
  },
  {
   "cell_type": "code",
   "execution_count": 30,
   "id": "16ed87e8",
   "metadata": {},
   "outputs": [
    {
     "name": "stdout",
     "output_type": "stream",
     "text": [
      "Number of patients in test set = 150\n",
      "Number of automatic classifications = 113\n",
      "Number of human-assisted classifications = 37\n"
     ]
    }
   ],
   "source": [
    "print('Number of patients in test set =', len(X_test))\n",
    "print('Number of automatic classifications =',len(certain_predictions))\n",
    "print('Number of human-assisted classifications =',len(X_test) - len(certain_predictions))"
   ]
  },
  {
   "cell_type": "markdown",
   "id": "c4e312f3",
   "metadata": {},
   "source": [
    "En aplicaciones reales, puede ser preferible esa inversión en tiempo humano que asumir las clasificaciones incorrectas. Por ejemplo, en nuestro caso, unx expertx en medicina evaluaria a esxs pacientes y las dirigiría a hacerse nuevas pruebas médicas, por ejemplo."
   ]
  },
  {
   "cell_type": "code",
   "execution_count": 31,
   "id": "aa7c5c0e",
   "metadata": {},
   "outputs": [
    {
     "data": {
      "image/png": "[encoded data removed]",
      "text/plain": [
       "<Figure size 700x500 with 2 Axes>"
      ]
     },
     "metadata": {},
     "output_type": "display_data"
    }
   ],
   "source": [
    "# confusion matrix\n",
    "t = 0.4\n",
    "\n",
    "cf_matrix = confusion_matrix(y_test[epsilon_bool], certain_predictions >= t)\n",
    "\n",
    "ax = sns.heatmap(cf_matrix, annot=True, cmap='Blues')\n",
    "\n",
    "ax.set_title('Confusion Matrix\\n');\n",
    "ax.set_xlabel('\\nPredicted Values')\n",
    "ax.set_ylabel('Actual Values ');\n",
    "\n",
    "ax.xaxis.set_ticklabels(['0','1'])\n",
    "ax.yaxis.set_ticklabels(['0','1'])\n",
    "\n",
    "##plt.figure(figsize=(7,5))\n",
    "plt.rcParams['figure.figsize'] = [7, 5]  # re-run this cell to get the correct figure size\n",
    "\n",
    "plt.show();"
   ]
  },
  {
   "cell_type": "markdown",
   "id": "db9aed0a",
   "metadata": {},
   "source": [
    "Con la 'Conformal Prediction' hemos detectado las instancias con el intervalo de predicción más largo y las hemos sacado de la clasificación automatica para que las evalue unx expertx. Así hemos conseguido reducir nuestra cantidad de Falsas predicciones un 50%, de 16 a 8 (ver la matriz de confusión que obtuvimos para el conjunto de prueba sin conformar en la sección <a href=#model-RF>3.2 Entrenamiento, prueba, y aplicación del bosque aleatorio</a>).\n",
    "\n",
    "<font size=\"5\"> 🥳 </font>\n",
    "\n",
    "En realidad ésta es la implementación más sencilla, muy general, pero hay otras específicas para reducir la cantidad de Falsos Negativos, que es nuestro objetivo (con la implementación IVAP solo hemos obtenido 2 Falsos Negativos menos)."
   ]
  },
  {
   "cell_type": "markdown",
   "id": "898d9b8a",
   "metadata": {},
   "source": [
    "<font color=#6B8E23 size=\"4\"> Material adicional y referencias</font>\n",
    "\n",
    "Cursos, charlas, y blogs\n",
    "\n",
    "+ El curso gratuito de Christopher Molnar (subscríbete [aquí](https://substack.com/sign-in?redirect=%2Faccount%3Futm_source%3Dsubstack%26utm_medium%3Demail&for_pub=mindfulmodeler&email=&with_password=&change_user=false&justTrying=)), el autor del maravilloso libro gratuito sobre XAI [_\"Interpretable Machine Learning\"_](https://christophm.github.io/interpretable-ml-book/), que recomendamos en el Jupyter Notebook `XAI.ipynb`, que ahora se ha pasado a la UQ y ha publicado un libro sobre Conformal Prediction [_\"Introduction To Conformal Prediction With Python. A Short Guide For Quantifying Uncertainty Of Machine Learning Models\"_](https://christophmolnar.com/books/conformal-prediction/) <font size=\"3\">♫♫🎈♫♫</font>.\n",
    "+ La maravillosa charla _\"Quantifying uncertainty in Machine Learning predictions\"_ de [Maria Navarro](https://youtu.be/r6bhm_A-YcQ).\n",
    "+ La charla sobre Conformal Predictors en el [curso sobre incertidumbre de la Universidad de Pennsylvania](https://uncertaintyclass.com/), este es el [vídeo](https://youtu.be/M3tkM4dcIPA)\n",
    "+ El blog de los creadores de los 'Conformal Predictors'  [Prof. Vladimir Vovk y Prof. Alex Gammerman](https://cml.rhul.ac.uk/cp.html).\n",
    "+ El repositorio ['Awesome Conformal Prediction'](https://github.com/valeman/awesome-conformal-prediction) y los artículos de Medium de Valery Manokhin del grupo de investigación que creó la 'Conformal Prediction'.\n",
    "\n",
    "Librerías\n",
    "\n",
    "+ Los paquetes de Python [MAPIE](https://lnkd.in/eXx-a-aK) y [nonconformist](https://github.com/donlnz/nonconformist/blob/master/README.ipynb) compatibles con Scikit-learn.\n",
    "+ Teoría y ejemplos en el repositorio [A. Angelopoulos](https://github.com/aangelopoulos/conformal-prediction), uno de los dos autores de [_\"A Gentle Introduction to Conformal Prediction and Distribution-Free Uncertainty Quantification_\"](https://arxiv.org/abs/2107.07511).\n",
    "+ El 'framework' de IBM [AIF360](https://github.com/Trusted-AI/AIF360/blob/master/examples/README.md) para mitigar sesgos y que también recomendamos en el Jupyter Notebook `XAI.ipynb`, incluye técnicas como la clasificación con opción de rechazo o 'Reject Option-based Classification' (ROC), también llamada 'Selective Prediction', un método que asume que el modelo de aprendizaje automático asignó 'raw scores' cercanas al valor del umbral de decisión a aquellas predicciones de las que estaba menos seguro, como por ejemplo, la de le perre que parecía un poco une gate en la foto central de las imágenes de la sección <a href=#project-description-intro>1.1 Introducción</a>) y las separa en una nueva clase, es decir, los resultados posibles son '0', '1', y 'no tengo ni idea'.\n",
    "+ El 'framework' de IBM [UQ360](https://uq360.mybluemix.net/) con muchos métodos de UQ e incluye [tutoriales](https://uq360.mybluemix.net/resources/tutorials) y una [guía de algoritmos y métricas](https://uq360.mybluemix.net/resources/guidance)."
   ]
  },
  {
   "cell_type": "markdown",
   "id": "994c6579",
   "metadata": {},
   "source": [
    "<a name='uq-regression'/>"
   ]
  },
  {
   "cell_type": "markdown",
   "id": "a927449c",
   "metadata": {},
   "source": [
    "### <font color=#ac6240>4.2 Otros métodos de UQ para aprendizaje supervisado</font>"
   ]
  },
  {
   "cell_type": "markdown",
   "id": "ca935df3",
   "metadata": {},
   "source": [
    "La 'Conformal prediction' puede aplicarse para todo tipo de modelos de aprendizaje automático. Sin embargo, al contrario que la mayoría de los métodos de explicabilidad que mostramos en el Jupyter Notebook anterior `XAI.ipynb`, muchos métodos de UQ son específicos, por ejemplo, se aplican solo a tareas de regresión. Mencionaremos algunos muy populares y cabe mencionar que todos ellos se deben calibrar con 'Conformal predictions' o estamos en las mismas:"
   ]
  },
  {
   "cell_type": "markdown",
   "id": "807ce16c",
   "metadata": {},
   "source": [
    "<font color=#ac6240>Quantile Regresion</font>\n",
    "\n",
    "+ [Introducción a la Quantile Regression con código](https://www.mygreatlearning.com/blog/what-is-quantile-regression/).\n",
    "+ La charla _\"Asegurando el tiro: intervalos de confianza para tus modelos de Machine Learning\"_ de [Ángel Luengo y Guillermo Delgado Martínez](https://charlas.2022.es.pycon.org/pycones2022/talk/NXGNSB/) en la PyConES 2022 que incluye ejemplos del cálculo de la 'Quantile Regression' con 'Gradiente Boosting Machines'.\n",
    "+ Para 'conformalizar' la 'Quantile Regression' ver [_\"A Gentle Introduction to Conformal Prediction and Distribution-Free Uncertainty Quantification\"_](https://arxiv.org/pdf/2107.07511.pdf) sección \"2. Examples of Conformal Procedures\"."
   ]
  },
  {
   "cell_type": "markdown",
   "id": "a7aec120",
   "metadata": {},
   "source": [
    "<font color=#ac6240>Time Series</font>\n",
    "\n",
    "+ La explicación de cómo usar la libreria `MAPIE` con los Conformal Predictors para UQ en time series: [_\"Time Series Forecasting with Conformal Prediction Intervals: Scikit-Learn is All you Need\"_](https://towardsdatascience.com/time-series-forecasting-with-conformal-prediction-intervals-scikit-learn-is-all-you-need-4b68143a027a).\n",
    "+ [NeuralProphet](https://pypi.org/project/neuralprophet/), basado en Prophet, tiene implementada la función `.conformal_predict()` para calcular Conformal Predictors en time series, [este Jupyter Notebook](https://github.com/ourownstory/neural_prophet/blob/main/tutorials/feature-use/uncertainty_conformal_prediction.ipynb) contiene un ejemplo prediciendo la demanda de energia de un hospital. "
   ]
  },
  {
   "cell_type": "markdown",
   "id": "e32ab961",
   "metadata": {},
   "source": [
    "<font color=#ac6240>Ensembles</font>\n",
    "\n",
    "+ Suelen ser computacionalmente costosos porque implican reentrenar los modelos de aprendizaje automático.\n",
    "+ El artículo  [_\"Simple and Scalable Predictive Uncertainty Estimation using Deep Ensembles\"_](https://papers.nips.cc/paper/2017/hash/9ef2ed4b7fd2c810847ffa5fa85bce38-Abstract.html)."
   ]
  },
  {
   "cell_type": "markdown",
   "id": "d41554b3",
   "metadata": {},
   "source": [
    "<font color=#ac6240>Bayesianos</font>\n",
    "\n",
    "+ Este artículo en este blog: [El Paradigma Bayes para escenarios de incertidumbre](https://keepler.io/es/2020/03/el-paradigma-bayes-para-escenarios-de-incertidumbre/).\n",
    "\n",
    "+ La librería de Python [PyMC3](https://pypi.org/project/pymc3/) (que ahora se llama [PyMC](https://www.pymc.io/blog/v4_announcement.html)) y el repo [Probabilistic Python: An Introduction to Bayesian Modeling with PyMC](https://github.com/fonnesbeck/probabilistic_python).\n",
    "\n",
    "+ Métodos Bayesianos para clasificación y regresión como BART [Bayesian Additive Regression Trees](https://jmloyola.github.io/posts/2019/06/introduction-to-bart)"
   ]
  },
  {
   "cell_type": "markdown",
   "id": "0ec3addb",
   "metadata": {},
   "source": [
    "<font color=#ac6240>Procesos Gaussianos</font>\n",
    "\n",
    "+ Para 'Gaussian Processes', ver por ejemplo: [_\"Easy introduction to gaussian process regression (uncertainty models)\"_](https://youtu.be/iDzaoEwd0N0) y [_\"Coding gaussian process regressors FROM SCRATCH in python\"_](https://youtu.be/JXdrq7--XV0) con este [repo](https://gitlab.com/youtube-optimization-geeks/uncertainty-quantification/-/blob/main/coing_gpr_from_scratch_notebook.ipynb).\n",
    "\n",
    "+ Para Deep Learning, la charla _\"Are you sure about that?! Uncertainty Quantification in AI\"_ de [Florian Wilhelm](https://youtu.be/LCDIqL-8bHs) con aplicaciones en Deep Learning para tareas de regresión."
   ]
  },
  {
   "cell_type": "markdown",
   "id": "de999c47",
   "metadata": {},
   "source": [
    "<font color=#ac6240>GAMLSS</font>\n",
    "+ Los Generalized Additive Models for Location, Scale and Shape son modelos de regresión que no predicen los valores de la variable de destino o 'target' sino que predicen los parametros que definen su distribución, es decir, la localización (por ejemplo, la media), la escala (por ejemplo, la varianza), y la forma (por ejemplo, la kurtosis y la 'skewness'), más info en [este artículo](https://www.cienciadedatos.net/documentos/63_gamlss.html).    "
   ]
  },
  {
   "cell_type": "markdown",
   "id": "82343712",
   "metadata": {},
   "source": [
    "<a name='miscelanea'/>"
   ]
  },
  {
   "cell_type": "markdown",
   "id": "002c6be6",
   "metadata": {},
   "source": [
    "### <font color=#ac6240>4.3 Miscelánea</font>"
   ]
  },
  {
   "cell_type": "markdown",
   "id": "944b7790",
   "metadata": {},
   "source": [
    "<font color=#ac6240>Causal Inference</font>\n",
    "\n",
    "+ Blogs como [Causal Inference for The Brave and True](https://matheusfacure.github.io/python-causality-handbook/landing-page.html) \n",
    "+ Frameworks como [Azure EconML](https://econml.azurewebsites.net/spec/causal_intro.html), [Microsoft DoWhy](https://github.com/py-why/dowhy), o [Uber CausalML](https://github.com/uber/causalml) \n",
    "+ La charla _\"Introducción a la causalidad en Python \"_ de [Albert Pujol Torras y Miguel F. Alarcón](https://charlas.2022.es.pycon.org/pycones2022/talk/FTGTLS/) en la PyConES 2022."
   ]
  },
  {
   "cell_type": "markdown",
   "id": "f221f646",
   "metadata": {},
   "source": [
    "<font color=#ac6240>Modelos híbridos</font>\n",
    "\n",
    "Son aquellos que incluyen 'domain expertise' para comprobar que se cumplen las restricciones que tenga el sistema, (por ejemplo las leyes de conservación de la energía y la masa, limitaciones de presupuesto,...) o para 'feature engineering'; un ejemplo son las Physic Guided o [Physic Informed Neural Networks](https://en.wikipedia.org/wiki/Physics-informed_neural_networks) como en el artículo [_\"Physics-guided Neural Networks (PGNN): An Application in Lake Temperature Modeling\"_](https://arxiv.org/pdf/1710.11431.pdf) un ejemplo de una red neuronal artificial aplicada en hidrología que arrojaba soluciones que permitían que agua líquida más densa flotara sobre agua líquida menos densa. \n",
    "\n",
    "**Si es que si no se lo dices, todo esto al algoritmo le da igual**.\n",
    "\n",
    "\n",
    "\n",
    "<font size=\"6\">🤦🏻‍♀️</font>"
   ]
  },
  {
   "cell_type": "markdown",
   "id": "737986a1",
   "metadata": {},
   "source": [
    "<font color=#ac6240>Reinforcement Learning</font>\n",
    "\n",
    "Evita problemas de 'overfitting', puntuaciones no calibradas, sesgos,... usando 'Reinforcement Learning',  en la PyConES 2022 tenemos la charla _\"Introducción al aprendizaje por refuerzo en Python\"_ de [Antonio Manjavacas y Alejandro Campoy Nieves](https://charlas.2022.es.pycon.org/pycones2022/talk/KVHWPW/) y un buen curso online gratuito es [Stanford CS234: Reinforcement Learning | Winter 2019 by Emma Brunskill](https://youtube.com/playlist?list=PLoROMvodv4rOSOPzutgyCTapiGlY2Nd8u).\n",
    "\n",
    "<font size=\"6\">🚀</font>"
   ]
  },
  {
   "cell_type": "markdown",
   "id": "75570e5d",
   "metadata": {},
   "source": [
    "<a href=#toc>Subir a Tabla de Contenidos</a><br>"
   ]
  },
  {
   "cell_type": "markdown",
   "id": "049ba322",
   "metadata": {},
   "source": [
    "<a name='uq-end'/>"
   ]
  },
  {
   "cell_type": "markdown",
   "id": "cf631676",
   "metadata": {},
   "source": [
    "### <font color=#ac6240>5. Conclusión sobre la cuantificación de incertidumbre</font>"
   ]
  },
  {
   "cell_type": "markdown",
   "id": "0b1bddb1",
   "metadata": {},
   "source": [
    "Con los métodos de UQ hemos conseguido:\n",
    "+ identificar la aquellos pacientes sobre cuya clasificacion el bosque aleatorio no estaba muy seguro, y \n",
    "+ reducir nuestra cantidad de Falsos Negativos y Positivos. \n",
    "\n",
    "Vemos que son métodos fáciles de implementar y rápidos, y nos proporcionan probabilidades rigurosas."
   ]
  },
  {
   "cell_type": "markdown",
   "id": "ebc656b4",
   "metadata": {},
   "source": [
    "\n",
    "<font size=\"5\">🎈♫♫🎈🎈♫🎈♫♫♫♫🎈🎈 ♫♫♫ 🎈🎈</font>"
   ]
  },
  {
   "cell_type": "markdown",
   "id": "50717bab",
   "metadata": {},
   "source": [
    "<a href=#toc>Subir a Tabla de Contenidos</a><br>"
   ]
  },
  {
   "cell_type": "markdown",
   "id": "c8010c75",
   "metadata": {},
   "source": [
    "Ya no queda tiempo para más, nos vemos en el próximo taller. "
   ]
  },
  {
   "cell_type": "markdown",
   "id": "46f35dd0",
   "metadata": {},
   "source": [
    "<font size=\"5\">☀️⛱️ </font> Buen trabajo y hasta pronto!\n",
    "\n"
   ]
  },
  {
   "cell_type": "code",
   "execution_count": null,
   "id": "69b5a58f",
   "metadata": {},
   "outputs": [],
   "source": []
  }
 ],
 "metadata": {
  "kernelspec": {
   "display_name": "Python 3 (ipykernel)",
   "language": "python",
   "name": "python3"
  },
  "language_info": {
   "codemirror_mode": {
    "name": "ipython",
    "version": 3
   },
   "file_extension": ".py",
   "mimetype": "text/x-python",
   "name": "python",
   "nbconvert_exporter": "python",
   "pygments_lexer": "ipython3",
   "version": "3.9.1"
  },
  "nbTranslate": {
   "displayLangs": [
    "es"
   ],
   "hotkey": "alt-t",
   "langInMainMenu": true,
   "sourceLang": "en",
   "targetLang": "es",
   "useGoogleTranslate": true
  }
 },
 "nbformat": 4,
 "nbformat_minor": 5
}
