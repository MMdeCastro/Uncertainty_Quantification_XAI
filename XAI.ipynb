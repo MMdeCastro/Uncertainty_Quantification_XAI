{
 "cells": [
  {
   "cell_type": "markdown",
   "id": "6113ef90",
   "metadata": {},
   "source": [
    "![banner](./images/banner.png \"banner\")"
   ]
  },
  {
   "cell_type": "markdown",
   "id": "f8e88f89",
   "metadata": {},
   "source": [
    "[Fuente de la imagen](https://unsplash.com/photos/Hcfwew744z4)\n",
    "<a name='toc' />"
   ]
  },
  {
   "cell_type": "markdown",
   "id": "c4a5a1bb",
   "metadata": {},
   "source": [
    "# <font color=#ac6240>Explicabilidad de la predicción de fallo cardíaco con aprendizaje automático supervisado</font>"
   ]
  },
  {
   "cell_type": "markdown",
   "id": "30c022a3",
   "metadata": {},
   "source": [
    "### <font color=#ac6240>Tabla de Contenidos</font>"
   ]
  },
  {
   "cell_type": "markdown",
   "id": "b5121342",
   "metadata": {
    "lang": "es"
   },
   "source": [
    "<a href=#pre>Requisitos previos</a><br>\n",
    "1. <a href=#project-description>Descripción del proyecto de explicabilidad</a><br>\n",
    "    1.1 <a href=#project-description-goal>Objetivo</a><br>\n",
    "    1.2 <a href=#project-description-data>Datos y modelos</a><br>\n",
    "    1.3 <a href=#project-description-software>Software</a><br>\n",
    "2. <a href=#prep>Preparación de los datos</a><br>\n",
    "    2.1 <a href=#prep-clean> Limpieza de los datos</a><br>\n",
    "    2.2 <a href=#prep-split> Division de los datos en conjuntos de datos de entrenamiento, validación y prueba</a><br>\n",
    "    2.3 <a href=#prep-conding> Codificación de las variables categóricas</a><br>\n",
    "    2.4 <a href=#prep-scaling> Normalización de las variables numéricas</a><br>\n",
    "3. <a href=#model>Entrenamiento del modelo</a><br>\n",
    "    3.1 <a href=#model-metric> Selección de la métrica y del umbral de decisión </a><br>\n",
    "    3.2 <a href=#model-RF> Bosque aleatorio </a><br>\n",
    "4. <a href=#xai-app>Aplicación del modelos de explicabilidad</a><br>\n",
    "    4.1 <a href=#xai-per> Permutacion importance</a><br>\n",
    "    4.2 <a href=#xai-shap> SHAP </a><br>\n",
    "    4.3 <a href=#xai-lime> LIME </a><br>"
   ]
  },
  {
   "cell_type": "markdown",
   "id": "487389a0",
   "metadata": {},
   "source": [
    "<a name='pre'/>"
   ]
  },
  {
   "cell_type": "markdown",
   "id": "2b570187",
   "metadata": {},
   "source": [
    "## <font color=#ac6240>Requisitos previos</font>"
   ]
  },
  {
   "cell_type": "markdown",
   "id": "f2765775",
   "metadata": {
    "lang": "es"
   },
   "source": [
    "Este Jupyter Notebook es la continuación del Jupyter Notebook `Exploration_and_Classification.ipynb` que se encuentra en [este repositorio](https://github.com/MMdeCastro/Uncertainty_Quantification_XAI). Ese estudio explica cómo evaluar la calidad de un modelo utilizando métricas de rendimiento o desempeño para elegir el mejor modelo para este proyecto de predicción de fallo cardíaco con aprendizaje automático supervisado."
   ]
  },
  {
   "cell_type": "markdown",
   "id": "9be3f2b8",
   "metadata": {},
   "source": [
    "<font size=\"5\"> 👍🤓 </font>"
   ]
  },
  {
   "cell_type": "markdown",
   "id": "a6814bca",
   "metadata": {},
   "source": [
    "<a name='project-description'/>"
   ]
  },
  {
   "cell_type": "markdown",
   "id": "feb5b1b4",
   "metadata": {
    "lang": "es"
   },
   "source": [
    "##  <font color=#ac6240>1. Descripción del proyecto de explicabilidad</font>"
   ]
  },
  {
   "cell_type": "markdown",
   "id": "c6295a91",
   "metadata": {},
   "source": [
    "Una vez el modelo de aprendizaje automático está entrenado y nos ha dado como resultado sus predicciones, a menudo es fundamental entender en qué se fijó el modelo para hacer tales predicciones. Esto nos asegura que se llevó a cabo la tarea que deseamos y no otra. Por ejemplo, si estamos clasificando fotos de animales, es importante comprobar que el modelo ha identificado un caballo o una yegua por su forma, y no porque hizo trampas y descubrió que le era más facil leer la marca de agua de lx proveedorx de las fotos (no es broma, [aquí un ejemplo](https://www.nature.com/articles/s41467-019-08987-4)). Esto es fundamental porque probablemente cuando apliquemos el modelo en la vida real, las nuevas fotos que vea el modelo no lleven esa marca de agua y por lo tanto ese modelo será inútil. "
   ]
  },
  {
   "cell_type": "markdown",
   "id": "42a5dbfb",
   "metadata": {},
   "source": [
    "![horse-LRP](./images/horse_LRP.png \"horse_LRP\")"
   ]
  },
  {
   "cell_type": "markdown",
   "id": "2895d660",
   "metadata": {},
   "source": [
    "[Fuente de la imagen](https://www.nature.com/articles/s41467-019-08987-4)"
   ]
  },
  {
   "cell_type": "markdown",
   "id": "53585389",
   "metadata": {},
   "source": [
    "#### <font color=#ac6240>Qué es la explicabilidad</font>"
   ]
  },
  {
   "cell_type": "markdown",
   "id": "bd393851",
   "metadata": {},
   "source": [
    "Este cambio inesperado e indeseado de tarea (queríamos un modelo que identificara animales, no etiquetas con nombres de animales) puede pasar desapercivido, sobre todo si el modelo no es interpretable por las personas (como son las redes neuronales que se utilizan para clasificar imagenes).  Para evitar que esto ocurra podemos aplicar técnicas de explicabilidad, también conocidas como [XAI](https://en.wikipedia.org/wiki/Explainable_artificial_intelligence), sobre los resultados del modelo y comprobar, por ejemplo, si durante el entrenamiento hubo percolaciones de información indeseadas, un fenómeno llamado [leakage](https://en.wikipedia.org/wiki/Leakage_(machine_learning). \n",
    "\n",
    "Es decir, podemos aplicar métodos de XAI a los resultados de un modelo ya entrenado para ver qué variables afectan a dichos resultados (y por lo tanto fueron importantes para el modelo) y cuáles no. Es importante resaltar que una variable puede ser importante para un modelo pero para otro no, es decir, los métodos de XAI no nos dan el poder predictivo de las variables de manera absoluta, si no de manera relativa respecto a ese modelo que nos dió ese resultado.\n",
    "\n",
    "En la figura anterior, vemos a la derecha el resultado de la aplicación del método de XAI llamado Layerlayer-wise relevance propagation (LRP) que descubrió que el modelo de clasificación de imágenes no se fijaba en el caballo o yegua de la imagen sino en una marca del agua de la empresa que proporcionaba las fotografías de caballos (\"Pferde\" en alemán), muy loco <font size=\"5\">🤪</font>."
   ]
  },
  {
   "cell_type": "markdown",
   "id": "2c53cc49",
   "metadata": {
    "lang": "es"
   },
   "source": [
    "#### <font color=#ac6240>Algunas definiciones sobre explicabilidad</font>\n",
    "\n",
    "+ Modelos caja negra o 'Black-box models':\n",
    "No son modelos interpretables, las personas no pueden comprender las causas de las decisiones porque (i) conociendo los valores de los parámetros e hiperpárametros de una caja negra no es suficiente para inferir que es lo que ocurre o (ii) las asumpciones y limitaciones subyacentes del modelo son desconocidas. Ejemplos de modelos caja negra son: los bosques aleatorios y sus versiones secuenciadas y aceleradas ('gradient-boosted') y todas las redes neuronales.\n",
    "\n",
    "\n",
    "+ Modelos explicables:\n",
    "Aun son cajas negras, no interpretables, pero con algunos metodos de explicabilidad o XAI intentamos entender de dónde vienen las prediciones y por que se tomaron esas decisiones y no otras. Estas técnicas de XAI están basadas sobre todo en modelos subrogados y agnósticos que se aplican post-hoc, es decir, que se ejecutan una vez el modelo principal ya está entrenado y valen para cualquier modelo supervisado porque son independientes del modelo principal. Ejemplos de métodos de XAI son: [SHAP](https://github.com/slundberg/shap), [LIME](https://github.com/marcotcr/lime), [LRP](https://github.com/atulshanbhag/Layerwise-Relevance-Propagation) y [Counterfactual explanations](https://www.kaggle.com/discussions/getting-started/219022). Es importante resaltar que estos métodos de XAI no son la panacea porque:\n",
    "        1. traen sus propias asumpciones y limitaciones\n",
    "        2. introducen nuevas incertidumbres/errores\n",
    "        3. pueden ser engañados Fooling LIME and SHAP: Adversial Attacks on post hoc explanation methods \n",
    "\n",
    "    por lo tanto, siempre es preferible elegir un modelo interpretable.\n",
    "    \n",
    "\n",
    "+ Modelos caja de cristal o 'Glass-box models':\n",
    "Las personas pueden interpretar sus resultados y entender las causas de las decisiones conociendo los valores de los parámetros e hiperpárametros del modelo y las asumpciones y limitaciones subyacentes del modelo son conocidas. Ejemplos de modelos interpretables son: la regresión linear, la regresión logística, los árboles de decisión, el naive Bayes y el k-nearest neighbors."
   ]
  },
  {
   "cell_type": "markdown",
   "id": "a59fb79a",
   "metadata": {},
   "source": [
    "#### <font color=#ac6240>Algunas ventajas de la explicabilidad</font>\n",
    "\n",
    "1. Ethics: \n",
    "+  essential to avoid [bias](https://www.visualcapitalist.com/50-cognitive-biases-in-the-modern-world/)\n",
    "+ save energy and time\n",
    "+ accomplish legality de acuerdo con la General Data Protection Right (GDPR) introducida por la EU en 2018 que incluye el [derecho a la explicación](https://en.wikipedia.org/wiki/Right_to_explanation) en un intento de lidiar con los problemas que esta causando el uso de cajas negras\n",
    "2. Quality: \n",
    "+ avoid leakage\n",
    "+ sensitivity analysis based on observing the effect of perturbations on model components\n",
    "+ debugging\n",
    "3. Scientific Value: \n",
    "+ identify what features or feature values contributed the most to the predictions \n",
    "+ essential to check constrains ([denser liquid water must be deeper](https://arxiv.org/pdf/1710.11431.pdf))\n",
    "4. Feasibility:\n",
    "+ for every model, many available libraries (skitlearn, Tensorflow,... or extensions)\n",
    "+ Compatibility, extensibility, y scalability"
   ]
  },
  {
   "cell_type": "markdown",
   "id": "f9f6852f",
   "metadata": {},
   "source": [
    "<font color=#6B8E23 size=\"4\"> Lecturas adicionales </font>\n",
    "+ [Micro curso de explicabilidad en 4h](https://www.kaggle.com/learn/machine-learning-explainability) de Kaggle.\n",
    "+ El espectacular vídeo del gran Vincent Warmerdamm ['How to constrain artificial stupidity'](https://youtu.be/Z8MEFI7ZJlA) y las [diapositivas](https://koaning.io/theme/notebooks/artificial-stupidity.pdf) de esa charla.\n",
    "+ El maravilloso libro gratuito de Christopher Molnar [Interpretable Machine Learning](https://christophm.github.io/interpretable-ml-book/).\n",
    "+ El genial vídeo de la gran Cynthia Rudin ['Please stop using explainable ML'](https://youtu.be/I0yrJz8uc5Q)."
   ]
  },
  {
   "cell_type": "markdown",
   "id": "c364261e",
   "metadata": {},
   "source": [
    "<a name='project-description-goal'/>"
   ]
  },
  {
   "cell_type": "markdown",
   "id": "5249c5d6",
   "metadata": {
    "lang": "es"
   },
   "source": [
    "### <font color=#ac6240>1.1 Objetivo</font>"
   ]
  },
  {
   "cell_type": "markdown",
   "id": "cc0a5f36",
   "metadata": {},
   "source": [
    "En este Jupyter Notebook vamos a aplicar algunas tecnicas de XAI a los resultados del modelo de bosque aleatorio (que no es interpretable) que entrenamos en el Jupyter Notebook `Exploration_and_Classification.ipynb`. No incluimos explicaciones exhaustivas y demostraciones matemáticas (hay muchas otras fuentes, ver la lista de libros a continuación), mejor mencionaremos algunas características intuitivas sobre explicabilidad y nos enfocaremos en su implementación en Scikit-learn.\n",
    "\n",
    "Paquetes que implementan tecnicas de XAI: [eli5](https://eli5.readthedocs.io/en/latest/),\n",
    "[PDPBox](https://pdpbox.readthedocs.io/en/latest/)"
   ]
  },
  {
   "cell_type": "markdown",
   "id": "c15f2255",
   "metadata": {},
   "source": [
    "<a name='project-description-data'/>"
   ]
  },
  {
   "cell_type": "markdown",
   "id": "9a8f82c3",
   "metadata": {},
   "source": [
    "### <font color=#ac6240>1.2 Datos y modelos</font>"
   ]
  },
  {
   "cell_type": "markdown",
   "id": "c2fb462c",
   "metadata": {
    "lang": "es"
   },
   "source": [
    "Seguiremos con el modelo y los datos que analizamos en el Jupyter Notebook `Exploration_and_Classification.ipynb` que se encuentra en [este repositorio](https://github.com/MMdeCastro/Uncertainty_Quantification_XAI):\n",
    "+ el modelo es un bosque aleatorio que ya tuneamos y entrenamos, y \n",
    "+ los datos que ya exploramos y preparamos: [Conjunto de datos de predicción de insuficiencia cardíaca de Kaggle](https://www.kaggle.com/fedesoriano/heart-failure-prediction) (cita: fedesoriano. (Septiembre de 2021) Heart Failure Prediction Dataset). \n",
    "\n",
    "Recordamos que las 'features' o características son los datos de lxs paciente ('Age', 'Cholesterol',...) y la variable objetivo o 'target', es decir, lo que queremos predecir, se llama \"HeartDisease\", y es una variable binaria que toma los valores:\n",
    "+ 1: sí, pacientes que sí presentan riesgo de padecer una cardiopatía\n",
    "+ 0: no, pacientes que no presentan riesgo de padecer una cardiopatía"
   ]
  },
  {
   "cell_type": "markdown",
   "id": "681ca935",
   "metadata": {},
   "source": [
    "Para cada nuevx paciente, el modelos supervisado del bosque aleatorio anteriormente entrenado nos da un porcentaje que interpretamos como la probabilidad de que esx nuevax paciente esté en riesgo de sufrir una insuficiencia cardíaca o no. Es claramente una decision de vida o muerte y como el bosque aleatorio no es un modelo interpretable, aplicaremos modelos de XAI para ver en qué variables se fijó cada modelo para hacer su predicción."
   ]
  },
  {
   "cell_type": "markdown",
   "id": "0ad38347",
   "metadata": {},
   "source": [
    "![ivory](./images/ivory_small.png \"ivory\")"
   ]
  },
  {
   "cell_type": "markdown",
   "id": "c89b7aef",
   "metadata": {},
   "source": [
    "[Fuente de la imagen](https://koaning.io/posts/mean-squared-terror/)"
   ]
  },
  {
   "cell_type": "markdown",
   "id": "6675f02f",
   "metadata": {},
   "source": [
    "<a name='project-description-software'/>"
   ]
  },
  {
   "cell_type": "markdown",
   "id": "8d8a856c",
   "metadata": {},
   "source": [
    "### <font color=#ac6240>1.3 Software</font>"
   ]
  },
  {
   "cell_type": "markdown",
   "id": "3f098039",
   "metadata": {},
   "source": [
    "Usaremos estas librerias:\n",
    "\n",
    "https://scikit-learn.org/stable/modules/permutation_importance.html"
   ]
  },
  {
   "cell_type": "code",
   "execution_count": 31,
   "id": "8d736f50",
   "metadata": {},
   "outputs": [],
   "source": [
    "import pandas as pd     \n",
    "import numpy as np\n",
    "\n",
    "# data exploration and preparation  \n",
    "from sklearn.metrics import mutual_info_score, roc_auc_score\n",
    "from sklearn.model_selection import train_test_split\n",
    "from sklearn.feature_extraction import DictVectorizer \n",
    "from sklearn.preprocessing import StandardScaler \n",
    "\n",
    "# model\n",
    "from sklearn.ensemble import RandomForestClassifier\n",
    "\n",
    "# XAI models\n",
    "import eli5\n",
    "from eli5.sklearn import PermutationImportance\n",
    "from pdpbox import pdp, get_dataset, info_plots\n",
    "#shap\n",
    "#lime\n",
    "#libraries\n",
    "\n",
    "# model evaluation\n",
    "from sklearn.metrics import accuracy_score, f1_score, auc, recall_score, precision_score, confusion_matrix\n",
    "from sklearn.metrics import make_scorer\n",
    "from sklearn.model_selection import GridSearchCV, KFold, cross_val_score\n",
    "\n",
    "\n",
    "# plotting and displaying in the notebook\n",
    "import seaborn as sns\n",
    "from matplotlib import pyplot as plt\n",
    "from IPython.display import display\n",
    "import emoji\n",
    "\n",
    "# ignore warnings\n",
    "import warnings\n",
    "warnings.filterwarnings(\"ignore\")\n",
    "\n",
    "%matplotlib inline"
   ]
  },
  {
   "cell_type": "markdown",
   "id": "cd36066b",
   "metadata": {},
   "source": [
    "<a href=#toc>Subir a la Tabla de Contenidos</a><br>"
   ]
  },
  {
   "cell_type": "markdown",
   "id": "1f3a5965",
   "metadata": {},
   "source": [
    "<a name='prep'/>"
   ]
  },
  {
   "cell_type": "markdown",
   "id": "dac6f1a9",
   "metadata": {},
   "source": [
    "## <font color=#ac6240>2. Preparación de los datos</font>"
   ]
  },
  {
   "cell_type": "markdown",
   "id": "9b98480e",
   "metadata": {},
   "source": [
    "La exploración y preparación de los datos se hizo en el Jupyter Notebook `Exploration_and_Classification.ipynb` que se encuentra en [este repositorio](https://github.com/MMdeCastro/Uncertainty_Quantification_XAI), aquí solo mostarmos los pasos esenciales."
   ]
  },
  {
   "cell_type": "markdown",
   "id": "8f47f51b",
   "metadata": {},
   "source": [
    "<a name='prep-clean'/>"
   ]
  },
  {
   "cell_type": "markdown",
   "id": "e1caef65",
   "metadata": {},
   "source": [
    "### <font color=#ac6240>2.1 Limpieza de los datos</font>"
   ]
  },
  {
   "cell_type": "markdown",
   "id": "cc0662a4",
   "metadata": {},
   "source": [
    "Cargamos los datos del fichero que esta en el mismo repositorio:"
   ]
  },
  {
   "cell_type": "code",
   "execution_count": 2,
   "id": "89fa33de",
   "metadata": {},
   "outputs": [
    {
     "data": {
      "text/html": [
       "<div>\n",
       "<style scoped>\n",
       "    .dataframe tbody tr th:only-of-type {\n",
       "        vertical-align: middle;\n",
       "    }\n",
       "\n",
       "    .dataframe tbody tr th {\n",
       "        vertical-align: top;\n",
       "    }\n",
       "\n",
       "    .dataframe thead th {\n",
       "        text-align: right;\n",
       "    }\n",
       "</style>\n",
       "<table border=\"1\" class=\"dataframe\">\n",
       "  <thead>\n",
       "    <tr style=\"text-align: right;\">\n",
       "      <th></th>\n",
       "      <th>Age</th>\n",
       "      <th>Sex</th>\n",
       "      <th>ChestPainType</th>\n",
       "      <th>RestingBP</th>\n",
       "      <th>Cholesterol</th>\n",
       "      <th>FastingBS</th>\n",
       "      <th>RestingECG</th>\n",
       "      <th>MaxHR</th>\n",
       "      <th>ExerciseAngina</th>\n",
       "      <th>Oldpeak</th>\n",
       "      <th>ST_Slope</th>\n",
       "      <th>HeartDisease</th>\n",
       "    </tr>\n",
       "  </thead>\n",
       "  <tbody>\n",
       "    <tr>\n",
       "      <th>0</th>\n",
       "      <td>40</td>\n",
       "      <td>M</td>\n",
       "      <td>ATA</td>\n",
       "      <td>140</td>\n",
       "      <td>289</td>\n",
       "      <td>0</td>\n",
       "      <td>Normal</td>\n",
       "      <td>172</td>\n",
       "      <td>N</td>\n",
       "      <td>0.0</td>\n",
       "      <td>Up</td>\n",
       "      <td>0</td>\n",
       "    </tr>\n",
       "    <tr>\n",
       "      <th>1</th>\n",
       "      <td>49</td>\n",
       "      <td>F</td>\n",
       "      <td>NAP</td>\n",
       "      <td>160</td>\n",
       "      <td>180</td>\n",
       "      <td>0</td>\n",
       "      <td>Normal</td>\n",
       "      <td>156</td>\n",
       "      <td>N</td>\n",
       "      <td>1.0</td>\n",
       "      <td>Flat</td>\n",
       "      <td>1</td>\n",
       "    </tr>\n",
       "    <tr>\n",
       "      <th>2</th>\n",
       "      <td>37</td>\n",
       "      <td>M</td>\n",
       "      <td>ATA</td>\n",
       "      <td>130</td>\n",
       "      <td>283</td>\n",
       "      <td>0</td>\n",
       "      <td>ST</td>\n",
       "      <td>98</td>\n",
       "      <td>N</td>\n",
       "      <td>0.0</td>\n",
       "      <td>Up</td>\n",
       "      <td>0</td>\n",
       "    </tr>\n",
       "    <tr>\n",
       "      <th>3</th>\n",
       "      <td>48</td>\n",
       "      <td>F</td>\n",
       "      <td>ASY</td>\n",
       "      <td>138</td>\n",
       "      <td>214</td>\n",
       "      <td>0</td>\n",
       "      <td>Normal</td>\n",
       "      <td>108</td>\n",
       "      <td>Y</td>\n",
       "      <td>1.5</td>\n",
       "      <td>Flat</td>\n",
       "      <td>1</td>\n",
       "    </tr>\n",
       "    <tr>\n",
       "      <th>4</th>\n",
       "      <td>54</td>\n",
       "      <td>M</td>\n",
       "      <td>NAP</td>\n",
       "      <td>150</td>\n",
       "      <td>195</td>\n",
       "      <td>0</td>\n",
       "      <td>Normal</td>\n",
       "      <td>122</td>\n",
       "      <td>N</td>\n",
       "      <td>0.0</td>\n",
       "      <td>Up</td>\n",
       "      <td>0</td>\n",
       "    </tr>\n",
       "  </tbody>\n",
       "</table>\n",
       "</div>"
      ],
      "text/plain": [
       "   Age Sex ChestPainType  RestingBP  Cholesterol  FastingBS RestingECG  MaxHR  \\\n",
       "0   40   M           ATA        140          289          0     Normal    172   \n",
       "1   49   F           NAP        160          180          0     Normal    156   \n",
       "2   37   M           ATA        130          283          0         ST     98   \n",
       "3   48   F           ASY        138          214          0     Normal    108   \n",
       "4   54   M           NAP        150          195          0     Normal    122   \n",
       "\n",
       "  ExerciseAngina  Oldpeak ST_Slope  HeartDisease  \n",
       "0              N      0.0       Up             0  \n",
       "1              N      1.0     Flat             1  \n",
       "2              N      0.0       Up             0  \n",
       "3              Y      1.5     Flat             1  \n",
       "4              N      0.0       Up             0  "
      ]
     },
     "execution_count": 2,
     "metadata": {},
     "output_type": "execute_result"
    }
   ],
   "source": [
    "df = pd.read_csv(\"heart_failure.csv\")\n",
    "df.head()"
   ]
  },
  {
   "cell_type": "markdown",
   "id": "f214c1d3",
   "metadata": {},
   "source": [
    "'FastingBS' (la presión sanguínea en ayunas) debería ser una variable categórica ya que los valores actuales de '0' y '1' son solamente representaciones de valores cualitativos que no queremos que el modelo interprete como valores cuantitativos."
   ]
  },
  {
   "cell_type": "code",
   "execution_count": 3,
   "id": "49f1e440",
   "metadata": {},
   "outputs": [],
   "source": [
    "# Transform the categorical values wrongly classified as numericals\n",
    "new_values = {\n",
    "    0: 'L', # low\n",
    "    1: 'H', # high\n",
    "}\n",
    "\n",
    "df.FastingBS = df.FastingBS.map(new_values)\n",
    "# type(df.FastingBS[0]) # uncomment to check that it is a string type"
   ]
  },
  {
   "cell_type": "code",
   "execution_count": 4,
   "id": "e8553d15",
   "metadata": {},
   "outputs": [],
   "source": [
    "# Store in different lists the names of the categorical and numerical columns since they will be treated different \n",
    "categorical = df.select_dtypes(include=['object']).columns.tolist()  # for strings \n",
    "numerical = df.select_dtypes(include=['int64','float64']).columns.tolist() # for numbers"
   ]
  },
  {
   "cell_type": "markdown",
   "id": "3db8e25b",
   "metadata": {},
   "source": [
    "Los valores mínimos de 'RestingBP' y 'Cholesterol' son cero, lo cual es sospechoso. Con experiencia en el campo de la medicina, podríamos decidir si reemplazar estos valores nulos por la media u otro valor. Carecemos de esta información, por lo tanto, simplemente eliminamos esas filas."
   ]
  },
  {
   "cell_type": "code",
   "execution_count": 5,
   "id": "04fb9793",
   "metadata": {},
   "outputs": [],
   "source": [
    "index_to_drop = list(df.loc[(df.RestingBP == 0) | (df.Cholesterol == 0)].index)\n",
    "df.drop(index_to_drop, inplace=True)"
   ]
  },
  {
   "cell_type": "markdown",
   "id": "554c1b95",
   "metadata": {},
   "source": [
    "<font size ='5'> ✌️ </font>No hay necesidad de más limpieza de datos."
   ]
  },
  {
   "cell_type": "markdown",
   "id": "7f6113d7",
   "metadata": {},
   "source": [
    "<a name='prep-split'/>"
   ]
  },
  {
   "cell_type": "markdown",
   "id": "e0f89f27",
   "metadata": {
    "lang": "es"
   },
   "source": [
    "### <font color=#ac6240>2.2 División de los datos en conjuntos de datos de entrenamiento, validación y prueba</font>"
   ]
  },
  {
   "cell_type": "markdown",
   "id": "0305c991",
   "metadata": {
    "lang": "es"
   },
   "source": [
    "En esta división aleatoria, y en todas las ocasiones siguientes en las que usemos un generador de números aleatorios, fijamos la semilla del generador de números aleatorios para asegurar la reproducibilidad de los resultados. Fijamos el `random_state = 1` pero podría ser 2 o cualquier otro valor, no afectará a los resultados, pero con esta corrección siempre obtendremos exactamente los mismos resultados."
   ]
  },
  {
   "cell_type": "code",
   "execution_count": 6,
   "id": "024bc614",
   "metadata": {},
   "outputs": [],
   "source": [
    "# copy the original dataframe so further manipulations will not affect it \n",
    "df_select = df.copy() \n",
    "categorical = df_select.select_dtypes(include=['object']).columns.tolist()\n",
    "numerical = df_select.select_dtypes(include=['int64','float64']).columns.tolist()\n",
    "numerical.remove('HeartDisease')"
   ]
  },
  {
   "cell_type": "code",
   "execution_count": 7,
   "id": "0b473b46",
   "metadata": {},
   "outputs": [
    {
     "data": {
      "text/plain": [
       "(447, 149, 150)"
      ]
     },
     "execution_count": 7,
     "metadata": {},
     "output_type": "execute_result"
    }
   ],
   "source": [
    "# separate train + validation (= full) and test\n",
    "df_full_train, df_test = train_test_split(df_select, test_size=0.2, random_state=1)\n",
    "# now split the full into train and val, it should be the 20% of the 80%, which is 20/80=1/4=0.25\n",
    "df_train, df_val = train_test_split(df_full_train, test_size=0.25, random_state=1) \n",
    "len(df_train), len(df_val), len(df_test)"
   ]
  },
  {
   "cell_type": "code",
   "execution_count": 8,
   "id": "89f65631",
   "metadata": {},
   "outputs": [],
   "source": [
    "# reset index\n",
    "df_train = df_train.reset_index(drop=True)\n",
    "df_val = df_val.reset_index(drop=True)\n",
    "\n",
    "# separate the target\n",
    "y_train = df_train.HeartDisease.values\n",
    "y_val = df_val.HeartDisease.values\n",
    "\n",
    "# remove the target from the features\n",
    "del df_train['HeartDisease']\n",
    "del df_val['HeartDisease']\n"
   ]
  },
  {
   "cell_type": "markdown",
   "id": "06bcd55a",
   "metadata": {},
   "source": [
    "<a name='prep-encoding'/>"
   ]
  },
  {
   "cell_type": "markdown",
   "id": "b5a67de6",
   "metadata": {
    "lang": "es"
   },
   "source": [
    "### <font color=#ac6240>2.3 Codificación de las variables categóricas</font>"
   ]
  },
  {
   "cell_type": "markdown",
   "id": "aaa2f6b4",
   "metadata": {
    "lang": "es"
   },
   "source": [
    "Usamos Scikit-Learn `DictVectorizer` para codificar características categóricas (toma un diccionario y lo convierte en un vector (un` numpy.array`). Es un método de los llamados One-Hot Encoding (OHE) para convertir las características categóricas (no afectaría las numéricas) en binario, en tantas columnas como valores tome la variable categórica. Como veremos a continuación, esta codificación proporciona un buen rendimiento del modelo de referencia inicial ('baseline model'), por lo que no exploramos los efectos de otros algoritmos de codificación, como `LabelEncoder`, `OneHotEncoder` o la función `get_dummies()`, por ejemplo)."
   ]
  },
  {
   "cell_type": "code",
   "execution_count": 9,
   "id": "c576a8ea",
   "metadata": {},
   "outputs": [],
   "source": [
    "dv = DictVectorizer(sparse=False) # False bcs is not a sparse matrix (we do not have many zeros)\n",
    "\n",
    "# TRAIN\n",
    "train_dict = df_train[categorical].to_dict(orient='records') # records = to do it row-wise, not col-wise\n",
    "X_train_cat = dv.fit_transform(train_dict) # make it a vector\n",
    "\n",
    "# VAL\n",
    "val_dict = df_val[categorical].to_dict(orient='records')\n",
    "X_val_cat = dv.transform(val_dict)"
   ]
  },
  {
   "cell_type": "markdown",
   "id": "8646e93d",
   "metadata": {},
   "source": [
    "<a name='prep-scaling/'/>"
   ]
  },
  {
   "cell_type": "markdown",
   "id": "7e8d990b",
   "metadata": {
    "lang": "es"
   },
   "source": [
    "###  <font color=#ac6240>2.4 Normalización de las variables numéricas</font>"
   ]
  },
  {
   "cell_type": "markdown",
   "id": "d550b807",
   "metadata": {
    "lang": "es"
   },
   "source": [
    "Usamos Scikit-Learn `StandardScaler` para normalizar las características numéricas (de lo contrario, las columnas con valores en un rango más alto tendrían más representación y el modelo no converge). Como veremos a continuación, esto proporciona un rendimiento razonable para el modelo de referencia inicial, por lo tanto, no exploramos los efectos de otros algoritmos de estandarización, como `MixMaxScaler`, por ejemplo)."
   ]
  },
  {
   "cell_type": "code",
   "execution_count": 10,
   "id": "21a24322",
   "metadata": {},
   "outputs": [],
   "source": [
    "scaler = StandardScaler()\n",
    "\n",
    "# TRAIN\n",
    "X_train_num = df_train[numerical].values\n",
    "X_train_num = scaler.fit_transform(X_train_num)\n",
    "\n",
    "# VAL\n",
    "X_val_num = df_val[numerical].values\n",
    "X_val_num = scaler.transform(X_val_num)"
   ]
  },
  {
   "cell_type": "markdown",
   "id": "ef815080",
   "metadata": {
    "lang": "es"
   },
   "source": [
    "Unimos las matrices numéricas y categóricas:"
   ]
  },
  {
   "cell_type": "code",
   "execution_count": 11,
   "id": "ede9d280",
   "metadata": {},
   "outputs": [],
   "source": [
    "# TRAIN\n",
    "X_train = np.column_stack([X_train_num, X_train_cat])\n",
    "\n",
    "# VAL\n",
    "X_val = np.column_stack([X_val_num, X_val_cat])"
   ]
  },
  {
   "cell_type": "markdown",
   "id": "6f31c939",
   "metadata": {},
   "source": [
    "Las nuevas caracteristicas son:"
   ]
  },
  {
   "cell_type": "code",
   "execution_count": 27,
   "id": "5c5c6fbe",
   "metadata": {},
   "outputs": [
    {
     "data": {
      "text/plain": [
       "['Age',\n",
       " 'RestingBP',\n",
       " 'Cholesterol',\n",
       " 'MaxHR',\n",
       " 'Oldpeak',\n",
       " 'ChestPainType=ASY',\n",
       " 'ChestPainType=ATA',\n",
       " 'ChestPainType=NAP',\n",
       " 'ChestPainType=TA',\n",
       " 'ExerciseAngina=N',\n",
       " 'ExerciseAngina=Y',\n",
       " 'FastingBS=H',\n",
       " 'FastingBS=L',\n",
       " 'RestingECG=LVH',\n",
       " 'RestingECG=Normal',\n",
       " 'RestingECG=ST',\n",
       " 'ST_Slope=Down',\n",
       " 'ST_Slope=Flat',\n",
       " 'ST_Slope=Up',\n",
       " 'Sex=F',\n",
       " 'Sex=M']"
      ]
     },
     "execution_count": 27,
     "metadata": {},
     "output_type": "execute_result"
    }
   ],
   "source": [
    "feature_names = numerical + dv.get_feature_names()\n",
    "feature_names"
   ]
  },
  {
   "cell_type": "markdown",
   "id": "0570ccfa",
   "metadata": {},
   "source": [
    "<font size=\"5\"> 👏 </font>  Ya tenemos todo para entrenar nuestro bosque aleatorio."
   ]
  },
  {
   "cell_type": "markdown",
   "id": "ccd54a62",
   "metadata": {},
   "source": [
    "<a href=#toc>Subir a Tabla de Contenidos</a><br>"
   ]
  },
  {
   "cell_type": "markdown",
   "id": "a9b019fd",
   "metadata": {},
   "source": [
    "<a name='model'/>"
   ]
  },
  {
   "cell_type": "markdown",
   "id": "c887bb84",
   "metadata": {},
   "source": [
    "## <font color=#ac6240>3. Entrenamiento del modelo</font>"
   ]
  },
  {
   "cell_type": "markdown",
   "id": "639fbeeb",
   "metadata": {
    "lang": "es"
   },
   "source": [
    "Entrenaremos el modelo de aprendizaje supervisado llamado bosque aleatorio ('Random Forest') que es uno de los clasificadores de aprendizaje automático más populares (ver, por ejemplo, [Kaggle 2021](https://storage.googleapis.com/kaggle-media/surveys/Kaggle's%20State%20of%20Machine%20Learning%20and%20Data%20Science%202021.pdf) página 32)."
   ]
  },
  {
   "cell_type": "markdown",
   "id": "7f92daf3",
   "metadata": {},
   "source": [
    "<a name='model-metric'/>"
   ]
  },
  {
   "cell_type": "markdown",
   "id": "efd33785",
   "metadata": {},
   "source": [
    "### <font color=#ac6240>3.1 Selección de la Métrica y del umbral de decisión</font>"
   ]
  },
  {
   "cell_type": "markdown",
   "id": "53f7f180",
   "metadata": {},
   "source": [
    "Como explicamos en el Jupyter Notebook `Exploration_and_Classification.ipynb` que se encuentra en [este repositorio](https://github.com/MMdeCastro/Uncertainty_Quantification_XAI), vamos a medir la calidad del modelo con la metrica denominada 'F1-score' porque queremos evitar los Falsos Negativos (no queremos diagnostiar como sanx a unx paciente en riesgo) contando la tasa de Verdaderos Positivos (o 'recall') pero sin perder de vista la precisión ('precision') y exactitud ('accuracy').\n",
    "\n",
    "Entre los hiperparametros que tuneamos en el Jupyter Notebook anterior, concluimos que definíamos el umbral de decisión on `t = 0.4`."
   ]
  },
  {
   "cell_type": "markdown",
   "id": "0ea26f4b",
   "metadata": {},
   "source": [
    "<a name='model-RF'/>"
   ]
  },
  {
   "cell_type": "markdown",
   "id": "f2cdf592",
   "metadata": {},
   "source": [
    "### <font color=#ac6240>3.2 Bosque aleatorio</font>"
   ]
  },
  {
   "cell_type": "markdown",
   "id": "baa5dfa7",
   "metadata": {
    "lang": "es"
   },
   "source": [
    "Como explicamos en el Jupyter Notebook `Exploration_and_Classification.ipynb` que se encuentra en [este repositorio](https://github.com/MMdeCastro/Uncertainty_Quantification_XAI), el bosque aleatorio es un tipo de [Ensemble Learning](https://en.wikipedia.org/wiki/Ensemble_learning): corremos en paralelo muchos árboles de decisión y tomamos la predicción del que obtuvo más aciertos. Primero, se crean múltiples conjuntos de datos de entrenamiento mediante el muestreo de datos del conjunto de datos de entrenamiento (un método conocido como 'bootstrapping' o 'bagging') y luego se entrena un árbol de decisión en cada uno de estos conjuntos de datos.  Pueden usarse para resolver problemas de regresión o de clasificación. Por lo general, los bosques aleatorios tienen un alto rendimiento, pero no son interpretables (son 'black-boxes') y no son recomendables para grandes conjuntos de datos (~ TB) porque requieren mucha más potencia de computadora que la regresión logística, por ejemplo.\n",
    "\n",
    "En el anterior Jupyter Notebook ya calibramos los hiperparámetros del bosque aleatorio automáticamente usando el paquete de Scikit-learn `GridSearchCV`. Una vez obtuvimos el mejor conjunto de hiperparámetros y entrenamos el modelo usando esos valores, aplicamos una validacion cruzada con k-pliegues tomando la pequeña desviación estándar de los resultados de los k-pliegues como proxy de la estabilidad de los resultados."
   ]
  },
  {
   "cell_type": "markdown",
   "id": "d61a97f9",
   "metadata": {
    "lang": "es"
   },
   "source": [
    "#### <font color=#ac6240>3.2.1 Prueba de modelo</font>"
   ]
  },
  {
   "cell_type": "markdown",
   "id": "3f039304",
   "metadata": {
    "lang": "es"
   },
   "source": [
    "Iniciamos la fase de prueba ('test'). Unimos los conjuntos de datos de entrenamiento y validación en el conjunto de datos \"full_train\" (cuantos más datos, mejor) y preparamos el conjunto de datos resultante y el conjunto de datos de prueba."
   ]
  },
  {
   "cell_type": "code",
   "execution_count": 12,
   "id": "cf78a36c",
   "metadata": {},
   "outputs": [],
   "source": [
    "# TRAIN\n",
    "df_full_train = df_full_train.reset_index(drop=True) # reset index after splitting shuffling\n",
    "y_full_train = df_full_train.HeartDisease.values\n",
    "\n",
    "    \n",
    "full_train_dict = df_full_train[categorical].to_dict(orient='records')\n",
    "X_full_train_cat = dv.fit_transform(full_train_dict) # encode the categorical features\n",
    "\n",
    "X_full_train_num = df_full_train[numerical].values\n",
    "X_full_train_num = scaler.fit_transform(X_full_train_num) # scale the numerical features\n",
    "\n",
    "X_full_train = np.column_stack([X_full_train_num, X_full_train_cat]) # join the matrices\n",
    "\n",
    "# TEST\n",
    "df_test = df_test.reset_index(drop=True) # reset index after splitting shuffling\n",
    "y_test = df_test.HeartDisease.values\n",
    "\n",
    "del df_test['HeartDisease'] # remove target\n",
    "    \n",
    "test_dict = df_test[categorical].to_dict(orient='records')\n",
    "X_test_cat = dv.transform(test_dict) # encode the categorical features\n",
    "\n",
    "X_test_num = df_test[numerical].values\n",
    "X_test_num = scaler.transform(X_test_num) # scale the numerical features\n",
    "\n",
    "X_test = np.column_stack([X_test_num, X_test_cat]) # join the matrices"
   ]
  },
  {
   "cell_type": "code",
   "execution_count": 13,
   "id": "44d36ae9",
   "metadata": {},
   "outputs": [
    {
     "name": "stdout",
     "output_type": "stream",
     "text": [
      "For the test dataset: ACC: 0.887 Recall: 0.911 F1: 0.894 ROC AUC: 0.936\n"
     ]
    }
   ],
   "source": [
    "# train and apply on the test set the final model:\n",
    "\n",
    "RF = RandomForestClassifier(max_depth = 10, min_samples_leaf = 5, \n",
    "                            n_estimators =  50, random_state = 1)\n",
    "\n",
    "model = RF.fit(X_full_train, y_full_train)\n",
    "y_pred = RF.predict_proba(X_test)[:, 1]\n",
    "\n",
    "t = 0.4\n",
    "\n",
    "acc = accuracy_score(y_test, y_pred >= t) \n",
    "rec = recall_score(y_test, y_pred >= t)\n",
    "f1  = f1_score(y_test, y_pred >= t) \n",
    "auc = roc_auc_score(y_test, y_pred)\n",
    "print('For the test dataset:',\n",
    "      'ACC:', acc.round(3), 'Recall:', rec.round(3),'F1:', f1.round(3),'ROC AUC:', auc.round(3))"
   ]
  },
  {
   "cell_type": "code",
   "execution_count": 14,
   "id": "852fa69f",
   "metadata": {},
   "outputs": [
    {
     "data": {
      "image/png": "[encoded data removed]",
      "text/plain": [
       "<Figure size 432x288 with 2 Axes>"
      ]
     },
     "metadata": {
      "needs_background": "light"
     },
     "output_type": "display_data"
    }
   ],
   "source": [
    "cf_matrix = confusion_matrix(y_test, y_pred >= t)\n",
    "\n",
    "ax = sns.heatmap(cf_matrix, annot=True, cmap='Blues')\n",
    "\n",
    "ax.set_title('Confusion Matrix\\n');\n",
    "ax.set_xlabel('\\nPredicted Values')\n",
    "ax.set_ylabel('Actual Values ');\n",
    "\n",
    "ax.xaxis.set_ticklabels(['0','1'])\n",
    "ax.yaxis.set_ticklabels(['0','1'])\n",
    "\n",
    "##plt.figure(figsize=(7,5))\n",
    "plt.rcParams['figure.figsize'] = [7, 5]  # re-run this cell to get the correct figure size\n",
    "\n",
    "plt.show();"
   ]
  },
  {
   "cell_type": "markdown",
   "id": "f80f4cdb",
   "metadata": {
    "lang": "es"
   },
   "source": [
    "<font size=\"5\"> 👏 </font> Como vimos en el Jupyter Notebook anterior, obtuvimos valores de métricas similares a los de los conjuntos de datos de entrenamiento y validación, por lo que no estamos sobreajustadando ('overfitting') y el modelo generaliza bien."
   ]
  },
  {
   "cell_type": "markdown",
   "id": "dc4d2107",
   "metadata": {},
   "source": [
    "<a href=#toc>Subir a Tabla de Contenidos</a><br>"
   ]
  },
  {
   "cell_type": "markdown",
   "id": "0b123247",
   "metadata": {},
   "source": [
    "#### <font color=#ac6240>3.2.2 Aplicación del modelo</font>"
   ]
  },
  {
   "cell_type": "markdown",
   "id": "a68c39ca",
   "metadata": {
    "lang": "es"
   },
   "source": [
    "Simulemos una nueva paciente con los siguientes datos:"
   ]
  },
  {
   "cell_type": "code",
   "execution_count": 15,
   "id": "ac29c840",
   "metadata": {},
   "outputs": [],
   "source": [
    "new_patient = {\n",
    "    'Age': 56,\n",
    "    'Sex': 'F',\n",
    "    'ChestPainType': 'ATA', \n",
    "    'RestingBP': 130,  \n",
    "    'Cholesterol': 150, \n",
    "    'FastingBS': 'L',\n",
    "    'RestingECG': 'ST',\n",
    "    'MaxHR': 115,\n",
    "    'ExerciseAngina': 'N',\n",
    "    'Oldpeak': 1.,\n",
    "    'ST_Slope': 'Flat',\n",
    " }"
   ]
  },
  {
   "cell_type": "markdown",
   "id": "4bca834d",
   "metadata": {
    "lang": "es"
   },
   "source": [
    "Preparamos los datos de entrada como en la sección <a href=#prep>Preparación de datos</a>:"
   ]
  },
  {
   "cell_type": "code",
   "execution_count": 16,
   "id": "51da80dd",
   "metadata": {},
   "outputs": [],
   "source": [
    "num_dict = dict()\n",
    "cat_dict = dict()\n",
    "    \n",
    "for (key, value) in new_patient.items():\n",
    "    if key in numerical:\n",
    "        num_dict[key] = value\n",
    "    else:\n",
    "        cat_dict[key] = value\n",
    "\n",
    "# DictVect input must be a dict\n",
    "X_cat = dv.transform(cat_dict) # encode the categorical features\n",
    "\n",
    "# Scaler input must be a np.array\n",
    "X_num = np.array(list(num_dict.values())).reshape(1, -1)\n",
    "X_num = scaler.transform(X_num) # scale the numerical features\n",
    "\n",
    "# Join both arrays\n",
    "X = np.column_stack([X_num, X_cat]) "
   ]
  },
  {
   "cell_type": "markdown",
   "id": "b123ce27",
   "metadata": {
    "lang": "es"
   },
   "source": [
    "y aplicamos el modelo:"
   ]
  },
  {
   "cell_type": "code",
   "execution_count": 18,
   "id": "13c11fc9",
   "metadata": {},
   "outputs": [
    {
     "name": "stdout",
     "output_type": "stream",
     "text": [
      "\n",
      "Model application to a new patient:\n",
      "\n",
      "The patient raw score of suffering a hear failure is: 0.29\n",
      "\n",
      "With t = 0.4 as the decision threshold, is there a risk of suffering a heart failure? False\n"
     ]
    }
   ],
   "source": [
    "print()\n",
    "y_pred = RF.predict_proba(X)[:, 1]\n",
    "print('Model application to a new patient:')\n",
    "print()\n",
    "print(\"The patient raw score of suffering a hear failure is:\", y_pred[0].round(2))\n",
    "print()\n",
    "print(\"With t =\", t, \"as the decision threshold, is there a risk of suffering a heart failure?\", y_pred[0] >= t)"
   ]
  },
  {
   "cell_type": "markdown",
   "id": "4945ea01",
   "metadata": {},
   "source": [
    "<a href=#toc>Subir a Tabla de Contenidos</a><br>"
   ]
  },
  {
   "cell_type": "markdown",
   "id": "dedaf394",
   "metadata": {},
   "source": [
    "<a name='xai-app'/>"
   ]
  },
  {
   "cell_type": "markdown",
   "id": "2931515d",
   "metadata": {},
   "source": [
    "## <font color=#ac6240>4. Aplicación del modelos de explicabilidad</font>"
   ]
  },
  {
   "cell_type": "markdown",
   "id": "5a0fb828",
   "metadata": {},
   "source": [
    "<a name='xai-per'/>"
   ]
  },
  {
   "cell_type": "markdown",
   "id": "cd7ae4a8",
   "metadata": {},
   "source": [
    "### <font color=#ac6240>4.1 Permutacion importance y Partial Dependence Plots</font>"
   ]
  },
  {
   "cell_type": "markdown",
   "id": "3ed2db91",
   "metadata": {},
   "source": [
    "Una vex tenemos listo el bosque aleatorio, no vamos a cambiarlo ni vamos a cambiar los resutados de sus predicciones. En lugar de eso vamos a preguntarnos lo siguiente: si revolvemos aleatoriamente ('shuffling') los valores de una columna (es decir, una caracteristica o 'feature') de los datos de validación, dejando igual el resto de columnas, influyendo la de la variable de destino o 'target', cómo se ve afectada la métrica de rendimiento? Parece lógico pensar en estos dos escenarios:\n",
    "+ la métrica sufrirá especialmente cuando reordenemos (es decir, metamos ruido) a los datos de una columna relevante, y \n",
    "+ la métrica ni notará si revolvemos una característica o 'feature' insignificante para la predicción.\n",
    "\n",
    "Usaremos el paquete `eli5` que por defecto utiliza la métrica 'accuracy'. Cada caracteristica es revuelta varias veces y se hace la media de las impostancias resultantes para obtener una idea de la robusted del resultado."
   ]
  },
  {
   "cell_type": "code",
   "execution_count": 29,
   "id": "61bae1d2",
   "metadata": {},
   "outputs": [
    {
     "data": {
      "text/html": [
       "\n",
       "    <style>\n",
       "    table.eli5-weights tr:hover {\n",
       "        filter: brightness(85%);\n",
       "    }\n",
       "</style>\n",
       "\n",
       "\n",
       "\n",
       "    \n",
       "\n",
       "    \n",
       "\n",
       "    \n",
       "\n",
       "    \n",
       "\n",
       "    \n",
       "\n",
       "    \n",
       "\n",
       "\n",
       "    \n",
       "\n",
       "    \n",
       "\n",
       "    \n",
       "\n",
       "    \n",
       "\n",
       "    \n",
       "\n",
       "    \n",
       "\n",
       "\n",
       "    \n",
       "\n",
       "    \n",
       "\n",
       "    \n",
       "\n",
       "    \n",
       "\n",
       "    \n",
       "        <table class=\"eli5-weights eli5-feature-importances\" style=\"border-collapse: collapse; border: none; margin-top: 0em; table-layout: auto;\">\n",
       "    <thead>\n",
       "    <tr style=\"border: none;\">\n",
       "        <th style=\"padding: 0 1em 0 0.5em; text-align: right; border: none;\">Weight</th>\n",
       "        <th style=\"padding: 0 0.5em 0 0.5em; text-align: left; border: none;\">Feature</th>\n",
       "    </tr>\n",
       "    </thead>\n",
       "    <tbody>\n",
       "    \n",
       "        <tr style=\"background-color: hsl(120, 100.00%, 80.00%); border: none;\">\n",
       "            <td style=\"padding: 0 1em 0 0.5em; text-align: right; border: none;\">\n",
       "                0.0940\n",
       "                \n",
       "                    &plusmn; 0.0282\n",
       "                \n",
       "            </td>\n",
       "            <td style=\"padding: 0 0.5em 0 0.5em; text-align: left; border: none;\">\n",
       "                ST_Slope=Flat\n",
       "            </td>\n",
       "        </tr>\n",
       "    \n",
       "        <tr style=\"background-color: hsl(120, 100.00%, 88.44%); border: none;\">\n",
       "            <td style=\"padding: 0 1em 0 0.5em; text-align: right; border: none;\">\n",
       "                0.0430\n",
       "                \n",
       "                    &plusmn; 0.0218\n",
       "                \n",
       "            </td>\n",
       "            <td style=\"padding: 0 0.5em 0 0.5em; text-align: left; border: none;\">\n",
       "                ST_Slope=Up\n",
       "            </td>\n",
       "        </tr>\n",
       "    \n",
       "        <tr style=\"background-color: hsl(120, 100.00%, 91.68%); border: none;\">\n",
       "            <td style=\"padding: 0 1em 0 0.5em; text-align: right; border: none;\">\n",
       "                0.0268\n",
       "                \n",
       "                    &plusmn; 0.0240\n",
       "                \n",
       "            </td>\n",
       "            <td style=\"padding: 0 0.5em 0 0.5em; text-align: left; border: none;\">\n",
       "                ChestPainType=ASY\n",
       "            </td>\n",
       "        </tr>\n",
       "    \n",
       "        <tr style=\"background-color: hsl(120, 100.00%, 93.85%); border: none;\">\n",
       "            <td style=\"padding: 0 1em 0 0.5em; text-align: right; border: none;\">\n",
       "                0.0174\n",
       "                \n",
       "                    &plusmn; 0.0137\n",
       "                \n",
       "            </td>\n",
       "            <td style=\"padding: 0 0.5em 0 0.5em; text-align: left; border: none;\">\n",
       "                RestingBP\n",
       "            </td>\n",
       "        </tr>\n",
       "    \n",
       "        <tr style=\"background-color: hsl(120, 100.00%, 94.18%); border: none;\">\n",
       "            <td style=\"padding: 0 1em 0 0.5em; text-align: right; border: none;\">\n",
       "                0.0161\n",
       "                \n",
       "                    &plusmn; 0.0137\n",
       "                \n",
       "            </td>\n",
       "            <td style=\"padding: 0 0.5em 0 0.5em; text-align: left; border: none;\">\n",
       "                ExerciseAngina=N\n",
       "            </td>\n",
       "        </tr>\n",
       "    \n",
       "        <tr style=\"background-color: hsl(120, 100.00%, 94.52%); border: none;\">\n",
       "            <td style=\"padding: 0 1em 0 0.5em; text-align: right; border: none;\">\n",
       "                0.0148\n",
       "                \n",
       "                    &plusmn; 0.0215\n",
       "                \n",
       "            </td>\n",
       "            <td style=\"padding: 0 0.5em 0 0.5em; text-align: left; border: none;\">\n",
       "                MaxHR\n",
       "            </td>\n",
       "        </tr>\n",
       "    \n",
       "        <tr style=\"background-color: hsl(120, 100.00%, 94.52%); border: none;\">\n",
       "            <td style=\"padding: 0 1em 0 0.5em; text-align: right; border: none;\">\n",
       "                0.0148\n",
       "                \n",
       "                    &plusmn; 0.0178\n",
       "                \n",
       "            </td>\n",
       "            <td style=\"padding: 0 0.5em 0 0.5em; text-align: left; border: none;\">\n",
       "                Oldpeak\n",
       "            </td>\n",
       "        </tr>\n",
       "    \n",
       "        <tr style=\"background-color: hsl(120, 100.00%, 95.24%); border: none;\">\n",
       "            <td style=\"padding: 0 1em 0 0.5em; text-align: right; border: none;\">\n",
       "                0.0121\n",
       "                \n",
       "                    &plusmn; 0.0157\n",
       "                \n",
       "            </td>\n",
       "            <td style=\"padding: 0 0.5em 0 0.5em; text-align: left; border: none;\">\n",
       "                Sex=M\n",
       "            </td>\n",
       "        </tr>\n",
       "    \n",
       "        <tr style=\"background-color: hsl(120, 100.00%, 95.62%); border: none;\">\n",
       "            <td style=\"padding: 0 1em 0 0.5em; text-align: right; border: none;\">\n",
       "                0.0107\n",
       "                \n",
       "                    &plusmn; 0.0066\n",
       "                \n",
       "            </td>\n",
       "            <td style=\"padding: 0 0.5em 0 0.5em; text-align: left; border: none;\">\n",
       "                RestingECG=Normal\n",
       "            </td>\n",
       "        </tr>\n",
       "    \n",
       "        <tr style=\"background-color: hsl(120, 100.00%, 96.42%); border: none;\">\n",
       "            <td style=\"padding: 0 1em 0 0.5em; text-align: right; border: none;\">\n",
       "                0.0081\n",
       "                \n",
       "                    &plusmn; 0.0100\n",
       "                \n",
       "            </td>\n",
       "            <td style=\"padding: 0 0.5em 0 0.5em; text-align: left; border: none;\">\n",
       "                ExerciseAngina=Y\n",
       "            </td>\n",
       "        </tr>\n",
       "    \n",
       "        <tr style=\"background-color: hsl(120, 100.00%, 96.42%); border: none;\">\n",
       "            <td style=\"padding: 0 1em 0 0.5em; text-align: right; border: none;\">\n",
       "                0.0081\n",
       "                \n",
       "                    &plusmn; 0.0100\n",
       "                \n",
       "            </td>\n",
       "            <td style=\"padding: 0 0.5em 0 0.5em; text-align: left; border: none;\">\n",
       "                Age\n",
       "            </td>\n",
       "        </tr>\n",
       "    \n",
       "        <tr style=\"background-color: hsl(120, 100.00%, 96.85%); border: none;\">\n",
       "            <td style=\"padding: 0 1em 0 0.5em; text-align: right; border: none;\">\n",
       "                0.0067\n",
       "                \n",
       "                    &plusmn; 0.0085\n",
       "                \n",
       "            </td>\n",
       "            <td style=\"padding: 0 0.5em 0 0.5em; text-align: left; border: none;\">\n",
       "                Cholesterol\n",
       "            </td>\n",
       "        </tr>\n",
       "    \n",
       "        <tr style=\"background-color: hsl(120, 100.00%, 96.85%); border: none;\">\n",
       "            <td style=\"padding: 0 1em 0 0.5em; text-align: right; border: none;\">\n",
       "                0.0067\n",
       "                \n",
       "                    &plusmn; 0.0120\n",
       "                \n",
       "            </td>\n",
       "            <td style=\"padding: 0 0.5em 0 0.5em; text-align: left; border: none;\">\n",
       "                Sex=F\n",
       "            </td>\n",
       "        </tr>\n",
       "    \n",
       "        <tr style=\"background-color: hsl(120, 100.00%, 98.34%); border: none;\">\n",
       "            <td style=\"padding: 0 1em 0 0.5em; text-align: right; border: none;\">\n",
       "                0.0027\n",
       "                \n",
       "                    &plusmn; 0.0066\n",
       "                \n",
       "            </td>\n",
       "            <td style=\"padding: 0 0.5em 0 0.5em; text-align: left; border: none;\">\n",
       "                RestingECG=LVH\n",
       "            </td>\n",
       "        </tr>\n",
       "    \n",
       "        <tr style=\"background-color: hsl(120, 100.00%, 98.34%); border: none;\">\n",
       "            <td style=\"padding: 0 1em 0 0.5em; text-align: right; border: none;\">\n",
       "                0.0027\n",
       "                \n",
       "                    &plusmn; 0.0107\n",
       "                \n",
       "            </td>\n",
       "            <td style=\"padding: 0 0.5em 0 0.5em; text-align: left; border: none;\">\n",
       "                ChestPainType=ATA\n",
       "            </td>\n",
       "        </tr>\n",
       "    \n",
       "        <tr style=\"background-color: hsl(120, 100.00%, 98.98%); border: none;\">\n",
       "            <td style=\"padding: 0 1em 0 0.5em; text-align: right; border: none;\">\n",
       "                0.0013\n",
       "                \n",
       "                    &plusmn; 0.0054\n",
       "                \n",
       "            </td>\n",
       "            <td style=\"padding: 0 0.5em 0 0.5em; text-align: left; border: none;\">\n",
       "                ChestPainType=TA\n",
       "            </td>\n",
       "        </tr>\n",
       "    \n",
       "        <tr style=\"background-color: hsl(0, 100.00%, 100.00%); border: none;\">\n",
       "            <td style=\"padding: 0 1em 0 0.5em; text-align: right; border: none;\">\n",
       "                0\n",
       "                \n",
       "                    &plusmn; 0.0000\n",
       "                \n",
       "            </td>\n",
       "            <td style=\"padding: 0 0.5em 0 0.5em; text-align: left; border: none;\">\n",
       "                FastingBS=L\n",
       "            </td>\n",
       "        </tr>\n",
       "    \n",
       "        <tr style=\"background-color: hsl(0, 100.00%, 100.00%); border: none;\">\n",
       "            <td style=\"padding: 0 1em 0 0.5em; text-align: right; border: none;\">\n",
       "                0\n",
       "                \n",
       "                    &plusmn; 0.0000\n",
       "                \n",
       "            </td>\n",
       "            <td style=\"padding: 0 0.5em 0 0.5em; text-align: left; border: none;\">\n",
       "                RestingECG=ST\n",
       "            </td>\n",
       "        </tr>\n",
       "    \n",
       "        <tr style=\"background-color: hsl(0, 100.00%, 100.00%); border: none;\">\n",
       "            <td style=\"padding: 0 1em 0 0.5em; text-align: right; border: none;\">\n",
       "                0\n",
       "                \n",
       "                    &plusmn; 0.0000\n",
       "                \n",
       "            </td>\n",
       "            <td style=\"padding: 0 0.5em 0 0.5em; text-align: left; border: none;\">\n",
       "                ST_Slope=Down\n",
       "            </td>\n",
       "        </tr>\n",
       "    \n",
       "        <tr style=\"background-color: hsl(0, 100.00%, 100.00%); border: none;\">\n",
       "            <td style=\"padding: 0 1em 0 0.5em; text-align: right; border: none;\">\n",
       "                0\n",
       "                \n",
       "                    &plusmn; 0.0000\n",
       "                \n",
       "            </td>\n",
       "            <td style=\"padding: 0 0.5em 0 0.5em; text-align: left; border: none;\">\n",
       "                FastingBS=H\n",
       "            </td>\n",
       "        </tr>\n",
       "    \n",
       "    \n",
       "        \n",
       "            <tr style=\"background-color: hsl(0, 100.00%, 100.00%); border: none;\">\n",
       "                <td colspan=\"2\" style=\"padding: 0 0.5em 0 0.5em; text-align: center; border: none; white-space: nowrap;\">\n",
       "                    <i>&hellip; 1 more &hellip;</i>\n",
       "                </td>\n",
       "            </tr>\n",
       "        \n",
       "    \n",
       "    </tbody>\n",
       "</table>\n",
       "    \n",
       "\n",
       "    \n",
       "\n",
       "\n",
       "    \n",
       "\n",
       "    \n",
       "\n",
       "    \n",
       "\n",
       "    \n",
       "\n",
       "    \n",
       "\n",
       "    \n",
       "\n",
       "\n",
       "\n"
      ],
      "text/plain": [
       "<IPython.core.display.HTML object>"
      ]
     },
     "execution_count": 29,
     "metadata": {},
     "output_type": "execute_result"
    }
   ],
   "source": [
    "perm = PermutationImportance(RF).fit(X_val, y_val)\n",
    "eli5.show_weights(perm, feature_names = feature_names)"
   ]
  },
  {
   "cell_type": "markdown",
   "id": "d38fc1af",
   "metadata": {},
   "source": [
    "Ahora sabemos que la característica 'ST_Slope' y 'ChestPainType' son las más relevantes para este bosque aleatorio (vimos en el Jupyter Notebook anterior que tambien fueron relevantes durante la exploración de los datos y para los modelos supervisados analizados).\n",
    "\n",
    "Podemos entonces averiguar _cómo_ esas características tan relevantes afectan a las prediciones de nuestro bosque aleatorio. Para eso utilizamos los llamados Partial Dependence Plots. Para entender cómo este método discierne el efecto de cada 'feature' vamos a empezar considerando una fila de datos, es decir, cogemos los datos de unx paciente al azar. Aplicamos nuestro bosque aleatorio a esx paciente para predecir si está o no en riesgo de sufrir un fallo cardíaco. Pero incrementamos poco a poco el valor de una de las características ('Cholesterol', por ejemplo) y obtenemos una serie de predicciones. En un gráfico colocamos los resultados de estas predicciones en el eje vertical y las correpondientes alteraciones que hicimos de los valores de esa 'feature' en el eje horizontal, de menor a mayor. En realidad, lo hacemos con muchxs pacientes y lo que dibujamos en el eje vertical es la media de los resultados.\n",
    "\n",
    "Usaremos el paquete `PDPBox`:"
   ]
  },
  {
   "cell_type": "code",
   "execution_count": 39,
   "id": "49301a2d",
   "metadata": {},
   "outputs": [],
   "source": [
    "df_X_val = pd.DataFrame(X_val,columns= feature_names)\n",
    "#df_X_val"
   ]
  },
  {
   "cell_type": "code",
   "execution_count": 42,
   "id": "3dedaa92",
   "metadata": {},
   "outputs": [
    {
     "data": {
      "image/png": "[encoded data removed]",
      "text/plain": [
       "<Figure size 1080x684 with 2 Axes>"
      ]
     },
     "metadata": {
      "needs_background": "light"
     },
     "output_type": "display_data"
    }
   ],
   "source": [
    "pdp_goals = pdp.pdp_isolate(model = RF, dataset = df_X_val, \n",
    "                            model_features = feature_names, \n",
    "                            feature = 'Cholesterol')\n",
    "\n",
    "# plot\n",
    "pdp.pdp_plot(pdp_goals, 'Cholesterol')\n",
    "plt.show()"
   ]
  },
  {
   "cell_type": "code",
   "execution_count": null,
   "id": "54f9d287",
   "metadata": {},
   "outputs": [],
   "source": []
  },
  {
   "cell_type": "code",
   "execution_count": null,
   "id": "27d6f10f",
   "metadata": {},
   "outputs": [],
   "source": []
  },
  {
   "cell_type": "markdown",
   "id": "3899a7f2",
   "metadata": {
    "lang": "en"
   },
   "source": [
    "<font size=\"5\"> 🏋🏾‍♀️  </font> Gracias por tu atención y hasta pronto!"
   ]
  },
  {
   "cell_type": "code",
   "execution_count": null,
   "id": "8074da4b",
   "metadata": {},
   "outputs": [],
   "source": []
  }
 ],
 "metadata": {
  "kernelspec": {
   "display_name": "Python 3 (ipykernel)",
   "language": "python",
   "name": "python3"
  },
  "language_info": {
   "codemirror_mode": {
    "name": "ipython",
    "version": 3
   },
   "file_extension": ".py",
   "mimetype": "text/x-python",
   "name": "python",
   "nbconvert_exporter": "python",
   "pygments_lexer": "ipython3",
   "version": "3.9.1"
  },
  "nbTranslate": {
   "displayLangs": [
    "es"
   ],
   "hotkey": "alt-t",
   "langInMainMenu": true,
   "sourceLang": "en",
   "targetLang": "es",
   "useGoogleTranslate": true
  }
 },
 "nbformat": 4,
 "nbformat_minor": 5
}
