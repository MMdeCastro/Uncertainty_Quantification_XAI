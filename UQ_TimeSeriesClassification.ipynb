{
 "cells": [
  {
   "cell_type": "markdown",
   "id": "9c3df54d",
   "metadata": {},
   "source": [
    "## Time Series Classification with Conformal Predictors"
   ]
  },
  {
   "cell_type": "markdown",
   "id": "a66d2a7c",
   "metadata": {},
   "source": [
    "Este Jupyter Notebook sigue la explicación del genial [blog de Christoph Molnar](https://mindfulmodeler.substack.com/p/week-1-getting-started-with-conformal). Para una exploración de datos exhaustiva y una selección de la métrica, el umbral de decisión, y los hiperparámetros de varios modelos, ver antes el Juppyter Notebook `Exploration_and_Classification.ipnyb` en este mismo repositorio. Para una explicación detallada sobre cuantización de incertidumbre, ver el Jupyter Notebook `UQ.ipnyb`en este mismo repositorio. Aquí nos centraremos en la implementación de el método Conformal Prediction para la clasificación de series temporales.\n",
    "\n",
    "Usaremos los datos univariate de este estudio 'Multivariate Time Series data of Fatigued and Non-Fatigued Running from Inertial Measurement Units' que se pueden descargar aquí: https://zenodo.org/records/7997851. La autora también escribió un articulo de Medium donde recomienda usar leave-one-subject-out (LOSO), aplica Rocket y compara modelos personalizados con los modelos no personalizados: https://towardsdatascience.com/time-series-classification-for-fatigue-detection-in-runners-a-tutorial-d649e8eb322f. Aquí nos centramos en la cuantificación de incertidumbre y ese estudio queda fuera del alcance de este Jupyter Notebook. \n"
   ]
  },
  {
   "cell_type": "markdown",
   "id": "be43f9f0",
   "metadata": {},
   "source": [
    "### 0. Software"
   ]
  },
  {
   "cell_type": "code",
   "execution_count": 3,
   "id": "114ea1a6",
   "metadata": {},
   "outputs": [],
   "source": [
    "import numpy as np\n",
    "import pandas as pd\n",
    "\n",
    "\n",
    "# data exploration and preparation  \n",
    "from sklearn.model_selection import train_test_split\n",
    "from sklearn.preprocessing import StandardScaler \n",
    "from sklearn.preprocessing import LabelEncoder\n",
    "\n",
    "# model\n",
    "from sklearn.ensemble import RandomForestClassifier\n",
    "from sklearn.model_selection import GridSearchCV, StratifiedKFold, KFold, cross_val_score, cross_validate\n",
    "\n",
    "# model performance evaluation\n",
    "from sklearn.metrics import make_scorer, accuracy_score, confusion_matrix\n",
    "\n",
    "# UQ \n",
    "from mapie.classification import MapieClassifier\n",
    "from mapie.metrics import classification_coverage_score\n",
    "\n",
    "\n",
    "# plotting and displaying in the notebook\n",
    "import seaborn as sns\n",
    "from matplotlib import pyplot as plt\n",
    "#from IPython.display import display\n",
    "#import emoji\n",
    "\n",
    "# ignore warnings\n",
    "import warnings\n",
    "warnings.filterwarnings(\"ignore\")\n",
    "\n",
    "%matplotlib inline"
   ]
  },
  {
   "cell_type": "markdown",
   "id": "1222a166",
   "metadata": {},
   "source": [
    "### 1. Data load and preparation"
   ]
  },
  {
   "cell_type": "code",
   "execution_count": 5,
   "id": "e86a4520",
   "metadata": {},
   "outputs": [],
   "source": [
    "filename = \"data/Accel_mag_all.csv\"\n",
    "df = pd.read_csv(filename, header = None) # 250 ts per person\n",
    "#df.head() # 6006 rows × 182 columns"
   ]
  },
  {
   "cell_type": "code",
   "execution_count": 6,
   "id": "e8b80b9c",
   "metadata": {},
   "outputs": [
    {
     "name": "stdout",
     "output_type": "stream",
     "text": [
      "<class 'pandas.core.frame.DataFrame'>\n",
      "RangeIndex: 6006 entries, 0 to 6005\n",
      "Columns: 182 entries, 0 to 181\n",
      "dtypes: float64(180), int64(1), object(1)\n",
      "memory usage: 8.3+ MB\n"
     ]
    }
   ],
   "source": [
    "df.info()\n",
    "# df.describe()"
   ]
  },
  {
   "cell_type": "code",
   "execution_count": 7,
   "id": "6a98c0fd",
   "metadata": {},
   "outputs": [
    {
     "data": {
      "text/plain": [
       "1\n",
       "F     3080\n",
       "NF    2926\n",
       "Name: count, dtype: int64"
      ]
     },
     "execution_count": 7,
     "metadata": {},
     "output_type": "execute_result"
    }
   ],
   "source": [
    "# Classes\n",
    "df[df.columns[1]].value_counts() # dataset is balanced"
   ]
  },
  {
   "cell_type": "markdown",
   "id": "27efd505",
   "metadata": {},
   "source": [
    "#### Time Series Visualization"
   ]
  },
  {
   "cell_type": "code",
   "execution_count": 8,
   "id": "9948d214",
   "metadata": {},
   "outputs": [
    {
     "data": {
      "text/html": [
       "<div>\n",
       "<style scoped>\n",
       "    .dataframe tbody tr th:only-of-type {\n",
       "        vertical-align: middle;\n",
       "    }\n",
       "\n",
       "    .dataframe tbody tr th {\n",
       "        vertical-align: top;\n",
       "    }\n",
       "\n",
       "    .dataframe thead th {\n",
       "        text-align: right;\n",
       "    }\n",
       "</style>\n",
       "<table border=\"1\" class=\"dataframe\">\n",
       "  <thead>\n",
       "    <tr style=\"text-align: right;\">\n",
       "      <th></th>\n",
       "      <th>1</th>\n",
       "    </tr>\n",
       "  </thead>\n",
       "  <tbody>\n",
       "    <tr>\n",
       "      <th>248</th>\n",
       "      <td>NF</td>\n",
       "    </tr>\n",
       "    <tr>\n",
       "      <th>249</th>\n",
       "      <td>NF</td>\n",
       "    </tr>\n",
       "    <tr>\n",
       "      <th>250</th>\n",
       "      <td>NF</td>\n",
       "    </tr>\n",
       "    <tr>\n",
       "      <th>251</th>\n",
       "      <td>F</td>\n",
       "    </tr>\n",
       "    <tr>\n",
       "      <th>252</th>\n",
       "      <td>F</td>\n",
       "    </tr>\n",
       "    <tr>\n",
       "      <th>253</th>\n",
       "      <td>F</td>\n",
       "    </tr>\n",
       "  </tbody>\n",
       "</table>\n",
       "</div>"
      ],
      "text/plain": [
       "      1\n",
       "248  NF\n",
       "249  NF\n",
       "250  NF\n",
       "251   F\n",
       "252   F\n",
       "253   F"
      ]
     },
     "execution_count": 8,
     "metadata": {},
     "output_type": "execute_result"
    }
   ],
   "source": [
    "# example\n",
    "df.iloc[248:254,1:2]"
   ]
  },
  {
   "cell_type": "code",
   "execution_count": 11,
   "id": "d2a7ee51",
   "metadata": {},
   "outputs": [
    {
     "data": {
      "image/png": "[encoded data removed]",
      "text/plain": [
       "<Figure size 1000x200 with 1 Axes>"
      ]
     },
     "metadata": {},
     "output_type": "display_data"
    },
    {
     "data": {
      "image/png": "[encoded data removed]",
      "text/plain": [
       "<Figure size 1000x200 with 1 Axes>"
      ]
     },
     "metadata": {},
     "output_type": "display_data"
    }
   ],
   "source": [
    "pd1 = df.iloc[248:251,2:].T\n",
    "pd2 = df.iloc[251:254,2:].T\n",
    "\n",
    "ax0 = pd1.plot(figsize=(10, 2))\n",
    "ax0.set_ylabel('Non-Fatigued', fontsize=12)\n",
    "ax0.set_xlabel('Time', fontsize=12)\n",
    "\n",
    "ax1 = pd2.plot(figsize=(10, 2))\n",
    "ax1.set_ylabel('Fatigued', fontsize=12)\n",
    "ax1.set_xlabel('Time', fontsize=12)\n",
    "\n",
    "plt.show()"
   ]
  },
  {
   "cell_type": "markdown",
   "id": "6c6989ac",
   "metadata": {},
   "source": [
    "#### Label encoding and scaling"
   ]
  },
  {
   "cell_type": "code",
   "execution_count": 12,
   "id": "31fe7b4d",
   "metadata": {},
   "outputs": [
    {
     "data": {
      "text/html": [
       "<div>\n",
       "<style scoped>\n",
       "    .dataframe tbody tr th:only-of-type {\n",
       "        vertical-align: middle;\n",
       "    }\n",
       "\n",
       "    .dataframe tbody tr th {\n",
       "        vertical-align: top;\n",
       "    }\n",
       "\n",
       "    .dataframe thead th {\n",
       "        text-align: right;\n",
       "    }\n",
       "</style>\n",
       "<table border=\"1\" class=\"dataframe\">\n",
       "  <thead>\n",
       "    <tr style=\"text-align: right;\">\n",
       "      <th></th>\n",
       "      <th>0</th>\n",
       "      <th>1</th>\n",
       "      <th>2</th>\n",
       "      <th>3</th>\n",
       "      <th>4</th>\n",
       "      <th>5</th>\n",
       "      <th>6</th>\n",
       "      <th>7</th>\n",
       "      <th>8</th>\n",
       "      <th>9</th>\n",
       "      <th>...</th>\n",
       "      <th>172</th>\n",
       "      <th>173</th>\n",
       "      <th>174</th>\n",
       "      <th>175</th>\n",
       "      <th>176</th>\n",
       "      <th>177</th>\n",
       "      <th>178</th>\n",
       "      <th>179</th>\n",
       "      <th>180</th>\n",
       "      <th>181</th>\n",
       "    </tr>\n",
       "  </thead>\n",
       "  <tbody>\n",
       "    <tr>\n",
       "      <th>0</th>\n",
       "      <td>4</td>\n",
       "      <td>0</td>\n",
       "      <td>1.49</td>\n",
       "      <td>4.09</td>\n",
       "      <td>9.27</td>\n",
       "      <td>12.70</td>\n",
       "      <td>12.80</td>\n",
       "      <td>12.00</td>\n",
       "      <td>12.40</td>\n",
       "      <td>13.20</td>\n",
       "      <td>...</td>\n",
       "      <td>9.53</td>\n",
       "      <td>9.30</td>\n",
       "      <td>9.61</td>\n",
       "      <td>9.25</td>\n",
       "      <td>8.07</td>\n",
       "      <td>7.62</td>\n",
       "      <td>8.76</td>\n",
       "      <td>9.61</td>\n",
       "      <td>7.63</td>\n",
       "      <td>3.57</td>\n",
       "    </tr>\n",
       "    <tr>\n",
       "      <th>1</th>\n",
       "      <td>4</td>\n",
       "      <td>0</td>\n",
       "      <td>7.35</td>\n",
       "      <td>7.25</td>\n",
       "      <td>7.80</td>\n",
       "      <td>7.94</td>\n",
       "      <td>7.34</td>\n",
       "      <td>6.48</td>\n",
       "      <td>5.87</td>\n",
       "      <td>5.47</td>\n",
       "      <td>...</td>\n",
       "      <td>8.92</td>\n",
       "      <td>7.66</td>\n",
       "      <td>7.76</td>\n",
       "      <td>8.28</td>\n",
       "      <td>8.99</td>\n",
       "      <td>10.20</td>\n",
       "      <td>11.60</td>\n",
       "      <td>11.90</td>\n",
       "      <td>10.70</td>\n",
       "      <td>8.72</td>\n",
       "    </tr>\n",
       "    <tr>\n",
       "      <th>2</th>\n",
       "      <td>4</td>\n",
       "      <td>0</td>\n",
       "      <td>9.31</td>\n",
       "      <td>9.06</td>\n",
       "      <td>9.41</td>\n",
       "      <td>9.51</td>\n",
       "      <td>9.23</td>\n",
       "      <td>9.14</td>\n",
       "      <td>9.08</td>\n",
       "      <td>8.45</td>\n",
       "      <td>...</td>\n",
       "      <td>11.40</td>\n",
       "      <td>10.50</td>\n",
       "      <td>9.63</td>\n",
       "      <td>9.29</td>\n",
       "      <td>9.75</td>\n",
       "      <td>10.20</td>\n",
       "      <td>10.10</td>\n",
       "      <td>10.10</td>\n",
       "      <td>10.20</td>\n",
       "      <td>10.00</td>\n",
       "    </tr>\n",
       "    <tr>\n",
       "      <th>3</th>\n",
       "      <td>4</td>\n",
       "      <td>0</td>\n",
       "      <td>9.82</td>\n",
       "      <td>10.50</td>\n",
       "      <td>9.86</td>\n",
       "      <td>10.20</td>\n",
       "      <td>10.90</td>\n",
       "      <td>10.60</td>\n",
       "      <td>9.97</td>\n",
       "      <td>9.50</td>\n",
       "      <td>...</td>\n",
       "      <td>11.50</td>\n",
       "      <td>10.60</td>\n",
       "      <td>9.07</td>\n",
       "      <td>7.65</td>\n",
       "      <td>6.83</td>\n",
       "      <td>6.67</td>\n",
       "      <td>6.28</td>\n",
       "      <td>5.09</td>\n",
       "      <td>4.77</td>\n",
       "      <td>7.00</td>\n",
       "    </tr>\n",
       "    <tr>\n",
       "      <th>4</th>\n",
       "      <td>4</td>\n",
       "      <td>0</td>\n",
       "      <td>4.68</td>\n",
       "      <td>3.68</td>\n",
       "      <td>4.63</td>\n",
       "      <td>5.01</td>\n",
       "      <td>4.05</td>\n",
       "      <td>3.40</td>\n",
       "      <td>4.00</td>\n",
       "      <td>4.62</td>\n",
       "      <td>...</td>\n",
       "      <td>11.90</td>\n",
       "      <td>10.60</td>\n",
       "      <td>11.10</td>\n",
       "      <td>12.90</td>\n",
       "      <td>14.00</td>\n",
       "      <td>13.60</td>\n",
       "      <td>13.00</td>\n",
       "      <td>12.80</td>\n",
       "      <td>11.50</td>\n",
       "      <td>8.12</td>\n",
       "    </tr>\n",
       "  </tbody>\n",
       "</table>\n",
       "<p>5 rows × 182 columns</p>\n",
       "</div>"
      ],
      "text/plain": [
       "   0    1     2      3     4      5      6      7      8      9    ...    172  \\\n",
       "0    4    0  1.49   4.09  9.27  12.70  12.80  12.00  12.40  13.20  ...   9.53   \n",
       "1    4    0  7.35   7.25  7.80   7.94   7.34   6.48   5.87   5.47  ...   8.92   \n",
       "2    4    0  9.31   9.06  9.41   9.51   9.23   9.14   9.08   8.45  ...  11.40   \n",
       "3    4    0  9.82  10.50  9.86  10.20  10.90  10.60   9.97   9.50  ...  11.50   \n",
       "4    4    0  4.68   3.68  4.63   5.01   4.05   3.40   4.00   4.62  ...  11.90   \n",
       "\n",
       "     173    174    175    176    177    178    179    180    181  \n",
       "0   9.30   9.61   9.25   8.07   7.62   8.76   9.61   7.63   3.57  \n",
       "1   7.66   7.76   8.28   8.99  10.20  11.60  11.90  10.70   8.72  \n",
       "2  10.50   9.63   9.29   9.75  10.20  10.10  10.10  10.20  10.00  \n",
       "3  10.60   9.07   7.65   6.83   6.67   6.28   5.09   4.77   7.00  \n",
       "4  10.60  11.10  12.90  14.00  13.60  13.00  12.80  11.50   8.12  \n",
       "\n",
       "[5 rows x 182 columns]"
      ]
     },
     "execution_count": 12,
     "metadata": {},
     "output_type": "execute_result"
    }
   ],
   "source": [
    "labelencoder = LabelEncoder()\n",
    "df[df.columns[1]] = labelencoder.fit_transform(df[df.columns[1]])\n",
    "df.head()"
   ]
  },
  {
   "cell_type": "code",
   "execution_count": 13,
   "id": "ab2e305f",
   "metadata": {},
   "outputs": [],
   "source": [
    "standardscaler = StandardScaler()\n",
    "df_aux = df.iloc[:,2:] # the first col is the person and the 2nd the class\n",
    "df_scaled = pd.DataFrame(standardscaler.fit_transform(df_aux))\n",
    "standardscaler = StandardScaler()\n",
    "df_scaled = pd.DataFrame(standardscaler.fit_transform(df_aux))\n",
    "df_scaled['Class'] = df[df.columns[1]]\n",
    "#df_scaled"
   ]
  },
  {
   "cell_type": "code",
   "execution_count": 14,
   "id": "f6dd6bf2",
   "metadata": {},
   "outputs": [],
   "source": [
    "df_select = df_scaled.copy() # preserve encoded and scaled data"
   ]
  },
  {
   "cell_type": "markdown",
   "id": "14808dbb",
   "metadata": {},
   "source": [
    "#### Data split and target separation\n",
    "\n",
    "Note: for UQ we need to separate into 3 sets: the training, the calibration, and the test"
   ]
  },
  {
   "cell_type": "code",
   "execution_count": 15,
   "id": "5d0150ea",
   "metadata": {},
   "outputs": [
    {
     "data": {
      "text/plain": [
       "(3603, 1201, 1202)"
      ]
     },
     "execution_count": 15,
     "metadata": {},
     "output_type": "execute_result"
    }
   ],
   "source": [
    "# separate train + calibration (= full) and test\n",
    "df_full_train, df_test = train_test_split(df_select, test_size=0.2, random_state=1)\n",
    "# now split the full into train and cal, it should be the 20% of the 80%, which is 20/80=1/4=0.25\n",
    "df_train, df_cal = train_test_split(df_full_train, test_size=0.25, random_state=1) \n",
    "len(df_train), len(df_cal), len(df_test)"
   ]
  },
  {
   "cell_type": "code",
   "execution_count": 16,
   "id": "5eee2ed9",
   "metadata": {},
   "outputs": [],
   "source": [
    "# reset index\n",
    "df_train = df_train.reset_index(drop=True)\n",
    "df_test = df_test.reset_index(drop=True)\n",
    "df_cal = df_cal.reset_index(drop=True)\n",
    "\n",
    "# define the target\n",
    "y_train = df_train.Class.values\n",
    "y_test = df_test.Class.values\n",
    "y_cal = df_cal.Class.values\n",
    "\n",
    "# remove the target from the features\n",
    "del df_train['Class']\n",
    "del df_test['Class']\n",
    "del df_cal['Class']\n",
    "\n",
    "# define the vector of features\n",
    "X_train = df_train.values\n",
    "X_test = df_test.values\n",
    "X_cal = df_cal.values"
   ]
  },
  {
   "cell_type": "markdown",
   "id": "73563ff8",
   "metadata": {},
   "source": [
    "### 2. Model \n",
    "\n",
    "#### Building and training "
   ]
  },
  {
   "cell_type": "code",
   "execution_count": 17,
   "id": "4d39966f",
   "metadata": {},
   "outputs": [
    {
     "name": "stdout",
     "output_type": "stream",
     "text": [
      "Fitting 5 folds for each of 12 candidates, totalling 60 fits\n",
      "Mean acc-score: 0.858\n",
      "Standar Deviation: 0.009\n",
      "Best Parameters: {'max_depth': 10, 'min_samples_leaf': 5, 'n_estimators': 150}\n"
     ]
    }
   ],
   "source": [
    "if False: # this cell takes about 1min to run in i7 core CPU\n",
    "    # hyperparameters\n",
    "    n_estimators = [50, 100, 150]\n",
    "    max_depth = [5, 10]\n",
    "    min_samples_leaf = [5, 10]\n",
    "\n",
    "    RF_param_grid = dict(max_depth = max_depth, min_samples_leaf = min_samples_leaf, n_estimators = n_estimators)\n",
    "\n",
    "    # model\n",
    "    model = RandomForestClassifier(max_depth = max_depth, \n",
    "                            min_samples_leaf = min_samples_leaf, \n",
    "                            n_estimators = n_estimators, \n",
    "                            class_weight=\"balanced\",\n",
    "                            random_state = 1)\n",
    "\n",
    "    # metric\n",
    "    metric = make_scorer(accuracy_score)\n",
    "\n",
    "    # grid\n",
    "    RF_grid = GridSearchCV(\n",
    "            estimator = model, \n",
    "            param_grid = RF_param_grid,  \n",
    "            scoring = metric, \n",
    "            verbose =1)\n",
    "\n",
    "    # train the model\n",
    "    RF_grid_results = RF_grid.fit(X_train, y_train)\n",
    "\n",
    "    # summarize\n",
    "    print('Mean acc-score: %.3f' % RF_grid.best_score_)\n",
    "    print('Standar Deviation:', RF_grid.cv_results_['std_test_score'][RF_grid.best_index_].round(3))\n",
    "    print('Best Parameters: %s' % RF_grid.best_params_)"
   ]
  },
  {
   "cell_type": "code",
   "execution_count": 18,
   "id": "a1ed98fa",
   "metadata": {},
   "outputs": [],
   "source": [
    "# let us extract the best random forest \n",
    "model = RF_grid_results.best_estimator_"
   ]
  },
  {
   "cell_type": "markdown",
   "id": "39b21c80",
   "metadata": {},
   "source": [
    "#### Testing"
   ]
  },
  {
   "cell_type": "code",
   "execution_count": 19,
   "id": "b56c8667",
   "metadata": {},
   "outputs": [
    {
     "data": {
      "text/plain": [
       "0.865"
      ]
     },
     "execution_count": 19,
     "metadata": {},
     "output_type": "execute_result"
    }
   ],
   "source": [
    "# Predict on test\n",
    "y_pred = model.predict(X_test)\n",
    "\n",
    "# Performance metric\n",
    "acc = accuracy_score(y_test, y_pred)\n",
    "acc.round(3)"
   ]
  },
  {
   "cell_type": "code",
   "execution_count": 21,
   "id": "e72768c3",
   "metadata": {},
   "outputs": [
    {
     "data": {
      "image/png": "[encoded data removed]",
      "text/plain": [
       "<Figure size 500x250 with 2 Axes>"
      ]
     },
     "metadata": {},
     "output_type": "display_data"
    }
   ],
   "source": [
    "# confusion matrix\n",
    "\n",
    "cf_matrix = confusion_matrix(y_test, y_pred)\n",
    "\n",
    "ax = sns.heatmap(cf_matrix, fmt='0', annot=True, cmap='Blues')\n",
    "\n",
    "ax.set_title('Confusion Matrix\\n');\n",
    "ax.set_xlabel('\\nPredicted Values')\n",
    "ax.set_ylabel('Actual Values ');\n",
    "\n",
    "plt.rcParams['figure.figsize'] = [5, 2.5]  # re-run this cell to get the correct figure size\n",
    "\n",
    "plt.show();"
   ]
  },
  {
   "cell_type": "markdown",
   "id": "66c433fe",
   "metadata": {},
   "source": [
    "La métrica de 'accuracy' divide los aciertos entre el número total de casos. Vemos del conjunto de test con 2723 alubias, (508 + 532) = 1040 time series han sido clasificadas correctamente, dándonos una 'accuracy' (1040/1202)= 0.865, como vimos en una celda anterior. Este valor nos indica que hay un 86.5% de probabilidad de que el resultado del modelo contenga efectivamente a la clase verdadera, no está mal."
   ]
  },
  {
   "cell_type": "markdown",
   "id": "bda9d4c7",
   "metadata": {},
   "source": [
    "#### ¿Pero y si quiero que el modelo prediga la clase verdadera el 95% de las veces? \n",
    "\n",
    "Empezamos ya a implementar métodos de UQ que permiten que nuestro modelo exprese la certeza de su predicción. Como veremos estos métodos nos permitirán reducir el número de Falsos Negativos o Positivos y estimar la distribución esperada de la predicción en lugar de un único valor puntual. Pero además nos garantizan la cobertura estadística, es decir, que el modelo prediga la clase verdadera el 95% de las veces. \n",
    "\n",
    "Por supuesto que debemos ajustar los hiperparámetros del modelo para optimizar la métrica de 'accuracy'. Sin embargo, no nos queremos centrar en ese trabajo ahora porque queremos demostrar que las métricas, por ejemplo 'accuracy', no indican la certeza que tiene el modelo sobre sus predicciones, sea cual sea el valor de dicha métrica. "
   ]
  },
  {
   "cell_type": "markdown",
   "id": "7478a1d4",
   "metadata": {},
   "source": [
    "### 3. Uncertainty Quantification"
   ]
  },
  {
   "cell_type": "markdown",
   "id": "f838b975",
   "metadata": {},
   "source": [
    "Veamos cómo implementar que el modelo prediga la clase verdadera el 95% de las veces. \n",
    "\n",
    "Una idea podría ser aceptar solo aquellas predicciones para las que la 'raw score', sea de la clase que sea, sea mayor que 0.95 y decidir descartar el resto. Aquellas time series cuya puntuación quede por debajo del umbral de la clasificación automática habrán de ser clasificadas de otra manera, por ejemplo, por un ser humano. \n",
    "\n",
    "\n",
    "Como dijimos al principio, vamos a seguir la explicación de este genial [blog de Christoph Molnar](https://mindfulmodeler.substack.com/p/week-1-getting-started-with-conformal).\n",
    "\n",
    "Comúnmente definimos ese umbral con el parámetro 'alpha'. Indica cuánta tolerancia, cuántos errores, es decir, predicciones que caen fuera el conjunto de predicción, estamos dispuestes a aceptar. Para una certeza del 95% de que la predicción del modelo contenga el valor correcto, establecemos que 'alpha' ha de ser igual a 0.05. Es importante notar que 'alpha' no es igual al umbral de decisión 't' que explicamos en la clasificación binaria del Jupyter Notebook `UQ.ipynb` porque aquí vamos a rechazar clasificar aquellas instancias que no alcancen una 'raw score' mayor o igual a 'alpha'. \n",
    "\n",
    "Veamos si esta idea inicial es efectiva o no:"
   ]
  },
  {
   "cell_type": "code",
   "execution_count": 22,
   "id": "6d117d87",
   "metadata": {},
   "outputs": [
    {
     "data": {
      "text/html": [
       "<div>\n",
       "<style scoped>\n",
       "    .dataframe tbody tr th:only-of-type {\n",
       "        vertical-align: middle;\n",
       "    }\n",
       "\n",
       "    .dataframe tbody tr th {\n",
       "        vertical-align: top;\n",
       "    }\n",
       "\n",
       "    .dataframe thead th {\n",
       "        text-align: right;\n",
       "    }\n",
       "</style>\n",
       "<table border=\"1\" class=\"dataframe\">\n",
       "  <thead>\n",
       "    <tr style=\"text-align: right;\">\n",
       "      <th></th>\n",
       "      <th>Gtruth</th>\n",
       "      <th>Rscor_class0</th>\n",
       "      <th>Rscor_class1</th>\n",
       "    </tr>\n",
       "  </thead>\n",
       "  <tbody>\n",
       "    <tr>\n",
       "      <th>0</th>\n",
       "      <td>0</td>\n",
       "      <td>0.8513</td>\n",
       "      <td>0.1487</td>\n",
       "    </tr>\n",
       "    <tr>\n",
       "      <th>1</th>\n",
       "      <td>1</td>\n",
       "      <td>0.2488</td>\n",
       "      <td>0.7512</td>\n",
       "    </tr>\n",
       "    <tr>\n",
       "      <th>2</th>\n",
       "      <td>1</td>\n",
       "      <td>0.1753</td>\n",
       "      <td>0.8247</td>\n",
       "    </tr>\n",
       "    <tr>\n",
       "      <th>3</th>\n",
       "      <td>0</td>\n",
       "      <td>0.5973</td>\n",
       "      <td>0.4027</td>\n",
       "    </tr>\n",
       "    <tr>\n",
       "      <th>4</th>\n",
       "      <td>0</td>\n",
       "      <td>0.3453</td>\n",
       "      <td>0.6547</td>\n",
       "    </tr>\n",
       "    <tr>\n",
       "      <th>...</th>\n",
       "      <td>...</td>\n",
       "      <td>...</td>\n",
       "      <td>...</td>\n",
       "    </tr>\n",
       "    <tr>\n",
       "      <th>1197</th>\n",
       "      <td>1</td>\n",
       "      <td>0.0794</td>\n",
       "      <td>0.9206</td>\n",
       "    </tr>\n",
       "    <tr>\n",
       "      <th>1198</th>\n",
       "      <td>1</td>\n",
       "      <td>0.3693</td>\n",
       "      <td>0.6307</td>\n",
       "    </tr>\n",
       "    <tr>\n",
       "      <th>1199</th>\n",
       "      <td>0</td>\n",
       "      <td>0.8865</td>\n",
       "      <td>0.1135</td>\n",
       "    </tr>\n",
       "    <tr>\n",
       "      <th>1200</th>\n",
       "      <td>0</td>\n",
       "      <td>0.6400</td>\n",
       "      <td>0.3600</td>\n",
       "    </tr>\n",
       "    <tr>\n",
       "      <th>1201</th>\n",
       "      <td>1</td>\n",
       "      <td>0.3573</td>\n",
       "      <td>0.6427</td>\n",
       "    </tr>\n",
       "  </tbody>\n",
       "</table>\n",
       "<p>1202 rows × 3 columns</p>\n",
       "</div>"
      ],
      "text/plain": [
       "      Gtruth  Rscor_class0  Rscor_class1\n",
       "0          0        0.8513        0.1487\n",
       "1          1        0.2488        0.7512\n",
       "2          1        0.1753        0.8247\n",
       "3          0        0.5973        0.4027\n",
       "4          0        0.3453        0.6547\n",
       "...      ...           ...           ...\n",
       "1197       1        0.0794        0.9206\n",
       "1198       1        0.3693        0.6307\n",
       "1199       0        0.8865        0.1135\n",
       "1200       0        0.6400        0.3600\n",
       "1201       1        0.3573        0.6427\n",
       "\n",
       "[1202 rows x 3 columns]"
      ]
     },
     "execution_count": 22,
     "metadata": {},
     "output_type": "execute_result"
    }
   ],
   "source": [
    "df_raw_scores = pd.DataFrame({'Gtruth': y_test, \n",
    "                              'Rscor_class0': model.predict_proba(X_test)[:, 0].round(4), \n",
    "                              'Rscor_class1': model.predict_proba(X_test)[:, 1].round(4)\n",
    "                            })\n",
    "df_raw_scores"
   ]
  },
  {
   "cell_type": "code",
   "execution_count": 23,
   "id": "d179cef6",
   "metadata": {},
   "outputs": [
    {
     "name": "stdout",
     "output_type": "stream",
     "text": [
      "The number of time series with a raw score >= 0.95 is 44\n",
      "The number of time series that will be discarded is 1158\n"
     ]
    }
   ],
   "source": [
    "# choose alpha\n",
    "alpha = 0.05\n",
    "num_selected = (model.predict_proba(X_test) >= 1.0 - alpha).sum()\n",
    "num_discarded = len(df_raw_scores) - num_selected\n",
    "# how many instances got a raw score in one of their potential classes higher or equal to alpha?\n",
    "print('The number of time series with a raw score >=', 1.0 - alpha, 'is', num_selected)\n",
    "print('The number of time series that will be discarded is', num_discarded)"
   ]
  },
  {
   "cell_type": "code",
   "execution_count": 24,
   "id": "52dd42f9",
   "metadata": {},
   "outputs": [
    {
     "data": {
      "text/html": [
       "<div>\n",
       "<style scoped>\n",
       "    .dataframe tbody tr th:only-of-type {\n",
       "        vertical-align: middle;\n",
       "    }\n",
       "\n",
       "    .dataframe tbody tr th {\n",
       "        vertical-align: top;\n",
       "    }\n",
       "\n",
       "    .dataframe thead th {\n",
       "        text-align: right;\n",
       "    }\n",
       "</style>\n",
       "<table border=\"1\" class=\"dataframe\">\n",
       "  <thead>\n",
       "    <tr style=\"text-align: right;\">\n",
       "      <th></th>\n",
       "      <th>Gtruth</th>\n",
       "      <th>Rscor_class0</th>\n",
       "      <th>Rscor_class1</th>\n",
       "    </tr>\n",
       "  </thead>\n",
       "  <tbody>\n",
       "    <tr>\n",
       "      <th>114</th>\n",
       "      <td>0</td>\n",
       "      <td>0.9534</td>\n",
       "      <td>0.0466</td>\n",
       "    </tr>\n",
       "    <tr>\n",
       "      <th>117</th>\n",
       "      <td>0</td>\n",
       "      <td>0.9753</td>\n",
       "      <td>0.0247</td>\n",
       "    </tr>\n",
       "    <tr>\n",
       "      <th>170</th>\n",
       "      <td>1</td>\n",
       "      <td>0.0465</td>\n",
       "      <td>0.9535</td>\n",
       "    </tr>\n",
       "    <tr>\n",
       "      <th>171</th>\n",
       "      <td>0</td>\n",
       "      <td>0.9934</td>\n",
       "      <td>0.0066</td>\n",
       "    </tr>\n",
       "    <tr>\n",
       "      <th>202</th>\n",
       "      <td>0</td>\n",
       "      <td>0.9870</td>\n",
       "      <td>0.0130</td>\n",
       "    </tr>\n",
       "  </tbody>\n",
       "</table>\n",
       "</div>"
      ],
      "text/plain": [
       "     Gtruth  Rscor_class0  Rscor_class1\n",
       "114       0        0.9534        0.0466\n",
       "117       0        0.9753        0.0247\n",
       "170       1        0.0465        0.9535\n",
       "171       0        0.9934        0.0066\n",
       "202       0        0.9870        0.0130"
      ]
     },
     "execution_count": 24,
     "metadata": {},
     "output_type": "execute_result"
    }
   ],
   "source": [
    "# select the TS with raw score higher or equal to 1 - alpha\n",
    "df_alpha_select = df_raw_scores[\n",
    "                    (df_raw_scores.Rscor_class0 >= 1. - alpha) | \n",
    "                    (df_raw_scores.Rscor_class1 >= 1. - alpha)  \n",
    "                  ]\n",
    "df_alpha_select.iloc[3:8,:]"
   ]
  },
  {
   "cell_type": "code",
   "execution_count": 25,
   "id": "7cfa7650",
   "metadata": {},
   "outputs": [],
   "source": [
    "# convert raw scores in class prediction\n",
    "def select_class_alpha(Rscor_class0, Rscor_class1):\n",
    "    if Rscor_class0 >= 1. - alpha:\n",
    "        return 0\n",
    "    elif Rscor_class1 >= 1. - alpha:\n",
    "        return 1\n",
    "    else:\n",
    "        return np.nan\n",
    "\n",
    "df_alpha_select['AlphaPred'] = df_alpha_select.apply(lambda x: select_class_alpha(\n",
    "                                    x.Rscor_class0, x.Rscor_class1), axis=1)\n",
    "#df_alpha_select.reset_index(drop = True)#.head()"
   ]
  },
  {
   "cell_type": "code",
   "execution_count": 26,
   "id": "0ccc1f90",
   "metadata": {},
   "outputs": [
    {
     "name": "stdout",
     "output_type": "stream",
     "text": [
      "With alpha = 0.95 we got an accuracy of 1.0 and we have discarded 1158 out of 1202\n"
     ]
    }
   ],
   "source": [
    "# percentage of well classified ones\n",
    "acc_select = accuracy_score(np.array(df_alpha_select.Gtruth), np.array(df_alpha_select.AlphaPred))\n",
    "\n",
    "print('With alpha =', 1. - alpha,'we got an accuracy of', acc_select.round(3),'and we have discarded', \n",
    "      num_discarded,'out of', len(X_test))"
   ]
  },
  {
   "cell_type": "markdown",
   "id": "21b4b72b",
   "metadata": {},
   "source": [
    "Hemos seleccionado las TS con 'raw scores' por encima o iguales a 0.95 pero sin tener en cuenta su clase real, es decir, no hemos comprobado la 'raw score' de la 'ground truth'. Vamos a probar ahora otra idea, que va a terner en cuenta los valores verdaderos y se va a centrar en encontrar el umbral para que se cumpla la garantía de cobertura. Para ello nos va a proveer de un intervalo de predicción alredor del resultado y este intervalo sí va a contener a la clase verdadera con un 95% de probabilidad."
   ]
  },
  {
   "cell_type": "markdown",
   "id": "c1812b78",
   "metadata": {},
   "source": [
    "#### Conformal Prediction"
   ]
  },
  {
   "cell_type": "markdown",
   "id": "b5432a93",
   "metadata": {},
   "source": [
    "La ['Conformal Prediction'](https://en.wikipedia.org/wiki/Conformal_prediction) es un método para cuantizar la certidumbre de los resultados de un modelo. Recibe su nombre de la denominama medida de no conformidad, o 'nonconformity measure' que cuantiza cuán diferente es la  predicción dentro del conjunto de predicciones que obtuvimos al predecir el conjunto de entrenamiento. Una alta 'nonconformity' indica que el nuevo dato es raro, como la foto de le pájare en el ejemplo de clasificación de perres y gates de la Introducción del Jupyter Notebook `UQ.ipynb` de este mismo repositorio. Recomendamos encarecidamente leer la introducción teórica a los Conformal Predictors en la sección homóloga  aesta en ese Jupyter Notebook.\n",
    "\n",
    "Las personas que aplicamos Conformal Predictions nos llamamos 'nonconformists'.\n",
    "\n",
    "\n",
    "<font size=\"5\">😎<font/>"
   ]
  },
  {
   "cell_type": "markdown",
   "id": "8c6d2bd8",
   "metadata": {},
   "source": [
    "#### Optional: How to manually calculate the nonconformity measure with the Hing Loss (aka \"label method\" in MAPIE package)"
   ]
  },
  {
   "cell_type": "code",
   "execution_count": 32,
   "id": "3779d259",
   "metadata": {},
   "outputs": [
    {
     "name": "stdout",
     "output_type": "stream",
     "text": [
      "The 0.95 -th order quantile is S_q = 0.5877\n"
     ]
    }
   ],
   "source": [
    "# predict the calibration set\n",
    "y_pred_cal = model.predict_proba(X_cal)\n",
    "\n",
    "# take the raw scores of the true class\n",
    "# try it:\n",
    "# a = np.arange(2)\n",
    "# b = y_cal[0:2] <-- clase verdadera\n",
    "# c = y_pred_cal[0:2,:] <-- clase predicha\n",
    "# c[a,b]  <-- va por c y si b es \"3\" pues coje de c el valor en la posicion 3\n",
    "rscor_true_class = y_pred_cal[np.arange(len(y_cal)),y_cal] \n",
    "\n",
    "# define a non conformity measure here we chose the HINGE LOSS probability of not predicting the true class\n",
    "S = 1. - rscor_true_class \n",
    "\n",
    "# find the (1 - alpha)-th quantile of S \n",
    "# given a vector V, the q-th quantile of V is the value q of the \n",
    "# way from the minimum to the maximum in a sorted copy of V\n",
    "small_sample = (len(y_cal)+1)/len(y_cal) # finite sample correction, i.e. (n+1)/n\n",
    "qhat = np.quantile(S, (1. - alpha)*small_sample) \n",
    "print('The', (1. - alpha), '-th order quantile is S_q =', qhat.round(4))  # in MAPIE qhat or S_q is called \"q\""
   ]
  },
  {
   "cell_type": "markdown",
   "id": "f93b51d5",
   "metadata": {},
   "source": [
    "![MAPIE_uq](./images/MAPIE_classification.png \"MAPIE_uq\")"
   ]
  },
  {
   "cell_type": "markdown",
   "id": "d4abc578",
   "metadata": {},
   "source": [
    "[Fuente de la imagen: _\"MAPIE docs\"_](https://mapie.readthedocs.io/en/latest/theoretical_description_classification.html)"
   ]
  },
  {
   "cell_type": "markdown",
   "id": "0e46020a",
   "metadata": {},
   "source": [
    "#### With MAPIE"
   ]
  },
  {
   "cell_type": "code",
   "execution_count": 33,
   "id": "9a99fe66",
   "metadata": {},
   "outputs": [
    {
     "data": {
      "text/html": [
       "<style>#sk-container-id-1 {color: black;}#sk-container-id-1 pre{padding: 0;}#sk-container-id-1 div.sk-toggleable {background-color: white;}#sk-container-id-1 label.sk-toggleable__label {cursor: pointer;display: block;width: 100%;margin-bottom: 0;padding: 0.3em;box-sizing: border-box;text-align: center;}#sk-container-id-1 label.sk-toggleable__label-arrow:before {content: \"▸\";float: left;margin-right: 0.25em;color: #696969;}#sk-container-id-1 label.sk-toggleable__label-arrow:hover:before {color: black;}#sk-container-id-1 div.sk-estimator:hover label.sk-toggleable__label-arrow:before {color: black;}#sk-container-id-1 div.sk-toggleable__content {max-height: 0;max-width: 0;overflow: hidden;text-align: left;background-color: #f0f8ff;}#sk-container-id-1 div.sk-toggleable__content pre {margin: 0.2em;color: black;border-radius: 0.25em;background-color: #f0f8ff;}#sk-container-id-1 input.sk-toggleable__control:checked~div.sk-toggleable__content {max-height: 200px;max-width: 100%;overflow: auto;}#sk-container-id-1 input.sk-toggleable__control:checked~label.sk-toggleable__label-arrow:before {content: \"▾\";}#sk-container-id-1 div.sk-estimator input.sk-toggleable__control:checked~label.sk-toggleable__label {background-color: #d4ebff;}#sk-container-id-1 div.sk-label input.sk-toggleable__control:checked~label.sk-toggleable__label {background-color: #d4ebff;}#sk-container-id-1 input.sk-hidden--visually {border: 0;clip: rect(1px 1px 1px 1px);clip: rect(1px, 1px, 1px, 1px);height: 1px;margin: -1px;overflow: hidden;padding: 0;position: absolute;width: 1px;}#sk-container-id-1 div.sk-estimator {font-family: monospace;background-color: #f0f8ff;border: 1px dotted black;border-radius: 0.25em;box-sizing: border-box;margin-bottom: 0.5em;}#sk-container-id-1 div.sk-estimator:hover {background-color: #d4ebff;}#sk-container-id-1 div.sk-parallel-item::after {content: \"\";width: 100%;border-bottom: 1px solid gray;flex-grow: 1;}#sk-container-id-1 div.sk-label:hover label.sk-toggleable__label {background-color: #d4ebff;}#sk-container-id-1 div.sk-serial::before {content: \"\";position: absolute;border-left: 1px solid gray;box-sizing: border-box;top: 0;bottom: 0;left: 50%;z-index: 0;}#sk-container-id-1 div.sk-serial {display: flex;flex-direction: column;align-items: center;background-color: white;padding-right: 0.2em;padding-left: 0.2em;position: relative;}#sk-container-id-1 div.sk-item {position: relative;z-index: 1;}#sk-container-id-1 div.sk-parallel {display: flex;align-items: stretch;justify-content: center;background-color: white;position: relative;}#sk-container-id-1 div.sk-item::before, #sk-container-id-1 div.sk-parallel-item::before {content: \"\";position: absolute;border-left: 1px solid gray;box-sizing: border-box;top: 0;bottom: 0;left: 50%;z-index: -1;}#sk-container-id-1 div.sk-parallel-item {display: flex;flex-direction: column;z-index: 1;position: relative;background-color: white;}#sk-container-id-1 div.sk-parallel-item:first-child::after {align-self: flex-end;width: 50%;}#sk-container-id-1 div.sk-parallel-item:last-child::after {align-self: flex-start;width: 50%;}#sk-container-id-1 div.sk-parallel-item:only-child::after {width: 0;}#sk-container-id-1 div.sk-dashed-wrapped {border: 1px dashed gray;margin: 0 0.4em 0.5em 0.4em;box-sizing: border-box;padding-bottom: 0.4em;background-color: white;}#sk-container-id-1 div.sk-label label {font-family: monospace;font-weight: bold;display: inline-block;line-height: 1.2em;}#sk-container-id-1 div.sk-label-container {text-align: center;}#sk-container-id-1 div.sk-container {/* jupyter's `normalize.less` sets `[hidden] { display: none; }` but bootstrap.min.css set `[hidden] { display: none !important; }` so we also need the `!important` here to be able to override the default hidden behavior on the sphinx rendered scikit-learn.org. See: https://github.com/scikit-learn/scikit-learn/issues/21755 */display: inline-block !important;position: relative;}#sk-container-id-1 div.sk-text-repr-fallback {display: none;}</style><div id=\"sk-container-id-1\" class=\"sk-top-container\"><div class=\"sk-text-repr-fallback\"><pre>MapieClassifier(cv=&#x27;prefit&#x27;,\n",
       "                estimator=RandomForestClassifier(class_weight=&#x27;balanced&#x27;,\n",
       "                                                 max_depth=10,\n",
       "                                                 min_samples_leaf=5,\n",
       "                                                 n_estimators=150,\n",
       "                                                 random_state=1),\n",
       "                method=&#x27;score&#x27;)</pre><b>In a Jupyter environment, please rerun this cell to show the HTML representation or trust the notebook. <br />On GitHub, the HTML representation is unable to render, please try loading this page with nbviewer.org.</b></div><div class=\"sk-container\" hidden><div class=\"sk-item sk-dashed-wrapped\"><div class=\"sk-label-container\"><div class=\"sk-label sk-toggleable\"><input class=\"sk-toggleable__control sk-hidden--visually\" id=\"sk-estimator-id-1\" type=\"checkbox\" ><label for=\"sk-estimator-id-1\" class=\"sk-toggleable__label sk-toggleable__label-arrow\">MapieClassifier</label><div class=\"sk-toggleable__content\"><pre>MapieClassifier(cv=&#x27;prefit&#x27;,\n",
       "                estimator=RandomForestClassifier(class_weight=&#x27;balanced&#x27;,\n",
       "                                                 max_depth=10,\n",
       "                                                 min_samples_leaf=5,\n",
       "                                                 n_estimators=150,\n",
       "                                                 random_state=1),\n",
       "                method=&#x27;score&#x27;)</pre></div></div></div><div class=\"sk-parallel\"><div class=\"sk-parallel-item\"><div class=\"sk-item\"><div class=\"sk-label-container\"><div class=\"sk-label sk-toggleable\"><input class=\"sk-toggleable__control sk-hidden--visually\" id=\"sk-estimator-id-2\" type=\"checkbox\" ><label for=\"sk-estimator-id-2\" class=\"sk-toggleable__label sk-toggleable__label-arrow\">estimator: RandomForestClassifier</label><div class=\"sk-toggleable__content\"><pre>RandomForestClassifier(class_weight=&#x27;balanced&#x27;, max_depth=10,\n",
       "                       min_samples_leaf=5, n_estimators=150, random_state=1)</pre></div></div></div><div class=\"sk-serial\"><div class=\"sk-item\"><div class=\"sk-estimator sk-toggleable\"><input class=\"sk-toggleable__control sk-hidden--visually\" id=\"sk-estimator-id-3\" type=\"checkbox\" ><label for=\"sk-estimator-id-3\" class=\"sk-toggleable__label sk-toggleable__label-arrow\">RandomForestClassifier</label><div class=\"sk-toggleable__content\"><pre>RandomForestClassifier(class_weight=&#x27;balanced&#x27;, max_depth=10,\n",
       "                       min_samples_leaf=5, n_estimators=150, random_state=1)</pre></div></div></div></div></div></div></div></div></div></div>"
      ],
      "text/plain": [
       "MapieClassifier(cv='prefit',\n",
       "                estimator=RandomForestClassifier(class_weight='balanced',\n",
       "                                                 max_depth=10,\n",
       "                                                 min_samples_leaf=5,\n",
       "                                                 n_estimators=150,\n",
       "                                                 random_state=1),\n",
       "                method='score')"
      ]
     },
     "execution_count": 33,
     "metadata": {},
     "output_type": "execute_result"
    }
   ],
   "source": [
    "# fit the CP with the calibration set\n",
    "cp = MapieClassifier(estimator = model, cv=\"prefit\",  method=\"score\") # prefit bcs we use the previous gnb\n",
    "cp.fit(X_cal, y_cal)"
   ]
  },
  {
   "cell_type": "code",
   "execution_count": 34,
   "id": "9559dc71",
   "metadata": {},
   "outputs": [
    {
     "name": "stdout",
     "output_type": "stream",
     "text": [
      "Predicted class [1]\n",
      "True class 1\n",
      "Prediction set:\n",
      "[[[False]\n",
      "  [ True]]]\n"
     ]
    }
   ],
   "source": [
    "# apply to the new TS\n",
    "n = 1\n",
    "\n",
    "y_pred, y_set = cp.predict(X_test[n].reshape(1, -1), alpha=alpha) # y_pred is equal to the previous y_pred from model\n",
    "\n",
    "print('Predicted class', y_pred)\n",
    "print('True class', y_test[n])\n",
    "print('Prediction set:')\n",
    "print(y_set)"
   ]
  },
  {
   "cell_type": "markdown",
   "id": "3560dae8",
   "metadata": {},
   "source": [
    "Vamos a comprobar la cobertura de los conjuntos de predicción, es decir, vamos a ver cuántas veces recogieron de verdad la clase correcta. "
   ]
  },
  {
   "cell_type": "code",
   "execution_count": 37,
   "id": "ceffeb8a",
   "metadata": {},
   "outputs": [
    {
     "name": "stdout",
     "output_type": "stream",
     "text": [
      "CP approach: with alpha = 0.95 we got an accuracy of 0.95 and we have discarded 0 instances\n"
     ]
    }
   ],
   "source": [
    "# prediction sets for all the instance\n",
    "y_pred, y_set = cp.predict(X_test, alpha=alpha) # same y_pred as the one we got with model\n",
    "\n",
    "# metric to get the accuracy = coverage\n",
    "cp_acc = classification_coverage_score(y_test, y_set[:, :, 0])\n",
    "\n",
    "print('CP approach: with alpha =', 1. - alpha,'we got an accuracy of', round(cp_acc, 2),'and we have discarded 0 instances')"
   ]
  },
  {
   "cell_type": "code",
   "execution_count": 38,
   "id": "43cb62aa",
   "metadata": {},
   "outputs": [
    {
     "name": "stdout",
     "output_type": "stream",
     "text": [
      "Naive approach: with alpha = 0.95 we got an accuracy of 1.0 and we have discarded 1158 instances\n"
     ]
    }
   ],
   "source": [
    "# percentage of well classifies ones from the naive approach we explained at the beginning of the section\n",
    "acc_select = accuracy_score(np.array(df_alpha_select.Gtruth), np.array(df_alpha_select.AlphaPred))\n",
    "print('Naive approach: with alpha =', 1. - alpha,'we got an accuracy of', acc_select.round(3),'and we have discarded', \n",
    "      num_discarded, 'instances')"
   ]
  },
  {
   "cell_type": "markdown",
   "id": "3d532594",
   "metadata": {},
   "source": [
    "Vemos que ahora ya obtenemos de sobra la cobertura desdeada sin desaprovechar ninguna instancia."
   ]
  },
  {
   "cell_type": "markdown",
   "id": "b96c99ef",
   "metadata": {},
   "source": [
    "<font size=\"5\"> 🥳 </font>"
   ]
  },
  {
   "cell_type": "markdown",
   "id": "6959d71d",
   "metadata": {},
   "source": [
    "Con el método de UQ de Conformal Predicion hemos visto que podemos identificar aquellas clasificaciones inciertas y dar un conjunto de predicción que nos asegura contener la clase correcta un (1-alpha)% de las veces. \n",
    "\n",
    "Vemos que es un método fácil de implementar y rápido, y nos proporciona certidumbre en las predicciones. Aquí lo hemos aplicado a una tarea de clasificación pero los CP pueden aplicarse a cualquier tipo de tarea, no es un método paramétrico y es agnóstico del modelo de predicción.\n",
    "\n",
    "\n",
    "\n",
    "<font size=\"5\">🎈♫♫🎈🎈♫🎈♫♫♫♫🎈🎈 ♫♫♫ 🎈🎈</font>"
   ]
  },
  {
   "cell_type": "code",
   "execution_count": null,
   "id": "cf87dbbb",
   "metadata": {},
   "outputs": [],
   "source": []
  }
 ],
 "metadata": {
  "kernelspec": {
   "display_name": "Python [conda env:delmonte] *",
   "language": "python",
   "name": "conda-env-delmonte-py"
  },
  "language_info": {
   "codemirror_mode": {
    "name": "ipython",
    "version": 3
   },
   "file_extension": ".py",
   "mimetype": "text/x-python",
   "name": "python",
   "nbconvert_exporter": "python",
   "pygments_lexer": "ipython3",
   "version": "3.11.5"
  }
 },
 "nbformat": 4,
 "nbformat_minor": 5
}
